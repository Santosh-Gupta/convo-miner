{
 "cells": [
  {
   "cell_type": "markdown",
   "metadata": {},
   "source": [
    "# Import Libraries and Data"
   ]
  },
  {
   "cell_type": "code",
   "execution_count": 1,
   "metadata": {
    "ExecuteTime": {
     "end_time": "2019-05-06T12:57:56.823453Z",
     "start_time": "2019-05-06T12:57:56.432409Z"
    }
   },
   "outputs": [],
   "source": [
    "import pandas as pd\n",
    "import os\n",
    "import datetime\n",
    "pd.set_option('display.max_colwidth', -1)\n",
    "pd.set_option(\"display.max_rows\", 1000)"
   ]
  },
  {
   "cell_type": "code",
   "execution_count": 2,
   "metadata": {
    "ExecuteTime": {
     "end_time": "2019-05-06T12:57:57.173362Z",
     "start_time": "2019-05-06T12:57:57.150426Z"
    }
   },
   "outputs": [],
   "source": [
    "df_pairs_true = pd.read_csv('../data/utterance_pairs/true-utter-pairs-2019-05-06.csv', index_col=[0])"
   ]
  },
  {
   "cell_type": "code",
   "execution_count": 3,
   "metadata": {
    "ExecuteTime": {
     "end_time": "2019-05-06T12:57:57.750470Z",
     "start_time": "2019-05-06T12:57:57.735039Z"
    }
   },
   "outputs": [],
   "source": [
    "# preview\n",
    "df_pairs_heuristic = pd.read_csv('../data/utterance_pairs/heur-utter-pairs-2019-05-06.csv', index_col=[0])"
   ]
  },
  {
   "cell_type": "code",
   "execution_count": 4,
   "metadata": {
    "ExecuteTime": {
     "end_time": "2019-05-06T12:57:58.399248Z",
     "start_time": "2019-05-06T12:57:58.389822Z"
    }
   },
   "outputs": [
    {
     "data": {
      "text/plain": [
       "(1512, 5)"
      ]
     },
     "execution_count": 4,
     "metadata": {},
     "output_type": "execute_result"
    }
   ],
   "source": [
    "df_pairs_true.shape"
   ]
  },
  {
   "cell_type": "code",
   "execution_count": 5,
   "metadata": {
    "ExecuteTime": {
     "end_time": "2019-05-06T12:57:59.112873Z",
     "start_time": "2019-05-06T12:57:59.109180Z"
    }
   },
   "outputs": [
    {
     "data": {
      "text/plain": [
       "(1648, 5)"
      ]
     },
     "execution_count": 5,
     "metadata": {},
     "output_type": "execute_result"
    }
   ],
   "source": [
    "df_pairs_heuristic.shape"
   ]
  },
  {
   "cell_type": "code",
   "execution_count": 6,
   "metadata": {
    "ExecuteTime": {
     "end_time": "2019-05-06T12:58:01.106447Z",
     "start_time": "2019-05-06T12:58:01.093789Z"
    }
   },
   "outputs": [
    {
     "data": {
      "text/html": [
       "<div>\n",
       "<style scoped>\n",
       "    .dataframe tbody tr th:only-of-type {\n",
       "        vertical-align: middle;\n",
       "    }\n",
       "\n",
       "    .dataframe tbody tr th {\n",
       "        vertical-align: top;\n",
       "    }\n",
       "\n",
       "    .dataframe thead th {\n",
       "        text-align: right;\n",
       "    }\n",
       "</style>\n",
       "<table border=\"1\" class=\"dataframe\">\n",
       "  <thead>\n",
       "    <tr style=\"text-align: right;\">\n",
       "      <th></th>\n",
       "      <th>utter_1</th>\n",
       "      <th>utter_2</th>\n",
       "      <th>label</th>\n",
       "      <th>chapter_tag</th>\n",
       "      <th>split_tag</th>\n",
       "    </tr>\n",
       "  </thead>\n",
       "  <tbody>\n",
       "    <tr>\n",
       "      <th>10</th>\n",
       "      <td>\"Oh! Single, my dear, to be sure! A single man of large fortune; four or       five thousand a year. What a fine thing for our girls!\"</td>\n",
       "      <td>\"How so? How can it affect them?\"</td>\n",
       "      <td>B-OTHER</td>\n",
       "      <td>Chapter 1</td>\n",
       "      <td>train</td>\n",
       "    </tr>\n",
       "    <tr>\n",
       "      <th>11</th>\n",
       "      <td>\"How so? How can it affect them?\"</td>\n",
       "      <td>\"My dear Mr Bennet,\"</td>\n",
       "      <td>B-OTHER</td>\n",
       "      <td>Chapter 1</td>\n",
       "      <td>train</td>\n",
       "    </tr>\n",
       "    <tr>\n",
       "      <th>12</th>\n",
       "      <td>\"My dear Mr Bennet,\"</td>\n",
       "      <td>\"how can you be so tiresome! You       must know that I am thinking of his marrying one of them.\"</td>\n",
       "      <td>B-OTHER</td>\n",
       "      <td>Chapter 1</td>\n",
       "      <td>train</td>\n",
       "    </tr>\n",
       "    <tr>\n",
       "      <th>13</th>\n",
       "      <td>\"how can you be so tiresome! You       must know that I am thinking of his marrying one of them.\"</td>\n",
       "      <td>\"Is that his design in settling here?\"</td>\n",
       "      <td>I-OTHER</td>\n",
       "      <td>Chapter 1</td>\n",
       "      <td>train</td>\n",
       "    </tr>\n",
       "    <tr>\n",
       "      <th>14</th>\n",
       "      <td>\"Is that his design in settling here?\"</td>\n",
       "      <td>\"Design! Nonsense, how can you talk so! But it is very likely that he may       fall in love with one of them, and therefore you must visit him as soon as       he comes.\"</td>\n",
       "      <td>B-OTHER</td>\n",
       "      <td>Chapter 1</td>\n",
       "      <td>train</td>\n",
       "    </tr>\n",
       "    <tr>\n",
       "      <th>15</th>\n",
       "      <td>\"Design! Nonsense, how can you talk so! But it is very likely that he may       fall in love with one of them, and therefore you must visit him as soon as       he comes.\"</td>\n",
       "      <td>\"I see no occasion for that. You and the girls may go, or you may send       them by themslves, which perhaps will be still better, for as you are as       handsome as any of them, Mr Bingley may like you the best of the party.\"</td>\n",
       "      <td>B-OTHER</td>\n",
       "      <td>Chapter 1</td>\n",
       "      <td>train</td>\n",
       "    </tr>\n",
       "    <tr>\n",
       "      <th>16</th>\n",
       "      <td>\"I see no occasion for that. You and the girls may go, or you may send       them by themslves, which perhaps will be still better, for as you are as       handsome as any of them, Mr Bingley may like you the best of the party.\"</td>\n",
       "      <td>\"My dear, you flatter me. I certainly have had my share of beauty,       but I do not pretend to be anything extraordinary now. When a woman has       five grown-up daughters, she ought to give over thinking of her own       beauty.\"</td>\n",
       "      <td>B-OTHER</td>\n",
       "      <td>Chapter 1</td>\n",
       "      <td>train</td>\n",
       "    </tr>\n",
       "    <tr>\n",
       "      <th>17</th>\n",
       "      <td>\"My dear, you flatter me. I certainly have had my share of beauty,       but I do not pretend to be anything extraordinary now. When a woman has       five grown-up daughters, she ought to give over thinking of her own       beauty.\"</td>\n",
       "      <td>\"In such cases, a woman has not often much beauty to think of.\"</td>\n",
       "      <td>B-OTHER</td>\n",
       "      <td>Chapter 1</td>\n",
       "      <td>train</td>\n",
       "    </tr>\n",
       "    <tr>\n",
       "      <th>18</th>\n",
       "      <td>\"In such cases, a woman has not often much beauty to think of.\"</td>\n",
       "      <td>\"But, my dear, you must indeed go and see Mr Bingley when he comes into       the neighbourhood.\"</td>\n",
       "      <td>B-OTHER</td>\n",
       "      <td>Chapter 1</td>\n",
       "      <td>train</td>\n",
       "    </tr>\n",
       "    <tr>\n",
       "      <th>19</th>\n",
       "      <td>\"But, my dear, you must indeed go and see Mr Bingley when he comes into       the neighbourhood.\"</td>\n",
       "      <td>\"It is more than I engage for, I assure you.\"</td>\n",
       "      <td>B-OTHER</td>\n",
       "      <td>Chapter 1</td>\n",
       "      <td>train</td>\n",
       "    </tr>\n",
       "    <tr>\n",
       "      <th>20</th>\n",
       "      <td>\"It is more than I engage for, I assure you.\"</td>\n",
       "      <td>\"But consider your daughters. Only think what an establishment it would be       for one of them. Sir William and Lady Lucas are determined to go, merely       on that account, for in general, you know, they visit no newcomers. Indeed       you must go, for it will be impossible for us to visit him if you       do not.\"</td>\n",
       "      <td>B-OTHER</td>\n",
       "      <td>Chapter 1</td>\n",
       "      <td>train</td>\n",
       "    </tr>\n",
       "  </tbody>\n",
       "</table>\n",
       "</div>"
      ],
      "text/plain": [
       "                                                                                                                                                                                                                                      utter_1  \\\n",
       "10  \"Oh! Single, my dear, to be sure! A single man of large fortune; four or       five thousand a year. What a fine thing for our girls!\"                                                                                                      \n",
       "11  \"How so? How can it affect them?\"                                                                                                                                                                                                           \n",
       "12  \"My dear Mr Bennet,\"                                                                                                                                                                                                                        \n",
       "13  \"how can you be so tiresome! You       must know that I am thinking of his marrying one of them.\"                                                                                                                                           \n",
       "14  \"Is that his design in settling here?\"                                                                                                                                                                                                      \n",
       "15  \"Design! Nonsense, how can you talk so! But it is very likely that he may       fall in love with one of them, and therefore you must visit him as soon as       he comes.\"                                                                 \n",
       "16  \"I see no occasion for that. You and the girls may go, or you may send       them by themslves, which perhaps will be still better, for as you are as       handsome as any of them, Mr Bingley may like you the best of the party.\"        \n",
       "17  \"My dear, you flatter me. I certainly have had my share of beauty,       but I do not pretend to be anything extraordinary now. When a woman has       five grown-up daughters, she ought to give over thinking of her own       beauty.\"   \n",
       "18  \"In such cases, a woman has not often much beauty to think of.\"                                                                                                                                                                             \n",
       "19  \"But, my dear, you must indeed go and see Mr Bingley when he comes into       the neighbourhood.\"                                                                                                                                           \n",
       "20  \"It is more than I engage for, I assure you.\"                                                                                                                                                                                               \n",
       "\n",
       "                                                                                                                                                                                                                                                                                                                              utter_2  \\\n",
       "10  \"How so? How can it affect them?\"                                                                                                                                                                                                                                                                                                   \n",
       "11  \"My dear Mr Bennet,\"                                                                                                                                                                                                                                                                                                                \n",
       "12  \"how can you be so tiresome! You       must know that I am thinking of his marrying one of them.\"                                                                                                                                                                                                                                   \n",
       "13  \"Is that his design in settling here?\"                                                                                                                                                                                                                                                                                              \n",
       "14  \"Design! Nonsense, how can you talk so! But it is very likely that he may       fall in love with one of them, and therefore you must visit him as soon as       he comes.\"                                                                                                                                                         \n",
       "15  \"I see no occasion for that. You and the girls may go, or you may send       them by themslves, which perhaps will be still better, for as you are as       handsome as any of them, Mr Bingley may like you the best of the party.\"                                                                                                \n",
       "16  \"My dear, you flatter me. I certainly have had my share of beauty,       but I do not pretend to be anything extraordinary now. When a woman has       five grown-up daughters, she ought to give over thinking of her own       beauty.\"                                                                                           \n",
       "17  \"In such cases, a woman has not often much beauty to think of.\"                                                                                                                                                                                                                                                                     \n",
       "18  \"But, my dear, you must indeed go and see Mr Bingley when he comes into       the neighbourhood.\"                                                                                                                                                                                                                                   \n",
       "19  \"It is more than I engage for, I assure you.\"                                                                                                                                                                                                                                                                                       \n",
       "20  \"But consider your daughters. Only think what an establishment it would be       for one of them. Sir William and Lady Lucas are determined to go, merely       on that account, for in general, you know, they visit no newcomers. Indeed       you must go, for it will be impossible for us to visit him if you       do not.\"   \n",
       "\n",
       "      label chapter_tag split_tag  \n",
       "10  B-OTHER  Chapter 1   train     \n",
       "11  B-OTHER  Chapter 1   train     \n",
       "12  B-OTHER  Chapter 1   train     \n",
       "13  I-OTHER  Chapter 1   train     \n",
       "14  B-OTHER  Chapter 1   train     \n",
       "15  B-OTHER  Chapter 1   train     \n",
       "16  B-OTHER  Chapter 1   train     \n",
       "17  B-OTHER  Chapter 1   train     \n",
       "18  B-OTHER  Chapter 1   train     \n",
       "19  B-OTHER  Chapter 1   train     \n",
       "20  B-OTHER  Chapter 1   train     "
      ]
     },
     "execution_count": 6,
     "metadata": {},
     "output_type": "execute_result"
    }
   ],
   "source": [
    "df_pairs_true.loc[10:20]"
   ]
  },
  {
   "cell_type": "code",
   "execution_count": 7,
   "metadata": {
    "ExecuteTime": {
     "end_time": "2019-05-06T12:58:02.180243Z",
     "start_time": "2019-05-06T12:58:02.167568Z"
    }
   },
   "outputs": [
    {
     "data": {
      "text/html": [
       "<div>\n",
       "<style scoped>\n",
       "    .dataframe tbody tr th:only-of-type {\n",
       "        vertical-align: middle;\n",
       "    }\n",
       "\n",
       "    .dataframe tbody tr th {\n",
       "        vertical-align: top;\n",
       "    }\n",
       "\n",
       "    .dataframe thead th {\n",
       "        text-align: right;\n",
       "    }\n",
       "</style>\n",
       "<table border=\"1\" class=\"dataframe\">\n",
       "  <thead>\n",
       "    <tr style=\"text-align: right;\">\n",
       "      <th></th>\n",
       "      <th>utter_1</th>\n",
       "      <th>utter_2</th>\n",
       "      <th>label</th>\n",
       "      <th>chapter_tag</th>\n",
       "      <th>split_tag</th>\n",
       "    </tr>\n",
       "  </thead>\n",
       "  <tbody>\n",
       "    <tr>\n",
       "      <th>10</th>\n",
       "      <td>\"Oh! Single, my dear, to be sure! A single man of large fortune; four or       five thousand a year. What a fine thing for our girls!\"</td>\n",
       "      <td>\"How so? How can it affect them?\"</td>\n",
       "      <td>B-OTHER</td>\n",
       "      <td>Chapter 1</td>\n",
       "      <td>train</td>\n",
       "    </tr>\n",
       "    <tr>\n",
       "      <th>11</th>\n",
       "      <td>\"How so? How can it affect them?\"</td>\n",
       "      <td>\"My dear Mr Bennet,\"</td>\n",
       "      <td>B-OTHER</td>\n",
       "      <td>Chapter 1</td>\n",
       "      <td>train</td>\n",
       "    </tr>\n",
       "    <tr>\n",
       "      <th>12</th>\n",
       "      <td>\"My dear Mr Bennet,\"</td>\n",
       "      <td>\"how can you be so tiresome! You       must know that I am thinking of his marrying one of them.\"</td>\n",
       "      <td>B-OTHER</td>\n",
       "      <td>Chapter 1</td>\n",
       "      <td>train</td>\n",
       "    </tr>\n",
       "    <tr>\n",
       "      <th>13</th>\n",
       "      <td>\"how can you be so tiresome! You       must know that I am thinking of his marrying one of them.\"</td>\n",
       "      <td>\"Is that his design in settling here?\"</td>\n",
       "      <td>I-OTHER</td>\n",
       "      <td>Chapter 1</td>\n",
       "      <td>train</td>\n",
       "    </tr>\n",
       "    <tr>\n",
       "      <th>14</th>\n",
       "      <td>\"Is that his design in settling here?\"</td>\n",
       "      <td>\"Design! Nonsense, how can you talk so! But it is very likely that he may       fall in love with one of them, and therefore you must visit him as soon as       he comes.\"</td>\n",
       "      <td>B-OTHER</td>\n",
       "      <td>Chapter 1</td>\n",
       "      <td>train</td>\n",
       "    </tr>\n",
       "    <tr>\n",
       "      <th>15</th>\n",
       "      <td>\"Design! Nonsense, how can you talk so! But it is very likely that he may       fall in love with one of them, and therefore you must visit him as soon as       he comes.\"</td>\n",
       "      <td>\"I see no occasion for that. You and the girls may go, or you may send       them by themslves, which perhaps will be still better, for as you are as       handsome as any of them, Mr Bingley may like you the best of the party.\"</td>\n",
       "      <td>B-OTHER</td>\n",
       "      <td>Chapter 1</td>\n",
       "      <td>train</td>\n",
       "    </tr>\n",
       "    <tr>\n",
       "      <th>16</th>\n",
       "      <td>\"I see no occasion for that. You and the girls may go, or you may send       them by themslves, which perhaps will be still better, for as you are as       handsome as any of them, Mr Bingley may like you the best of the party.\"</td>\n",
       "      <td>\"My dear, you flatter me. I certainly have had my share of beauty,       but I do not pretend to be anything extraordinary now. When a woman has       five grown-up daughters, she ought to give over thinking of her own       beauty.\"</td>\n",
       "      <td>B-OTHER</td>\n",
       "      <td>Chapter 1</td>\n",
       "      <td>train</td>\n",
       "    </tr>\n",
       "    <tr>\n",
       "      <th>17</th>\n",
       "      <td>\"My dear, you flatter me. I certainly have had my share of beauty,       but I do not pretend to be anything extraordinary now. When a woman has       five grown-up daughters, she ought to give over thinking of her own       beauty.\"</td>\n",
       "      <td>\"In such cases, a woman has not often much beauty to think of.\"</td>\n",
       "      <td>B-OTHER</td>\n",
       "      <td>Chapter 1</td>\n",
       "      <td>train</td>\n",
       "    </tr>\n",
       "    <tr>\n",
       "      <th>18</th>\n",
       "      <td>\"In such cases, a woman has not often much beauty to think of.\"</td>\n",
       "      <td>\"But, my dear, you must indeed go and see Mr Bingley when he comes into       the neighbourhood.\"</td>\n",
       "      <td>B-OTHER</td>\n",
       "      <td>Chapter 1</td>\n",
       "      <td>train</td>\n",
       "    </tr>\n",
       "    <tr>\n",
       "      <th>19</th>\n",
       "      <td>\"But, my dear, you must indeed go and see Mr Bingley when he comes into       the neighbourhood.\"</td>\n",
       "      <td>\"It is more than I engage for, I assure you.\"</td>\n",
       "      <td>B-OTHER</td>\n",
       "      <td>Chapter 1</td>\n",
       "      <td>train</td>\n",
       "    </tr>\n",
       "    <tr>\n",
       "      <th>20</th>\n",
       "      <td>\"It is more than I engage for, I assure you.\"</td>\n",
       "      <td>\"But consider your daughters. Only think what an establishment it would be       for one of them. Sir William and Lady Lucas are determined to go, merely       on that account, for in general, you know, they visit no newcomers. Indeed       you must go, for it will be impossible for us to visit him if you       do not.\"</td>\n",
       "      <td>B-OTHER</td>\n",
       "      <td>Chapter 1</td>\n",
       "      <td>train</td>\n",
       "    </tr>\n",
       "  </tbody>\n",
       "</table>\n",
       "</div>"
      ],
      "text/plain": [
       "                                                                                                                                                                                                                                      utter_1  \\\n",
       "10  \"Oh! Single, my dear, to be sure! A single man of large fortune; four or       five thousand a year. What a fine thing for our girls!\"                                                                                                      \n",
       "11  \"How so? How can it affect them?\"                                                                                                                                                                                                           \n",
       "12  \"My dear Mr Bennet,\"                                                                                                                                                                                                                        \n",
       "13  \"how can you be so tiresome! You       must know that I am thinking of his marrying one of them.\"                                                                                                                                           \n",
       "14  \"Is that his design in settling here?\"                                                                                                                                                                                                      \n",
       "15  \"Design! Nonsense, how can you talk so! But it is very likely that he may       fall in love with one of them, and therefore you must visit him as soon as       he comes.\"                                                                 \n",
       "16  \"I see no occasion for that. You and the girls may go, or you may send       them by themslves, which perhaps will be still better, for as you are as       handsome as any of them, Mr Bingley may like you the best of the party.\"        \n",
       "17  \"My dear, you flatter me. I certainly have had my share of beauty,       but I do not pretend to be anything extraordinary now. When a woman has       five grown-up daughters, she ought to give over thinking of her own       beauty.\"   \n",
       "18  \"In such cases, a woman has not often much beauty to think of.\"                                                                                                                                                                             \n",
       "19  \"But, my dear, you must indeed go and see Mr Bingley when he comes into       the neighbourhood.\"                                                                                                                                           \n",
       "20  \"It is more than I engage for, I assure you.\"                                                                                                                                                                                               \n",
       "\n",
       "                                                                                                                                                                                                                                                                                                                              utter_2  \\\n",
       "10  \"How so? How can it affect them?\"                                                                                                                                                                                                                                                                                                   \n",
       "11  \"My dear Mr Bennet,\"                                                                                                                                                                                                                                                                                                                \n",
       "12  \"how can you be so tiresome! You       must know that I am thinking of his marrying one of them.\"                                                                                                                                                                                                                                   \n",
       "13  \"Is that his design in settling here?\"                                                                                                                                                                                                                                                                                              \n",
       "14  \"Design! Nonsense, how can you talk so! But it is very likely that he may       fall in love with one of them, and therefore you must visit him as soon as       he comes.\"                                                                                                                                                         \n",
       "15  \"I see no occasion for that. You and the girls may go, or you may send       them by themslves, which perhaps will be still better, for as you are as       handsome as any of them, Mr Bingley may like you the best of the party.\"                                                                                                \n",
       "16  \"My dear, you flatter me. I certainly have had my share of beauty,       but I do not pretend to be anything extraordinary now. When a woman has       five grown-up daughters, she ought to give over thinking of her own       beauty.\"                                                                                           \n",
       "17  \"In such cases, a woman has not often much beauty to think of.\"                                                                                                                                                                                                                                                                     \n",
       "18  \"But, my dear, you must indeed go and see Mr Bingley when he comes into       the neighbourhood.\"                                                                                                                                                                                                                                   \n",
       "19  \"It is more than I engage for, I assure you.\"                                                                                                                                                                                                                                                                                       \n",
       "20  \"But consider your daughters. Only think what an establishment it would be       for one of them. Sir William and Lady Lucas are determined to go, merely       on that account, for in general, you know, they visit no newcomers. Indeed       you must go, for it will be impossible for us to visit him if you       do not.\"   \n",
       "\n",
       "      label chapter_tag split_tag  \n",
       "10  B-OTHER  Chapter 1   train     \n",
       "11  B-OTHER  Chapter 1   train     \n",
       "12  B-OTHER  Chapter 1   train     \n",
       "13  I-OTHER  Chapter 1   train     \n",
       "14  B-OTHER  Chapter 1   train     \n",
       "15  B-OTHER  Chapter 1   train     \n",
       "16  B-OTHER  Chapter 1   train     \n",
       "17  B-OTHER  Chapter 1   train     \n",
       "18  B-OTHER  Chapter 1   train     \n",
       "19  B-OTHER  Chapter 1   train     \n",
       "20  B-OTHER  Chapter 1   train     "
      ]
     },
     "execution_count": 7,
     "metadata": {},
     "output_type": "execute_result"
    }
   ],
   "source": [
    "df_pairs_heuristic.loc[10:20]"
   ]
  },
  {
   "cell_type": "markdown",
   "metadata": {},
   "source": [
    "# Find Precision and Recall"
   ]
  },
  {
   "cell_type": "code",
   "execution_count": 8,
   "metadata": {
    "ExecuteTime": {
     "end_time": "2019-05-06T12:58:03.731386Z",
     "start_time": "2019-05-06T12:58:03.725668Z"
    }
   },
   "outputs": [],
   "source": [
    "def find_precision_n_recall(df_pairs_true, df_pairs_pred):\n",
    "    df_pairs_true = df_pairs_true[df_pairs_true['split_tag']=='test']\n",
    "    df_pairs_pred = df_pairs_pred[df_pairs_pred['split_tag']=='test']\n",
    "\n",
    "    true_pairs_list = list(df_pairs_true.apply(lambda row: (row['utter_1'],)+(row['utter_2'],), axis=1).values)\n",
    "    pred_pairs_list = list(df_pairs_pred.apply(lambda row: (row['utter_1'],)+(row['utter_2'],), axis=1).values)\n",
    "    \n",
    "    print('Number of predicted pairs: {}'.format(len(pred_pairs_list)))\n",
    "    print('Number of actual pairs: {}'.format(len(true_pairs_list)))\n",
    "    \n",
    "    num_pairs_hit = 0\n",
    "    for x in pred_pairs_list:\n",
    "        if x in true_pairs_list:\n",
    "            num_pairs_hit += 1   \n",
    "\n",
    "    recall = num_pairs_hit/len(true_pairs_list)\n",
    "    precision = num_pairs_hit/len(pred_pairs_list)\n",
    "    \n",
    "    return recall, precision\n"
   ]
  },
  {
   "cell_type": "code",
   "execution_count": 9,
   "metadata": {
    "ExecuteTime": {
     "end_time": "2019-05-06T12:58:04.992546Z",
     "start_time": "2019-05-06T12:58:04.978500Z"
    }
   },
   "outputs": [
    {
     "name": "stdout",
     "output_type": "stream",
     "text": [
      "Number of predicted pairs: 164\n",
      "Number of actual pairs: 148\n"
     ]
    }
   ],
   "source": [
    "recall, precision = find_precision_n_recall(df_pairs_true, df_pairs_heuristic)"
   ]
  },
  {
   "cell_type": "code",
   "execution_count": 10,
   "metadata": {
    "ExecuteTime": {
     "end_time": "2019-05-06T12:58:05.707984Z",
     "start_time": "2019-05-06T12:58:05.703833Z"
    }
   },
   "outputs": [
    {
     "data": {
      "text/plain": [
       "0.9932432432432432"
      ]
     },
     "execution_count": 10,
     "metadata": {},
     "output_type": "execute_result"
    }
   ],
   "source": [
    "recall"
   ]
  },
  {
   "cell_type": "code",
   "execution_count": 11,
   "metadata": {
    "ExecuteTime": {
     "end_time": "2019-05-06T12:58:06.150871Z",
     "start_time": "2019-05-06T12:58:06.147353Z"
    }
   },
   "outputs": [
    {
     "data": {
      "text/plain": [
       "0.8963414634146342"
      ]
     },
     "execution_count": 11,
     "metadata": {},
     "output_type": "execute_result"
    }
   ],
   "source": [
    "precision"
   ]
  },
  {
   "cell_type": "code",
   "execution_count": null,
   "metadata": {},
   "outputs": [],
   "source": []
  }
 ],
 "metadata": {
  "kernelspec": {
   "display_name": "Python 3",
   "language": "python",
   "name": "python3"
  },
  "language_info": {
   "codemirror_mode": {
    "name": "ipython",
    "version": 3
   },
   "file_extension": ".py",
   "mimetype": "text/x-python",
   "name": "python",
   "nbconvert_exporter": "python",
   "pygments_lexer": "ipython3",
   "version": "3.7.1"
  },
  "toc": {
   "base_numbering": 1,
   "nav_menu": {},
   "number_sections": true,
   "sideBar": true,
   "skip_h1_title": false,
   "title_cell": "Table of Contents",
   "title_sidebar": "Contents",
   "toc_cell": false,
   "toc_position": {},
   "toc_section_display": true,
   "toc_window_display": false
  }
 },
 "nbformat": 4,
 "nbformat_minor": 2
}
