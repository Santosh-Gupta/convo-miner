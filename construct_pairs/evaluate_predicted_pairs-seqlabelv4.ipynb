{
 "cells": [
  {
   "cell_type": "markdown",
   "metadata": {},
   "source": [
    "# Import Libraries and Data"
   ]
  },
  {
   "cell_type": "code",
   "execution_count": 18,
   "metadata": {
    "ExecuteTime": {
     "end_time": "2019-05-06T13:11:14.223378Z",
     "start_time": "2019-05-06T13:11:14.220083Z"
    }
   },
   "outputs": [],
   "source": [
    "import pandas as pd\n",
    "import os\n",
    "import datetime\n",
    "pd.set_option('display.max_colwidth', -1)\n",
    "pd.set_option(\"display.max_rows\", 1000)"
   ]
  },
  {
   "cell_type": "code",
   "execution_count": 19,
   "metadata": {
    "ExecuteTime": {
     "end_time": "2019-05-06T13:11:15.223702Z",
     "start_time": "2019-05-06T13:11:15.207014Z"
    }
   },
   "outputs": [],
   "source": [
    "df_pairs_true = pd.read_csv('../data/utterance_pairs/true-utter-pairs-2019-05-06.csv', index_col=[0])"
   ]
  },
  {
   "cell_type": "code",
   "execution_count": 20,
   "metadata": {
    "ExecuteTime": {
     "end_time": "2019-05-06T13:11:15.802325Z",
     "start_time": "2019-05-06T13:11:15.795087Z"
    }
   },
   "outputs": [],
   "source": [
    "# preview\n",
    "df_pairs_pred = pd.read_csv('../data/utterance_pairs/seqlab-v4-utter-pairs-2019-05-06.csv', index_col=[0])"
   ]
  },
  {
   "cell_type": "code",
   "execution_count": 21,
   "metadata": {
    "ExecuteTime": {
     "end_time": "2019-05-06T13:11:16.741872Z",
     "start_time": "2019-05-06T13:11:16.737294Z"
    }
   },
   "outputs": [
    {
     "data": {
      "text/plain": [
       "(1512, 5)"
      ]
     },
     "execution_count": 21,
     "metadata": {},
     "output_type": "execute_result"
    }
   ],
   "source": [
    "df_pairs_true.shape"
   ]
  },
  {
   "cell_type": "code",
   "execution_count": 22,
   "metadata": {
    "ExecuteTime": {
     "end_time": "2019-05-06T13:11:17.396715Z",
     "start_time": "2019-05-06T13:11:17.392149Z"
    }
   },
   "outputs": [
    {
     "data": {
      "text/plain": [
       "(143, 5)"
      ]
     },
     "execution_count": 22,
     "metadata": {},
     "output_type": "execute_result"
    }
   ],
   "source": [
    "df_pairs_pred.shape"
   ]
  },
  {
   "cell_type": "code",
   "execution_count": 23,
   "metadata": {
    "ExecuteTime": {
     "end_time": "2019-05-06T13:11:18.376722Z",
     "start_time": "2019-05-06T13:11:18.365436Z"
    }
   },
   "outputs": [
    {
     "data": {
      "text/html": [
       "<div>\n",
       "<style scoped>\n",
       "    .dataframe tbody tr th:only-of-type {\n",
       "        vertical-align: middle;\n",
       "    }\n",
       "\n",
       "    .dataframe tbody tr th {\n",
       "        vertical-align: top;\n",
       "    }\n",
       "\n",
       "    .dataframe thead th {\n",
       "        text-align: right;\n",
       "    }\n",
       "</style>\n",
       "<table border=\"1\" class=\"dataframe\">\n",
       "  <thead>\n",
       "    <tr style=\"text-align: right;\">\n",
       "      <th></th>\n",
       "      <th>utter_1</th>\n",
       "      <th>utter_2</th>\n",
       "      <th>label</th>\n",
       "      <th>chapter_tag</th>\n",
       "      <th>split_tag</th>\n",
       "    </tr>\n",
       "  </thead>\n",
       "  <tbody>\n",
       "    <tr>\n",
       "      <th>10</th>\n",
       "      <td>\"Oh! Single, my dear, to be sure! A single man of large fortune; four or       five thousand a year. What a fine thing for our girls!\"</td>\n",
       "      <td>\"How so? How can it affect them?\"</td>\n",
       "      <td>B-OTHER</td>\n",
       "      <td>Chapter 1</td>\n",
       "      <td>train</td>\n",
       "    </tr>\n",
       "    <tr>\n",
       "      <th>11</th>\n",
       "      <td>\"How so? How can it affect them?\"</td>\n",
       "      <td>\"My dear Mr Bennet,\"</td>\n",
       "      <td>B-OTHER</td>\n",
       "      <td>Chapter 1</td>\n",
       "      <td>train</td>\n",
       "    </tr>\n",
       "    <tr>\n",
       "      <th>12</th>\n",
       "      <td>\"My dear Mr Bennet,\"</td>\n",
       "      <td>\"how can you be so tiresome! You       must know that I am thinking of his marrying one of them.\"</td>\n",
       "      <td>B-OTHER</td>\n",
       "      <td>Chapter 1</td>\n",
       "      <td>train</td>\n",
       "    </tr>\n",
       "    <tr>\n",
       "      <th>13</th>\n",
       "      <td>\"how can you be so tiresome! You       must know that I am thinking of his marrying one of them.\"</td>\n",
       "      <td>\"Is that his design in settling here?\"</td>\n",
       "      <td>I-OTHER</td>\n",
       "      <td>Chapter 1</td>\n",
       "      <td>train</td>\n",
       "    </tr>\n",
       "    <tr>\n",
       "      <th>14</th>\n",
       "      <td>\"Is that his design in settling here?\"</td>\n",
       "      <td>\"Design! Nonsense, how can you talk so! But it is very likely that he may       fall in love with one of them, and therefore you must visit him as soon as       he comes.\"</td>\n",
       "      <td>B-OTHER</td>\n",
       "      <td>Chapter 1</td>\n",
       "      <td>train</td>\n",
       "    </tr>\n",
       "    <tr>\n",
       "      <th>15</th>\n",
       "      <td>\"Design! Nonsense, how can you talk so! But it is very likely that he may       fall in love with one of them, and therefore you must visit him as soon as       he comes.\"</td>\n",
       "      <td>\"I see no occasion for that. You and the girls may go, or you may send       them by themslves, which perhaps will be still better, for as you are as       handsome as any of them, Mr Bingley may like you the best of the party.\"</td>\n",
       "      <td>B-OTHER</td>\n",
       "      <td>Chapter 1</td>\n",
       "      <td>train</td>\n",
       "    </tr>\n",
       "    <tr>\n",
       "      <th>16</th>\n",
       "      <td>\"I see no occasion for that. You and the girls may go, or you may send       them by themslves, which perhaps will be still better, for as you are as       handsome as any of them, Mr Bingley may like you the best of the party.\"</td>\n",
       "      <td>\"My dear, you flatter me. I certainly have had my share of beauty,       but I do not pretend to be anything extraordinary now. When a woman has       five grown-up daughters, she ought to give over thinking of her own       beauty.\"</td>\n",
       "      <td>B-OTHER</td>\n",
       "      <td>Chapter 1</td>\n",
       "      <td>train</td>\n",
       "    </tr>\n",
       "    <tr>\n",
       "      <th>17</th>\n",
       "      <td>\"My dear, you flatter me. I certainly have had my share of beauty,       but I do not pretend to be anything extraordinary now. When a woman has       five grown-up daughters, she ought to give over thinking of her own       beauty.\"</td>\n",
       "      <td>\"In such cases, a woman has not often much beauty to think of.\"</td>\n",
       "      <td>B-OTHER</td>\n",
       "      <td>Chapter 1</td>\n",
       "      <td>train</td>\n",
       "    </tr>\n",
       "    <tr>\n",
       "      <th>18</th>\n",
       "      <td>\"In such cases, a woman has not often much beauty to think of.\"</td>\n",
       "      <td>\"But, my dear, you must indeed go and see Mr Bingley when he comes into       the neighbourhood.\"</td>\n",
       "      <td>B-OTHER</td>\n",
       "      <td>Chapter 1</td>\n",
       "      <td>train</td>\n",
       "    </tr>\n",
       "    <tr>\n",
       "      <th>19</th>\n",
       "      <td>\"But, my dear, you must indeed go and see Mr Bingley when he comes into       the neighbourhood.\"</td>\n",
       "      <td>\"It is more than I engage for, I assure you.\"</td>\n",
       "      <td>B-OTHER</td>\n",
       "      <td>Chapter 1</td>\n",
       "      <td>train</td>\n",
       "    </tr>\n",
       "    <tr>\n",
       "      <th>20</th>\n",
       "      <td>\"It is more than I engage for, I assure you.\"</td>\n",
       "      <td>\"But consider your daughters. Only think what an establishment it would be       for one of them. Sir William and Lady Lucas are determined to go, merely       on that account, for in general, you know, they visit no newcomers. Indeed       you must go, for it will be impossible for us to visit him if you       do not.\"</td>\n",
       "      <td>B-OTHER</td>\n",
       "      <td>Chapter 1</td>\n",
       "      <td>train</td>\n",
       "    </tr>\n",
       "  </tbody>\n",
       "</table>\n",
       "</div>"
      ],
      "text/plain": [
       "                                                                                                                                                                                                                                      utter_1  \\\n",
       "10  \"Oh! Single, my dear, to be sure! A single man of large fortune; four or       five thousand a year. What a fine thing for our girls!\"                                                                                                      \n",
       "11  \"How so? How can it affect them?\"                                                                                                                                                                                                           \n",
       "12  \"My dear Mr Bennet,\"                                                                                                                                                                                                                        \n",
       "13  \"how can you be so tiresome! You       must know that I am thinking of his marrying one of them.\"                                                                                                                                           \n",
       "14  \"Is that his design in settling here?\"                                                                                                                                                                                                      \n",
       "15  \"Design! Nonsense, how can you talk so! But it is very likely that he may       fall in love with one of them, and therefore you must visit him as soon as       he comes.\"                                                                 \n",
       "16  \"I see no occasion for that. You and the girls may go, or you may send       them by themslves, which perhaps will be still better, for as you are as       handsome as any of them, Mr Bingley may like you the best of the party.\"        \n",
       "17  \"My dear, you flatter me. I certainly have had my share of beauty,       but I do not pretend to be anything extraordinary now. When a woman has       five grown-up daughters, she ought to give over thinking of her own       beauty.\"   \n",
       "18  \"In such cases, a woman has not often much beauty to think of.\"                                                                                                                                                                             \n",
       "19  \"But, my dear, you must indeed go and see Mr Bingley when he comes into       the neighbourhood.\"                                                                                                                                           \n",
       "20  \"It is more than I engage for, I assure you.\"                                                                                                                                                                                               \n",
       "\n",
       "                                                                                                                                                                                                                                                                                                                              utter_2  \\\n",
       "10  \"How so? How can it affect them?\"                                                                                                                                                                                                                                                                                                   \n",
       "11  \"My dear Mr Bennet,\"                                                                                                                                                                                                                                                                                                                \n",
       "12  \"how can you be so tiresome! You       must know that I am thinking of his marrying one of them.\"                                                                                                                                                                                                                                   \n",
       "13  \"Is that his design in settling here?\"                                                                                                                                                                                                                                                                                              \n",
       "14  \"Design! Nonsense, how can you talk so! But it is very likely that he may       fall in love with one of them, and therefore you must visit him as soon as       he comes.\"                                                                                                                                                         \n",
       "15  \"I see no occasion for that. You and the girls may go, or you may send       them by themslves, which perhaps will be still better, for as you are as       handsome as any of them, Mr Bingley may like you the best of the party.\"                                                                                                \n",
       "16  \"My dear, you flatter me. I certainly have had my share of beauty,       but I do not pretend to be anything extraordinary now. When a woman has       five grown-up daughters, she ought to give over thinking of her own       beauty.\"                                                                                           \n",
       "17  \"In such cases, a woman has not often much beauty to think of.\"                                                                                                                                                                                                                                                                     \n",
       "18  \"But, my dear, you must indeed go and see Mr Bingley when he comes into       the neighbourhood.\"                                                                                                                                                                                                                                   \n",
       "19  \"It is more than I engage for, I assure you.\"                                                                                                                                                                                                                                                                                       \n",
       "20  \"But consider your daughters. Only think what an establishment it would be       for one of them. Sir William and Lady Lucas are determined to go, merely       on that account, for in general, you know, they visit no newcomers. Indeed       you must go, for it will be impossible for us to visit him if you       do not.\"   \n",
       "\n",
       "      label chapter_tag split_tag  \n",
       "10  B-OTHER  Chapter 1   train     \n",
       "11  B-OTHER  Chapter 1   train     \n",
       "12  B-OTHER  Chapter 1   train     \n",
       "13  I-OTHER  Chapter 1   train     \n",
       "14  B-OTHER  Chapter 1   train     \n",
       "15  B-OTHER  Chapter 1   train     \n",
       "16  B-OTHER  Chapter 1   train     \n",
       "17  B-OTHER  Chapter 1   train     \n",
       "18  B-OTHER  Chapter 1   train     \n",
       "19  B-OTHER  Chapter 1   train     \n",
       "20  B-OTHER  Chapter 1   train     "
      ]
     },
     "execution_count": 23,
     "metadata": {},
     "output_type": "execute_result"
    }
   ],
   "source": [
    "df_pairs_true.loc[10:20]"
   ]
  },
  {
   "cell_type": "code",
   "execution_count": 24,
   "metadata": {
    "ExecuteTime": {
     "end_time": "2019-05-06T13:11:19.091368Z",
     "start_time": "2019-05-06T13:11:19.078905Z"
    }
   },
   "outputs": [
    {
     "data": {
      "text/html": [
       "<div>\n",
       "<style scoped>\n",
       "    .dataframe tbody tr th:only-of-type {\n",
       "        vertical-align: middle;\n",
       "    }\n",
       "\n",
       "    .dataframe tbody tr th {\n",
       "        vertical-align: top;\n",
       "    }\n",
       "\n",
       "    .dataframe thead th {\n",
       "        text-align: right;\n",
       "    }\n",
       "</style>\n",
       "<table border=\"1\" class=\"dataframe\">\n",
       "  <thead>\n",
       "    <tr style=\"text-align: right;\">\n",
       "      <th></th>\n",
       "      <th>utter_1</th>\n",
       "      <th>utter_2</th>\n",
       "      <th>label</th>\n",
       "      <th>chapter_tag</th>\n",
       "      <th>split_tag</th>\n",
       "    </tr>\n",
       "  </thead>\n",
       "  <tbody>\n",
       "    <tr>\n",
       "      <th>10</th>\n",
       "      <td>\"that it is usual with young ladies to reject the addresses of the       man whom they secretly mean to accept, when he first applies for their       favour; and that sometimes the refusal is repeated a second, or even a       third time. I am therefore by no means discouraged by what you have just       said, and shall hope to lead you to the altar ere long.\"</td>\n",
       "      <td>\"Upon my word, sir,\"</td>\n",
       "      <td>I-OTHER</td>\n",
       "      <td>Chapter 19</td>\n",
       "      <td>test</td>\n",
       "    </tr>\n",
       "    <tr>\n",
       "      <th>11</th>\n",
       "      <td>\"Upon my word, sir,\"</td>\n",
       "      <td>\"your hope is a rather extraordinary       one after my declaration. I do assure you that I am not one of those young       ladies (if such young ladies there are) who are so daring as to risk their       happiness on the chance of being asked a second time. I am perfectly       serious in my refusal. You could not make me happy, and I am       convinced that I am the last woman in the world who could make you so.       Nay, were your friend Lady Catherine to know me, I am persuaded she would       find me in every respect ill qualified for the situation.\"</td>\n",
       "      <td>B-OTHER</td>\n",
       "      <td>Chapter 19</td>\n",
       "      <td>test</td>\n",
       "    </tr>\n",
       "    <tr>\n",
       "      <th>12</th>\n",
       "      <td>\"your hope is a rather extraordinary       one after my declaration. I do assure you that I am not one of those young       ladies (if such young ladies there are) who are so daring as to risk their       happiness on the chance of being asked a second time. I am perfectly       serious in my refusal. You could not make me happy, and I am       convinced that I am the last woman in the world who could make you so.       Nay, were your friend Lady Catherine to know me, I am persuaded she would       find me in every respect ill qualified for the situation.\"</td>\n",
       "      <td>\"Were it certain that Lady Catherine would think so,\"</td>\n",
       "      <td>I-OTHER</td>\n",
       "      <td>Chapter 19</td>\n",
       "      <td>test</td>\n",
       "    </tr>\n",
       "    <tr>\n",
       "      <th>13</th>\n",
       "      <td>\"Were it certain that Lady Catherine would think so,\"</td>\n",
       "      <td>\"but I cannot imagine that her ladyship would at all       disapprove of you. And you may be certain when I have the honour of seeing       her again, I shall speak in the very highest termsof your modesty,       economy, and other amiable qualification.\"</td>\n",
       "      <td>B-OTHER</td>\n",
       "      <td>Chapter 19</td>\n",
       "      <td>test</td>\n",
       "    </tr>\n",
       "    <tr>\n",
       "      <th>14</th>\n",
       "      <td>\"but I cannot imagine that her ladyship would at all       disapprove of you. And you may be certain when I have the honour of seeing       her again, I shall speak in the very highest termsof your modesty,       economy, and other amiable qualification.\"</td>\n",
       "      <td>\"Indeed, Mr Collins, all praise of me will be unnecessary. You must give       me leave to judge for myself, and pay me the compliment of believing what       I say. I wish you very happy and very rich, and by refusing your hand, do       all in my power to prevent your being otherwise. In making me the offer,       you must have satisfied the delicacy of your feelings with regard to my       family, and may take possession of Longbourn estate whenever it falls,       without any self-reproach. This matter may be considered, therefore, as       finally settled.\"</td>\n",
       "      <td>I-OTHER</td>\n",
       "      <td>Chapter 19</td>\n",
       "      <td>test</td>\n",
       "    </tr>\n",
       "    <tr>\n",
       "      <th>15</th>\n",
       "      <td>\"Indeed, Mr Collins, all praise of me will be unnecessary. You must give       me leave to judge for myself, and pay me the compliment of believing what       I say. I wish you very happy and very rich, and by refusing your hand, do       all in my power to prevent your being otherwise. In making me the offer,       you must have satisfied the delicacy of your feelings with regard to my       family, and may take possession of Longbourn estate whenever it falls,       without any self-reproach. This matter may be considered, therefore, as       finally settled.\"</td>\n",
       "      <td>\"When I do myself the honour of speaking to you next on the subject, I       shall hope to receive a more favourable answer than you have now given me;       though I am far from accusing you of cruelty at present, because I know it       to be the established custom of your sex to reject a man on the first       application, and perhaps you have even now said as much to encourage my       suit as would be consistent with the true delicacy of the female       character.\"</td>\n",
       "      <td>B-OTHER</td>\n",
       "      <td>Chapter 19</td>\n",
       "      <td>test</td>\n",
       "    </tr>\n",
       "    <tr>\n",
       "      <th>16</th>\n",
       "      <td>\"When I do myself the honour of speaking to you next on the subject, I       shall hope to receive a more favourable answer than you have now given me;       though I am far from accusing you of cruelty at present, because I know it       to be the established custom of your sex to reject a man on the first       application, and perhaps you have even now said as much to encourage my       suit as would be consistent with the true delicacy of the female       character.\"</td>\n",
       "      <td>\"Really, Mr Collins,\"</td>\n",
       "      <td>B-OTHER</td>\n",
       "      <td>Chapter 19</td>\n",
       "      <td>test</td>\n",
       "    </tr>\n",
       "    <tr>\n",
       "      <th>17</th>\n",
       "      <td>\"Really, Mr Collins,\"</td>\n",
       "      <td>\"you puzzle me       exceedingly. If what I have hitherto said can appear to you in the form of       encouragement, I know not how to express my refusal in such a way as to       convince you of its being one.\"</td>\n",
       "      <td>B-OTHER</td>\n",
       "      <td>Chapter 19</td>\n",
       "      <td>test</td>\n",
       "    </tr>\n",
       "    <tr>\n",
       "      <th>18</th>\n",
       "      <td>\"you puzzle me       exceedingly. If what I have hitherto said can appear to you in the form of       encouragement, I know not how to express my refusal in such a way as to       convince you of its being one.\"</td>\n",
       "      <td>\"You must give me leave to flatter myself, my dear cousin, that your       refusal of my addresses is merely words of course. My reasons for       believing it are briefly these: It does not appear to me that my hand is       unworthy of your acceptance, or that the establishment I can offer would be       any other than highly desirable. My situation in life, my connections with       the family of de Bourgh, and my relationship to your own, are       circumsances highly in my favour; and you should take it into further       consideration, that in spite of your manifold attractions, it is by no       means certain that another offer of marriage may ever be made you. Your       portion is unhappily so small that it will in all likelihood undo the       effects of your loveliness and amiable qualifications. As I must therefore       conclude that you are not serious in your rejection of me, I shall choose       to attribute it to your wish of increasing my love by suspense, according       to the usual practice of elegant females.\"</td>\n",
       "      <td>I-OTHER</td>\n",
       "      <td>Chapter 19</td>\n",
       "      <td>test</td>\n",
       "    </tr>\n",
       "    <tr>\n",
       "      <th>19</th>\n",
       "      <td>\"You must give me leave to flatter myself, my dear cousin, that your       refusal of my addresses is merely words of course. My reasons for       believing it are briefly these: It does not appear to me that my hand is       unworthy of your acceptance, or that the establishment I can offer would be       any other than highly desirable. My situation in life, my connections with       the family of de Bourgh, and my relationship to your own, are       circumsances highly in my favour; and you should take it into further       consideration, that in spite of your manifold attractions, it is by no       means certain that another offer of marriage may ever be made you. Your       portion is unhappily so small that it will in all likelihood undo the       effects of your loveliness and amiable qualifications. As I must therefore       conclude that you are not serious in your rejection of me, I shall choose       to attribute it to your wish of increasing my love by suspense, according       to the usual practice of elegant females.\"</td>\n",
       "      <td>\"I do assure you, sir, that I have no pretensions whatever to that kind of       elegance which consists in tormenting a respectable man. I would rather be       paid the compliment of being believed sincere. I thank you again and again       for the honour you have done me in your proposals, but to accept them is       absolutely impossible. My feelings in every respect forbid it. Can I speak       plainer? Do not consider me now as an elegant female, intending to plague       you, but as a rational creature, speaking the truth from her heart.\"</td>\n",
       "      <td>B-OTHER</td>\n",
       "      <td>Chapter 19</td>\n",
       "      <td>test</td>\n",
       "    </tr>\n",
       "    <tr>\n",
       "      <th>20</th>\n",
       "      <td>\"You are uniformly charming!\"</td>\n",
       "      <td>\"and I am persuaded that when sanctioned by the express authority of both       your excellent parents, my proposals will not fail of being acceptable.\"</td>\n",
       "      <td>B-START</td>\n",
       "      <td>Chapter 19</td>\n",
       "      <td>test</td>\n",
       "    </tr>\n",
       "  </tbody>\n",
       "</table>\n",
       "</div>"
      ],
      "text/plain": [
       "                                                                                                                                                                                                                                                                                                                                                                                                                                                                                                                                                                                                                                                                                                                                                                                                                                                                                                                                                                                                                                                                                    utter_1  \\\n",
       "10  \"that it is usual with young ladies to reject the addresses of the       man whom they secretly mean to accept, when he first applies for their       favour; and that sometimes the refusal is repeated a second, or even a       third time. I am therefore by no means discouraged by what you have just       said, and shall hope to lead you to the altar ere long.\"                                                                                                                                                                                                                                                                                                                                                                                                                                                                                                                                                                                                                                                                                                                \n",
       "11  \"Upon my word, sir,\"                                                                                                                                                                                                                                                                                                                                                                                                                                                                                                                                                                                                                                                                                                                                                                                                                                                                                                                                                                                                                                                                      \n",
       "12  \"your hope is a rather extraordinary       one after my declaration. I do assure you that I am not one of those young       ladies (if such young ladies there are) who are so daring as to risk their       happiness on the chance of being asked a second time. I am perfectly       serious in my refusal. You could not make me happy, and I am       convinced that I am the last woman in the world who could make you so.       Nay, were your friend Lady Catherine to know me, I am persuaded she would       find me in every respect ill qualified for the situation.\"                                                                                                                                                                                                                                                                                                                                                                                                                                                                                                        \n",
       "13  \"Were it certain that Lady Catherine would think so,\"                                                                                                                                                                                                                                                                                                                                                                                                                                                                                                                                                                                                                                                                                                                                                                                                                                                                                                                                                                                                                                     \n",
       "14  \"but I cannot imagine that her ladyship would at all       disapprove of you. And you may be certain when I have the honour of seeing       her again, I shall speak in the very highest termsof your modesty,       economy, and other amiable qualification.\"                                                                                                                                                                                                                                                                                                                                                                                                                                                                                                                                                                                                                                                                                                                                                                                                                           \n",
       "15  \"Indeed, Mr Collins, all praise of me will be unnecessary. You must give       me leave to judge for myself, and pay me the compliment of believing what       I say. I wish you very happy and very rich, and by refusing your hand, do       all in my power to prevent your being otherwise. In making me the offer,       you must have satisfied the delicacy of your feelings with regard to my       family, and may take possession of Longbourn estate whenever it falls,       without any self-reproach. This matter may be considered, therefore, as       finally settled.\"                                                                                                                                                                                                                                                                                                                                                                                                                                                                                                  \n",
       "16  \"When I do myself the honour of speaking to you next on the subject, I       shall hope to receive a more favourable answer than you have now given me;       though I am far from accusing you of cruelty at present, because I know it       to be the established custom of your sex to reject a man on the first       application, and perhaps you have even now said as much to encourage my       suit as would be consistent with the true delicacy of the female       character.\"                                                                                                                                                                                                                                                                                                                                                                                                                                                                                                                                                                                               \n",
       "17  \"Really, Mr Collins,\"                                                                                                                                                                                                                                                                                                                                                                                                                                                                                                                                                                                                                                                                                                                                                                                                                                                                                                                                                                                                                                                                     \n",
       "18  \"you puzzle me       exceedingly. If what I have hitherto said can appear to you in the form of       encouragement, I know not how to express my refusal in such a way as to       convince you of its being one.\"                                                                                                                                                                                                                                                                                                                                                                                                                                                                                                                                                                                                                                                                                                                                                                                                                                                                       \n",
       "19  \"You must give me leave to flatter myself, my dear cousin, that your       refusal of my addresses is merely words of course. My reasons for       believing it are briefly these: It does not appear to me that my hand is       unworthy of your acceptance, or that the establishment I can offer would be       any other than highly desirable. My situation in life, my connections with       the family of de Bourgh, and my relationship to your own, are       circumsances highly in my favour; and you should take it into further       consideration, that in spite of your manifold attractions, it is by no       means certain that another offer of marriage may ever be made you. Your       portion is unhappily so small that it will in all likelihood undo the       effects of your loveliness and amiable qualifications. As I must therefore       conclude that you are not serious in your rejection of me, I shall choose       to attribute it to your wish of increasing my love by suspense, according       to the usual practice of elegant females.\"   \n",
       "20  \"You are uniformly charming!\"                                                                                                                                                                                                                                                                                                                                                                                                                                                                                                                                                                                                                                                                                                                                                                                                                                                                                                                                                                                                                                                             \n",
       "\n",
       "                                                                                                                                                                                                                                                                                                                                                                                                                                                                                                                                                                                                                                                                                                                                                                                                                                                                                                                                                                                                                                                                                    utter_2  \\\n",
       "10  \"Upon my word, sir,\"                                                                                                                                                                                                                                                                                                                                                                                                                                                                                                                                                                                                                                                                                                                                                                                                                                                                                                                                                                                                                                                                      \n",
       "11  \"your hope is a rather extraordinary       one after my declaration. I do assure you that I am not one of those young       ladies (if such young ladies there are) who are so daring as to risk their       happiness on the chance of being asked a second time. I am perfectly       serious in my refusal. You could not make me happy, and I am       convinced that I am the last woman in the world who could make you so.       Nay, were your friend Lady Catherine to know me, I am persuaded she would       find me in every respect ill qualified for the situation.\"                                                                                                                                                                                                                                                                                                                                                                                                                                                                                                        \n",
       "12  \"Were it certain that Lady Catherine would think so,\"                                                                                                                                                                                                                                                                                                                                                                                                                                                                                                                                                                                                                                                                                                                                                                                                                                                                                                                                                                                                                                     \n",
       "13  \"but I cannot imagine that her ladyship would at all       disapprove of you. And you may be certain when I have the honour of seeing       her again, I shall speak in the very highest termsof your modesty,       economy, and other amiable qualification.\"                                                                                                                                                                                                                                                                                                                                                                                                                                                                                                                                                                                                                                                                                                                                                                                                                           \n",
       "14  \"Indeed, Mr Collins, all praise of me will be unnecessary. You must give       me leave to judge for myself, and pay me the compliment of believing what       I say. I wish you very happy and very rich, and by refusing your hand, do       all in my power to prevent your being otherwise. In making me the offer,       you must have satisfied the delicacy of your feelings with regard to my       family, and may take possession of Longbourn estate whenever it falls,       without any self-reproach. This matter may be considered, therefore, as       finally settled.\"                                                                                                                                                                                                                                                                                                                                                                                                                                                                                                  \n",
       "15  \"When I do myself the honour of speaking to you next on the subject, I       shall hope to receive a more favourable answer than you have now given me;       though I am far from accusing you of cruelty at present, because I know it       to be the established custom of your sex to reject a man on the first       application, and perhaps you have even now said as much to encourage my       suit as would be consistent with the true delicacy of the female       character.\"                                                                                                                                                                                                                                                                                                                                                                                                                                                                                                                                                                                               \n",
       "16  \"Really, Mr Collins,\"                                                                                                                                                                                                                                                                                                                                                                                                                                                                                                                                                                                                                                                                                                                                                                                                                                                                                                                                                                                                                                                                     \n",
       "17  \"you puzzle me       exceedingly. If what I have hitherto said can appear to you in the form of       encouragement, I know not how to express my refusal in such a way as to       convince you of its being one.\"                                                                                                                                                                                                                                                                                                                                                                                                                                                                                                                                                                                                                                                                                                                                                                                                                                                                       \n",
       "18  \"You must give me leave to flatter myself, my dear cousin, that your       refusal of my addresses is merely words of course. My reasons for       believing it are briefly these: It does not appear to me that my hand is       unworthy of your acceptance, or that the establishment I can offer would be       any other than highly desirable. My situation in life, my connections with       the family of de Bourgh, and my relationship to your own, are       circumsances highly in my favour; and you should take it into further       consideration, that in spite of your manifold attractions, it is by no       means certain that another offer of marriage may ever be made you. Your       portion is unhappily so small that it will in all likelihood undo the       effects of your loveliness and amiable qualifications. As I must therefore       conclude that you are not serious in your rejection of me, I shall choose       to attribute it to your wish of increasing my love by suspense, according       to the usual practice of elegant females.\"   \n",
       "19  \"I do assure you, sir, that I have no pretensions whatever to that kind of       elegance which consists in tormenting a respectable man. I would rather be       paid the compliment of being believed sincere. I thank you again and again       for the honour you have done me in your proposals, but to accept them is       absolutely impossible. My feelings in every respect forbid it. Can I speak       plainer? Do not consider me now as an elegant female, intending to plague       you, but as a rational creature, speaking the truth from her heart.\"                                                                                                                                                                                                                                                                                                                                                                                                                                                                                                                   \n",
       "20  \"and I am persuaded that when sanctioned by the express authority of both       your excellent parents, my proposals will not fail of being acceptable.\"                                                                                                                                                                                                                                                                                                                                                                                                                                                                                                                                                                                                                                                                                                                                                                                                                                                                                                                                  \n",
       "\n",
       "      label chapter_tag split_tag  \n",
       "10  I-OTHER  Chapter 19  test      \n",
       "11  B-OTHER  Chapter 19  test      \n",
       "12  I-OTHER  Chapter 19  test      \n",
       "13  B-OTHER  Chapter 19  test      \n",
       "14  I-OTHER  Chapter 19  test      \n",
       "15  B-OTHER  Chapter 19  test      \n",
       "16  B-OTHER  Chapter 19  test      \n",
       "17  B-OTHER  Chapter 19  test      \n",
       "18  I-OTHER  Chapter 19  test      \n",
       "19  B-OTHER  Chapter 19  test      \n",
       "20  B-START  Chapter 19  test      "
      ]
     },
     "execution_count": 24,
     "metadata": {},
     "output_type": "execute_result"
    }
   ],
   "source": [
    "df_pairs_pred.loc[10:20]"
   ]
  },
  {
   "cell_type": "markdown",
   "metadata": {},
   "source": [
    "# Find Precision and Recall"
   ]
  },
  {
   "cell_type": "code",
   "execution_count": 25,
   "metadata": {
    "ExecuteTime": {
     "end_time": "2019-05-06T13:11:20.990042Z",
     "start_time": "2019-05-06T13:11:20.984834Z"
    }
   },
   "outputs": [],
   "source": [
    "def find_precision_n_recall(df_pairs_true, df_pairs_pred):\n",
    "    df_pairs_true = df_pairs_true[df_pairs_true['split_tag']=='test']\n",
    "#     df_pairs_pred = df_pairs_pred[df_pairs_pred['split_tag']=='test']\n",
    "\n",
    "    true_pairs_list = list(df_pairs_true.apply(lambda row: (row['utter_1'],)+(row['utter_2'],), axis=1).values)\n",
    "    pred_pairs_list = list(df_pairs_pred.apply(lambda row: (row['utter_1'],)+(row['utter_2'],), axis=1).values)\n",
    "    \n",
    "    print('Number of predicted pairs: {}'.format(len(pred_pairs_list)))\n",
    "    print('Number of actual pairs: {}'.format(len(true_pairs_list)))\n",
    "    \n",
    "    num_pairs_hit = 0\n",
    "    for x in pred_pairs_list:\n",
    "        if x in true_pairs_list:\n",
    "            num_pairs_hit += 1   \n",
    "\n",
    "    recall = num_pairs_hit/len(true_pairs_list)\n",
    "    precision = num_pairs_hit/len(pred_pairs_list)\n",
    "    \n",
    "    return recall, precision\n"
   ]
  },
  {
   "cell_type": "code",
   "execution_count": 26,
   "metadata": {
    "ExecuteTime": {
     "end_time": "2019-05-06T13:11:21.857836Z",
     "start_time": "2019-05-06T13:11:21.844988Z"
    }
   },
   "outputs": [
    {
     "name": "stdout",
     "output_type": "stream",
     "text": [
      "Number of predicted pairs: 143\n",
      "Number of actual pairs: 148\n"
     ]
    }
   ],
   "source": [
    "recall, precision = find_precision_n_recall(df_pairs_true, df_pairs_pred)"
   ]
  },
  {
   "cell_type": "code",
   "execution_count": 27,
   "metadata": {
    "ExecuteTime": {
     "end_time": "2019-05-06T13:11:22.395396Z",
     "start_time": "2019-05-06T13:11:22.391204Z"
    }
   },
   "outputs": [
    {
     "data": {
      "text/plain": [
       "0.9054054054054054"
      ]
     },
     "execution_count": 27,
     "metadata": {},
     "output_type": "execute_result"
    }
   ],
   "source": [
    "recall"
   ]
  },
  {
   "cell_type": "code",
   "execution_count": 28,
   "metadata": {
    "ExecuteTime": {
     "end_time": "2019-05-06T13:11:22.658138Z",
     "start_time": "2019-05-06T13:11:22.655039Z"
    }
   },
   "outputs": [
    {
     "data": {
      "text/plain": [
       "0.9370629370629371"
      ]
     },
     "execution_count": 28,
     "metadata": {},
     "output_type": "execute_result"
    }
   ],
   "source": [
    "precision"
   ]
  },
  {
   "cell_type": "code",
   "execution_count": null,
   "metadata": {},
   "outputs": [],
   "source": []
  }
 ],
 "metadata": {
  "kernelspec": {
   "display_name": "Python 3",
   "language": "python",
   "name": "python3"
  },
  "language_info": {
   "codemirror_mode": {
    "name": "ipython",
    "version": 3
   },
   "file_extension": ".py",
   "mimetype": "text/x-python",
   "name": "python",
   "nbconvert_exporter": "python",
   "pygments_lexer": "ipython3",
   "version": "3.7.1"
  },
  "toc": {
   "base_numbering": 1,
   "nav_menu": {},
   "number_sections": true,
   "sideBar": true,
   "skip_h1_title": false,
   "title_cell": "Table of Contents",
   "title_sidebar": "Contents",
   "toc_cell": false,
   "toc_position": {},
   "toc_section_display": true,
   "toc_window_display": false
  }
 },
 "nbformat": 4,
 "nbformat_minor": 2
}
