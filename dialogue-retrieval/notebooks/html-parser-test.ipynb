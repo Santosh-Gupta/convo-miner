{
 "cells": [
  {
   "cell_type": "markdown",
   "metadata": {},
   "source": [
    "# Import Libraries and Data"
   ]
  },
  {
   "cell_type": "code",
   "execution_count": 439,
   "metadata": {
    "ExecuteTime": {
     "end_time": "2019-04-29T12:57:08.948633Z",
     "start_time": "2019-04-29T12:57:08.902917Z"
    }
   },
   "outputs": [
    {
     "name": "stdout",
     "output_type": "stream",
     "text": [
      "The autoreload extension is already loaded. To reload it, use:\n",
      "  %reload_ext autoreload\n"
     ]
    }
   ],
   "source": [
    "import pandas as pd\n",
    "pd.set_option('display.max_colwidth', -1)\n",
    "pd.set_option(\"display.max_rows\", 1000)\n",
    "\n",
    "import sys\n",
    "sys.path.append('../../scripts')\n",
    "\n",
    "from html_parser import *\n",
    "\n",
    "%load_ext autoreload\n",
    "%autoreload 2"
   ]
  },
  {
   "cell_type": "code",
   "execution_count": 440,
   "metadata": {
    "ExecuteTime": {
     "end_time": "2019-04-29T12:57:13.664680Z",
     "start_time": "2019-04-29T12:57:10.254016Z"
    }
   },
   "outputs": [],
   "source": [
    "sentences = get_fiction_sentences(\"https://www.gutenberg.org/files/1342/1342-h/1342-h.htm\")"
   ]
  },
  {
   "cell_type": "code",
   "execution_count": 465,
   "metadata": {
    "ExecuteTime": {
     "end_time": "2019-04-29T12:59:17.719293Z",
     "start_time": "2019-04-29T12:59:17.678070Z"
    }
   },
   "outputs": [
    {
     "data": {
      "text/plain": [
       "['\"I hope Mr. Bingley will like it, Lizzy.\"',\n",
       " '\"We are not in a way to know what Mr. Bingley likes,\" said her       mother resentfully, \"since we are not to visit.\"',\n",
       " '\"But you forget, mamma,\" said Elizabeth, \"that we shall meet him at the       assemblies, and that Mrs. Long promised to introduce him.\"',\n",
       " '\"I do not believe Mrs. Long will do any such thing. She has two nieces of       her own. She is a selfish, hypocritical woman, and I have no opinion of       her.\"',\n",
       " '\"No more have I,\" said Mr. Bennet; \"and I am glad to find that you do not       depend on her serving you.\"',\n",
       " 'Mrs. Bennet deigned not to make any reply, but, unable to contain herself,       began scolding one of her daughters.',\n",
       " '\"Don\\'t keep coughing so, Kitty, for Heaven\\'s sake! Have a little       compassion on my nerves. You tear them to pieces.\"',\n",
       " '\"Kitty has no discretion in her coughs,\" said her father; \"she times them       ill.\"',\n",
       " '\"I do not cough for my own amusement,\" replied Kitty fretfully. \"When is       your next ball to be, Lizzy?\"',\n",
       " '\"To-morrow fortnight.\"']"
      ]
     },
     "execution_count": 465,
     "metadata": {},
     "output_type": "execute_result"
    }
   ],
   "source": [
    "sentences[100:110]"
   ]
  },
  {
   "cell_type": "code",
   "execution_count": 442,
   "metadata": {
    "ExecuteTime": {
     "end_time": "2019-04-29T12:57:29.734768Z",
     "start_time": "2019-04-29T12:57:29.691403Z"
    }
   },
   "outputs": [
    {
     "data": {
      "text/plain": [
       "(2119, 2)"
      ]
     },
     "execution_count": 442,
     "metadata": {},
     "output_type": "execute_result"
    }
   ],
   "source": [
    "df = pd.DataFrame(sentences, columns=['text'])\n",
    "\n",
    "index_to_exclude = [i for i in range(1,63)]\n",
    "df = df.drop(index_to_exclude, axis=0)\n",
    "df = df.reset_index()\n",
    "df.shape"
   ]
  },
  {
   "cell_type": "code",
   "execution_count": 443,
   "metadata": {
    "ExecuteTime": {
     "end_time": "2019-04-29T12:57:31.423710Z",
     "start_time": "2019-04-29T12:57:31.381628Z"
    }
   },
   "outputs": [],
   "source": [
    "def get_num_quotes(sent):\n",
    "    return sent.count('\"')\n",
    "    \n",
    "def add_tag_to_dict(sent_index, sent, somedict, tag):\n",
    "    global total_quotes_count\n",
    "    num_utterance = int(get_num_quotes(sent)/2)\n",
    "    somedict[sent_index] = (tag, total_quotes_count, num_utterance)\n",
    "    return somedict\n",
    "    \n",
    "def is_quote_start_of_sent(sent):\n",
    "    # must have capitalized alphabet after quote\n",
    "    return bool(re.match('^\"[A-Z]', sent))\n",
    "\n",
    "def is_quote_end_of_sent(sent):\n",
    "    return bool(re.match('.*\"$', sent))\n",
    "\n",
    "def tag_dialogue(sent_index, sent):\n",
    "    global total_quotes_count, sent_dia_dict, sent_list\n",
    "    \n",
    "    num_quotes = get_num_quotes(sent)\n",
    "    \n",
    "    if num_quotes == 0:\n",
    "#         if (total_quotes_count%2) == 0:\n",
    "        add_tag_to_dict(sent_index, sent, sent_dia_dict, 'narrative')\n",
    "#         else:\n",
    "#             add_tag_to_dict(sent_index, sent, sent_dia_dict, 'dialogue-P')\n",
    "    \n",
    "    elif num_quotes == 1:\n",
    "        total_quotes_count += 1\n",
    "        add_tag_to_dict(sent_index, sent, sent_dia_dict, 'letter')#letter-S\n",
    "#         if is_quote_start_of_sent(sent):\n",
    "#             total_quotes_count += 1\n",
    "#             add_tag_to_dict(sent_index, sent, sent_dia_dict, 'letter-S')\n",
    "#         elif is_quote_end_of_sent(sent):\n",
    "#             total_quotes_count += 1\n",
    "#             add_tag_to_dict(sent_index, sent, sent_dia_dict, 'letter-E')\n",
    "#         else:\n",
    "#             if (total_quotes_count%2) == 0:\n",
    "#                 total_quotes_count += 1\n",
    "#                 add_tag_to_dict(sent_index, sent, sent_dia_dict, 'letter-S')\n",
    "#             else: \n",
    "#                 total_quotes_count += 1\n",
    "#                 add_tag_to_dict(sent_index, sent, sent_dia_dict, 'letter-E')\n",
    "                \n",
    "    elif num_quotes == 2:\n",
    "#         if (total_quotes_count%2) == 0:\n",
    "        total_quotes_count += 2\n",
    "        add_tag_to_dict(sent_index, sent, sent_dia_dict, 'utterance')\n",
    "#         else:\n",
    "#             total_quotes_count += 2\n",
    "#             add_tag_to_dict(sent_index, sent, sent_dia_dict, 'dialogue-E-S')\n",
    "        \n",
    "    elif num_quotes > 2:\n",
    "#         if (total_quotes_count%2) == 0:\n",
    "#             total_quotes_count += num_quotes\n",
    "        if (num_quotes%2) == 0:\n",
    "            total_quotes_count += num_quotes\n",
    "            add_tag_to_dict(sent_index, sent, sent_dia_dict, 'utterance')\n",
    "        else:\n",
    "            total_quotes_count += num_quotes\n",
    "            add_tag_to_dict(sent_index, sent, sent_dia_dict, 'letter')\n",
    "#         else:\n",
    "#             total_quotes_count += num_quotes\n",
    "#             add_tag_to_dict(sent_index, sent, sent_dia_dict, 'dialogue-S')\n",
    "\n",
    "    return sent_dia_dict"
   ]
  },
  {
   "cell_type": "code",
   "execution_count": 445,
   "metadata": {
    "ExecuteTime": {
     "end_time": "2019-04-29T12:57:35.379459Z",
     "start_time": "2019-04-29T12:57:35.338873Z"
    }
   },
   "outputs": [],
   "source": [
    "doc = df['text'].values\n",
    "\n",
    "total_quotes_count = 0\n",
    "sent_dia_dict = dict()\n",
    "for sent_index, sent in enumerate(doc):\n",
    "    sent_dia_dict = tag_dialogue(sent_index, sent)"
   ]
  },
  {
   "cell_type": "code",
   "execution_count": 446,
   "metadata": {
    "ExecuteTime": {
     "end_time": "2019-04-29T12:57:35.690969Z",
     "start_time": "2019-04-29T12:57:35.652945Z"
    }
   },
   "outputs": [
    {
     "data": {
      "text/plain": [
       "2119"
      ]
     },
     "execution_count": 446,
     "metadata": {},
     "output_type": "execute_result"
    }
   ],
   "source": [
    "len(df)"
   ]
  },
  {
   "cell_type": "code",
   "execution_count": 448,
   "metadata": {
    "ExecuteTime": {
     "end_time": "2019-04-29T12:57:42.350984Z",
     "start_time": "2019-04-29T12:57:42.310483Z"
    }
   },
   "outputs": [],
   "source": [
    "df = pd.DataFrame(list(sent_dia_dict.items()), columns=['para_index', 'tag'])"
   ]
  },
  {
   "cell_type": "code",
   "execution_count": 449,
   "metadata": {
    "ExecuteTime": {
     "end_time": "2019-04-29T12:57:42.823755Z",
     "start_time": "2019-04-29T12:57:42.783717Z"
    }
   },
   "outputs": [
    {
     "data": {
      "text/plain": [
       "(2119, 2)"
      ]
     },
     "execution_count": 449,
     "metadata": {},
     "output_type": "execute_result"
    }
   ],
   "source": [
    "df.shape"
   ]
  },
  {
   "cell_type": "code",
   "execution_count": 450,
   "metadata": {
    "ExecuteTime": {
     "end_time": "2019-04-29T12:57:43.702828Z",
     "start_time": "2019-04-29T12:57:43.659920Z"
    }
   },
   "outputs": [],
   "source": [
    "df['para'] = doc\n",
    "df['num_quotes_up_to_para'] = df['tag'].apply(lambda x: x[1])\n",
    "df['num_utterances'] = df['tag'].apply(lambda x: x[2])\n",
    "df['tag'] = df['tag'].apply(lambda x: x[0])\n"
   ]
  },
  {
   "cell_type": "code",
   "execution_count": 451,
   "metadata": {
    "ExecuteTime": {
     "end_time": "2019-04-29T12:57:44.668196Z",
     "start_time": "2019-04-29T12:57:44.628199Z"
    }
   },
   "outputs": [
    {
     "data": {
      "text/plain": [
       "utterance    1289\n",
       "narrative    779 \n",
       "letter       51  \n",
       "Name: tag, dtype: int64"
      ]
     },
     "execution_count": 451,
     "metadata": {},
     "output_type": "execute_result"
    }
   ],
   "source": [
    "df['tag'].value_counts()"
   ]
  },
  {
   "cell_type": "code",
   "execution_count": 464,
   "metadata": {
    "ExecuteTime": {
     "end_time": "2019-04-29T12:59:05.725537Z",
     "start_time": "2019-04-29T12:59:05.686300Z"
    }
   },
   "outputs": [],
   "source": [
    "# df[(df['para'].apply(lambda x: is_quote_start_of_sent(x)==False)) & (df['tag']=='utterance')]"
   ]
  },
  {
   "cell_type": "code",
   "execution_count": 453,
   "metadata": {
    "ExecuteTime": {
     "end_time": "2019-04-29T12:57:46.552230Z",
     "start_time": "2019-04-29T12:57:46.478492Z"
    },
    "scrolled": true
   },
   "outputs": [
    {
     "data": {
      "text/html": [
       "<div>\n",
       "<style scoped>\n",
       "    .dataframe tbody tr th:only-of-type {\n",
       "        vertical-align: middle;\n",
       "    }\n",
       "\n",
       "    .dataframe tbody tr th {\n",
       "        vertical-align: top;\n",
       "    }\n",
       "\n",
       "    .dataframe thead th {\n",
       "        text-align: right;\n",
       "    }\n",
       "</style>\n",
       "<table border=\"1\" class=\"dataframe\">\n",
       "  <thead>\n",
       "    <tr style=\"text-align: right;\">\n",
       "      <th></th>\n",
       "      <th>para_index</th>\n",
       "      <th>tag</th>\n",
       "      <th>para</th>\n",
       "      <th>num_quotes_up_to_para</th>\n",
       "      <th>num_utterances</th>\n",
       "    </tr>\n",
       "  </thead>\n",
       "  <tbody>\n",
       "    <tr>\n",
       "      <th>100</th>\n",
       "      <td>100</td>\n",
       "      <td>narrative</td>\n",
       "      <td>The manner in which they spoke of the Meryton assembly was sufficiently       characteristic. Bingley had never met with more pleasant people or       prettier girls in his life; everybody had been most kind and attentive to       him; there had been no formality, no stiffness; he had soon felt       acquainted with all the room; and, as to Miss Bennet, he could not       conceive an angel more beautiful. Darcy, on the contrary, had seen a       collection of people in whom there was little beauty and no fashion, for       none of whom he had felt the smallest interest, and from none received       either attention or pleasure. Miss Bennet he acknowledged to be pretty,       but she smiled too much.</td>\n",
       "      <td>186</td>\n",
       "      <td>0</td>\n",
       "    </tr>\n",
       "    <tr>\n",
       "      <th>101</th>\n",
       "      <td>101</td>\n",
       "      <td>narrative</td>\n",
       "      <td>Mrs. Hurst and her sister allowed it to be so—but still they admired       her and liked her, and pronounced her to be a sweet girl, and one whom       they would not object to know more of. Miss Bennet was therefore       established as a sweet girl, and their brother felt authorized by such       commendation to think of her as he chose.</td>\n",
       "      <td>186</td>\n",
       "      <td>0</td>\n",
       "    </tr>\n",
       "    <tr>\n",
       "      <th>102</th>\n",
       "      <td>102</td>\n",
       "      <td>narrative</td>\n",
       "      <td>Chapter 5</td>\n",
       "      <td>186</td>\n",
       "      <td>0</td>\n",
       "    </tr>\n",
       "    <tr>\n",
       "      <th>103</th>\n",
       "      <td>103</td>\n",
       "      <td>narrative</td>\n",
       "      <td>Within a short walk of Longbourn lived a family with whom the Bennets were       particularly intimate. Sir William Lucas had been formerly in trade in       Meryton, where he had made a tolerable fortune, and risen to the honour of       knighthood by an address to the king during his mayoralty. The distinction       had perhaps been felt too strongly. It had given him a disgust to his       business, and to his residence in a small market town; and, in quitting       them both, he had removed with his family to a house about a mile from       Meryton, denominated from that period Lucas Lodge, where he could think       with pleasure of his own importance, and, unshackled by business, occupy       himself solely in being civil to all the world. For, though elated by his       rank, it did not render him supercilious; on the contrary, he was all       attention to everybody. By nature inoffensive, friendly, and obliging, his       presentation at St. James's had made him courteous.</td>\n",
       "      <td>186</td>\n",
       "      <td>0</td>\n",
       "    </tr>\n",
       "    <tr>\n",
       "      <th>104</th>\n",
       "      <td>104</td>\n",
       "      <td>narrative</td>\n",
       "      <td>Lady Lucas was a very good kind of woman, not too clever to be a valuable       neighbour to Mrs. Bennet. They had several children. The eldest of them, a       sensible, intelligent young woman, about twenty-seven, was Elizabeth's       intimate friend.</td>\n",
       "      <td>186</td>\n",
       "      <td>0</td>\n",
       "    </tr>\n",
       "    <tr>\n",
       "      <th>105</th>\n",
       "      <td>105</td>\n",
       "      <td>narrative</td>\n",
       "      <td>That the Miss Lucases and the Miss Bennets should meet to talk over a ball       was absolutely necessary; and the morning after the assembly brought the       former to Longbourn to hear and to communicate.</td>\n",
       "      <td>186</td>\n",
       "      <td>0</td>\n",
       "    </tr>\n",
       "    <tr>\n",
       "      <th>106</th>\n",
       "      <td>106</td>\n",
       "      <td>utterance</td>\n",
       "      <td>\"You began the evening well, Charlotte,\" said Mrs. Bennet with       civil self-command to Miss Lucas. \"You were Mr. Bingley's first       choice.\"</td>\n",
       "      <td>190</td>\n",
       "      <td>2</td>\n",
       "    </tr>\n",
       "    <tr>\n",
       "      <th>107</th>\n",
       "      <td>107</td>\n",
       "      <td>utterance</td>\n",
       "      <td>\"Yes; but he seemed to like his second better.\"</td>\n",
       "      <td>192</td>\n",
       "      <td>1</td>\n",
       "    </tr>\n",
       "    <tr>\n",
       "      <th>108</th>\n",
       "      <td>108</td>\n",
       "      <td>utterance</td>\n",
       "      <td>\"Oh! you mean Jane, I suppose, because he danced with her twice. To be       sure that did seem as if he admired her—indeed I rather       believe he did—I heard something about it—but I hardly       know what—something about Mr. Robinson.\"</td>\n",
       "      <td>194</td>\n",
       "      <td>1</td>\n",
       "    </tr>\n",
       "    <tr>\n",
       "      <th>109</th>\n",
       "      <td>109</td>\n",
       "      <td>utterance</td>\n",
       "      <td>\"Perhaps you mean what I overheard between him and Mr. Robinson; did not I       mention it to you? Mr. Robinson's asking him how he liked our Meryton       assemblies, and whether he did not think there were a great many pretty       women in the room, and which he thought the prettiest? and his       answering immediately to the last question: 'Oh! the eldest Miss Bennet,       beyond a doubt; there cannot be two opinions on that point.'\"</td>\n",
       "      <td>196</td>\n",
       "      <td>1</td>\n",
       "    </tr>\n",
       "    <tr>\n",
       "      <th>110</th>\n",
       "      <td>110</td>\n",
       "      <td>utterance</td>\n",
       "      <td>\"Upon my word! Well, that is very decided indeed—that does seem as       if—but, however, it may all come to nothing, you know.\"</td>\n",
       "      <td>198</td>\n",
       "      <td>1</td>\n",
       "    </tr>\n",
       "    <tr>\n",
       "      <th>111</th>\n",
       "      <td>111</td>\n",
       "      <td>utterance</td>\n",
       "      <td>\"My overhearings were more to the purpose than yours,       Eliza,\" said Charlotte. \"Mr. Darcy is not so well worth listening to as       his friend, is he?—poor Eliza!—to be only just tolerable.\"</td>\n",
       "      <td>202</td>\n",
       "      <td>2</td>\n",
       "    </tr>\n",
       "    <tr>\n",
       "      <th>112</th>\n",
       "      <td>112</td>\n",
       "      <td>utterance</td>\n",
       "      <td>\"I beg you would not put it into Lizzy's head to be vexed by his       ill-treatment, for he is such a disagreeable man, that it would be quite a       misfortune to be liked by him. Mrs. Long told me last night that he sat       close to her for half-an-hour without once opening his lips.\"</td>\n",
       "      <td>204</td>\n",
       "      <td>1</td>\n",
       "    </tr>\n",
       "    <tr>\n",
       "      <th>113</th>\n",
       "      <td>113</td>\n",
       "      <td>utterance</td>\n",
       "      <td>\"Are you quite sure, ma'am?—is not there a little mistake?\" said       Jane. \"I certainly saw Mr. Darcy speaking to her.\"</td>\n",
       "      <td>208</td>\n",
       "      <td>2</td>\n",
       "    </tr>\n",
       "    <tr>\n",
       "      <th>114</th>\n",
       "      <td>114</td>\n",
       "      <td>utterance</td>\n",
       "      <td>\"Aye—because she asked him at last how he liked Netherfield, and he       could not help answering her; but she said he seemed quite angry at being       spoke to.\"</td>\n",
       "      <td>210</td>\n",
       "      <td>1</td>\n",
       "    </tr>\n",
       "    <tr>\n",
       "      <th>115</th>\n",
       "      <td>115</td>\n",
       "      <td>utterance</td>\n",
       "      <td>\"Miss Bingley told me,\" said Jane, \"that he never speaks much, unless       among his intimate acquaintances. With them he is remarkably       agreeable.\"</td>\n",
       "      <td>214</td>\n",
       "      <td>2</td>\n",
       "    </tr>\n",
       "    <tr>\n",
       "      <th>116</th>\n",
       "      <td>116</td>\n",
       "      <td>utterance</td>\n",
       "      <td>\"I do not believe a word of it, my dear. If he had been so very agreeable,       he would have talked to Mrs. Long. But I can guess how it was; everybody       says that he is eat up with pride, and I dare say he had heard somehow       that Mrs. Long does not keep a carriage, and had come to the ball in a       hack chaise.\"</td>\n",
       "      <td>216</td>\n",
       "      <td>1</td>\n",
       "    </tr>\n",
       "    <tr>\n",
       "      <th>117</th>\n",
       "      <td>117</td>\n",
       "      <td>utterance</td>\n",
       "      <td>\"I do not mind his not talking to Mrs. Long,\" said Miss Lucas, \"but I wish       he had danced with Eliza.\"</td>\n",
       "      <td>220</td>\n",
       "      <td>2</td>\n",
       "    </tr>\n",
       "    <tr>\n",
       "      <th>118</th>\n",
       "      <td>118</td>\n",
       "      <td>utterance</td>\n",
       "      <td>\"Another time, Lizzy,\" said her mother, \"I would not dance with him,       if I were you.\"</td>\n",
       "      <td>224</td>\n",
       "      <td>2</td>\n",
       "    </tr>\n",
       "    <tr>\n",
       "      <th>119</th>\n",
       "      <td>119</td>\n",
       "      <td>utterance</td>\n",
       "      <td>\"I believe, ma'am, I may safely promise you never to dance with       him.\"</td>\n",
       "      <td>226</td>\n",
       "      <td>1</td>\n",
       "    </tr>\n",
       "    <tr>\n",
       "      <th>120</th>\n",
       "      <td>120</td>\n",
       "      <td>utterance</td>\n",
       "      <td>\"His pride,\" said Miss Lucas, \"does not offend me so much as pride       often does, because there is an excuse for it. One cannot wonder that so       very fine a young man, with family, fortune, everything in his favour,       should think highly of himself. If I may so express it, he has a right       to be proud.\"</td>\n",
       "      <td>230</td>\n",
       "      <td>2</td>\n",
       "    </tr>\n",
       "    <tr>\n",
       "      <th>121</th>\n",
       "      <td>121</td>\n",
       "      <td>utterance</td>\n",
       "      <td>\"That is very true,\" replied Elizabeth, \"and I could easily forgive his       pride, if he had not mortified mine.\"</td>\n",
       "      <td>234</td>\n",
       "      <td>2</td>\n",
       "    </tr>\n",
       "    <tr>\n",
       "      <th>122</th>\n",
       "      <td>122</td>\n",
       "      <td>utterance</td>\n",
       "      <td>\"Pride,\" observed Mary, who piqued herself upon the solidity of her       reflections, \"is a very common failing, I believe. By all that I have ever       read, I am convinced that it is very common indeed; that human nature is       particularly prone to it, and that there are very few of us who do not       cherish a feeling of self-complacency on the score of some quality or       other, real or imaginary. Vanity and pride are different things, though       the words are often used synonymously. A person may be proud without being       vain. Pride relates more to our opinion of ourselves, vanity to what we       would have others think of us.\"</td>\n",
       "      <td>238</td>\n",
       "      <td>2</td>\n",
       "    </tr>\n",
       "    <tr>\n",
       "      <th>123</th>\n",
       "      <td>123</td>\n",
       "      <td>utterance</td>\n",
       "      <td>\"If I were as rich as Mr. Darcy,\" cried a young Lucas, who came with his       sisters, \"I should not care how proud I was. I would keep a pack of       foxhounds, and drink a bottle of wine a day.\"</td>\n",
       "      <td>242</td>\n",
       "      <td>2</td>\n",
       "    </tr>\n",
       "    <tr>\n",
       "      <th>124</th>\n",
       "      <td>124</td>\n",
       "      <td>utterance</td>\n",
       "      <td>\"Then you would drink a great deal more than you ought,\" said Mrs. Bennet;       \"and if I were to see you at it, I should take away your bottle directly.\"</td>\n",
       "      <td>246</td>\n",
       "      <td>2</td>\n",
       "    </tr>\n",
       "    <tr>\n",
       "      <th>125</th>\n",
       "      <td>125</td>\n",
       "      <td>narrative</td>\n",
       "      <td>The boy protested that she should not; she continued to declare that she       would, and the argument ended only with the visit.</td>\n",
       "      <td>246</td>\n",
       "      <td>0</td>\n",
       "    </tr>\n",
       "    <tr>\n",
       "      <th>126</th>\n",
       "      <td>126</td>\n",
       "      <td>narrative</td>\n",
       "      <td>Chapter 6</td>\n",
       "      <td>246</td>\n",
       "      <td>0</td>\n",
       "    </tr>\n",
       "    <tr>\n",
       "      <th>127</th>\n",
       "      <td>127</td>\n",
       "      <td>narrative</td>\n",
       "      <td>The ladies of Longbourn soon waited on those of Netherfield. The visit was       soon returned in due form. Miss Bennet's pleasing manners grew on the       goodwill of Mrs. Hurst and Miss Bingley; and though the mother was found       to be intolerable, and the younger sisters not worth speaking to, a wish       of being better acquainted with them was expressed towards the two       eldest. By Jane, this attention was received with the greatest pleasure,       but Elizabeth still saw superciliousness in their treatment of everybody,       hardly excepting even her sister, and could not like them; though their       kindness to Jane, such as it was, had a value as arising in all       probability from the influence of their brother's admiration. It was       generally evident whenever they met, that he did admire her and to       her it was equally evident that Jane was yielding to the preference       which she had begun to entertain for him from the first, and was in a way       to be very much in love; but she considered with pleasure that it was not       likely to be discovered by the world in general, since Jane united, with       great strength of feeling, a composure of temper and a uniform       cheerfulness of manner which would guard her from the suspicions of the       impertinent. She mentioned this to her friend Miss Lucas.</td>\n",
       "      <td>246</td>\n",
       "      <td>0</td>\n",
       "    </tr>\n",
       "    <tr>\n",
       "      <th>128</th>\n",
       "      <td>128</td>\n",
       "      <td>utterance</td>\n",
       "      <td>\"It may perhaps be pleasant,\" replied Charlotte, \"to be able to impose on       the public in such a case; but it is sometimes a disadvantage to be so       very guarded. If a woman conceals her affection with the same skill from       the object of it, she may lose the opportunity of fixing him; and it will       then be but poor consolation to believe the world equally in the dark.       There is so much of gratitude or vanity in almost every attachment, that       it is not safe to leave any to itself. We can all begin freely—a       slight preference is natural enough; but there are very few of us who have       heart enough to be really in love without encouragement. In nine cases out       of ten a women had better show more affection than she feels.       Bingley likes your sister undoubtedly; but he may never do more than like       her, if she does not help him on.\"</td>\n",
       "      <td>250</td>\n",
       "      <td>2</td>\n",
       "    </tr>\n",
       "    <tr>\n",
       "      <th>129</th>\n",
       "      <td>129</td>\n",
       "      <td>utterance</td>\n",
       "      <td>\"But she does help him on, as much as her nature will allow. If I can       perceive her regard for him, he must be a simpleton, indeed, not to       discover it too.\"</td>\n",
       "      <td>252</td>\n",
       "      <td>1</td>\n",
       "    </tr>\n",
       "    <tr>\n",
       "      <th>130</th>\n",
       "      <td>130</td>\n",
       "      <td>utterance</td>\n",
       "      <td>\"Remember, Eliza, that he does not know Jane's disposition as you do.\"</td>\n",
       "      <td>254</td>\n",
       "      <td>1</td>\n",
       "    </tr>\n",
       "    <tr>\n",
       "      <th>131</th>\n",
       "      <td>131</td>\n",
       "      <td>utterance</td>\n",
       "      <td>\"But if a woman is partial to a man, and does not endeavour to conceal it,       he must find it out.\"</td>\n",
       "      <td>256</td>\n",
       "      <td>1</td>\n",
       "    </tr>\n",
       "    <tr>\n",
       "      <th>132</th>\n",
       "      <td>132</td>\n",
       "      <td>utterance</td>\n",
       "      <td>\"Perhaps he must, if he sees enough of her. But, though Bingley and Jane       meet tolerably often, it is never for many hours together; and, as they       always see each other in large mixed parties, it is impossible that every       moment should be employed in conversing together. Jane should therefore       make the most of every half-hour in which she can command his attention.       When she is secure of him, there will be more leisure for falling in love       as much as she chooses.\"</td>\n",
       "      <td>258</td>\n",
       "      <td>1</td>\n",
       "    </tr>\n",
       "    <tr>\n",
       "      <th>133</th>\n",
       "      <td>133</td>\n",
       "      <td>utterance</td>\n",
       "      <td>\"Your plan is a good one,\" replied Elizabeth, \"where nothing is in       question but the desire of being well married, and if I were determined to       get a rich husband, or any husband, I dare say I should adopt it. But       these are not Jane's feelings; she is not acting by design. As yet, she       cannot even be certain of the degree of her own regard nor of its       reasonableness. She has known him only a fortnight. She danced four dances       with him at Meryton; she saw him one morning at his own house, and has       since dined with him in company four times. This is not quite enough to       make her understand his character.\"</td>\n",
       "      <td>262</td>\n",
       "      <td>2</td>\n",
       "    </tr>\n",
       "    <tr>\n",
       "      <th>134</th>\n",
       "      <td>134</td>\n",
       "      <td>utterance</td>\n",
       "      <td>\"Not as you represent it. Had she merely dined with him, she might       only have discovered whether he had a good appetite; but you must remember       that four evenings have also been spent together—and four evenings       may do a great deal.\"</td>\n",
       "      <td>264</td>\n",
       "      <td>1</td>\n",
       "    </tr>\n",
       "    <tr>\n",
       "      <th>135</th>\n",
       "      <td>135</td>\n",
       "      <td>utterance</td>\n",
       "      <td>\"Yes; these four evenings have enabled them to ascertain that they both       like Vingt-un better than Commerce; but with respect to any other leading       characteristic, I do not imagine that much has been unfolded.\"</td>\n",
       "      <td>266</td>\n",
       "      <td>1</td>\n",
       "    </tr>\n",
       "    <tr>\n",
       "      <th>136</th>\n",
       "      <td>136</td>\n",
       "      <td>utterance</td>\n",
       "      <td>\"Well,\" said Charlotte, \"I wish Jane success with all my heart; and if she       were married to him to-morrow, I should think she had as good a chance of       happiness as if she were to be studying his character for a twelvemonth.       Happiness in marriage is entirely a matter of chance. If the dispositions       of the parties are ever so well known to each other or ever so similar       beforehand, it does not advance their felicity in the least. They always       continue to grow sufficiently unlike afterwards to have their share of       vexation; and it is better to know as little as possible of the defects of       the person with whom you are to pass your life.\"</td>\n",
       "      <td>270</td>\n",
       "      <td>2</td>\n",
       "    </tr>\n",
       "    <tr>\n",
       "      <th>137</th>\n",
       "      <td>137</td>\n",
       "      <td>utterance</td>\n",
       "      <td>\"You make me laugh, Charlotte; but it is not sound. You know it is not       sound, and that you would never act in this way yourself.\"</td>\n",
       "      <td>272</td>\n",
       "      <td>1</td>\n",
       "    </tr>\n",
       "    <tr>\n",
       "      <th>138</th>\n",
       "      <td>138</td>\n",
       "      <td>narrative</td>\n",
       "      <td>Occupied in observing Mr. Bingley's attentions to her sister, Elizabeth       was far from suspecting that she was herself becoming an object of some       interest in the eyes of his friend. Mr. Darcy had at first scarcely       allowed her to be pretty; he had looked at her without admiration at the       ball; and when they next met, he looked at her only to criticise. But no       sooner had he made it clear to himself and his friends that she hardly had       a good feature in her face, than he began to find it was rendered       uncommonly intelligent by the beautiful expression of her dark eyes. To       this discovery succeeded some others equally mortifying. Though he had       detected with a critical eye more than one failure of perfect symmetry in       her form, he was forced to acknowledge her figure to be light and       pleasing; and in spite of his asserting that her manners were not those of       the fashionable world, he was caught by their easy playfulness. Of this       she was perfectly unaware; to her he was only the man who made himself       agreeable nowhere, and who had not thought her handsome enough to dance       with.</td>\n",
       "      <td>272</td>\n",
       "      <td>0</td>\n",
       "    </tr>\n",
       "    <tr>\n",
       "      <th>139</th>\n",
       "      <td>139</td>\n",
       "      <td>narrative</td>\n",
       "      <td>He began to wish to know more of her, and as a step towards conversing       with her himself, attended to her conversation with others. His doing so       drew her notice. It was at Sir William Lucas's, where a large party were       assembled.</td>\n",
       "      <td>272</td>\n",
       "      <td>0</td>\n",
       "    </tr>\n",
       "    <tr>\n",
       "      <th>140</th>\n",
       "      <td>140</td>\n",
       "      <td>utterance</td>\n",
       "      <td>\"What does Mr. Darcy mean,\" said she to Charlotte, \"by listening to my       conversation with Colonel Forster?\"</td>\n",
       "      <td>276</td>\n",
       "      <td>2</td>\n",
       "    </tr>\n",
       "    <tr>\n",
       "      <th>141</th>\n",
       "      <td>141</td>\n",
       "      <td>utterance</td>\n",
       "      <td>\"That is a question which Mr. Darcy only can answer.\"</td>\n",
       "      <td>278</td>\n",
       "      <td>1</td>\n",
       "    </tr>\n",
       "    <tr>\n",
       "      <th>142</th>\n",
       "      <td>142</td>\n",
       "      <td>utterance</td>\n",
       "      <td>\"But if he does it any more I shall certainly let him know that I see what       he is about. He has a very satirical eye, and if I do not begin by being       impertinent myself, I shall soon grow afraid of him.\"</td>\n",
       "      <td>280</td>\n",
       "      <td>1</td>\n",
       "    </tr>\n",
       "    <tr>\n",
       "      <th>143</th>\n",
       "      <td>143</td>\n",
       "      <td>narrative</td>\n",
       "      <td>On his approaching them soon afterwards, though without seeming to have       any intention of speaking, Miss Lucas defied her friend to mention such a       subject to him; which immediately provoking Elizabeth to do it, she turned       to him and said:</td>\n",
       "      <td>280</td>\n",
       "      <td>0</td>\n",
       "    </tr>\n",
       "    <tr>\n",
       "      <th>144</th>\n",
       "      <td>144</td>\n",
       "      <td>utterance</td>\n",
       "      <td>\"Did you not think, Mr. Darcy, that I expressed myself uncommonly well       just now, when I was teasing Colonel Forster to give us a ball at       Meryton?\"</td>\n",
       "      <td>282</td>\n",
       "      <td>1</td>\n",
       "    </tr>\n",
       "    <tr>\n",
       "      <th>145</th>\n",
       "      <td>145</td>\n",
       "      <td>utterance</td>\n",
       "      <td>\"With great energy; but it is always a subject which makes a lady       energetic.\"</td>\n",
       "      <td>284</td>\n",
       "      <td>1</td>\n",
       "    </tr>\n",
       "    <tr>\n",
       "      <th>146</th>\n",
       "      <td>146</td>\n",
       "      <td>utterance</td>\n",
       "      <td>\"You are severe on us.\"</td>\n",
       "      <td>286</td>\n",
       "      <td>1</td>\n",
       "    </tr>\n",
       "    <tr>\n",
       "      <th>147</th>\n",
       "      <td>147</td>\n",
       "      <td>utterance</td>\n",
       "      <td>\"It will be her turn soon to be teased,\" said Miss Lucas. \"I am       going to open the instrument, Eliza, and you know what follows.\"</td>\n",
       "      <td>290</td>\n",
       "      <td>2</td>\n",
       "    </tr>\n",
       "    <tr>\n",
       "      <th>148</th>\n",
       "      <td>148</td>\n",
       "      <td>utterance</td>\n",
       "      <td>\"You are a very strange creature by way of a friend!—always wanting       me to play and sing before anybody and everybody! If my vanity had taken a       musical turn, you would have been invaluable; but as it is, I would really       rather not sit down before those who must be in the habit of hearing the       very best performers.\" On Miss Lucas's persevering, however, she added,       \"Very well, if it must be so, it must.\" And gravely glancing at Mr. Darcy,       \"There is a fine old saying, which everybody here is of course familiar       with: 'Keep your breath to cool your porridge'; and I shall keep mine to       swell my song.\"</td>\n",
       "      <td>296</td>\n",
       "      <td>3</td>\n",
       "    </tr>\n",
       "    <tr>\n",
       "      <th>149</th>\n",
       "      <td>149</td>\n",
       "      <td>narrative</td>\n",
       "      <td>Her performance was pleasing, though by no means capital. After a song or       two, and before she could reply to the entreaties of several that she       would sing again, she was eagerly succeeded at the instrument by her       sister Mary, who having, in consequence of being the only plain one in the       family, worked hard for knowledge and accomplishments, was always       impatient for display.</td>\n",
       "      <td>296</td>\n",
       "      <td>0</td>\n",
       "    </tr>\n",
       "    <tr>\n",
       "      <th>150</th>\n",
       "      <td>150</td>\n",
       "      <td>narrative</td>\n",
       "      <td>Mary had neither genius nor taste; and though vanity had given her       application, it had given her likewise a pedantic air and conceited       manner, which would have injured a higher degree of excellence than she       had reached. Elizabeth, easy and unaffected, had been listened to with       much more pleasure, though not playing half so well; and Mary, at the end       of a long concerto, was glad to purchase praise and gratitude by Scotch       and Irish airs, at the request of her younger sisters, who, with some of       the Lucases, and two or three officers, joined eagerly in dancing at one       end of the room.</td>\n",
       "      <td>296</td>\n",
       "      <td>0</td>\n",
       "    </tr>\n",
       "    <tr>\n",
       "      <th>151</th>\n",
       "      <td>151</td>\n",
       "      <td>narrative</td>\n",
       "      <td>Mr. Darcy stood near them in silent indignation at such a mode of passing       the evening, to the exclusion of all conversation, and was too much       engrossed by his thoughts to perceive that Sir William Lucas was his       neighbour, till Sir William thus began:</td>\n",
       "      <td>296</td>\n",
       "      <td>0</td>\n",
       "    </tr>\n",
       "    <tr>\n",
       "      <th>152</th>\n",
       "      <td>152</td>\n",
       "      <td>utterance</td>\n",
       "      <td>\"What a charming amusement for young people this is, Mr. Darcy! There is       nothing like dancing after all. I consider it as one of the first       refinements of polished society.\"</td>\n",
       "      <td>298</td>\n",
       "      <td>1</td>\n",
       "    </tr>\n",
       "    <tr>\n",
       "      <th>153</th>\n",
       "      <td>153</td>\n",
       "      <td>utterance</td>\n",
       "      <td>\"Certainly, sir; and it has the advantage also of being in vogue amongst       the less polished societies of the world. Every savage can dance.\"</td>\n",
       "      <td>300</td>\n",
       "      <td>1</td>\n",
       "    </tr>\n",
       "    <tr>\n",
       "      <th>154</th>\n",
       "      <td>154</td>\n",
       "      <td>utterance</td>\n",
       "      <td>Sir William only smiled. \"Your friend performs delightfully,\" he continued       after a pause, on seeing Bingley join the group; \"and I doubt not that you       are an adept in the science yourself, Mr. Darcy.\"</td>\n",
       "      <td>304</td>\n",
       "      <td>2</td>\n",
       "    </tr>\n",
       "    <tr>\n",
       "      <th>155</th>\n",
       "      <td>155</td>\n",
       "      <td>utterance</td>\n",
       "      <td>\"You saw me dance at Meryton, I believe, sir.\"</td>\n",
       "      <td>306</td>\n",
       "      <td>1</td>\n",
       "    </tr>\n",
       "    <tr>\n",
       "      <th>156</th>\n",
       "      <td>156</td>\n",
       "      <td>utterance</td>\n",
       "      <td>\"Yes, indeed, and received no inconsiderable pleasure from the sight. Do       you often dance at St. James's?\"</td>\n",
       "      <td>308</td>\n",
       "      <td>1</td>\n",
       "    </tr>\n",
       "    <tr>\n",
       "      <th>157</th>\n",
       "      <td>157</td>\n",
       "      <td>utterance</td>\n",
       "      <td>\"Never, sir.\"</td>\n",
       "      <td>310</td>\n",
       "      <td>1</td>\n",
       "    </tr>\n",
       "    <tr>\n",
       "      <th>158</th>\n",
       "      <td>158</td>\n",
       "      <td>utterance</td>\n",
       "      <td>\"Do you not think it would be a proper compliment to the place?\"</td>\n",
       "      <td>312</td>\n",
       "      <td>1</td>\n",
       "    </tr>\n",
       "    <tr>\n",
       "      <th>159</th>\n",
       "      <td>159</td>\n",
       "      <td>utterance</td>\n",
       "      <td>\"It is a compliment which I never pay to any place if I can avoid it.\"</td>\n",
       "      <td>314</td>\n",
       "      <td>1</td>\n",
       "    </tr>\n",
       "    <tr>\n",
       "      <th>160</th>\n",
       "      <td>160</td>\n",
       "      <td>utterance</td>\n",
       "      <td>\"You have a house in town, I conclude?\"</td>\n",
       "      <td>316</td>\n",
       "      <td>1</td>\n",
       "    </tr>\n",
       "    <tr>\n",
       "      <th>161</th>\n",
       "      <td>161</td>\n",
       "      <td>narrative</td>\n",
       "      <td>Mr. Darcy bowed.</td>\n",
       "      <td>316</td>\n",
       "      <td>0</td>\n",
       "    </tr>\n",
       "    <tr>\n",
       "      <th>162</th>\n",
       "      <td>162</td>\n",
       "      <td>utterance</td>\n",
       "      <td>\"I had once had some thought of fixing in town myself—for I am fond       of superior society; but I did not feel quite certain that the air of       London would agree with Lady Lucas.\"</td>\n",
       "      <td>318</td>\n",
       "      <td>1</td>\n",
       "    </tr>\n",
       "    <tr>\n",
       "      <th>163</th>\n",
       "      <td>163</td>\n",
       "      <td>narrative</td>\n",
       "      <td>He paused in hopes of an answer; but his companion was not disposed to       make any; and Elizabeth at that instant moving towards them, he was struck       with the action of doing a very gallant thing, and called out to her:</td>\n",
       "      <td>318</td>\n",
       "      <td>0</td>\n",
       "    </tr>\n",
       "    <tr>\n",
       "      <th>164</th>\n",
       "      <td>164</td>\n",
       "      <td>utterance</td>\n",
       "      <td>\"My dear Miss Eliza, why are you not dancing? Mr. Darcy, you must allow me       to present this young lady to you as a very desirable partner. You cannot       refuse to dance, I am sure when so much beauty is before you.\" And, taking       her hand, he would have given it to Mr. Darcy who, though extremely       surprised, was not unwilling to receive it, when she instantly drew back,       and said with some discomposure to Sir William:</td>\n",
       "      <td>320</td>\n",
       "      <td>1</td>\n",
       "    </tr>\n",
       "    <tr>\n",
       "      <th>165</th>\n",
       "      <td>165</td>\n",
       "      <td>utterance</td>\n",
       "      <td>\"Indeed, sir, I have not the least intention of dancing. I entreat you not       to suppose that I moved this way in order to beg for a partner.\"</td>\n",
       "      <td>322</td>\n",
       "      <td>1</td>\n",
       "    </tr>\n",
       "    <tr>\n",
       "      <th>166</th>\n",
       "      <td>166</td>\n",
       "      <td>narrative</td>\n",
       "      <td>Mr. Darcy, with grave propriety, requested to be allowed the honour of her       hand, but in vain. Elizabeth was determined; nor did Sir William at all       shake her purpose by his attempt at persuasion.</td>\n",
       "      <td>322</td>\n",
       "      <td>0</td>\n",
       "    </tr>\n",
       "    <tr>\n",
       "      <th>167</th>\n",
       "      <td>167</td>\n",
       "      <td>utterance</td>\n",
       "      <td>\"You excel so much in the dance, Miss Eliza, that it is cruel to deny me       the happiness of seeing you; and though this gentleman dislikes the       amusement in general, he can have no objection, I am sure, to oblige us       for one half-hour.\"</td>\n",
       "      <td>324</td>\n",
       "      <td>1</td>\n",
       "    </tr>\n",
       "    <tr>\n",
       "      <th>168</th>\n",
       "      <td>168</td>\n",
       "      <td>utterance</td>\n",
       "      <td>\"Mr. Darcy is all politeness,\" said Elizabeth, smiling.</td>\n",
       "      <td>326</td>\n",
       "      <td>1</td>\n",
       "    </tr>\n",
       "    <tr>\n",
       "      <th>169</th>\n",
       "      <td>169</td>\n",
       "      <td>utterance</td>\n",
       "      <td>\"He is, indeed; but, considering the inducement, my dear Miss Eliza, we       cannot wonder at his complaisance—for who would object to such a       partner?\"</td>\n",
       "      <td>328</td>\n",
       "      <td>1</td>\n",
       "    </tr>\n",
       "    <tr>\n",
       "      <th>170</th>\n",
       "      <td>170</td>\n",
       "      <td>narrative</td>\n",
       "      <td>Elizabeth looked archly, and turned away. Her resistance had not injured       her with the gentleman, and he was thinking of her with some complacency,       when thus accosted by Miss Bingley:</td>\n",
       "      <td>328</td>\n",
       "      <td>0</td>\n",
       "    </tr>\n",
       "    <tr>\n",
       "      <th>171</th>\n",
       "      <td>171</td>\n",
       "      <td>utterance</td>\n",
       "      <td>\"I can guess the subject of your reverie.\"</td>\n",
       "      <td>330</td>\n",
       "      <td>1</td>\n",
       "    </tr>\n",
       "    <tr>\n",
       "      <th>172</th>\n",
       "      <td>172</td>\n",
       "      <td>utterance</td>\n",
       "      <td>\"I should imagine not.\"</td>\n",
       "      <td>332</td>\n",
       "      <td>1</td>\n",
       "    </tr>\n",
       "    <tr>\n",
       "      <th>173</th>\n",
       "      <td>173</td>\n",
       "      <td>utterance</td>\n",
       "      <td>\"You are considering how insupportable it would be to pass many evenings       in this manner—in such society; and indeed I am quite of your       opinion. I was never more annoyed! The insipidity, and yet the noise—the       nothingness, and yet the self-importance of all those people! What would I       give to hear your strictures on them!\"</td>\n",
       "      <td>334</td>\n",
       "      <td>1</td>\n",
       "    </tr>\n",
       "    <tr>\n",
       "      <th>174</th>\n",
       "      <td>174</td>\n",
       "      <td>utterance</td>\n",
       "      <td>\"Your conjecture is totally wrong, I assure you. My mind was more       agreeably engaged. I have been meditating on the very great pleasure which       a pair of fine eyes in the face of a pretty woman can bestow.\"</td>\n",
       "      <td>336</td>\n",
       "      <td>1</td>\n",
       "    </tr>\n",
       "    <tr>\n",
       "      <th>175</th>\n",
       "      <td>175</td>\n",
       "      <td>narrative</td>\n",
       "      <td>Miss Bingley immediately fixed her eyes on his face, and desired he would       tell her what lady had the credit of inspiring such reflections. Mr. Darcy       replied with great intrepidity:</td>\n",
       "      <td>336</td>\n",
       "      <td>0</td>\n",
       "    </tr>\n",
       "    <tr>\n",
       "      <th>176</th>\n",
       "      <td>176</td>\n",
       "      <td>utterance</td>\n",
       "      <td>\"Miss Elizabeth Bennet.\"</td>\n",
       "      <td>338</td>\n",
       "      <td>1</td>\n",
       "    </tr>\n",
       "    <tr>\n",
       "      <th>177</th>\n",
       "      <td>177</td>\n",
       "      <td>utterance</td>\n",
       "      <td>\"Miss Elizabeth Bennet!\" repeated Miss Bingley. \"I am all astonishment.       How long has she been such a favourite?—and pray, when am I to wish       you joy?\"</td>\n",
       "      <td>342</td>\n",
       "      <td>2</td>\n",
       "    </tr>\n",
       "    <tr>\n",
       "      <th>178</th>\n",
       "      <td>178</td>\n",
       "      <td>utterance</td>\n",
       "      <td>\"That is exactly the question which I expected you to ask. A lady's       imagination is very rapid; it jumps from admiration to love, from love to       matrimony, in a moment. I knew you would be wishing me joy.\"</td>\n",
       "      <td>344</td>\n",
       "      <td>1</td>\n",
       "    </tr>\n",
       "    <tr>\n",
       "      <th>179</th>\n",
       "      <td>179</td>\n",
       "      <td>utterance</td>\n",
       "      <td>\"Nay, if you are serious about it, I shall consider the matter is       absolutely settled. You will be having a charming mother-in-law, indeed;       and, of course, she will always be at Pemberley with you.\"</td>\n",
       "      <td>346</td>\n",
       "      <td>1</td>\n",
       "    </tr>\n",
       "    <tr>\n",
       "      <th>180</th>\n",
       "      <td>180</td>\n",
       "      <td>narrative</td>\n",
       "      <td>He listened to her with perfect indifference while she chose to entertain       herself in this manner; and as his composure convinced her that all was       safe, her wit flowed long.</td>\n",
       "      <td>346</td>\n",
       "      <td>0</td>\n",
       "    </tr>\n",
       "    <tr>\n",
       "      <th>181</th>\n",
       "      <td>181</td>\n",
       "      <td>narrative</td>\n",
       "      <td>Chapter 7</td>\n",
       "      <td>346</td>\n",
       "      <td>0</td>\n",
       "    </tr>\n",
       "    <tr>\n",
       "      <th>182</th>\n",
       "      <td>182</td>\n",
       "      <td>narrative</td>\n",
       "      <td>Mr. Bennet's property consisted almost entirely in an estate of two       thousand a year, which, unfortunately for his daughters, was entailed, in       default of heirs male, on a distant relation; and their mother's fortune,       though ample for her situation in life, could but ill supply the       deficiency of his. Her father had been an attorney in Meryton, and had       left her four thousand pounds.</td>\n",
       "      <td>346</td>\n",
       "      <td>0</td>\n",
       "    </tr>\n",
       "    <tr>\n",
       "      <th>183</th>\n",
       "      <td>183</td>\n",
       "      <td>narrative</td>\n",
       "      <td>She had a sister married to a Mr. Phillips, who had been a clerk to their       father and succeeded him in the business, and a brother settled in London       in a respectable line of trade.</td>\n",
       "      <td>346</td>\n",
       "      <td>0</td>\n",
       "    </tr>\n",
       "    <tr>\n",
       "      <th>184</th>\n",
       "      <td>184</td>\n",
       "      <td>narrative</td>\n",
       "      <td>The village of Longbourn was only one mile from Meryton; a most convenient       distance for the young ladies, who were usually tempted thither three or       four times a week, to pay their duty to their aunt and to a milliner's       shop just over the way. The two youngest of the family, Catherine and       Lydia, were particularly frequent in these attentions; their minds were       more vacant than their sisters', and when nothing better offered, a walk       to Meryton was necessary to amuse their morning hours and furnish       conversation for the evening; and however bare of news the country in       general might be, they always contrived to learn some from their aunt. At       present, indeed, they were well supplied both with news and happiness by       the recent arrival of a militia regiment in the neighbourhood; it was to       remain the whole winter, and Meryton was the headquarters.</td>\n",
       "      <td>346</td>\n",
       "      <td>0</td>\n",
       "    </tr>\n",
       "    <tr>\n",
       "      <th>185</th>\n",
       "      <td>185</td>\n",
       "      <td>narrative</td>\n",
       "      <td>Their visits to Mrs. Phillips were now productive of the most interesting       intelligence. Every day added something to their knowledge of the       officers' names and connections. Their lodgings were not long a secret,       and at length they began to know the officers themselves. Mr. Phillips       visited them all, and this opened to his nieces a store of felicity       unknown before. They could talk of nothing but officers; and Mr. Bingley's       large fortune, the mention of which gave animation to their mother, was       worthless in their eyes when opposed to the regimentals of an ensign.</td>\n",
       "      <td>346</td>\n",
       "      <td>0</td>\n",
       "    </tr>\n",
       "    <tr>\n",
       "      <th>186</th>\n",
       "      <td>186</td>\n",
       "      <td>narrative</td>\n",
       "      <td>After listening one morning to their effusions on this subject, Mr. Bennet       coolly observed:</td>\n",
       "      <td>346</td>\n",
       "      <td>0</td>\n",
       "    </tr>\n",
       "    <tr>\n",
       "      <th>187</th>\n",
       "      <td>187</td>\n",
       "      <td>utterance</td>\n",
       "      <td>\"From all that I can collect by your manner of talking, you must be two of       the silliest girls in the country. I have suspected it some time, but I am       now convinced.\"</td>\n",
       "      <td>348</td>\n",
       "      <td>1</td>\n",
       "    </tr>\n",
       "    <tr>\n",
       "      <th>188</th>\n",
       "      <td>188</td>\n",
       "      <td>narrative</td>\n",
       "      <td>Catherine was disconcerted, and made no answer; but Lydia, with perfect       indifference, continued to express her admiration of Captain Carter, and       her hope of seeing him in the course of the day, as he was going the next       morning to London.</td>\n",
       "      <td>348</td>\n",
       "      <td>0</td>\n",
       "    </tr>\n",
       "    <tr>\n",
       "      <th>189</th>\n",
       "      <td>189</td>\n",
       "      <td>utterance</td>\n",
       "      <td>\"I am astonished, my dear,\" said Mrs. Bennet, \"that you should be so ready       to think your own children silly. If I wished to think slightingly of       anybody's children, it should not be of my own, however.\"</td>\n",
       "      <td>352</td>\n",
       "      <td>2</td>\n",
       "    </tr>\n",
       "    <tr>\n",
       "      <th>190</th>\n",
       "      <td>190</td>\n",
       "      <td>utterance</td>\n",
       "      <td>\"If my children are silly, I must hope to be always sensible of it.\"</td>\n",
       "      <td>354</td>\n",
       "      <td>1</td>\n",
       "    </tr>\n",
       "    <tr>\n",
       "      <th>191</th>\n",
       "      <td>191</td>\n",
       "      <td>utterance</td>\n",
       "      <td>\"Yes—but as it happens, they are all of them very clever.\"</td>\n",
       "      <td>356</td>\n",
       "      <td>1</td>\n",
       "    </tr>\n",
       "    <tr>\n",
       "      <th>192</th>\n",
       "      <td>192</td>\n",
       "      <td>utterance</td>\n",
       "      <td>\"This is the only point, I flatter myself, on which we do not agree. I had       hoped that our sentiments coincided in every particular, but I must so far       differ from you as to think our two youngest daughters uncommonly       foolish.\"</td>\n",
       "      <td>358</td>\n",
       "      <td>1</td>\n",
       "    </tr>\n",
       "    <tr>\n",
       "      <th>193</th>\n",
       "      <td>193</td>\n",
       "      <td>utterance</td>\n",
       "      <td>\"My dear Mr. Bennet, you must not expect such girls to have the sense of       their father and mother. When they get to our age, I dare say they will       not think about officers any more than we do. I remember the time when I       liked a red coat myself very well—and, indeed, so I do still at my       heart; and if a smart young colonel, with five or six thousand a year,       should want one of my girls I shall not say nay to him; and I thought       Colonel Forster looked very becoming the other night at Sir William's in       his regimentals.\"</td>\n",
       "      <td>360</td>\n",
       "      <td>1</td>\n",
       "    </tr>\n",
       "    <tr>\n",
       "      <th>194</th>\n",
       "      <td>194</td>\n",
       "      <td>utterance</td>\n",
       "      <td>\"Mamma,\" cried Lydia, \"my aunt says that Colonel Forster and Captain       Carter do not go so often to Miss Watson's as they did when they first       came; she sees them now very often standing in Clarke's library.\"</td>\n",
       "      <td>364</td>\n",
       "      <td>2</td>\n",
       "    </tr>\n",
       "    <tr>\n",
       "      <th>195</th>\n",
       "      <td>195</td>\n",
       "      <td>narrative</td>\n",
       "      <td>Mrs. Bennet was prevented replying by the entrance of the footman with a       note for Miss Bennet; it came from Netherfield, and the servant waited for       an answer. Mrs. Bennet's eyes sparkled with pleasure, and she was eagerly       calling out, while her daughter read,</td>\n",
       "      <td>364</td>\n",
       "      <td>0</td>\n",
       "    </tr>\n",
       "    <tr>\n",
       "      <th>196</th>\n",
       "      <td>196</td>\n",
       "      <td>utterance</td>\n",
       "      <td>\"Well, Jane, who is it from? What is it about? What does he say? Well,       Jane, make haste and tell us; make haste, my love.\"</td>\n",
       "      <td>366</td>\n",
       "      <td>1</td>\n",
       "    </tr>\n",
       "    <tr>\n",
       "      <th>197</th>\n",
       "      <td>197</td>\n",
       "      <td>utterance</td>\n",
       "      <td>\"It is from Miss Bingley,\" said Jane, and then read it aloud.</td>\n",
       "      <td>368</td>\n",
       "      <td>1</td>\n",
       "    </tr>\n",
       "    <tr>\n",
       "      <th>198</th>\n",
       "      <td>198</td>\n",
       "      <td>letter</td>\n",
       "      <td>\"MY DEAR FRIEND,—</td>\n",
       "      <td>369</td>\n",
       "      <td>0</td>\n",
       "    </tr>\n",
       "    <tr>\n",
       "      <th>199</th>\n",
       "      <td>199</td>\n",
       "      <td>letter</td>\n",
       "      <td>\"If you are not so compassionate as to dine to-day with Louisa and me, we       shall be in danger of hating each other for the rest of our lives, for a       whole day's tete-a-tete between two women can never end without a quarrel.       Come as soon as you can on receipt of this. My brother and the gentlemen       are to dine with the officers.—Yours ever,</td>\n",
       "      <td>370</td>\n",
       "      <td>0</td>\n",
       "    </tr>\n",
       "    <tr>\n",
       "      <th>200</th>\n",
       "      <td>200</td>\n",
       "      <td>utterance</td>\n",
       "      <td>\"CAROLINE BINGLEY\"</td>\n",
       "      <td>372</td>\n",
       "      <td>1</td>\n",
       "    </tr>\n",
       "  </tbody>\n",
       "</table>\n",
       "</div>"
      ],
      "text/plain": [
       "     para_index        tag  \\\n",
       "100  100         narrative   \n",
       "101  101         narrative   \n",
       "102  102         narrative   \n",
       "103  103         narrative   \n",
       "104  104         narrative   \n",
       "105  105         narrative   \n",
       "106  106         utterance   \n",
       "107  107         utterance   \n",
       "108  108         utterance   \n",
       "109  109         utterance   \n",
       "110  110         utterance   \n",
       "111  111         utterance   \n",
       "112  112         utterance   \n",
       "113  113         utterance   \n",
       "114  114         utterance   \n",
       "115  115         utterance   \n",
       "116  116         utterance   \n",
       "117  117         utterance   \n",
       "118  118         utterance   \n",
       "119  119         utterance   \n",
       "120  120         utterance   \n",
       "121  121         utterance   \n",
       "122  122         utterance   \n",
       "123  123         utterance   \n",
       "124  124         utterance   \n",
       "125  125         narrative   \n",
       "126  126         narrative   \n",
       "127  127         narrative   \n",
       "128  128         utterance   \n",
       "129  129         utterance   \n",
       "130  130         utterance   \n",
       "131  131         utterance   \n",
       "132  132         utterance   \n",
       "133  133         utterance   \n",
       "134  134         utterance   \n",
       "135  135         utterance   \n",
       "136  136         utterance   \n",
       "137  137         utterance   \n",
       "138  138         narrative   \n",
       "139  139         narrative   \n",
       "140  140         utterance   \n",
       "141  141         utterance   \n",
       "142  142         utterance   \n",
       "143  143         narrative   \n",
       "144  144         utterance   \n",
       "145  145         utterance   \n",
       "146  146         utterance   \n",
       "147  147         utterance   \n",
       "148  148         utterance   \n",
       "149  149         narrative   \n",
       "150  150         narrative   \n",
       "151  151         narrative   \n",
       "152  152         utterance   \n",
       "153  153         utterance   \n",
       "154  154         utterance   \n",
       "155  155         utterance   \n",
       "156  156         utterance   \n",
       "157  157         utterance   \n",
       "158  158         utterance   \n",
       "159  159         utterance   \n",
       "160  160         utterance   \n",
       "161  161         narrative   \n",
       "162  162         utterance   \n",
       "163  163         narrative   \n",
       "164  164         utterance   \n",
       "165  165         utterance   \n",
       "166  166         narrative   \n",
       "167  167         utterance   \n",
       "168  168         utterance   \n",
       "169  169         utterance   \n",
       "170  170         narrative   \n",
       "171  171         utterance   \n",
       "172  172         utterance   \n",
       "173  173         utterance   \n",
       "174  174         utterance   \n",
       "175  175         narrative   \n",
       "176  176         utterance   \n",
       "177  177         utterance   \n",
       "178  178         utterance   \n",
       "179  179         utterance   \n",
       "180  180         narrative   \n",
       "181  181         narrative   \n",
       "182  182         narrative   \n",
       "183  183         narrative   \n",
       "184  184         narrative   \n",
       "185  185         narrative   \n",
       "186  186         narrative   \n",
       "187  187         utterance   \n",
       "188  188         narrative   \n",
       "189  189         utterance   \n",
       "190  190         utterance   \n",
       "191  191         utterance   \n",
       "192  192         utterance   \n",
       "193  193         utterance   \n",
       "194  194         utterance   \n",
       "195  195         narrative   \n",
       "196  196         utterance   \n",
       "197  197         utterance   \n",
       "198  198         letter      \n",
       "199  199         letter      \n",
       "200  200         utterance   \n",
       "\n",
       "                                                                                                                                                                                                                                                                                                                                                                                                                                                                                                                                                                                                                                                                                                                                                                                                                                                                                                                                                                                                                                                                                                                                                                                                                                                                                                                                                                                                                 para  \\\n",
       "100  The manner in which they spoke of the Meryton assembly was sufficiently       characteristic. Bingley had never met with more pleasant people or       prettier girls in his life; everybody had been most kind and attentive to       him; there had been no formality, no stiffness; he had soon felt       acquainted with all the room; and, as to Miss Bennet, he could not       conceive an angel more beautiful. Darcy, on the contrary, had seen a       collection of people in whom there was little beauty and no fashion, for       none of whom he had felt the smallest interest, and from none received       either attention or pleasure. Miss Bennet he acknowledged to be pretty,       but she smiled too much.                                                                                                                                                                                                                                                                                                                                                                                                                                                                                                                                                                                                                                                                               \n",
       "101  Mrs. Hurst and her sister allowed it to be so—but still they admired       her and liked her, and pronounced her to be a sweet girl, and one whom       they would not object to know more of. Miss Bennet was therefore       established as a sweet girl, and their brother felt authorized by such       commendation to think of her as he chose.                                                                                                                                                                                                                                                                                                                                                                                                                                                                                                                                                                                                                                                                                                                                                                                                                                                                                                                                                                                                                                                              \n",
       "102  Chapter 5                                                                                                                                                                                                                                                                                                                                                                                                                                                                                                                                                                                                                                                                                                                                                                                                                                                                                                                                                                                                                                                                                                                                                                                                                                                                                                                                                                                                          \n",
       "103  Within a short walk of Longbourn lived a family with whom the Bennets were       particularly intimate. Sir William Lucas had been formerly in trade in       Meryton, where he had made a tolerable fortune, and risen to the honour of       knighthood by an address to the king during his mayoralty. The distinction       had perhaps been felt too strongly. It had given him a disgust to his       business, and to his residence in a small market town; and, in quitting       them both, he had removed with his family to a house about a mile from       Meryton, denominated from that period Lucas Lodge, where he could think       with pleasure of his own importance, and, unshackled by business, occupy       himself solely in being civil to all the world. For, though elated by his       rank, it did not render him supercilious; on the contrary, he was all       attention to everybody. By nature inoffensive, friendly, and obliging, his       presentation at St. James's had made him courteous.                                                                                                                                                                                                                                                                                                                                                                               \n",
       "104  Lady Lucas was a very good kind of woman, not too clever to be a valuable       neighbour to Mrs. Bennet. They had several children. The eldest of them, a       sensible, intelligent young woman, about twenty-seven, was Elizabeth's       intimate friend.                                                                                                                                                                                                                                                                                                                                                                                                                                                                                                                                                                                                                                                                                                                                                                                                                                                                                                                                                                                                                                                                                                                                                     \n",
       "105  That the Miss Lucases and the Miss Bennets should meet to talk over a ball       was absolutely necessary; and the morning after the assembly brought the       former to Longbourn to hear and to communicate.                                                                                                                                                                                                                                                                                                                                                                                                                                                                                                                                                                                                                                                                                                                                                                                                                                                                                                                                                                                                                                                                                                                                                                                                    \n",
       "106  \"You began the evening well, Charlotte,\" said Mrs. Bennet with       civil self-command to Miss Lucas. \"You were Mr. Bingley's first       choice.\"                                                                                                                                                                                                                                                                                                                                                                                                                                                                                                                                                                                                                                                                                                                                                                                                                                                                                                                                                                                                                                                                                                                                                                                                                                                                \n",
       "107  \"Yes; but he seemed to like his second better.\"                                                                                                                                                                                                                                                                                                                                                                                                                                                                                                                                                                                                                                                                                                                                                                                                                                                                                                                                                                                                                                                                                                                                                                                                                                                                                                                                                                    \n",
       "108  \"Oh! you mean Jane, I suppose, because he danced with her twice. To be       sure that did seem as if he admired her—indeed I rather       believe he did—I heard something about it—but I hardly       know what—something about Mr. Robinson.\"                                                                                                                                                                                                                                                                                                                                                                                                                                                                                                                                                                                                                                                                                                                                                                                                                                                                                                                                                                                                                                                                                                                                                                   \n",
       "109  \"Perhaps you mean what I overheard between him and Mr. Robinson; did not I       mention it to you? Mr. Robinson's asking him how he liked our Meryton       assemblies, and whether he did not think there were a great many pretty       women in the room, and which he thought the prettiest? and his       answering immediately to the last question: 'Oh! the eldest Miss Bennet,       beyond a doubt; there cannot be two opinions on that point.'\"                                                                                                                                                                                                                                                                                                                                                                                                                                                                                                                                                                                                                                                                                                                                                                                                                                                                                                                                                       \n",
       "110  \"Upon my word! Well, that is very decided indeed—that does seem as       if—but, however, it may all come to nothing, you know.\"                                                                                                                                                                                                                                                                                                                                                                                                                                                                                                                                                                                                                                                                                                                                                                                                                                                                                                                                                                                                                                                                                                                                                                                                                                                                                   \n",
       "111  \"My overhearings were more to the purpose than yours,       Eliza,\" said Charlotte. \"Mr. Darcy is not so well worth listening to as       his friend, is he?—poor Eliza!—to be only just tolerable.\"                                                                                                                                                                                                                                                                                                                                                                                                                                                                                                                                                                                                                                                                                                                                                                                                                                                                                                                                                                                                                                                                                                                                                                                                               \n",
       "112  \"I beg you would not put it into Lizzy's head to be vexed by his       ill-treatment, for he is such a disagreeable man, that it would be quite a       misfortune to be liked by him. Mrs. Long told me last night that he sat       close to her for half-an-hour without once opening his lips.\"                                                                                                                                                                                                                                                                                                                                                                                                                                                                                                                                                                                                                                                                                                                                                                                                                                                                                                                                                                                                                                                                                                                \n",
       "113  \"Are you quite sure, ma'am?—is not there a little mistake?\" said       Jane. \"I certainly saw Mr. Darcy speaking to her.\"                                                                                                                                                                                                                                                                                                                                                                                                                                                                                                                                                                                                                                                                                                                                                                                                                                                                                                                                                                                                                                                                                                                                                                                                                                                                                          \n",
       "114  \"Aye—because she asked him at last how he liked Netherfield, and he       could not help answering her; but she said he seemed quite angry at being       spoke to.\"                                                                                                                                                                                                                                                                                                                                                                                                                                                                                                                                                                                                                                                                                                                                                                                                                                                                                                                                                                                                                                                                                                                                                                                                                                               \n",
       "115  \"Miss Bingley told me,\" said Jane, \"that he never speaks much, unless       among his intimate acquaintances. With them he is remarkably       agreeable.\"                                                                                                                                                                                                                                                                                                                                                                                                                                                                                                                                                                                                                                                                                                                                                                                                                                                                                                                                                                                                                                                                                                                                                                                                                                                         \n",
       "116  \"I do not believe a word of it, my dear. If he had been so very agreeable,       he would have talked to Mrs. Long. But I can guess how it was; everybody       says that he is eat up with pride, and I dare say he had heard somehow       that Mrs. Long does not keep a carriage, and had come to the ball in a       hack chaise.\"                                                                                                                                                                                                                                                                                                                                                                                                                                                                                                                                                                                                                                                                                                                                                                                                                                                                                                                                                                                                                                                                            \n",
       "117  \"I do not mind his not talking to Mrs. Long,\" said Miss Lucas, \"but I wish       he had danced with Eliza.\"                                                                                                                                                                                                                                                                                                                                                                                                                                                                                                                                                                                                                                                                                                                                                                                                                                                                                                                                                                                                                                                                                                                                                                                                                                                                                                        \n",
       "118  \"Another time, Lizzy,\" said her mother, \"I would not dance with him,       if I were you.\"                                                                                                                                                                                                                                                                                                                                                                                                                                                                                                                                                                                                                                                                                                                                                                                                                                                                                                                                                                                                                                                                                                                                                                                                                                                                                                                         \n",
       "119  \"I believe, ma'am, I may safely promise you never to dance with       him.\"                                                                                                                                                                                                                                                                                                                                                                                                                                                                                                                                                                                                                                                                                                                                                                                                                                                                                                                                                                                                                                                                                                                                                                                                                                                                                                                                        \n",
       "120  \"His pride,\" said Miss Lucas, \"does not offend me so much as pride       often does, because there is an excuse for it. One cannot wonder that so       very fine a young man, with family, fortune, everything in his favour,       should think highly of himself. If I may so express it, he has a right       to be proud.\"                                                                                                                                                                                                                                                                                                                                                                                                                                                                                                                                                                                                                                                                                                                                                                                                                                                                                                                                                                                                                                                                                    \n",
       "121  \"That is very true,\" replied Elizabeth, \"and I could easily forgive his       pride, if he had not mortified mine.\"                                                                                                                                                                                                                                                                                                                                                                                                                                                                                                                                                                                                                                                                                                                                                                                                                                                                                                                                                                                                                                                                                                                                                                                                                                                                                                \n",
       "122  \"Pride,\" observed Mary, who piqued herself upon the solidity of her       reflections, \"is a very common failing, I believe. By all that I have ever       read, I am convinced that it is very common indeed; that human nature is       particularly prone to it, and that there are very few of us who do not       cherish a feeling of self-complacency on the score of some quality or       other, real or imaginary. Vanity and pride are different things, though       the words are often used synonymously. A person may be proud without being       vain. Pride relates more to our opinion of ourselves, vanity to what we       would have others think of us.\"                                                                                                                                                                                                                                                                                                                                                                                                                                                                                                                                                                                                                                                                                                                                    \n",
       "123  \"If I were as rich as Mr. Darcy,\" cried a young Lucas, who came with his       sisters, \"I should not care how proud I was. I would keep a pack of       foxhounds, and drink a bottle of wine a day.\"                                                                                                                                                                                                                                                                                                                                                                                                                                                                                                                                                                                                                                                                                                                                                                                                                                                                                                                                                                                                                                                                                                                                                                                                             \n",
       "124  \"Then you would drink a great deal more than you ought,\" said Mrs. Bennet;       \"and if I were to see you at it, I should take away your bottle directly.\"                                                                                                                                                                                                                                                                                                                                                                                                                                                                                                                                                                                                                                                                                                                                                                                                                                                                                                                                                                                                                                                                                                                                                                                                                                                        \n",
       "125  The boy protested that she should not; she continued to declare that she       would, and the argument ended only with the visit.                                                                                                                                                                                                                                                                                                                                                                                                                                                                                                                                                                                                                                                                                                                                                                                                                                                                                                                                                                                                                                                                                                                                                                                                                                                                                  \n",
       "126  Chapter 6                                                                                                                                                                                                                                                                                                                                                                                                                                                                                                                                                                                                                                                                                                                                                                                                                                                                                                                                                                                                                                                                                                                                                                                                                                                                                                                                                                                                          \n",
       "127  The ladies of Longbourn soon waited on those of Netherfield. The visit was       soon returned in due form. Miss Bennet's pleasing manners grew on the       goodwill of Mrs. Hurst and Miss Bingley; and though the mother was found       to be intolerable, and the younger sisters not worth speaking to, a wish       of being better acquainted with them was expressed towards the two       eldest. By Jane, this attention was received with the greatest pleasure,       but Elizabeth still saw superciliousness in their treatment of everybody,       hardly excepting even her sister, and could not like them; though their       kindness to Jane, such as it was, had a value as arising in all       probability from the influence of their brother's admiration. It was       generally evident whenever they met, that he did admire her and to       her it was equally evident that Jane was yielding to the preference       which she had begun to entertain for him from the first, and was in a way       to be very much in love; but she considered with pleasure that it was not       likely to be discovered by the world in general, since Jane united, with       great strength of feeling, a composure of temper and a uniform       cheerfulness of manner which would guard her from the suspicions of the       impertinent. She mentioned this to her friend Miss Lucas.   \n",
       "128  \"It may perhaps be pleasant,\" replied Charlotte, \"to be able to impose on       the public in such a case; but it is sometimes a disadvantage to be so       very guarded. If a woman conceals her affection with the same skill from       the object of it, she may lose the opportunity of fixing him; and it will       then be but poor consolation to believe the world equally in the dark.       There is so much of gratitude or vanity in almost every attachment, that       it is not safe to leave any to itself. We can all begin freely—a       slight preference is natural enough; but there are very few of us who have       heart enough to be really in love without encouragement. In nine cases out       of ten a women had better show more affection than she feels.       Bingley likes your sister undoubtedly; but he may never do more than like       her, if she does not help him on.\"                                                                                                                                                                                                                                                                                                                                                                                                                                                                                            \n",
       "129  \"But she does help him on, as much as her nature will allow. If I can       perceive her regard for him, he must be a simpleton, indeed, not to       discover it too.\"                                                                                                                                                                                                                                                                                                                                                                                                                                                                                                                                                                                                                                                                                                                                                                                                                                                                                                                                                                                                                                                                                                                                                                                                                                            \n",
       "130  \"Remember, Eliza, that he does not know Jane's disposition as you do.\"                                                                                                                                                                                                                                                                                                                                                                                                                                                                                                                                                                                                                                                                                                                                                                                                                                                                                                                                                                                                                                                                                                                                                                                                                                                                                                                                             \n",
       "131  \"But if a woman is partial to a man, and does not endeavour to conceal it,       he must find it out.\"                                                                                                                                                                                                                                                                                                                                                                                                                                                                                                                                                                                                                                                                                                                                                                                                                                                                                                                                                                                                                                                                                                                                                                                                                                                                                                             \n",
       "132  \"Perhaps he must, if he sees enough of her. But, though Bingley and Jane       meet tolerably often, it is never for many hours together; and, as they       always see each other in large mixed parties, it is impossible that every       moment should be employed in conversing together. Jane should therefore       make the most of every half-hour in which she can command his attention.       When she is secure of him, there will be more leisure for falling in love       as much as she chooses.\"                                                                                                                                                                                                                                                                                                                                                                                                                                                                                                                                                                                                                                                                                                                                                                                                                                                                                                 \n",
       "133  \"Your plan is a good one,\" replied Elizabeth, \"where nothing is in       question but the desire of being well married, and if I were determined to       get a rich husband, or any husband, I dare say I should adopt it. But       these are not Jane's feelings; she is not acting by design. As yet, she       cannot even be certain of the degree of her own regard nor of its       reasonableness. She has known him only a fortnight. She danced four dances       with him at Meryton; she saw him one morning at his own house, and has       since dined with him in company four times. This is not quite enough to       make her understand his character.\"                                                                                                                                                                                                                                                                                                                                                                                                                                                                                                                                                                                                                                                                                                                                        \n",
       "134  \"Not as you represent it. Had she merely dined with him, she might       only have discovered whether he had a good appetite; but you must remember       that four evenings have also been spent together—and four evenings       may do a great deal.\"                                                                                                                                                                                                                                                                                                                                                                                                                                                                                                                                                                                                                                                                                                                                                                                                                                                                                                                                                                                                                                                                                                                                                           \n",
       "135  \"Yes; these four evenings have enabled them to ascertain that they both       like Vingt-un better than Commerce; but with respect to any other leading       characteristic, I do not imagine that much has been unfolded.\"                                                                                                                                                                                                                                                                                                                                                                                                                                                                                                                                                                                                                                                                                                                                                                                                                                                                                                                                                                                                                                                                                                                                                                                       \n",
       "136  \"Well,\" said Charlotte, \"I wish Jane success with all my heart; and if she       were married to him to-morrow, I should think she had as good a chance of       happiness as if she were to be studying his character for a twelvemonth.       Happiness in marriage is entirely a matter of chance. If the dispositions       of the parties are ever so well known to each other or ever so similar       beforehand, it does not advance their felicity in the least. They always       continue to grow sufficiently unlike afterwards to have their share of       vexation; and it is better to know as little as possible of the defects of       the person with whom you are to pass your life.\"                                                                                                                                                                                                                                                                                                                                                                                                                                                                                                                                                                                                                                                                                                         \n",
       "137  \"You make me laugh, Charlotte; but it is not sound. You know it is not       sound, and that you would never act in this way yourself.\"                                                                                                                                                                                                                                                                                                                                                                                                                                                                                                                                                                                                                                                                                                                                                                                                                                                                                                                                                                                                                                                                                                                                                                                                                                                                            \n",
       "138  Occupied in observing Mr. Bingley's attentions to her sister, Elizabeth       was far from suspecting that she was herself becoming an object of some       interest in the eyes of his friend. Mr. Darcy had at first scarcely       allowed her to be pretty; he had looked at her without admiration at the       ball; and when they next met, he looked at her only to criticise. But no       sooner had he made it clear to himself and his friends that she hardly had       a good feature in her face, than he began to find it was rendered       uncommonly intelligent by the beautiful expression of her dark eyes. To       this discovery succeeded some others equally mortifying. Though he had       detected with a critical eye more than one failure of perfect symmetry in       her form, he was forced to acknowledge her figure to be light and       pleasing; and in spite of his asserting that her manners were not those of       the fashionable world, he was caught by their easy playfulness. Of this       she was perfectly unaware; to her he was only the man who made himself       agreeable nowhere, and who had not thought her handsome enough to dance       with.                                                                                                                                                                                                    \n",
       "139  He began to wish to know more of her, and as a step towards conversing       with her himself, attended to her conversation with others. His doing so       drew her notice. It was at Sir William Lucas's, where a large party were       assembled.                                                                                                                                                                                                                                                                                                                                                                                                                                                                                                                                                                                                                                                                                                                                                                                                                                                                                                                                                                                                                                                                                                                                                              \n",
       "140  \"What does Mr. Darcy mean,\" said she to Charlotte, \"by listening to my       conversation with Colonel Forster?\"                                                                                                                                                                                                                                                                                                                                                                                                                                                                                                                                                                                                                                                                                                                                                                                                                                                                                                                                                                                                                                                                                                                                                                                                                                                                                                   \n",
       "141  \"That is a question which Mr. Darcy only can answer.\"                                                                                                                                                                                                                                                                                                                                                                                                                                                                                                                                                                                                                                                                                                                                                                                                                                                                                                                                                                                                                                                                                                                                                                                                                                                                                                                                                              \n",
       "142  \"But if he does it any more I shall certainly let him know that I see what       he is about. He has a very satirical eye, and if I do not begin by being       impertinent myself, I shall soon grow afraid of him.\"                                                                                                                                                                                                                                                                                                                                                                                                                                                                                                                                                                                                                                                                                                                                                                                                                                                                                                                                                                                                                                                                                                                                                                                              \n",
       "143  On his approaching them soon afterwards, though without seeming to have       any intention of speaking, Miss Lucas defied her friend to mention such a       subject to him; which immediately provoking Elizabeth to do it, she turned       to him and said:                                                                                                                                                                                                                                                                                                                                                                                                                                                                                                                                                                                                                                                                                                                                                                                                                                                                                                                                                                                                                                                                                                                                                    \n",
       "144  \"Did you not think, Mr. Darcy, that I expressed myself uncommonly well       just now, when I was teasing Colonel Forster to give us a ball at       Meryton?\"                                                                                                                                                                                                                                                                                                                                                                                                                                                                                                                                                                                                                                                                                                                                                                                                                                                                                                                                                                                                                                                                                                                                                                                                                                                     \n",
       "145  \"With great energy; but it is always a subject which makes a lady       energetic.\"                                                                                                                                                                                                                                                                                                                                                                                                                                                                                                                                                                                                                                                                                                                                                                                                                                                                                                                                                                                                                                                                                                                                                                                                                                                                                                                                \n",
       "146  \"You are severe on us.\"                                                                                                                                                                                                                                                                                                                                                                                                                                                                                                                                                                                                                                                                                                                                                                                                                                                                                                                                                                                                                                                                                                                                                                                                                                                                                                                                                                                            \n",
       "147  \"It will be her turn soon to be teased,\" said Miss Lucas. \"I am       going to open the instrument, Eliza, and you know what follows.\"                                                                                                                                                                                                                                                                                                                                                                                                                                                                                                                                                                                                                                                                                                                                                                                                                                                                                                                                                                                                                                                                                                                                                                                                                                                                             \n",
       "148  \"You are a very strange creature by way of a friend!—always wanting       me to play and sing before anybody and everybody! If my vanity had taken a       musical turn, you would have been invaluable; but as it is, I would really       rather not sit down before those who must be in the habit of hearing the       very best performers.\" On Miss Lucas's persevering, however, she added,       \"Very well, if it must be so, it must.\" And gravely glancing at Mr. Darcy,       \"There is a fine old saying, which everybody here is of course familiar       with: 'Keep your breath to cool your porridge'; and I shall keep mine to       swell my song.\"                                                                                                                                                                                                                                                                                                                                                                                                                                                                                                                                                                                                                                                                                                                                             \n",
       "149  Her performance was pleasing, though by no means capital. After a song or       two, and before she could reply to the entreaties of several that she       would sing again, she was eagerly succeeded at the instrument by her       sister Mary, who having, in consequence of being the only plain one in the       family, worked hard for knowledge and accomplishments, was always       impatient for display.                                                                                                                                                                                                                                                                                                                                                                                                                                                                                                                                                                                                                                                                                                                                                                                                                                                                                                                                                                                             \n",
       "150  Mary had neither genius nor taste; and though vanity had given her       application, it had given her likewise a pedantic air and conceited       manner, which would have injured a higher degree of excellence than she       had reached. Elizabeth, easy and unaffected, had been listened to with       much more pleasure, though not playing half so well; and Mary, at the end       of a long concerto, was glad to purchase praise and gratitude by Scotch       and Irish airs, at the request of her younger sisters, who, with some of       the Lucases, and two or three officers, joined eagerly in dancing at one       end of the room.                                                                                                                                                                                                                                                                                                                                                                                                                                                                                                                                                                                                                                                                                                                                                         \n",
       "151  Mr. Darcy stood near them in silent indignation at such a mode of passing       the evening, to the exclusion of all conversation, and was too much       engrossed by his thoughts to perceive that Sir William Lucas was his       neighbour, till Sir William thus began:                                                                                                                                                                                                                                                                                                                                                                                                                                                                                                                                                                                                                                                                                                                                                                                                                                                                                                                                                                                                                                                                                                                                       \n",
       "152  \"What a charming amusement for young people this is, Mr. Darcy! There is       nothing like dancing after all. I consider it as one of the first       refinements of polished society.\"                                                                                                                                                                                                                                                                                                                                                                                                                                                                                                                                                                                                                                                                                                                                                                                                                                                                                                                                                                                                                                                                                                                                                                                                                           \n",
       "153  \"Certainly, sir; and it has the advantage also of being in vogue amongst       the less polished societies of the world. Every savage can dance.\"                                                                                                                                                                                                                                                                                                                                                                                                                                                                                                                                                                                                                                                                                                                                                                                                                                                                                                                                                                                                                                                                                                                                                                                                                                                                  \n",
       "154  Sir William only smiled. \"Your friend performs delightfully,\" he continued       after a pause, on seeing Bingley join the group; \"and I doubt not that you       are an adept in the science yourself, Mr. Darcy.\"                                                                                                                                                                                                                                                                                                                                                                                                                                                                                                                                                                                                                                                                                                                                                                                                                                                                                                                                                                                                                                                                                                                                                                                                \n",
       "155  \"You saw me dance at Meryton, I believe, sir.\"                                                                                                                                                                                                                                                                                                                                                                                                                                                                                                                                                                                                                                                                                                                                                                                                                                                                                                                                                                                                                                                                                                                                                                                                                                                                                                                                                                     \n",
       "156  \"Yes, indeed, and received no inconsiderable pleasure from the sight. Do       you often dance at St. James's?\"                                                                                                                                                                                                                                                                                                                                                                                                                                                                                                                                                                                                                                                                                                                                                                                                                                                                                                                                                                                                                                                                                                                                                                                                                                                                                                    \n",
       "157  \"Never, sir.\"                                                                                                                                                                                                                                                                                                                                                                                                                                                                                                                                                                                                                                                                                                                                                                                                                                                                                                                                                                                                                                                                                                                                                                                                                                                                                                                                                                                                      \n",
       "158  \"Do you not think it would be a proper compliment to the place?\"                                                                                                                                                                                                                                                                                                                                                                                                                                                                                                                                                                                                                                                                                                                                                                                                                                                                                                                                                                                                                                                                                                                                                                                                                                                                                                                                                   \n",
       "159  \"It is a compliment which I never pay to any place if I can avoid it.\"                                                                                                                                                                                                                                                                                                                                                                                                                                                                                                                                                                                                                                                                                                                                                                                                                                                                                                                                                                                                                                                                                                                                                                                                                                                                                                                                             \n",
       "160  \"You have a house in town, I conclude?\"                                                                                                                                                                                                                                                                                                                                                                                                                                                                                                                                                                                                                                                                                                                                                                                                                                                                                                                                                                                                                                                                                                                                                                                                                                                                                                                                                                            \n",
       "161  Mr. Darcy bowed.                                                                                                                                                                                                                                                                                                                                                                                                                                                                                                                                                                                                                                                                                                                                                                                                                                                                                                                                                                                                                                                                                                                                                                                                                                                                                                                                                                                                   \n",
       "162  \"I had once had some thought of fixing in town myself—for I am fond       of superior society; but I did not feel quite certain that the air of       London would agree with Lady Lucas.\"                                                                                                                                                                                                                                                                                                                                                                                                                                                                                                                                                                                                                                                                                                                                                                                                                                                                                                                                                                                                                                                                                                                                                                                                                         \n",
       "163  He paused in hopes of an answer; but his companion was not disposed to       make any; and Elizabeth at that instant moving towards them, he was struck       with the action of doing a very gallant thing, and called out to her:                                                                                                                                                                                                                                                                                                                                                                                                                                                                                                                                                                                                                                                                                                                                                                                                                                                                                                                                                                                                                                                                                                                                                                                \n",
       "164  \"My dear Miss Eliza, why are you not dancing? Mr. Darcy, you must allow me       to present this young lady to you as a very desirable partner. You cannot       refuse to dance, I am sure when so much beauty is before you.\" And, taking       her hand, he would have given it to Mr. Darcy who, though extremely       surprised, was not unwilling to receive it, when she instantly drew back,       and said with some discomposure to Sir William:                                                                                                                                                                                                                                                                                                                                                                                                                                                                                                                                                                                                                                                                                                                                                                                                                                                                                                                                                        \n",
       "165  \"Indeed, sir, I have not the least intention of dancing. I entreat you not       to suppose that I moved this way in order to beg for a partner.\"                                                                                                                                                                                                                                                                                                                                                                                                                                                                                                                                                                                                                                                                                                                                                                                                                                                                                                                                                                                                                                                                                                                                                                                                                                                                  \n",
       "166  Mr. Darcy, with grave propriety, requested to be allowed the honour of her       hand, but in vain. Elizabeth was determined; nor did Sir William at all       shake her purpose by his attempt at persuasion.                                                                                                                                                                                                                                                                                                                                                                                                                                                                                                                                                                                                                                                                                                                                                                                                                                                                                                                                                                                                                                                                                                                                                                                                     \n",
       "167  \"You excel so much in the dance, Miss Eliza, that it is cruel to deny me       the happiness of seeing you; and though this gentleman dislikes the       amusement in general, he can have no objection, I am sure, to oblige us       for one half-hour.\"                                                                                                                                                                                                                                                                                                                                                                                                                                                                                                                                                                                                                                                                                                                                                                                                                                                                                                                                                                                                                                                                                                                                                         \n",
       "168  \"Mr. Darcy is all politeness,\" said Elizabeth, smiling.                                                                                                                                                                                                                                                                                                                                                                                                                                                                                                                                                                                                                                                                                                                                                                                                                                                                                                                                                                                                                                                                                                                                                                                                                                                                                                                                                            \n",
       "169  \"He is, indeed; but, considering the inducement, my dear Miss Eliza, we       cannot wonder at his complaisance—for who would object to such a       partner?\"                                                                                                                                                                                                                                                                                                                                                                                                                                                                                                                                                                                                                                                                                                                                                                                                                                                                                                                                                                                                                                                                                                                                                                                                                                                     \n",
       "170  Elizabeth looked archly, and turned away. Her resistance had not injured       her with the gentleman, and he was thinking of her with some complacency,       when thus accosted by Miss Bingley:                                                                                                                                                                                                                                                                                                                                                                                                                                                                                                                                                                                                                                                                                                                                                                                                                                                                                                                                                                                                                                                                                                                                                                                                                 \n",
       "171  \"I can guess the subject of your reverie.\"                                                                                                                                                                                                                                                                                                                                                                                                                                                                                                                                                                                                                                                                                                                                                                                                                                                                                                                                                                                                                                                                                                                                                                                                                                                                                                                                                                         \n",
       "172  \"I should imagine not.\"                                                                                                                                                                                                                                                                                                                                                                                                                                                                                                                                                                                                                                                                                                                                                                                                                                                                                                                                                                                                                                                                                                                                                                                                                                                                                                                                                                                            \n",
       "173  \"You are considering how insupportable it would be to pass many evenings       in this manner—in such society; and indeed I am quite of your       opinion. I was never more annoyed! The insipidity, and yet the noise—the       nothingness, and yet the self-importance of all those people! What would I       give to hear your strictures on them!\"                                                                                                                                                                                                                                                                                                                                                                                                                                                                                                                                                                                                                                                                                                                                                                                                                                                                                                                                                                                                                                                          \n",
       "174  \"Your conjecture is totally wrong, I assure you. My mind was more       agreeably engaged. I have been meditating on the very great pleasure which       a pair of fine eyes in the face of a pretty woman can bestow.\"                                                                                                                                                                                                                                                                                                                                                                                                                                                                                                                                                                                                                                                                                                                                                                                                                                                                                                                                                                                                                                                                                                                                                                                            \n",
       "175  Miss Bingley immediately fixed her eyes on his face, and desired he would       tell her what lady had the credit of inspiring such reflections. Mr. Darcy       replied with great intrepidity:                                                                                                                                                                                                                                                                                                                                                                                                                                                                                                                                                                                                                                                                                                                                                                                                                                                                                                                                                                                                                                                                                                                                                                                                                   \n",
       "176  \"Miss Elizabeth Bennet.\"                                                                                                                                                                                                                                                                                                                                                                                                                                                                                                                                                                                                                                                                                                                                                                                                                                                                                                                                                                                                                                                                                                                                                                                                                                                                                                                                                                                           \n",
       "177  \"Miss Elizabeth Bennet!\" repeated Miss Bingley. \"I am all astonishment.       How long has she been such a favourite?—and pray, when am I to wish       you joy?\"                                                                                                                                                                                                                                                                                                                                                                                                                                                                                                                                                                                                                                                                                                                                                                                                                                                                                                                                                                                                                                                                                                                                                                                                                                                  \n",
       "178  \"That is exactly the question which I expected you to ask. A lady's       imagination is very rapid; it jumps from admiration to love, from love to       matrimony, in a moment. I knew you would be wishing me joy.\"                                                                                                                                                                                                                                                                                                                                                                                                                                                                                                                                                                                                                                                                                                                                                                                                                                                                                                                                                                                                                                                                                                                                                                                             \n",
       "179  \"Nay, if you are serious about it, I shall consider the matter is       absolutely settled. You will be having a charming mother-in-law, indeed;       and, of course, she will always be at Pemberley with you.\"                                                                                                                                                                                                                                                                                                                                                                                                                                                                                                                                                                                                                                                                                                                                                                                                                                                                                                                                                                                                                                                                                                                                                                                                  \n",
       "180  He listened to her with perfect indifference while she chose to entertain       herself in this manner; and as his composure convinced her that all was       safe, her wit flowed long.                                                                                                                                                                                                                                                                                                                                                                                                                                                                                                                                                                                                                                                                                                                                                                                                                                                                                                                                                                                                                                                                                                                                                                                                                           \n",
       "181  Chapter 7                                                                                                                                                                                                                                                                                                                                                                                                                                                                                                                                                                                                                                                                                                                                                                                                                                                                                                                                                                                                                                                                                                                                                                                                                                                                                                                                                                                                          \n",
       "182  Mr. Bennet's property consisted almost entirely in an estate of two       thousand a year, which, unfortunately for his daughters, was entailed, in       default of heirs male, on a distant relation; and their mother's fortune,       though ample for her situation in life, could but ill supply the       deficiency of his. Her father had been an attorney in Meryton, and had       left her four thousand pounds.                                                                                                                                                                                                                                                                                                                                                                                                                                                                                                                                                                                                                                                                                                                                                                                                                                                                                                                                                                                       \n",
       "183  She had a sister married to a Mr. Phillips, who had been a clerk to their       father and succeeded him in the business, and a brother settled in London       in a respectable line of trade.                                                                                                                                                                                                                                                                                                                                                                                                                                                                                                                                                                                                                                                                                                                                                                                                                                                                                                                                                                                                                                                                                                                                                                                                                    \n",
       "184  The village of Longbourn was only one mile from Meryton; a most convenient       distance for the young ladies, who were usually tempted thither three or       four times a week, to pay their duty to their aunt and to a milliner's       shop just over the way. The two youngest of the family, Catherine and       Lydia, were particularly frequent in these attentions; their minds were       more vacant than their sisters', and when nothing better offered, a walk       to Meryton was necessary to amuse their morning hours and furnish       conversation for the evening; and however bare of news the country in       general might be, they always contrived to learn some from their aunt. At       present, indeed, they were well supplied both with news and happiness by       the recent arrival of a militia regiment in the neighbourhood; it was to       remain the whole winter, and Meryton was the headquarters.                                                                                                                                                                                                                                                                                                                                                                                                                                                                 \n",
       "185  Their visits to Mrs. Phillips were now productive of the most interesting       intelligence. Every day added something to their knowledge of the       officers' names and connections. Their lodgings were not long a secret,       and at length they began to know the officers themselves. Mr. Phillips       visited them all, and this opened to his nieces a store of felicity       unknown before. They could talk of nothing but officers; and Mr. Bingley's       large fortune, the mention of which gave animation to their mother, was       worthless in their eyes when opposed to the regimentals of an ensign.                                                                                                                                                                                                                                                                                                                                                                                                                                                                                                                                                                                                                                                                                                                                                                                  \n",
       "186  After listening one morning to their effusions on this subject, Mr. Bennet       coolly observed:                                                                                                                                                                                                                                                                                                                                                                                                                                                                                                                                                                                                                                                                                                                                                                                                                                                                                                                                                                                                                                                                                                                                                                                                                                                                                                                  \n",
       "187  \"From all that I can collect by your manner of talking, you must be two of       the silliest girls in the country. I have suspected it some time, but I am       now convinced.\"                                                                                                                                                                                                                                                                                                                                                                                                                                                                                                                                                                                                                                                                                                                                                                                                                                                                                                                                                                                                                                                                                                                                                                                                                                  \n",
       "188  Catherine was disconcerted, and made no answer; but Lydia, with perfect       indifference, continued to express her admiration of Captain Carter, and       her hope of seeing him in the course of the day, as he was going the next       morning to London.                                                                                                                                                                                                                                                                                                                                                                                                                                                                                                                                                                                                                                                                                                                                                                                                                                                                                                                                                                                                                                                                                                                                                    \n",
       "189  \"I am astonished, my dear,\" said Mrs. Bennet, \"that you should be so ready       to think your own children silly. If I wished to think slightingly of       anybody's children, it should not be of my own, however.\"                                                                                                                                                                                                                                                                                                                                                                                                                                                                                                                                                                                                                                                                                                                                                                                                                                                                                                                                                                                                                                                                                                                                                                                             \n",
       "190  \"If my children are silly, I must hope to be always sensible of it.\"                                                                                                                                                                                                                                                                                                                                                                                                                                                                                                                                                                                                                                                                                                                                                                                                                                                                                                                                                                                                                                                                                                                                                                                                                                                                                                                                               \n",
       "191  \"Yes—but as it happens, they are all of them very clever.\"                                                                                                                                                                                                                                                                                                                                                                                                                                                                                                                                                                                                                                                                                                                                                                                                                                                                                                                                                                                                                                                                                                                                                                                                                                                                                                                                                         \n",
       "192  \"This is the only point, I flatter myself, on which we do not agree. I had       hoped that our sentiments coincided in every particular, but I must so far       differ from you as to think our two youngest daughters uncommonly       foolish.\"                                                                                                                                                                                                                                                                                                                                                                                                                                                                                                                                                                                                                                                                                                                                                                                                                                                                                                                                                                                                                                                                                                                                                                \n",
       "193  \"My dear Mr. Bennet, you must not expect such girls to have the sense of       their father and mother. When they get to our age, I dare say they will       not think about officers any more than we do. I remember the time when I       liked a red coat myself very well—and, indeed, so I do still at my       heart; and if a smart young colonel, with five or six thousand a year,       should want one of my girls I shall not say nay to him; and I thought       Colonel Forster looked very becoming the other night at Sir William's in       his regimentals.\"                                                                                                                                                                                                                                                                                                                                                                                                                                                                                                                                                                                                                                                                                                                                                                                                                                     \n",
       "194  \"Mamma,\" cried Lydia, \"my aunt says that Colonel Forster and Captain       Carter do not go so often to Miss Watson's as they did when they first       came; she sees them now very often standing in Clarke's library.\"                                                                                                                                                                                                                                                                                                                                                                                                                                                                                                                                                                                                                                                                                                                                                                                                                                                                                                                                                                                                                                                                                                                                                                                          \n",
       "195  Mrs. Bennet was prevented replying by the entrance of the footman with a       note for Miss Bennet; it came from Netherfield, and the servant waited for       an answer. Mrs. Bennet's eyes sparkled with pleasure, and she was eagerly       calling out, while her daughter read,                                                                                                                                                                                                                                                                                                                                                                                                                                                                                                                                                                                                                                                                                                                                                                                                                                                                                                                                                                                                                                                                                                                              \n",
       "196  \"Well, Jane, who is it from? What is it about? What does he say? Well,       Jane, make haste and tell us; make haste, my love.\"                                                                                                                                                                                                                                                                                                                                                                                                                                                                                                                                                                                                                                                                                                                                                                                                                                                                                                                                                                                                                                                                                                                                                                                                                                                                                   \n",
       "197  \"It is from Miss Bingley,\" said Jane, and then read it aloud.                                                                                                                                                                                                                                                                                                                                                                                                                                                                                                                                                                                                                                                                                                                                                                                                                                                                                                                                                                                                                                                                                                                                                                                                                                                                                                                                                      \n",
       "198  \"MY DEAR FRIEND,—                                                                                                                                                                                                                                                                                                                                                                                                                                                                                                                                                                                                                                                                                                                                                                                                                                                                                                                                                                                                                                                                                                                                                                                                                                                                                                                                                                                                  \n",
       "199  \"If you are not so compassionate as to dine to-day with Louisa and me, we       shall be in danger of hating each other for the rest of our lives, for a       whole day's tete-a-tete between two women can never end without a quarrel.       Come as soon as you can on receipt of this. My brother and the gentlemen       are to dine with the officers.—Yours ever,                                                                                                                                                                                                                                                                                                                                                                                                                                                                                                                                                                                                                                                                                                                                                                                                                                                                                                                                                                                                                                          \n",
       "200  \"CAROLINE BINGLEY\"                                                                                                                                                                                                                                                                                                                                                                                                                                                                                                                                                                                                                                                                                                                                                                                                                                                                                                                                                                                                                                                                                                                                                                                                                                                                                                                                                                                                 \n",
       "\n",
       "     num_quotes_up_to_para  num_utterances  \n",
       "100  186                    0               \n",
       "101  186                    0               \n",
       "102  186                    0               \n",
       "103  186                    0               \n",
       "104  186                    0               \n",
       "105  186                    0               \n",
       "106  190                    2               \n",
       "107  192                    1               \n",
       "108  194                    1               \n",
       "109  196                    1               \n",
       "110  198                    1               \n",
       "111  202                    2               \n",
       "112  204                    1               \n",
       "113  208                    2               \n",
       "114  210                    1               \n",
       "115  214                    2               \n",
       "116  216                    1               \n",
       "117  220                    2               \n",
       "118  224                    2               \n",
       "119  226                    1               \n",
       "120  230                    2               \n",
       "121  234                    2               \n",
       "122  238                    2               \n",
       "123  242                    2               \n",
       "124  246                    2               \n",
       "125  246                    0               \n",
       "126  246                    0               \n",
       "127  246                    0               \n",
       "128  250                    2               \n",
       "129  252                    1               \n",
       "130  254                    1               \n",
       "131  256                    1               \n",
       "132  258                    1               \n",
       "133  262                    2               \n",
       "134  264                    1               \n",
       "135  266                    1               \n",
       "136  270                    2               \n",
       "137  272                    1               \n",
       "138  272                    0               \n",
       "139  272                    0               \n",
       "140  276                    2               \n",
       "141  278                    1               \n",
       "142  280                    1               \n",
       "143  280                    0               \n",
       "144  282                    1               \n",
       "145  284                    1               \n",
       "146  286                    1               \n",
       "147  290                    2               \n",
       "148  296                    3               \n",
       "149  296                    0               \n",
       "150  296                    0               \n",
       "151  296                    0               \n",
       "152  298                    1               \n",
       "153  300                    1               \n",
       "154  304                    2               \n",
       "155  306                    1               \n",
       "156  308                    1               \n",
       "157  310                    1               \n",
       "158  312                    1               \n",
       "159  314                    1               \n",
       "160  316                    1               \n",
       "161  316                    0               \n",
       "162  318                    1               \n",
       "163  318                    0               \n",
       "164  320                    1               \n",
       "165  322                    1               \n",
       "166  322                    0               \n",
       "167  324                    1               \n",
       "168  326                    1               \n",
       "169  328                    1               \n",
       "170  328                    0               \n",
       "171  330                    1               \n",
       "172  332                    1               \n",
       "173  334                    1               \n",
       "174  336                    1               \n",
       "175  336                    0               \n",
       "176  338                    1               \n",
       "177  342                    2               \n",
       "178  344                    1               \n",
       "179  346                    1               \n",
       "180  346                    0               \n",
       "181  346                    0               \n",
       "182  346                    0               \n",
       "183  346                    0               \n",
       "184  346                    0               \n",
       "185  346                    0               \n",
       "186  346                    0               \n",
       "187  348                    1               \n",
       "188  348                    0               \n",
       "189  352                    2               \n",
       "190  354                    1               \n",
       "191  356                    1               \n",
       "192  358                    1               \n",
       "193  360                    1               \n",
       "194  364                    2               \n",
       "195  364                    0               \n",
       "196  366                    1               \n",
       "197  368                    1               \n",
       "198  369                    0               \n",
       "199  370                    0               \n",
       "200  372                    1               "
      ]
     },
     "execution_count": 453,
     "metadata": {},
     "output_type": "execute_result"
    }
   ],
   "source": [
    "df.loc[100:200]"
   ]
  },
  {
   "cell_type": "code",
   "execution_count": 1162,
   "metadata": {
    "ExecuteTime": {
     "end_time": "2019-04-30T11:41:39.474187Z",
     "start_time": "2019-04-30T11:41:39.430252Z"
    }
   },
   "outputs": [],
   "source": [
    "def find_utterances_raw(para):\n",
    "    quotes = re.findall('\"([^\"]*)\"', para)\n",
    "    return ['\"' + i + '\"' for i in quotes]\n",
    "\n",
    "def remove_period_from_honorifics(para):\n",
    "    regex = '(Miss.|Mrs.|Mr.|Ms.)'\n",
    "    for i in re.findall(regex, para, flags=re.IGNORECASE):\n",
    "        para = para.replace(i, i[:-1])\n",
    "    return para\n",
    "\n",
    "def replace_narrative_w_mark(sent_list):\n",
    "    new_sent_list = []\n",
    "    for sent in sent_list:\n",
    "        if ((get_num_quotes(sent))%2==0) & ((get_num_quotes(sent)!=0)):\n",
    "            new_sent_list.append(sent)\n",
    "        else:\n",
    "            new_sent_list.append('[N]')\n",
    "    return ' '.join(new_sent_list)\n",
    "\n",
    "def tokenize_para(para):\n",
    "    para = remove_period_from_honorifics(para)\n",
    "#     regex = '((?![.\\s])[^.\"]*(?:\"[^\"]*[^\".]\"[^.\"]*)*(?:\"[^\"]+\\.\"|\\.))'\n",
    "#     regex = '((?![.\\s])[^.\"]*(?:\"[^\"]*[^\".]\"[^.\"]*)*(?:\"[^\"]+\\.\"|\\.|\"[^\"]+\\?\"|\"[^\"]+\\!\"))'\n",
    "    regex = r'((\"[^\"]*\")|([^\"]*))'\n",
    "    results = [i[0] for i in re.findall(regex, para)]\n",
    "    tag_texts = [i for i in results if i]\n",
    "    output_string = replace_narrative_w_mark(tag_texts)\n",
    "    return output_string\n",
    "\n",
    "\n",
    "            "
   ]
  },
  {
   "cell_type": "code",
   "execution_count": 1163,
   "metadata": {
    "ExecuteTime": {
     "end_time": "2019-04-30T11:41:40.058508Z",
     "start_time": "2019-04-30T11:41:40.015916Z"
    }
   },
   "outputs": [
    {
     "name": "stdout",
     "output_type": "stream",
     "text": [
      "\"Come here, child,\" cried her father as she appeared. \"I have sent for you on an affair of importance. I understand that Mr. Collins has made you an offer of marriage. Is it true?\" Elizabeth replied that it was. \"Very well—and this offer of marriage you have refused?\"\n"
     ]
    }
   ],
   "source": [
    "teststring0 = '\"Come here, child,\" cried her father as she appeared. \"I have sent for you on an affair of importance. I understand that Mr. Collins has made you an offer of marriage. Is it true?\" Elizabeth replied that it was. \"Very well—and this offer of marriage you have refused?\"'\n",
    "print(teststring0)"
   ]
  },
  {
   "cell_type": "code",
   "execution_count": 1164,
   "metadata": {
    "ExecuteTime": {
     "end_time": "2019-04-30T11:41:40.431167Z",
     "start_time": "2019-04-30T11:41:40.394066Z"
    }
   },
   "outputs": [
    {
     "data": {
      "text/plain": [
       "'\"Come here, child,\" [N] \"I have sent for you on an affair of importance. I understand that Mr Collins has made you an offer of marriage. Is it true?\" [N] \"Very well—and this offer of marriage you have refused?\"'"
      ]
     },
     "execution_count": 1164,
     "metadata": {},
     "output_type": "execute_result"
    }
   ],
   "source": [
    "tokenize_para(teststring0)"
   ]
  },
  {
   "cell_type": "code",
   "execution_count": 1169,
   "metadata": {
    "ExecuteTime": {
     "end_time": "2019-04-30T11:41:55.563850Z",
     "start_time": "2019-04-30T11:41:55.522327Z"
    }
   },
   "outputs": [
    {
     "name": "stdout",
     "output_type": "stream",
     "text": [
      "\"My dear Mr. Bennet,\" replied his Ms. wife, \"how can you be so tiresome! You must know that I am thinking of his marrying one of them.\"\n"
     ]
    }
   ],
   "source": [
    "teststring1 = '\"My dear Mr. Bennet,\" replied his Ms. wife, \"how can you be so tiresome! You must know that I am thinking of his marrying one of them.\"'\n",
    "print(teststring1)"
   ]
  },
  {
   "cell_type": "code",
   "execution_count": 1170,
   "metadata": {
    "ExecuteTime": {
     "end_time": "2019-04-30T11:41:55.759572Z",
     "start_time": "2019-04-30T11:41:55.719876Z"
    }
   },
   "outputs": [
    {
     "data": {
      "text/plain": [
       "'\"My dear Mr Bennet,\" [N] \"how can you be so tiresome! You must know that I am thinking of his marrying one of them.\"'"
      ]
     },
     "execution_count": 1170,
     "metadata": {},
     "output_type": "execute_result"
    }
   ],
   "source": [
    "tokenize_para(teststring1)"
   ]
  },
  {
   "cell_type": "code",
   "execution_count": 1171,
   "metadata": {
    "ExecuteTime": {
     "end_time": "2019-04-30T11:41:55.987407Z",
     "start_time": "2019-04-30T11:41:55.946565Z"
    }
   },
   "outputs": [
    {
     "data": {
      "text/plain": [
       "['\"My dear Mr. Bennet,\"',\n",
       " '\"how can you be so tiresome! You must know that I am thinking of his marrying one of them.\"']"
      ]
     },
     "execution_count": 1171,
     "metadata": {},
     "output_type": "execute_result"
    }
   ],
   "source": [
    "find_utterances_raw(teststring1)"
   ]
  },
  {
   "cell_type": "code",
   "execution_count": 1172,
   "metadata": {
    "ExecuteTime": {
     "end_time": "2019-04-30T11:41:56.317767Z",
     "start_time": "2019-04-30T11:41:56.278113Z"
    }
   },
   "outputs": [
    {
     "name": "stdout",
     "output_type": "stream",
     "text": [
      "\"My dear Mr. Bennet,\" said his lady to him one day, \"have you heard that Netherfield Park is let at last?\"\n"
     ]
    }
   ],
   "source": [
    "teststring2 = '\"My dear Mr. Bennet,\" said his lady to him one day, \"have you heard that Netherfield Park is let at last?\"'\n",
    "print(teststring2)"
   ]
  },
  {
   "cell_type": "code",
   "execution_count": 1173,
   "metadata": {
    "ExecuteTime": {
     "end_time": "2019-04-30T11:41:56.705890Z",
     "start_time": "2019-04-30T11:41:56.664403Z"
    }
   },
   "outputs": [
    {
     "data": {
      "text/plain": [
       "'\"My dear Mr Bennet,\" [N] \"have you heard that Netherfield Park is let at last?\"'"
      ]
     },
     "execution_count": 1173,
     "metadata": {},
     "output_type": "execute_result"
    }
   ],
   "source": [
    "tokenize_para(teststring2)"
   ]
  },
  {
   "cell_type": "code",
   "execution_count": 1174,
   "metadata": {
    "ExecuteTime": {
     "end_time": "2019-04-30T11:41:57.031393Z",
     "start_time": "2019-04-30T11:41:56.954672Z"
    }
   },
   "outputs": [],
   "source": [
    "df['raw_utter_list'] = df['para'].apply(lambda x: find_utterances_raw(x))"
   ]
  },
  {
   "cell_type": "code",
   "execution_count": 1175,
   "metadata": {
    "ExecuteTime": {
     "end_time": "2019-04-30T11:41:58.783601Z",
     "start_time": "2019-04-30T11:41:58.714623Z"
    }
   },
   "outputs": [],
   "source": [
    "df['tokenized_sent'] = df['para'].apply(lambda x: tokenize_para(x))"
   ]
  },
  {
   "cell_type": "code",
   "execution_count": 1176,
   "metadata": {
    "ExecuteTime": {
     "end_time": "2019-04-30T11:41:59.181345Z",
     "start_time": "2019-04-30T11:41:59.141030Z"
    },
    "scrolled": false
   },
   "outputs": [
    {
     "data": {
      "text/plain": [
       "(2119, 7)"
      ]
     },
     "execution_count": 1176,
     "metadata": {},
     "output_type": "execute_result"
    }
   ],
   "source": [
    "df.shape"
   ]
  },
  {
   "cell_type": "markdown",
   "metadata": {},
   "source": [
    "# Cleaning Manual Labeled CSV"
   ]
  },
  {
   "cell_type": "code",
   "execution_count": 1359,
   "metadata": {
    "ExecuteTime": {
     "end_time": "2019-04-30T12:31:00.968291Z",
     "start_time": "2019-04-30T12:31:00.916437Z"
    }
   },
   "outputs": [],
   "source": [
    "df_labeled = pd.read_csv('../../data/parsed-n-labeled-data/pnp-gutenberg-label-task-pride-and-prejudice-by-jane-austen.csv', index_col=[0])"
   ]
  },
  {
   "cell_type": "code",
   "execution_count": 1360,
   "metadata": {
    "ExecuteTime": {
     "end_time": "2019-04-30T12:31:01.418871Z",
     "start_time": "2019-04-30T12:31:01.373889Z"
    }
   },
   "outputs": [],
   "source": [
    "df_labeled = df_labeled.reset_index()\n",
    "df_labeled.columns = ['para_index', 'tag_old','para', 'position', 'speaker', 'type']"
   ]
  },
  {
   "cell_type": "code",
   "execution_count": 1361,
   "metadata": {
    "ExecuteTime": {
     "end_time": "2019-04-30T12:31:01.632148Z",
     "start_time": "2019-04-30T12:31:01.592661Z"
    }
   },
   "outputs": [],
   "source": [
    "df_labeled['type'] = df_labeled['type'].replace(' c', 'c').replace('c ', 'c').fillna('')"
   ]
  },
  {
   "cell_type": "code",
   "execution_count": 1362,
   "metadata": {
    "ExecuteTime": {
     "end_time": "2019-04-30T12:31:01.834278Z",
     "start_time": "2019-04-30T12:31:01.790294Z"
    }
   },
   "outputs": [
    {
     "data": {
      "text/html": [
       "<div>\n",
       "<style scoped>\n",
       "    .dataframe tbody tr th:only-of-type {\n",
       "        vertical-align: middle;\n",
       "    }\n",
       "\n",
       "    .dataframe tbody tr th {\n",
       "        vertical-align: top;\n",
       "    }\n",
       "\n",
       "    .dataframe thead th {\n",
       "        text-align: right;\n",
       "    }\n",
       "</style>\n",
       "<table border=\"1\" class=\"dataframe\">\n",
       "  <thead>\n",
       "    <tr style=\"text-align: right;\">\n",
       "      <th></th>\n",
       "      <th>para_index</th>\n",
       "      <th>tag_old</th>\n",
       "      <th>para</th>\n",
       "      <th>position</th>\n",
       "      <th>speaker</th>\n",
       "      <th>type</th>\n",
       "    </tr>\n",
       "  </thead>\n",
       "  <tbody>\n",
       "    <tr>\n",
       "      <th>344</th>\n",
       "      <td>344</td>\n",
       "      <td>not</td>\n",
       "      <td>He was silent.</td>\n",
       "      <td>NaN</td>\n",
       "      <td>NaN</td>\n",
       "      <td></td>\n",
       "    </tr>\n",
       "    <tr>\n",
       "      <th>1722</th>\n",
       "      <td>1722</td>\n",
       "      <td>not</td>\n",
       "      <td>Chapter 53</td>\n",
       "      <td>NaN</td>\n",
       "      <td>NaN</td>\n",
       "      <td></td>\n",
       "    </tr>\n",
       "  </tbody>\n",
       "</table>\n",
       "</div>"
      ],
      "text/plain": [
       "      para_index tag_old            para position speaker type\n",
       "344   344         not     He was silent.  NaN      NaN        \n",
       "1722  1722        not     Chapter 53      NaN      NaN        "
      ]
     },
     "execution_count": 1362,
     "metadata": {},
     "output_type": "execute_result"
    }
   ],
   "source": [
    "df_labeled[df_labeled['position'].isnull()]"
   ]
  },
  {
   "cell_type": "code",
   "execution_count": 1363,
   "metadata": {
    "ExecuteTime": {
     "end_time": "2019-04-30T12:31:02.030009Z",
     "start_time": "2019-04-30T12:31:01.987402Z"
    }
   },
   "outputs": [],
   "source": [
    "df_labeled.loc[344, 'position'] = 'n'\n",
    "df_labeled.loc[1722, 'position'] = 'n'"
   ]
  },
  {
   "cell_type": "code",
   "execution_count": 1364,
   "metadata": {
    "ExecuteTime": {
     "end_time": "2019-04-30T12:31:02.250718Z",
     "start_time": "2019-04-30T12:31:02.204840Z"
    }
   },
   "outputs": [],
   "source": [
    "df_labeled['position'] = df_labeled['position'].apply(lambda x: x.lower())"
   ]
  },
  {
   "cell_type": "code",
   "execution_count": 1365,
   "metadata": {
    "ExecuteTime": {
     "end_time": "2019-04-30T12:31:02.428241Z",
     "start_time": "2019-04-30T12:31:02.383021Z"
    }
   },
   "outputs": [
    {
     "data": {
      "text/plain": [
       "para_index    343                                     \n",
       "tag_old       dialogue-F                              \n",
       "para          “How can you contrive to write so even?”\n",
       "position      1                                       \n",
       "speaker       NaN                                     \n",
       "type                                                  \n",
       "Name: 343, dtype: object"
      ]
     },
     "execution_count": 1365,
     "metadata": {},
     "output_type": "execute_result"
    }
   ],
   "source": [
    "df_labeled.loc[343]"
   ]
  },
  {
   "cell_type": "code",
   "execution_count": 1366,
   "metadata": {
    "ExecuteTime": {
     "end_time": "2019-04-30T12:31:02.629685Z",
     "start_time": "2019-04-30T12:31:02.587474Z"
    }
   },
   "outputs": [
    {
     "data": {
      "text/plain": [
       "n    785\n",
       "1    689\n",
       "2    507\n",
       "3    99 \n",
       "4    29 \n",
       "5    8  \n",
       "6    2  \n",
       "Name: position, dtype: int64"
      ]
     },
     "execution_count": 1366,
     "metadata": {},
     "output_type": "execute_result"
    }
   ],
   "source": [
    "df_labeled['position'].value_counts()"
   ]
  },
  {
   "cell_type": "code",
   "execution_count": 1367,
   "metadata": {
    "ExecuteTime": {
     "end_time": "2019-04-30T12:31:02.843566Z",
     "start_time": "2019-04-30T12:31:02.798380Z"
    }
   },
   "outputs": [
    {
     "data": {
      "text/plain": [
       "            1819\n",
       "c           225 \n",
       "letter      71  \n",
       "emphasis    2   \n",
       "quote       2   \n",
       "Name: type, dtype: int64"
      ]
     },
     "execution_count": 1367,
     "metadata": {},
     "output_type": "execute_result"
    }
   ],
   "source": [
    "df_labeled['type'].value_counts()"
   ]
  },
  {
   "cell_type": "code",
   "execution_count": 1368,
   "metadata": {
    "ExecuteTime": {
     "end_time": "2019-04-30T12:31:03.053112Z",
     "start_time": "2019-04-30T12:31:03.008703Z"
    }
   },
   "outputs": [],
   "source": [
    "def recount_convo(type_tag, position_tag):\n",
    "    global convo_count\n",
    "    \n",
    "    if (type_tag == 'c') & (position_tag.lower()!='n'):\n",
    "        convo_count += 1\n",
    "        return 'c_{}'.format(convo_count)\n",
    "    elif (type_tag == '') & (position_tag.lower()!='n'):\n",
    "        return 'c_{}'.format(convo_count)\n",
    "    elif (type_tag == 'letter'):\n",
    "        return 'letter'\n",
    "    elif (type_tag == 'quote'):\n",
    "        return 'quote'\n",
    "    else:\n",
    "        return 'narrative'\n",
    "\n"
   ]
  },
  {
   "cell_type": "code",
   "execution_count": 1369,
   "metadata": {
    "ExecuteTime": {
     "end_time": "2019-04-30T12:31:03.382769Z",
     "start_time": "2019-04-30T12:31:03.286961Z"
    }
   },
   "outputs": [],
   "source": [
    "convo_count = 0\n",
    "df_labeled['new_type_tag'] = df_labeled.apply(lambda row: recount_convo(str(row['type']), str(row['position'])), axis=1)"
   ]
  },
  {
   "cell_type": "code",
   "execution_count": 1370,
   "metadata": {
    "ExecuteTime": {
     "end_time": "2019-04-30T12:31:03.632282Z",
     "start_time": "2019-04-30T12:31:03.583090Z"
    }
   },
   "outputs": [
    {
     "data": {
      "text/html": [
       "<div>\n",
       "<style scoped>\n",
       "    .dataframe tbody tr th:only-of-type {\n",
       "        vertical-align: middle;\n",
       "    }\n",
       "\n",
       "    .dataframe tbody tr th {\n",
       "        vertical-align: top;\n",
       "    }\n",
       "\n",
       "    .dataframe thead th {\n",
       "        text-align: right;\n",
       "    }\n",
       "</style>\n",
       "<table border=\"1\" class=\"dataframe\">\n",
       "  <thead>\n",
       "    <tr style=\"text-align: right;\">\n",
       "      <th></th>\n",
       "      <th>para_index</th>\n",
       "      <th>tag_old</th>\n",
       "      <th>para</th>\n",
       "      <th>position</th>\n",
       "      <th>speaker</th>\n",
       "      <th>type</th>\n",
       "      <th>new_type_tag</th>\n",
       "    </tr>\n",
       "  </thead>\n",
       "  <tbody>\n",
       "    <tr>\n",
       "      <th>0</th>\n",
       "      <td>0</td>\n",
       "      <td>not</td>\n",
       "      <td>By Jane Austen</td>\n",
       "      <td>n</td>\n",
       "      <td>NaN</td>\n",
       "      <td></td>\n",
       "      <td>narrative</td>\n",
       "    </tr>\n",
       "    <tr>\n",
       "      <th>1</th>\n",
       "      <td>1</td>\n",
       "      <td>not</td>\n",
       "      <td>Chapter 1</td>\n",
       "      <td>n</td>\n",
       "      <td>NaN</td>\n",
       "      <td></td>\n",
       "      <td>narrative</td>\n",
       "    </tr>\n",
       "    <tr>\n",
       "      <th>2</th>\n",
       "      <td>2</td>\n",
       "      <td>not</td>\n",
       "      <td>It is a truth universally acknowledged, that a single man in possession of      a good fortune, must be in want of a wife.</td>\n",
       "      <td>n</td>\n",
       "      <td>NaN</td>\n",
       "      <td></td>\n",
       "      <td>narrative</td>\n",
       "    </tr>\n",
       "    <tr>\n",
       "      <th>3</th>\n",
       "      <td>3</td>\n",
       "      <td>not</td>\n",
       "      <td>However little known the feelings or views of such a man may be on his      first entering a neighbourhood, this truth is so well fixed in the minds      of the surrounding families, that he is considered the rightful property      of some one or other of their daughters.</td>\n",
       "      <td>n</td>\n",
       "      <td>NaN</td>\n",
       "      <td></td>\n",
       "      <td>narrative</td>\n",
       "    </tr>\n",
       "    <tr>\n",
       "      <th>4</th>\n",
       "      <td>4</td>\n",
       "      <td>dialogue-F</td>\n",
       "      <td>“My dear Mr. Bennet,” said his lady to him one day, “have you heard that      Netherfield Park is let at last?”</td>\n",
       "      <td>1</td>\n",
       "      <td>mother</td>\n",
       "      <td>c</td>\n",
       "      <td>c_1</td>\n",
       "    </tr>\n",
       "    <tr>\n",
       "      <th>5</th>\n",
       "      <td>5</td>\n",
       "      <td>not</td>\n",
       "      <td>Mr. Bennet replied that he had not.</td>\n",
       "      <td>n</td>\n",
       "      <td>NaN</td>\n",
       "      <td></td>\n",
       "      <td>narrative</td>\n",
       "    </tr>\n",
       "    <tr>\n",
       "      <th>6</th>\n",
       "      <td>6</td>\n",
       "      <td>dialogue-F</td>\n",
       "      <td>“But it is,” returned she; “for Mrs. Long has just been here, and she told      me all about it.”</td>\n",
       "      <td>1</td>\n",
       "      <td>mother</td>\n",
       "      <td></td>\n",
       "      <td>c_1</td>\n",
       "    </tr>\n",
       "    <tr>\n",
       "      <th>7</th>\n",
       "      <td>7</td>\n",
       "      <td>not</td>\n",
       "      <td>Mr. Bennet made no answer.</td>\n",
       "      <td>n</td>\n",
       "      <td>NaN</td>\n",
       "      <td></td>\n",
       "      <td>narrative</td>\n",
       "    </tr>\n",
       "    <tr>\n",
       "      <th>8</th>\n",
       "      <td>8</td>\n",
       "      <td>dialogue-F</td>\n",
       "      <td>“Do you not want to know who has taken it?” cried his wife impatiently.</td>\n",
       "      <td>1</td>\n",
       "      <td>mother</td>\n",
       "      <td></td>\n",
       "      <td>c_1</td>\n",
       "    </tr>\n",
       "    <tr>\n",
       "      <th>9</th>\n",
       "      <td>9</td>\n",
       "      <td>dialogue-F</td>\n",
       "      <td>“You want to tell me, and I have no objection to hearing it.”</td>\n",
       "      <td>2</td>\n",
       "      <td>father</td>\n",
       "      <td></td>\n",
       "      <td>c_1</td>\n",
       "    </tr>\n",
       "  </tbody>\n",
       "</table>\n",
       "</div>"
      ],
      "text/plain": [
       "   para_index     tag_old  \\\n",
       "0  0           not          \n",
       "1  1           not          \n",
       "2  2           not          \n",
       "3  3           not          \n",
       "4  4           dialogue-F   \n",
       "5  5           not          \n",
       "6  6           dialogue-F   \n",
       "7  7           not          \n",
       "8  8           dialogue-F   \n",
       "9  9           dialogue-F   \n",
       "\n",
       "                                                                                                                                                                                                                                                                               para  \\\n",
       "0  By Jane Austen                                                                                                                                                                                                                                                                     \n",
       "1  Chapter 1                                                                                                                                                                                                                                                                          \n",
       "2  It is a truth universally acknowledged, that a single man in possession of      a good fortune, must be in want of a wife.                                                                                                                                                         \n",
       "3  However little known the feelings or views of such a man may be on his      first entering a neighbourhood, this truth is so well fixed in the minds      of the surrounding families, that he is considered the rightful property      of some one or other of their daughters.   \n",
       "4  “My dear Mr. Bennet,” said his lady to him one day, “have you heard that      Netherfield Park is let at last?”                                                                                                                                                                    \n",
       "5  Mr. Bennet replied that he had not.                                                                                                                                                                                                                                                \n",
       "6  “But it is,” returned she; “for Mrs. Long has just been here, and she told      me all about it.”                                                                                                                                                                                  \n",
       "7  Mr. Bennet made no answer.                                                                                                                                                                                                                                                         \n",
       "8  “Do you not want to know who has taken it?” cried his wife impatiently.                                                                                                                                                                                                            \n",
       "9  “You want to tell me, and I have no objection to hearing it.”                                                                                                                                                                                                                      \n",
       "\n",
       "  position speaker type new_type_tag  \n",
       "0  n        NaN          narrative    \n",
       "1  n        NaN          narrative    \n",
       "2  n        NaN          narrative    \n",
       "3  n        NaN          narrative    \n",
       "4  1        mother  c    c_1          \n",
       "5  n        NaN          narrative    \n",
       "6  1        mother       c_1          \n",
       "7  n        NaN          narrative    \n",
       "8  1        mother       c_1          \n",
       "9  2        father       c_1          "
      ]
     },
     "execution_count": 1370,
     "metadata": {},
     "output_type": "execute_result"
    }
   ],
   "source": [
    "df_labeled.head(10)"
   ]
  },
  {
   "cell_type": "markdown",
   "metadata": {},
   "source": [
    "# Merging"
   ]
  },
  {
   "cell_type": "code",
   "execution_count": 1371,
   "metadata": {
    "ExecuteTime": {
     "end_time": "2019-04-30T12:31:04.279194Z",
     "start_time": "2019-04-30T12:31:04.226301Z"
    }
   },
   "outputs": [],
   "source": [
    "df_merged = pd.merge(df, df_labeled, on='para_index', how='left')"
   ]
  },
  {
   "cell_type": "code",
   "execution_count": 1372,
   "metadata": {
    "ExecuteTime": {
     "end_time": "2019-04-30T12:31:04.725547Z",
     "start_time": "2019-04-30T12:31:04.684620Z"
    }
   },
   "outputs": [
    {
     "data": {
      "text/plain": [
       "(2119, 13)"
      ]
     },
     "execution_count": 1372,
     "metadata": {},
     "output_type": "execute_result"
    }
   ],
   "source": [
    "df_merged.shape"
   ]
  },
  {
   "cell_type": "code",
   "execution_count": 1373,
   "metadata": {
    "ExecuteTime": {
     "end_time": "2019-04-30T12:31:04.984091Z",
     "start_time": "2019-04-30T12:31:04.931359Z"
    }
   },
   "outputs": [
    {
     "data": {
      "text/html": [
       "<div>\n",
       "<style scoped>\n",
       "    .dataframe tbody tr th:only-of-type {\n",
       "        vertical-align: middle;\n",
       "    }\n",
       "\n",
       "    .dataframe tbody tr th {\n",
       "        vertical-align: top;\n",
       "    }\n",
       "\n",
       "    .dataframe thead th {\n",
       "        text-align: right;\n",
       "    }\n",
       "</style>\n",
       "<table border=\"1\" class=\"dataframe\">\n",
       "  <thead>\n",
       "    <tr style=\"text-align: right;\">\n",
       "      <th></th>\n",
       "      <th>para_index</th>\n",
       "      <th>tag</th>\n",
       "      <th>para_x</th>\n",
       "      <th>num_quotes_up_to_para</th>\n",
       "      <th>num_utterances</th>\n",
       "      <th>raw_utter_list</th>\n",
       "      <th>tokenized_sent</th>\n",
       "      <th>tag_old</th>\n",
       "      <th>para_y</th>\n",
       "      <th>position</th>\n",
       "      <th>speaker</th>\n",
       "      <th>type</th>\n",
       "      <th>new_type_tag</th>\n",
       "    </tr>\n",
       "  </thead>\n",
       "  <tbody>\n",
       "    <tr>\n",
       "      <th>0</th>\n",
       "      <td>0</td>\n",
       "      <td>narrative</td>\n",
       "      <td>By Jane Austen</td>\n",
       "      <td>0</td>\n",
       "      <td>0</td>\n",
       "      <td>[]</td>\n",
       "      <td>[N]</td>\n",
       "      <td>not</td>\n",
       "      <td>By Jane Austen</td>\n",
       "      <td>n</td>\n",
       "      <td>NaN</td>\n",
       "      <td></td>\n",
       "      <td>narrative</td>\n",
       "    </tr>\n",
       "    <tr>\n",
       "      <th>1</th>\n",
       "      <td>1</td>\n",
       "      <td>narrative</td>\n",
       "      <td>Chapter 1</td>\n",
       "      <td>0</td>\n",
       "      <td>0</td>\n",
       "      <td>[]</td>\n",
       "      <td>[N]</td>\n",
       "      <td>not</td>\n",
       "      <td>Chapter 1</td>\n",
       "      <td>n</td>\n",
       "      <td>NaN</td>\n",
       "      <td></td>\n",
       "      <td>narrative</td>\n",
       "    </tr>\n",
       "    <tr>\n",
       "      <th>2</th>\n",
       "      <td>2</td>\n",
       "      <td>narrative</td>\n",
       "      <td>It is a truth universally acknowledged, that a single man in possession of       a good fortune, must be in want of a wife.</td>\n",
       "      <td>0</td>\n",
       "      <td>0</td>\n",
       "      <td>[]</td>\n",
       "      <td>[N]</td>\n",
       "      <td>not</td>\n",
       "      <td>It is a truth universally acknowledged, that a single man in possession of      a good fortune, must be in want of a wife.</td>\n",
       "      <td>n</td>\n",
       "      <td>NaN</td>\n",
       "      <td></td>\n",
       "      <td>narrative</td>\n",
       "    </tr>\n",
       "    <tr>\n",
       "      <th>3</th>\n",
       "      <td>3</td>\n",
       "      <td>narrative</td>\n",
       "      <td>However little known the feelings or views of such a man may be on his       first entering a neighbourhood, this truth is so well fixed in the minds       of the surrounding families, that he is considered the rightful property       of some one or other of their daughters.</td>\n",
       "      <td>0</td>\n",
       "      <td>0</td>\n",
       "      <td>[]</td>\n",
       "      <td>[N]</td>\n",
       "      <td>not</td>\n",
       "      <td>However little known the feelings or views of such a man may be on his      first entering a neighbourhood, this truth is so well fixed in the minds      of the surrounding families, that he is considered the rightful property      of some one or other of their daughters.</td>\n",
       "      <td>n</td>\n",
       "      <td>NaN</td>\n",
       "      <td></td>\n",
       "      <td>narrative</td>\n",
       "    </tr>\n",
       "    <tr>\n",
       "      <th>4</th>\n",
       "      <td>4</td>\n",
       "      <td>utterance</td>\n",
       "      <td>\"My dear Mr. Bennet,\" said his lady to him one day, \"have you heard that       Netherfield Park is let at last?\"</td>\n",
       "      <td>4</td>\n",
       "      <td>2</td>\n",
       "      <td>[\"My dear Mr. Bennet,\", \"have you heard that       Netherfield Park is let at last?\"]</td>\n",
       "      <td>\"My dear Mr Bennet,\" [N] \"have you heard that       Netherfield Park is let at last?\"</td>\n",
       "      <td>dialogue-F</td>\n",
       "      <td>“My dear Mr. Bennet,” said his lady to him one day, “have you heard that      Netherfield Park is let at last?”</td>\n",
       "      <td>1</td>\n",
       "      <td>mother</td>\n",
       "      <td>c</td>\n",
       "      <td>c_1</td>\n",
       "    </tr>\n",
       "  </tbody>\n",
       "</table>\n",
       "</div>"
      ],
      "text/plain": [
       "   para_index        tag  \\\n",
       "0  0           narrative   \n",
       "1  1           narrative   \n",
       "2  2           narrative   \n",
       "3  3           narrative   \n",
       "4  4           utterance   \n",
       "\n",
       "                                                                                                                                                                                                                                                                                para_x  \\\n",
       "0  By Jane Austen                                                                                                                                                                                                                                                                        \n",
       "1  Chapter 1                                                                                                                                                                                                                                                                             \n",
       "2  It is a truth universally acknowledged, that a single man in possession of       a good fortune, must be in want of a wife.                                                                                                                                                           \n",
       "3  However little known the feelings or views of such a man may be on his       first entering a neighbourhood, this truth is so well fixed in the minds       of the surrounding families, that he is considered the rightful property       of some one or other of their daughters.   \n",
       "4  \"My dear Mr. Bennet,\" said his lady to him one day, \"have you heard that       Netherfield Park is let at last?\"                                                                                                                                                                      \n",
       "\n",
       "   num_quotes_up_to_para  num_utterances  \\\n",
       "0  0                      0                \n",
       "1  0                      0                \n",
       "2  0                      0                \n",
       "3  0                      0                \n",
       "4  4                      2                \n",
       "\n",
       "                                                                          raw_utter_list  \\\n",
       "0  []                                                                                      \n",
       "1  []                                                                                      \n",
       "2  []                                                                                      \n",
       "3  []                                                                                      \n",
       "4  [\"My dear Mr. Bennet,\", \"have you heard that       Netherfield Park is let at last?\"]   \n",
       "\n",
       "                                                                          tokenized_sent  \\\n",
       "0  [N]                                                                                     \n",
       "1  [N]                                                                                     \n",
       "2  [N]                                                                                     \n",
       "3  [N]                                                                                     \n",
       "4  \"My dear Mr Bennet,\" [N] \"have you heard that       Netherfield Park is let at last?\"   \n",
       "\n",
       "      tag_old  \\\n",
       "0  not          \n",
       "1  not          \n",
       "2  not          \n",
       "3  not          \n",
       "4  dialogue-F   \n",
       "\n",
       "                                                                                                                                                                                                                                                                             para_y  \\\n",
       "0  By Jane Austen                                                                                                                                                                                                                                                                     \n",
       "1  Chapter 1                                                                                                                                                                                                                                                                          \n",
       "2  It is a truth universally acknowledged, that a single man in possession of      a good fortune, must be in want of a wife.                                                                                                                                                         \n",
       "3  However little known the feelings or views of such a man may be on his      first entering a neighbourhood, this truth is so well fixed in the minds      of the surrounding families, that he is considered the rightful property      of some one or other of their daughters.   \n",
       "4  “My dear Mr. Bennet,” said his lady to him one day, “have you heard that      Netherfield Park is let at last?”                                                                                                                                                                    \n",
       "\n",
       "  position speaker type new_type_tag  \n",
       "0  n        NaN          narrative    \n",
       "1  n        NaN          narrative    \n",
       "2  n        NaN          narrative    \n",
       "3  n        NaN          narrative    \n",
       "4  1        mother  c    c_1          "
      ]
     },
     "execution_count": 1373,
     "metadata": {},
     "output_type": "execute_result"
    }
   ],
   "source": [
    "df_merged.head()"
   ]
  },
  {
   "cell_type": "code",
   "execution_count": 1374,
   "metadata": {
    "ExecuteTime": {
     "end_time": "2019-04-30T12:31:05.223171Z",
     "start_time": "2019-04-30T12:31:05.179486Z"
    }
   },
   "outputs": [],
   "source": [
    "columns_i_want = ['para_index', 'para_x', 'num_utterances', 'raw_utter_list', 'tokenized_sent', 'position', 'speaker', 'new_type_tag']\n",
    "df_merged = df_merged[columns_i_want]"
   ]
  },
  {
   "cell_type": "code",
   "execution_count": 1375,
   "metadata": {
    "ExecuteTime": {
     "end_time": "2019-04-30T12:31:05.464734Z",
     "start_time": "2019-04-30T12:31:05.419850Z"
    }
   },
   "outputs": [],
   "source": [
    "df_merged = df_merged.fillna('')"
   ]
  },
  {
   "cell_type": "code",
   "execution_count": 1376,
   "metadata": {
    "ExecuteTime": {
     "end_time": "2019-04-30T12:31:05.843107Z",
     "start_time": "2019-04-30T12:31:05.802098Z"
    }
   },
   "outputs": [
    {
     "data": {
      "text/plain": [
       "Index(['para_index', 'para_x', 'num_utterances', 'raw_utter_list',\n",
       "       'tokenized_sent', 'position', 'speaker', 'new_type_tag'],\n",
       "      dtype='object')"
      ]
     },
     "execution_count": 1376,
     "metadata": {},
     "output_type": "execute_result"
    }
   ],
   "source": [
    "df_merged.columns"
   ]
  },
  {
   "cell_type": "code",
   "execution_count": 1377,
   "metadata": {
    "ExecuteTime": {
     "end_time": "2019-04-30T12:31:06.212189Z",
     "start_time": "2019-04-30T12:31:06.169886Z"
    }
   },
   "outputs": [],
   "source": [
    "df_merged['chapter_tag'] = df_merged['para_x'].apply(lambda x: x if 'chapter ' in x.lower() else '')"
   ]
  },
  {
   "cell_type": "code",
   "execution_count": 1378,
   "metadata": {
    "ExecuteTime": {
     "end_time": "2019-04-30T12:31:07.195345Z",
     "start_time": "2019-04-30T12:31:06.922764Z"
    }
   },
   "outputs": [],
   "source": [
    "chapter_dict = dict()\n",
    "chapter_tag = ''\n",
    "for i in df_merged.index:\n",
    "    curr_chapter_tag = df_merged.loc[i]['chapter_tag']\n",
    "    if curr_chapter_tag == '':\n",
    "        if chapter_tag != '':\n",
    "            chapter_dict[i] = chapter_tag\n",
    "        else:\n",
    "            chapter_tag = curr_chapter_tag\n",
    "            chapter_dict[i] = chapter_tag\n",
    "    else: \n",
    "        if chapter_tag == curr_chapter_tag:\n",
    "            chapter_dict[i] = chapter_tag\n",
    "        else:\n",
    "            chapter_tag = curr_chapter_tag\n",
    "            chapter_dict[i] = chapter_tag\n",
    "\n"
   ]
  },
  {
   "cell_type": "code",
   "execution_count": 1379,
   "metadata": {
    "ExecuteTime": {
     "end_time": "2019-04-30T12:31:08.534498Z",
     "start_time": "2019-04-30T12:31:08.485468Z"
    }
   },
   "outputs": [],
   "source": [
    "df_merged['new_chapter_tag'] = list(x[1] for x in chapter_dict.items())"
   ]
  },
  {
   "cell_type": "code",
   "execution_count": 1380,
   "metadata": {
    "ExecuteTime": {
     "end_time": "2019-04-30T12:31:09.051721Z",
     "start_time": "2019-04-30T12:31:09.011492Z"
    }
   },
   "outputs": [],
   "source": [
    "def is_utterance(sent):\n",
    "    return get_num_quotes(sent)%2==0\n",
    "\n",
    "\n",
    "def tag_tokens(sent_list):\n",
    "    new_list = []\n",
    "    for sent in sent_list:\n",
    "        if is_utterance(sent):\n",
    "            new_list.append((sent, ))"
   ]
  },
  {
   "cell_type": "code",
   "execution_count": 1382,
   "metadata": {
    "ExecuteTime": {
     "end_time": "2019-04-30T12:31:44.603948Z",
     "start_time": "2019-04-30T12:31:43.006753Z"
    }
   },
   "outputs": [],
   "source": [
    "new_label_dict = dict()\n",
    "count = 0 \n",
    "for j in df_merged.index:\n",
    "    tuple_i_want = (j,) \\\n",
    "                + tuple(list(df_merged.loc[j][['position', 'speaker', 'new_type_tag', 'new_chapter_tag']].values)) \\\n",
    "                + (tokenize_para(df_merged.loc[j]['para_x']),)\n",
    "    new_label_dict[count] = tuple_i_want\n",
    "    count += 1     "
   ]
  },
  {
   "cell_type": "code",
   "execution_count": 1383,
   "metadata": {
    "ExecuteTime": {
     "end_time": "2019-04-30T12:31:45.336508Z",
     "start_time": "2019-04-30T12:31:45.293487Z"
    }
   },
   "outputs": [],
   "source": [
    "df_final = pd.DataFrame(list(new_label_dict.items()), columns=['sent_index', 'tag'])"
   ]
  },
  {
   "cell_type": "code",
   "execution_count": 1385,
   "metadata": {
    "ExecuteTime": {
     "end_time": "2019-04-30T12:32:28.311582Z",
     "start_time": "2019-04-30T12:32:28.244380Z"
    }
   },
   "outputs": [],
   "source": [
    "df_final['para_index'] = df_final['tag'].apply(lambda x: x[0])\n",
    "df_final['position_tag'] = df_final['tag'].apply(lambda x: x[1])\n",
    "df_final['speaker_tag'] = df_final['tag'].apply(lambda x: x[2])\n",
    "df_final['type_tag'] = df_final['tag'].apply(lambda x: x[3])\n",
    "df_final['chapter_tag'] = df_final['tag'].apply(lambda x: x[4])\n",
    "df_final['tokenized_sent'] = df_final['tag'].apply(lambda x: x[5])\n"
   ]
  },
  {
   "cell_type": "code",
   "execution_count": 1386,
   "metadata": {
    "ExecuteTime": {
     "end_time": "2019-04-30T12:32:29.668916Z",
     "start_time": "2019-04-30T12:32:29.612656Z"
    }
   },
   "outputs": [
    {
     "data": {
      "text/html": [
       "<div>\n",
       "<style scoped>\n",
       "    .dataframe tbody tr th:only-of-type {\n",
       "        vertical-align: middle;\n",
       "    }\n",
       "\n",
       "    .dataframe tbody tr th {\n",
       "        vertical-align: top;\n",
       "    }\n",
       "\n",
       "    .dataframe thead th {\n",
       "        text-align: right;\n",
       "    }\n",
       "</style>\n",
       "<table border=\"1\" class=\"dataframe\">\n",
       "  <thead>\n",
       "    <tr style=\"text-align: right;\">\n",
       "      <th></th>\n",
       "      <th>sent_index</th>\n",
       "      <th>tag</th>\n",
       "      <th>para_index</th>\n",
       "      <th>position_tag</th>\n",
       "      <th>speaker_tag</th>\n",
       "      <th>type_tag</th>\n",
       "      <th>tokenized_sent</th>\n",
       "      <th>chapter_tag</th>\n",
       "    </tr>\n",
       "  </thead>\n",
       "  <tbody>\n",
       "    <tr>\n",
       "      <th>0</th>\n",
       "      <td>0</td>\n",
       "      <td>(0, n, , narrative, , [N])</td>\n",
       "      <td>0</td>\n",
       "      <td>n</td>\n",
       "      <td></td>\n",
       "      <td>narrative</td>\n",
       "      <td>[N]</td>\n",
       "      <td></td>\n",
       "    </tr>\n",
       "    <tr>\n",
       "      <th>1</th>\n",
       "      <td>1</td>\n",
       "      <td>(1, n, , narrative, Chapter 1, [N])</td>\n",
       "      <td>1</td>\n",
       "      <td>n</td>\n",
       "      <td></td>\n",
       "      <td>narrative</td>\n",
       "      <td>[N]</td>\n",
       "      <td>Chapter 1</td>\n",
       "    </tr>\n",
       "    <tr>\n",
       "      <th>2</th>\n",
       "      <td>2</td>\n",
       "      <td>(2, n, , narrative, Chapter 1, [N])</td>\n",
       "      <td>2</td>\n",
       "      <td>n</td>\n",
       "      <td></td>\n",
       "      <td>narrative</td>\n",
       "      <td>[N]</td>\n",
       "      <td>Chapter 1</td>\n",
       "    </tr>\n",
       "    <tr>\n",
       "      <th>3</th>\n",
       "      <td>3</td>\n",
       "      <td>(3, n, , narrative, Chapter 1, [N])</td>\n",
       "      <td>3</td>\n",
       "      <td>n</td>\n",
       "      <td></td>\n",
       "      <td>narrative</td>\n",
       "      <td>[N]</td>\n",
       "      <td>Chapter 1</td>\n",
       "    </tr>\n",
       "    <tr>\n",
       "      <th>4</th>\n",
       "      <td>4</td>\n",
       "      <td>(4, 1, mother, c_1, Chapter 1, \"My dear Mr Bennet,\" [N] \"have you heard that       Netherfield Park is let at last?\")</td>\n",
       "      <td>4</td>\n",
       "      <td>1</td>\n",
       "      <td>mother</td>\n",
       "      <td>c_1</td>\n",
       "      <td>\"My dear Mr Bennet,\" [N] \"have you heard that       Netherfield Park is let at last?\"</td>\n",
       "      <td>Chapter 1</td>\n",
       "    </tr>\n",
       "  </tbody>\n",
       "</table>\n",
       "</div>"
      ],
      "text/plain": [
       "   sent_index  \\\n",
       "0  0            \n",
       "1  1            \n",
       "2  2            \n",
       "3  3            \n",
       "4  4            \n",
       "\n",
       "                                                                                                                     tag  \\\n",
       "0  (0, n, , narrative, , [N])                                                                                              \n",
       "1  (1, n, , narrative, Chapter 1, [N])                                                                                     \n",
       "2  (2, n, , narrative, Chapter 1, [N])                                                                                     \n",
       "3  (3, n, , narrative, Chapter 1, [N])                                                                                     \n",
       "4  (4, 1, mother, c_1, Chapter 1, \"My dear Mr Bennet,\" [N] \"have you heard that       Netherfield Park is let at last?\")   \n",
       "\n",
       "   para_index position_tag speaker_tag   type_tag  \\\n",
       "0  0           n                        narrative   \n",
       "1  1           n                        narrative   \n",
       "2  2           n                        narrative   \n",
       "3  3           n                        narrative   \n",
       "4  4           1            mother      c_1         \n",
       "\n",
       "                                                                          tokenized_sent  \\\n",
       "0  [N]                                                                                     \n",
       "1  [N]                                                                                     \n",
       "2  [N]                                                                                     \n",
       "3  [N]                                                                                     \n",
       "4  \"My dear Mr Bennet,\" [N] \"have you heard that       Netherfield Park is let at last?\"   \n",
       "\n",
       "  chapter_tag  \n",
       "0              \n",
       "1  Chapter 1   \n",
       "2  Chapter 1   \n",
       "3  Chapter 1   \n",
       "4  Chapter 1   "
      ]
     },
     "execution_count": 1386,
     "metadata": {},
     "output_type": "execute_result"
    }
   ],
   "source": [
    "df_final.head()"
   ]
  },
  {
   "cell_type": "code",
   "execution_count": null,
   "metadata": {},
   "outputs": [],
   "source": []
  },
  {
   "cell_type": "code",
   "execution_count": 1387,
   "metadata": {
    "ExecuteTime": {
     "end_time": "2019-04-30T12:32:37.320480Z",
     "start_time": "2019-04-30T12:32:37.268809Z"
    }
   },
   "outputs": [],
   "source": [
    "index_to_exclude = df_final[df_final['tokenized_sent'].apply(lambda x: x=='[N]')].index"
   ]
  },
  {
   "cell_type": "code",
   "execution_count": 1388,
   "metadata": {
    "ExecuteTime": {
     "end_time": "2019-04-30T12:32:38.228399Z",
     "start_time": "2019-04-30T12:32:38.178501Z"
    }
   },
   "outputs": [],
   "source": [
    "df_final = df_final.drop(index_to_exclude, axis=0)"
   ]
  },
  {
   "cell_type": "code",
   "execution_count": 1389,
   "metadata": {
    "ExecuteTime": {
     "end_time": "2019-04-30T12:32:38.765042Z",
     "start_time": "2019-04-30T12:32:38.712031Z"
    }
   },
   "outputs": [],
   "source": [
    "df_final = df_final.reset_index()\n",
    "del df_final['index']"
   ]
  },
  {
   "cell_type": "code",
   "execution_count": 1391,
   "metadata": {
    "ExecuteTime": {
     "end_time": "2019-04-30T12:32:54.250590Z",
     "start_time": "2019-04-30T12:32:54.202010Z"
    }
   },
   "outputs": [
    {
     "data": {
      "text/plain": [
       "(1290, 8)"
      ]
     },
     "execution_count": 1391,
     "metadata": {},
     "output_type": "execute_result"
    }
   ],
   "source": [
    "df_final.shape"
   ]
  },
  {
   "cell_type": "code",
   "execution_count": 1392,
   "metadata": {
    "ExecuteTime": {
     "end_time": "2019-04-30T12:33:06.033567Z",
     "start_time": "2019-04-30T12:33:05.709464Z"
    }
   },
   "outputs": [],
   "source": [
    "label_dict = dict()\n",
    "\n",
    "conver_tag = ''\n",
    "position_tag = 'n'\n",
    "\n",
    "for i in df_final.index:\n",
    "    curr_position_tag = df_final.loc[i]['position_tag']\n",
    "    curr_conver_tag = df_final.loc[i]['type_tag']\n",
    "    if (curr_conver_tag == conver_tag) & (curr_position_tag!='n'):\n",
    "        if curr_position_tag == position_tag:\n",
    "            label_dict[i] = 'part'\n",
    "            position_tag = curr_position_tag\n",
    "            conver_tag = curr_conver_tag\n",
    "        else:\n",
    "            label_dict[i] = 'response'\n",
    "            position_tag = curr_position_tag\n",
    "            conver_tag = curr_conver_tag\n",
    "    else: \n",
    "        label_dict[i] = 'not'\n",
    "        position_tag = curr_position_tag\n",
    "        conver_tag = curr_conver_tag    "
   ]
  },
  {
   "cell_type": "code",
   "execution_count": 1394,
   "metadata": {
    "ExecuteTime": {
     "end_time": "2019-04-30T12:33:59.454795Z",
     "start_time": "2019-04-30T12:33:59.405163Z"
    }
   },
   "outputs": [],
   "source": [
    "df_final['label'] = list(x[1] for x in label_dict.items())"
   ]
  },
  {
   "cell_type": "code",
   "execution_count": 1395,
   "metadata": {
    "ExecuteTime": {
     "end_time": "2019-04-30T12:34:06.515716Z",
     "start_time": "2019-04-30T12:34:06.461616Z"
    }
   },
   "outputs": [
    {
     "data": {
      "text/html": [
       "<div>\n",
       "<style scoped>\n",
       "    .dataframe tbody tr th:only-of-type {\n",
       "        vertical-align: middle;\n",
       "    }\n",
       "\n",
       "    .dataframe tbody tr th {\n",
       "        vertical-align: top;\n",
       "    }\n",
       "\n",
       "    .dataframe thead th {\n",
       "        text-align: right;\n",
       "    }\n",
       "</style>\n",
       "<table border=\"1\" class=\"dataframe\">\n",
       "  <thead>\n",
       "    <tr style=\"text-align: right;\">\n",
       "      <th></th>\n",
       "      <th>sent_index</th>\n",
       "      <th>tag</th>\n",
       "      <th>para_index</th>\n",
       "      <th>position_tag</th>\n",
       "      <th>speaker_tag</th>\n",
       "      <th>type_tag</th>\n",
       "      <th>tokenized_sent</th>\n",
       "      <th>chapter_tag</th>\n",
       "      <th>label</th>\n",
       "    </tr>\n",
       "  </thead>\n",
       "  <tbody>\n",
       "    <tr>\n",
       "      <th>0</th>\n",
       "      <td>4</td>\n",
       "      <td>(4, 1, mother, c_1, Chapter 1, \"My dear Mr Bennet,\" [N] \"have you heard that       Netherfield Park is let at last?\")</td>\n",
       "      <td>4</td>\n",
       "      <td>1</td>\n",
       "      <td>mother</td>\n",
       "      <td>c_1</td>\n",
       "      <td>\"My dear Mr Bennet,\" [N] \"have you heard that       Netherfield Park is let at last?\"</td>\n",
       "      <td>Chapter 1</td>\n",
       "      <td>not</td>\n",
       "    </tr>\n",
       "    <tr>\n",
       "      <th>1</th>\n",
       "      <td>6</td>\n",
       "      <td>(6, 1, mother, c_1, Chapter 1, \"But it is,\" [N] \"for Mrs Long has just been here, and she told       me all about it.\")</td>\n",
       "      <td>6</td>\n",
       "      <td>1</td>\n",
       "      <td>mother</td>\n",
       "      <td>c_1</td>\n",
       "      <td>\"But it is,\" [N] \"for Mrs Long has just been here, and she told       me all about it.\"</td>\n",
       "      <td>Chapter 1</td>\n",
       "      <td>part</td>\n",
       "    </tr>\n",
       "    <tr>\n",
       "      <th>2</th>\n",
       "      <td>8</td>\n",
       "      <td>(8, 1, mother, c_1, Chapter 1, \"Do you not want to know who has taken it?\" [N])</td>\n",
       "      <td>8</td>\n",
       "      <td>1</td>\n",
       "      <td>mother</td>\n",
       "      <td>c_1</td>\n",
       "      <td>\"Do you not want to know who has taken it?\" [N]</td>\n",
       "      <td>Chapter 1</td>\n",
       "      <td>part</td>\n",
       "    </tr>\n",
       "    <tr>\n",
       "      <th>3</th>\n",
       "      <td>9</td>\n",
       "      <td>(9, 2, father, c_1, Chapter 1, \"You want to tell me, and I have no objection to hearing it.\")</td>\n",
       "      <td>9</td>\n",
       "      <td>2</td>\n",
       "      <td>father</td>\n",
       "      <td>c_1</td>\n",
       "      <td>\"You want to tell me, and I have no objection to hearing it.\"</td>\n",
       "      <td>Chapter 1</td>\n",
       "      <td>response</td>\n",
       "    </tr>\n",
       "    <tr>\n",
       "      <th>4</th>\n",
       "      <td>11</td>\n",
       "      <td>(11, 1, , c_1, Chapter 1, \"Why, my dear, you must know, Mrs Long says that Netherfield is taken by       a young man of large fortune from the north of England; that he came down       on Monday in a chaise and four to see the place, and was so much delighted       with it, that he agreed with Mr Morris immediately; that he is to take       possession before Michaelmas, and some of his servants are to be in the       house by the end of next week.\")</td>\n",
       "      <td>11</td>\n",
       "      <td>1</td>\n",
       "      <td></td>\n",
       "      <td>c_1</td>\n",
       "      <td>\"Why, my dear, you must know, Mrs Long says that Netherfield is taken by       a young man of large fortune from the north of England; that he came down       on Monday in a chaise and four to see the place, and was so much delighted       with it, that he agreed with Mr Morris immediately; that he is to take       possession before Michaelmas, and some of his servants are to be in the       house by the end of next week.\"</td>\n",
       "      <td>Chapter 1</td>\n",
       "      <td>response</td>\n",
       "    </tr>\n",
       "  </tbody>\n",
       "</table>\n",
       "</div>"
      ],
      "text/plain": [
       "   sent_index  \\\n",
       "0  4            \n",
       "1  6            \n",
       "2  8            \n",
       "3  9            \n",
       "4  11           \n",
       "\n",
       "                                                                                                                                                                                                                                                                                                                                                                                                                                                                     tag  \\\n",
       "0  (4, 1, mother, c_1, Chapter 1, \"My dear Mr Bennet,\" [N] \"have you heard that       Netherfield Park is let at last?\")                                                                                                                                                                                                                                                                                                                                                   \n",
       "1  (6, 1, mother, c_1, Chapter 1, \"But it is,\" [N] \"for Mrs Long has just been here, and she told       me all about it.\")                                                                                                                                                                                                                                                                                                                                                 \n",
       "2  (8, 1, mother, c_1, Chapter 1, \"Do you not want to know who has taken it?\" [N])                                                                                                                                                                                                                                                                                                                                                                                         \n",
       "3  (9, 2, father, c_1, Chapter 1, \"You want to tell me, and I have no objection to hearing it.\")                                                                                                                                                                                                                                                                                                                                                                           \n",
       "4  (11, 1, , c_1, Chapter 1, \"Why, my dear, you must know, Mrs Long says that Netherfield is taken by       a young man of large fortune from the north of England; that he came down       on Monday in a chaise and four to see the place, and was so much delighted       with it, that he agreed with Mr Morris immediately; that he is to take       possession before Michaelmas, and some of his servants are to be in the       house by the end of next week.\")   \n",
       "\n",
       "   para_index position_tag speaker_tag type_tag  \\\n",
       "0  4           1            mother      c_1       \n",
       "1  6           1            mother      c_1       \n",
       "2  8           1            mother      c_1       \n",
       "3  9           2            father      c_1       \n",
       "4  11          1                        c_1       \n",
       "\n",
       "                                                                                                                                                                                                                                                                                                                                                                                                                               tokenized_sent  \\\n",
       "0  \"My dear Mr Bennet,\" [N] \"have you heard that       Netherfield Park is let at last?\"                                                                                                                                                                                                                                                                                                                                                        \n",
       "1  \"But it is,\" [N] \"for Mrs Long has just been here, and she told       me all about it.\"                                                                                                                                                                                                                                                                                                                                                      \n",
       "2  \"Do you not want to know who has taken it?\" [N]                                                                                                                                                                                                                                                                                                                                                                                              \n",
       "3  \"You want to tell me, and I have no objection to hearing it.\"                                                                                                                                                                                                                                                                                                                                                                                \n",
       "4  \"Why, my dear, you must know, Mrs Long says that Netherfield is taken by       a young man of large fortune from the north of England; that he came down       on Monday in a chaise and four to see the place, and was so much delighted       with it, that he agreed with Mr Morris immediately; that he is to take       possession before Michaelmas, and some of his servants are to be in the       house by the end of next week.\"   \n",
       "\n",
       "  chapter_tag     label  \n",
       "0  Chapter 1   not       \n",
       "1  Chapter 1   part      \n",
       "2  Chapter 1   part      \n",
       "3  Chapter 1   response  \n",
       "4  Chapter 1   response  "
      ]
     },
     "execution_count": 1395,
     "metadata": {},
     "output_type": "execute_result"
    }
   ],
   "source": [
    "df_final.head()"
   ]
  },
  {
   "cell_type": "code",
   "execution_count": 1396,
   "metadata": {
    "ExecuteTime": {
     "end_time": "2019-04-30T12:34:32.110084Z",
     "start_time": "2019-04-30T12:34:32.060622Z"
    }
   },
   "outputs": [
    {
     "data": {
      "text/plain": [
       "(1290, 9)"
      ]
     },
     "execution_count": 1396,
     "metadata": {},
     "output_type": "execute_result"
    }
   ],
   "source": [
    "df_final.shape"
   ]
  },
  {
   "cell_type": "code",
   "execution_count": null,
   "metadata": {},
   "outputs": [],
   "source": []
  }
 ],
 "metadata": {
  "kernelspec": {
   "display_name": "Python 3",
   "language": "python",
   "name": "python3"
  },
  "language_info": {
   "codemirror_mode": {
    "name": "ipython",
    "version": 3
   },
   "file_extension": ".py",
   "mimetype": "text/x-python",
   "name": "python",
   "nbconvert_exporter": "python",
   "pygments_lexer": "ipython3",
   "version": "3.7.1"
  },
  "toc": {
   "base_numbering": 1,
   "nav_menu": {},
   "number_sections": true,
   "sideBar": true,
   "skip_h1_title": false,
   "title_cell": "Table of Contents",
   "title_sidebar": "Contents",
   "toc_cell": false,
   "toc_position": {},
   "toc_section_display": true,
   "toc_window_display": false
  }
 },
 "nbformat": 4,
 "nbformat_minor": 2
}
