{
 "cells": [
  {
   "cell_type": "markdown",
   "metadata": {},
   "source": [
    "# Notebook Outline"
   ]
  },
  {
   "cell_type": "code",
   "execution_count": null,
   "metadata": {},
   "outputs": [],
   "source": []
  },
  {
   "cell_type": "markdown",
   "metadata": {},
   "source": [
    "# Import Libraries and Data"
   ]
  },
  {
   "cell_type": "code",
   "execution_count": 16,
   "metadata": {
    "ExecuteTime": {
     "end_time": "2019-04-30T15:17:10.248326Z",
     "start_time": "2019-04-30T15:17:10.245565Z"
    },
    "scrolled": true
   },
   "outputs": [],
   "source": [
    "# !pip install tensorflow==2.0.0-alpha0"
   ]
  },
  {
   "cell_type": "code",
   "execution_count": 25,
   "metadata": {
    "ExecuteTime": {
     "end_time": "2019-04-30T15:34:19.894514Z",
     "start_time": "2019-04-30T15:34:19.885391Z"
    }
   },
   "outputs": [],
   "source": [
    "import pandas as pd\n",
    "\n",
    "# tensorflow libraries\n",
    "# !pip install tensorflow==2.0.0-alpha0\n",
    "\n",
    "import tensorflow as tf\n",
    "\n",
    "tf.keras.backend.clear_session()  # For easy reset of notebook state."
   ]
  },
  {
   "cell_type": "code",
   "execution_count": 19,
   "metadata": {
    "ExecuteTime": {
     "end_time": "2019-04-30T15:31:46.895035Z",
     "start_time": "2019-04-30T15:31:46.891027Z"
    }
   },
   "outputs": [
    {
     "data": {
      "text/plain": [
       "'2.0.0-alpha0'"
      ]
     },
     "execution_count": 19,
     "metadata": {},
     "output_type": "execute_result"
    }
   ],
   "source": [
    "tf.__version__"
   ]
  },
  {
   "cell_type": "code",
   "execution_count": 20,
   "metadata": {
    "ExecuteTime": {
     "end_time": "2019-04-30T15:32:50.129071Z",
     "start_time": "2019-04-30T15:32:50.070138Z"
    }
   },
   "outputs": [],
   "source": [
    "df = pd.read_csv('../data/parsed-n-labeled-data/labeled-utterance-final-300419.csv', index_col = [0])"
   ]
  },
  {
   "cell_type": "code",
   "execution_count": 21,
   "metadata": {
    "ExecuteTime": {
     "end_time": "2019-04-30T15:32:54.321028Z",
     "start_time": "2019-04-30T15:32:54.294173Z"
    }
   },
   "outputs": [
    {
     "data": {
      "text/html": [
       "<div>\n",
       "<style scoped>\n",
       "    .dataframe tbody tr th:only-of-type {\n",
       "        vertical-align: middle;\n",
       "    }\n",
       "\n",
       "    .dataframe tbody tr th {\n",
       "        vertical-align: top;\n",
       "    }\n",
       "\n",
       "    .dataframe thead th {\n",
       "        text-align: right;\n",
       "    }\n",
       "</style>\n",
       "<table border=\"1\" class=\"dataframe\">\n",
       "  <thead>\n",
       "    <tr style=\"text-align: right;\">\n",
       "      <th></th>\n",
       "      <th>sent_index</th>\n",
       "      <th>tag</th>\n",
       "      <th>para_index</th>\n",
       "      <th>position_tag</th>\n",
       "      <th>speaker_tag</th>\n",
       "      <th>type_tag</th>\n",
       "      <th>tokenized_sent</th>\n",
       "      <th>chapter_tag</th>\n",
       "      <th>label</th>\n",
       "      <th>split_tag</th>\n",
       "      <th>tokenized_sent_clean</th>\n",
       "    </tr>\n",
       "  </thead>\n",
       "  <tbody>\n",
       "    <tr>\n",
       "      <th>0</th>\n",
       "      <td>4</td>\n",
       "      <td>(4, '1', 'mother', 'c_1', 'Chapter 1', '\"My de...</td>\n",
       "      <td>4</td>\n",
       "      <td>1</td>\n",
       "      <td>mother</td>\n",
       "      <td>c_1</td>\n",
       "      <td>\"My dear Mr Bennet,\" [N] \"have you heard that ...</td>\n",
       "      <td>Chapter 1</td>\n",
       "      <td>not</td>\n",
       "      <td>train</td>\n",
       "      <td>My dear Mr Bennet, [N] have you heard that    ...</td>\n",
       "    </tr>\n",
       "    <tr>\n",
       "      <th>1</th>\n",
       "      <td>6</td>\n",
       "      <td>(6, '1', 'mother', 'c_1', 'Chapter 1', '\"But i...</td>\n",
       "      <td>6</td>\n",
       "      <td>1</td>\n",
       "      <td>mother</td>\n",
       "      <td>c_1</td>\n",
       "      <td>\"But it is,\" [N] \"for Mrs Long has just been h...</td>\n",
       "      <td>Chapter 1</td>\n",
       "      <td>part</td>\n",
       "      <td>train</td>\n",
       "      <td>But it is, [N] for Mrs Long has just been here...</td>\n",
       "    </tr>\n",
       "    <tr>\n",
       "      <th>2</th>\n",
       "      <td>8</td>\n",
       "      <td>(8, '1', 'mother', 'c_1', 'Chapter 1', '\"Do yo...</td>\n",
       "      <td>8</td>\n",
       "      <td>1</td>\n",
       "      <td>mother</td>\n",
       "      <td>c_1</td>\n",
       "      <td>\"Do you not want to know who has taken it?\" [N]</td>\n",
       "      <td>Chapter 1</td>\n",
       "      <td>part</td>\n",
       "      <td>train</td>\n",
       "      <td>Do you not want to know who has taken it? [N]</td>\n",
       "    </tr>\n",
       "    <tr>\n",
       "      <th>3</th>\n",
       "      <td>9</td>\n",
       "      <td>(9, '2', 'father', 'c_1', 'Chapter 1', '\"You w...</td>\n",
       "      <td>9</td>\n",
       "      <td>2</td>\n",
       "      <td>father</td>\n",
       "      <td>c_1</td>\n",
       "      <td>\"You want to tell me, and I have no objection ...</td>\n",
       "      <td>Chapter 1</td>\n",
       "      <td>response</td>\n",
       "      <td>train</td>\n",
       "      <td>You want to tell me, and I have no objection t...</td>\n",
       "    </tr>\n",
       "    <tr>\n",
       "      <th>4</th>\n",
       "      <td>11</td>\n",
       "      <td>(11, '1', '', 'c_1', 'Chapter 1', '\"Why, my de...</td>\n",
       "      <td>11</td>\n",
       "      <td>1</td>\n",
       "      <td>NaN</td>\n",
       "      <td>c_1</td>\n",
       "      <td>\"Why, my dear, you must know, Mrs Long says th...</td>\n",
       "      <td>Chapter 1</td>\n",
       "      <td>response</td>\n",
       "      <td>train</td>\n",
       "      <td>Why, my dear, you must know, Mrs Long says tha...</td>\n",
       "    </tr>\n",
       "  </tbody>\n",
       "</table>\n",
       "</div>"
      ],
      "text/plain": [
       "   sent_index                                                tag  para_index  \\\n",
       "0           4  (4, '1', 'mother', 'c_1', 'Chapter 1', '\"My de...           4   \n",
       "1           6  (6, '1', 'mother', 'c_1', 'Chapter 1', '\"But i...           6   \n",
       "2           8  (8, '1', 'mother', 'c_1', 'Chapter 1', '\"Do yo...           8   \n",
       "3           9  (9, '2', 'father', 'c_1', 'Chapter 1', '\"You w...           9   \n",
       "4          11  (11, '1', '', 'c_1', 'Chapter 1', '\"Why, my de...          11   \n",
       "\n",
       "  position_tag speaker_tag type_tag  \\\n",
       "0            1      mother      c_1   \n",
       "1            1      mother      c_1   \n",
       "2            1      mother      c_1   \n",
       "3            2      father      c_1   \n",
       "4            1         NaN      c_1   \n",
       "\n",
       "                                      tokenized_sent chapter_tag     label  \\\n",
       "0  \"My dear Mr Bennet,\" [N] \"have you heard that ...   Chapter 1       not   \n",
       "1  \"But it is,\" [N] \"for Mrs Long has just been h...   Chapter 1      part   \n",
       "2    \"Do you not want to know who has taken it?\" [N]   Chapter 1      part   \n",
       "3  \"You want to tell me, and I have no objection ...   Chapter 1  response   \n",
       "4  \"Why, my dear, you must know, Mrs Long says th...   Chapter 1  response   \n",
       "\n",
       "  split_tag                               tokenized_sent_clean  \n",
       "0     train  My dear Mr Bennet, [N] have you heard that    ...  \n",
       "1     train  But it is, [N] for Mrs Long has just been here...  \n",
       "2     train      Do you not want to know who has taken it? [N]  \n",
       "3     train  You want to tell me, and I have no objection t...  \n",
       "4     train  Why, my dear, you must know, Mrs Long says tha...  "
      ]
     },
     "execution_count": 21,
     "metadata": {},
     "output_type": "execute_result"
    }
   ],
   "source": [
    "df.head()"
   ]
  },
  {
   "cell_type": "code",
   "execution_count": 22,
   "metadata": {
    "ExecuteTime": {
     "end_time": "2019-04-30T15:33:53.494710Z",
     "start_time": "2019-04-30T15:33:53.489232Z"
    }
   },
   "outputs": [],
   "source": [
    "columns_i_want = ['tokenized_sent_clean', 'label', 'split_tag']\n",
    "df = df[columns_i_want]"
   ]
  },
  {
   "cell_type": "code",
   "execution_count": 24,
   "metadata": {
    "ExecuteTime": {
     "end_time": "2019-04-30T15:33:58.338272Z",
     "start_time": "2019-04-30T15:33:58.325486Z"
    }
   },
   "outputs": [
    {
     "data": {
      "text/html": [
       "<div>\n",
       "<style scoped>\n",
       "    .dataframe tbody tr th:only-of-type {\n",
       "        vertical-align: middle;\n",
       "    }\n",
       "\n",
       "    .dataframe tbody tr th {\n",
       "        vertical-align: top;\n",
       "    }\n",
       "\n",
       "    .dataframe thead th {\n",
       "        text-align: right;\n",
       "    }\n",
       "</style>\n",
       "<table border=\"1\" class=\"dataframe\">\n",
       "  <thead>\n",
       "    <tr style=\"text-align: right;\">\n",
       "      <th></th>\n",
       "      <th>tokenized_sent_clean</th>\n",
       "      <th>label</th>\n",
       "      <th>split_tag</th>\n",
       "    </tr>\n",
       "  </thead>\n",
       "  <tbody>\n",
       "    <tr>\n",
       "      <th>0</th>\n",
       "      <td>My dear Mr Bennet, [N] have you heard that    ...</td>\n",
       "      <td>not</td>\n",
       "      <td>train</td>\n",
       "    </tr>\n",
       "    <tr>\n",
       "      <th>1</th>\n",
       "      <td>But it is, [N] for Mrs Long has just been here...</td>\n",
       "      <td>part</td>\n",
       "      <td>train</td>\n",
       "    </tr>\n",
       "    <tr>\n",
       "      <th>2</th>\n",
       "      <td>Do you not want to know who has taken it? [N]</td>\n",
       "      <td>part</td>\n",
       "      <td>train</td>\n",
       "    </tr>\n",
       "    <tr>\n",
       "      <th>3</th>\n",
       "      <td>You want to tell me, and I have no objection t...</td>\n",
       "      <td>response</td>\n",
       "      <td>train</td>\n",
       "    </tr>\n",
       "    <tr>\n",
       "      <th>4</th>\n",
       "      <td>Why, my dear, you must know, Mrs Long says tha...</td>\n",
       "      <td>response</td>\n",
       "      <td>train</td>\n",
       "    </tr>\n",
       "  </tbody>\n",
       "</table>\n",
       "</div>"
      ],
      "text/plain": [
       "                                tokenized_sent_clean     label split_tag\n",
       "0  My dear Mr Bennet, [N] have you heard that    ...       not     train\n",
       "1  But it is, [N] for Mrs Long has just been here...      part     train\n",
       "2      Do you not want to know who has taken it? [N]      part     train\n",
       "3  You want to tell me, and I have no objection t...  response     train\n",
       "4  Why, my dear, you must know, Mrs Long says tha...  response     train"
      ]
     },
     "execution_count": 24,
     "metadata": {},
     "output_type": "execute_result"
    }
   ],
   "source": [
    "df.head()"
   ]
  },
  {
   "cell_type": "markdown",
   "metadata": {},
   "source": [
    "# Preprocessing"
   ]
  },
  {
   "cell_type": "code",
   "execution_count": null,
   "metadata": {},
   "outputs": [],
   "source": []
  },
  {
   "cell_type": "markdown",
   "metadata": {},
   "source": [
    "# Modeling"
   ]
  },
  {
   "cell_type": "code",
   "execution_count": null,
   "metadata": {},
   "outputs": [],
   "source": []
  },
  {
   "cell_type": "markdown",
   "metadata": {},
   "source": [
    "# Evaluation"
   ]
  },
  {
   "cell_type": "code",
   "execution_count": null,
   "metadata": {},
   "outputs": [],
   "source": []
  },
  {
   "cell_type": "markdown",
   "metadata": {},
   "source": [
    "# Export to HTML"
   ]
  },
  {
   "cell_type": "code",
   "execution_count": null,
   "metadata": {},
   "outputs": [],
   "source": [
    "!jupyter nbconvert modeling_notebook_template.ipynb --template toc2"
   ]
  }
 ],
 "metadata": {
  "kernelspec": {
   "display_name": "Python 3",
   "language": "python",
   "name": "python3"
  },
  "language_info": {
   "codemirror_mode": {
    "name": "ipython",
    "version": 3
   },
   "file_extension": ".py",
   "mimetype": "text/x-python",
   "name": "python",
   "nbconvert_exporter": "python",
   "pygments_lexer": "ipython3",
   "version": "3.7.1"
  },
  "toc": {
   "base_numbering": 1,
   "nav_menu": {},
   "number_sections": true,
   "sideBar": true,
   "skip_h1_title": false,
   "title_cell": "Table of Contents",
   "title_sidebar": "Contents",
   "toc_cell": false,
   "toc_position": {},
   "toc_section_display": true,
   "toc_window_display": false
  }
 },
 "nbformat": 4,
 "nbformat_minor": 2
}
