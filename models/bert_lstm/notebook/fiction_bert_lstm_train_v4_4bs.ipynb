{
  "nbformat": 4,
  "nbformat_minor": 0,
  "metadata": {
    "colab": {
      "name": "fiction_bert_lstm_train_v4_4bs.ipynb",
      "version": "0.3.2",
      "provenance": [],
      "collapsed_sections": [
        "BKWBO46LfGwL",
        "AAmAq2TyckLs",
        "4rEuu7mkezTV"
      ]
    },
    "kernelspec": {
      "name": "python3",
      "display_name": "Python 3"
    },
    "accelerator": "GPU"
  },
  "cells": [
    {
      "cell_type": "markdown",
      "metadata": {
        "id": "F3wCjuKBcsgQ",
        "colab_type": "text"
      },
      "source": [
        "This notebook is to train a Named Entity Recognition (NER) model to detect the start of a conversation running on Google Colab."
      ]
    },
    {
      "cell_type": "markdown",
      "metadata": {
        "id": "yB9tznosPUlH",
        "colab_type": "text"
      },
      "source": [
        "# Load Packages"
      ]
    },
    {
      "cell_type": "code",
      "metadata": {
        "id": "5U7JyFviUogi",
        "colab_type": "code",
        "outputId": "d2cc1914-6541-40d2-c4a8-26530f06283b",
        "colab": {
          "base_uri": "https://localhost:8080/",
          "height": 921
        }
      },
      "source": [
        "!pip install git+https://github.com/keras-team/keras.git -U\n",
        "!pip install seqeval\n",
        "!pip install tensorflow-gpu==2.0.0-alpha0\n",
        "!pip install tensorflow-hub"
      ],
      "execution_count": 1,
      "outputs": [
        {
          "output_type": "stream",
          "text": [
            "Collecting git+https://github.com/keras-team/keras.git\n",
            "  Cloning https://github.com/keras-team/keras.git to /tmp/pip-req-build-w9onr92a\n",
            "  Running command git clone -q https://github.com/keras-team/keras.git /tmp/pip-req-build-w9onr92a\n",
            "Requirement already satisfied, skipping upgrade: numpy>=1.9.1 in /usr/local/lib/python3.6/dist-packages (from Keras==2.2.4) (1.14.6)\n",
            "Requirement already satisfied, skipping upgrade: scipy>=0.14 in /usr/local/lib/python3.6/dist-packages (from Keras==2.2.4) (1.2.1)\n",
            "Requirement already satisfied, skipping upgrade: six>=1.9.0 in /usr/local/lib/python3.6/dist-packages (from Keras==2.2.4) (1.12.0)\n",
            "Requirement already satisfied, skipping upgrade: pyyaml in /usr/local/lib/python3.6/dist-packages (from Keras==2.2.4) (3.13)\n",
            "Requirement already satisfied, skipping upgrade: h5py in /usr/local/lib/python3.6/dist-packages (from Keras==2.2.4) (2.8.0)\n",
            "Requirement already satisfied, skipping upgrade: keras_applications>=1.0.6 in /usr/local/lib/python3.6/dist-packages (from Keras==2.2.4) (1.0.7)\n",
            "Requirement already satisfied, skipping upgrade: keras_preprocessing>=1.0.5 in /usr/local/lib/python3.6/dist-packages (from Keras==2.2.4) (1.0.9)\n",
            "Building wheels for collected packages: Keras\n",
            "  Building wheel for Keras (setup.py) ... \u001b[?25l\u001b[?25hdone\n",
            "  Stored in directory: /tmp/pip-ephem-wheel-cache-v4qnxhbs/wheels/da/a4/7e/6b7bd9af18cc2e23b8dd5ed6de07a7e13bd80a17214eb88932\n",
            "Successfully built Keras\n",
            "Installing collected packages: Keras\n",
            "  Found existing installation: Keras 2.2.4\n",
            "    Uninstalling Keras-2.2.4:\n",
            "      Successfully uninstalled Keras-2.2.4\n",
            "Successfully installed Keras-2.2.4\n",
            "Requirement already satisfied: seqeval in /usr/local/lib/python3.6/dist-packages (0.0.10)\n",
            "Requirement already satisfied: Keras>=2.2.4 in /usr/local/lib/python3.6/dist-packages (from seqeval) (2.2.4)\n",
            "Requirement already satisfied: numpy>=1.14.0 in /usr/local/lib/python3.6/dist-packages (from seqeval) (1.14.6)\n",
            "Requirement already satisfied: six>=1.9.0 in /usr/local/lib/python3.6/dist-packages (from Keras>=2.2.4->seqeval) (1.12.0)\n",
            "Requirement already satisfied: keras-preprocessing>=1.0.5 in /usr/local/lib/python3.6/dist-packages (from Keras>=2.2.4->seqeval) (1.0.9)\n",
            "Requirement already satisfied: scipy>=0.14 in /usr/local/lib/python3.6/dist-packages (from Keras>=2.2.4->seqeval) (1.2.1)\n",
            "Requirement already satisfied: pyyaml in /usr/local/lib/python3.6/dist-packages (from Keras>=2.2.4->seqeval) (3.13)\n",
            "Requirement already satisfied: keras-applications>=1.0.6 in /usr/local/lib/python3.6/dist-packages (from Keras>=2.2.4->seqeval) (1.0.7)\n",
            "Requirement already satisfied: h5py in /usr/local/lib/python3.6/dist-packages (from Keras>=2.2.4->seqeval) (2.8.0)\n",
            "Requirement already satisfied: tensorflow-gpu==2.0.0-alpha0 in /usr/local/lib/python3.6/dist-packages (2.0.0a0)\n",
            "Requirement already satisfied: tf-estimator-nightly<1.14.0.dev2019030116,>=1.14.0.dev2019030115 in /usr/local/lib/python3.6/dist-packages (from tensorflow-gpu==2.0.0-alpha0) (1.14.0.dev2019030115)\n",
            "Requirement already satisfied: keras-preprocessing>=1.0.5 in /usr/local/lib/python3.6/dist-packages (from tensorflow-gpu==2.0.0-alpha0) (1.0.9)\n",
            "Requirement already satisfied: six>=1.10.0 in /usr/local/lib/python3.6/dist-packages (from tensorflow-gpu==2.0.0-alpha0) (1.12.0)\n",
            "Requirement already satisfied: keras-applications>=1.0.6 in /usr/local/lib/python3.6/dist-packages (from tensorflow-gpu==2.0.0-alpha0) (1.0.7)\n",
            "Requirement already satisfied: grpcio>=1.8.6 in /usr/local/lib/python3.6/dist-packages (from tensorflow-gpu==2.0.0-alpha0) (1.15.0)\n",
            "Requirement already satisfied: google-pasta>=0.1.2 in /usr/local/lib/python3.6/dist-packages (from tensorflow-gpu==2.0.0-alpha0) (0.1.5)\n",
            "Requirement already satisfied: tb-nightly<1.14.0a20190302,>=1.14.0a20190301 in /usr/local/lib/python3.6/dist-packages (from tensorflow-gpu==2.0.0-alpha0) (1.14.0a20190301)\n",
            "Requirement already satisfied: termcolor>=1.1.0 in /usr/local/lib/python3.6/dist-packages (from tensorflow-gpu==2.0.0-alpha0) (1.1.0)\n",
            "Requirement already satisfied: wheel>=0.26 in /usr/local/lib/python3.6/dist-packages (from tensorflow-gpu==2.0.0-alpha0) (0.33.1)\n",
            "Requirement already satisfied: gast>=0.2.0 in /usr/local/lib/python3.6/dist-packages (from tensorflow-gpu==2.0.0-alpha0) (0.2.2)\n",
            "Requirement already satisfied: absl-py>=0.7.0 in /usr/local/lib/python3.6/dist-packages (from tensorflow-gpu==2.0.0-alpha0) (0.7.1)\n",
            "Requirement already satisfied: protobuf>=3.6.1 in /usr/local/lib/python3.6/dist-packages (from tensorflow-gpu==2.0.0-alpha0) (3.7.1)\n",
            "Requirement already satisfied: astor>=0.6.0 in /usr/local/lib/python3.6/dist-packages (from tensorflow-gpu==2.0.0-alpha0) (0.7.1)\n",
            "Requirement already satisfied: numpy<2.0,>=1.14.5 in /usr/local/lib/python3.6/dist-packages (from tensorflow-gpu==2.0.0-alpha0) (1.14.6)\n",
            "Requirement already satisfied: h5py in /usr/local/lib/python3.6/dist-packages (from keras-applications>=1.0.6->tensorflow-gpu==2.0.0-alpha0) (2.8.0)\n",
            "Requirement already satisfied: markdown>=2.6.8 in /usr/local/lib/python3.6/dist-packages (from tb-nightly<1.14.0a20190302,>=1.14.0a20190301->tensorflow-gpu==2.0.0-alpha0) (3.1)\n",
            "Requirement already satisfied: werkzeug>=0.11.15 in /usr/local/lib/python3.6/dist-packages (from tb-nightly<1.14.0a20190302,>=1.14.0a20190301->tensorflow-gpu==2.0.0-alpha0) (0.15.2)\n",
            "Requirement already satisfied: setuptools in /usr/local/lib/python3.6/dist-packages (from protobuf>=3.6.1->tensorflow-gpu==2.0.0-alpha0) (41.0.1)\n",
            "Requirement already satisfied: tensorflow-hub in /usr/local/lib/python3.6/dist-packages (0.4.0)\n",
            "Requirement already satisfied: numpy>=1.12.0 in /usr/local/lib/python3.6/dist-packages (from tensorflow-hub) (1.14.6)\n",
            "Requirement already satisfied: six>=1.10.0 in /usr/local/lib/python3.6/dist-packages (from tensorflow-hub) (1.12.0)\n",
            "Requirement already satisfied: protobuf>=3.4.0 in /usr/local/lib/python3.6/dist-packages (from tensorflow-hub) (3.7.1)\n",
            "Requirement already satisfied: setuptools in /usr/local/lib/python3.6/dist-packages (from protobuf>=3.4.0->tensorflow-hub) (41.0.1)\n"
          ],
          "name": "stdout"
        }
      ]
    },
    {
      "cell_type": "code",
      "metadata": {
        "id": "1jZO7vKOUeg-",
        "colab_type": "code",
        "outputId": "a54800a4-77c0-4757-ca9a-c4f69cd30307",
        "colab": {
          "base_uri": "https://localhost:8080/",
          "height": 34
        }
      },
      "source": [
        "# Load the TensorBoard notebook extension.\n",
        "%load_ext tensorboard"
      ],
      "execution_count": 2,
      "outputs": [
        {
          "output_type": "stream",
          "text": [
            "The tensorboard module is not an IPython extension.\n"
          ],
          "name": "stdout"
        }
      ]
    },
    {
      "cell_type": "code",
      "metadata": {
        "id": "Qo01eQRXR9Y9",
        "colab_type": "code",
        "colab": {}
      },
      "source": [
        "import numpy as np\n",
        "import tensorflow as tf\n",
        "import tensorflow_hub as hub\n",
        "from tensorflow.keras.models import Model\n",
        "from tensorflow.keras import Input\n",
        "from tensorflow.keras.preprocessing.sequence import pad_sequences\n",
        "from tensorflow.keras.utils import to_categorical\n",
        "from tensorflow.keras.layers import TimeDistributed, Dense, Embedding, Input, Dropout, LSTM, Bidirectional, Lambda\n",
        "from tensorflow.keras.layers import concatenate\n",
        "from seqeval.metrics import classification_report as classification_report_entity\n",
        "from seqeval.metrics import precision_score, recall_score, f1_score\n",
        "from tensorflow.keras.callbacks import ModelCheckpoint, EarlyStopping, TensorBoard"
      ],
      "execution_count": 0,
      "outputs": []
    },
    {
      "cell_type": "markdown",
      "metadata": {
        "id": "BKWBO46LfGwL",
        "colab_type": "text"
      },
      "source": [
        "## Make sure tensorflow 2.0 is installed"
      ]
    },
    {
      "cell_type": "code",
      "metadata": {
        "id": "9-QvMjA9TwBX",
        "colab_type": "code",
        "outputId": "432551c6-15d7-4c37-ca3b-429eea159072",
        "colab": {
          "base_uri": "https://localhost:8080/",
          "height": 0
        }
      },
      "source": [
        "from __future__ import absolute_import\n",
        "from __future__ import division\n",
        "from __future__ import print_function\n",
        "\n",
        "from datetime import datetime\n",
        "from packaging import version\n",
        "\n",
        "print(\"TensorFlow version: \", tf.__version__)\n",
        "assert version.parse(tf.__version__).release[0] >= 2, \\\n",
        "    \"This notebook requires TensorFlow 2.0 or above.\""
      ],
      "execution_count": 4,
      "outputs": [
        {
          "output_type": "stream",
          "text": [
            "TensorFlow version:  2.0.0-alpha0\n"
          ],
          "name": "stdout"
        }
      ]
    },
    {
      "cell_type": "markdown",
      "metadata": {
        "id": "AAmAq2TyckLs",
        "colab_type": "text"
      },
      "source": [
        "## Check available GPU"
      ]
    },
    {
      "cell_type": "code",
      "metadata": {
        "id": "Te1A3i0bmBiE",
        "colab_type": "code",
        "outputId": "256f6c5b-ff38-4ff1-d6ad-2b0524570d82",
        "colab": {
          "base_uri": "https://localhost:8080/",
          "height": 0
        }
      },
      "source": [
        "x = tf.random.uniform([3, 3])\n",
        "\n",
        "print(\"Is there a GPU available: \"),\n",
        "print(tf.test.is_gpu_available())\n",
        "\n",
        "print(\"Is the Tensor on GPU #0:  \"),\n",
        "print(x.device.endswith('GPU:0'))\n",
        "\n",
        "print(\"Device name: {}\".format((x.device)))"
      ],
      "execution_count": 5,
      "outputs": [
        {
          "output_type": "stream",
          "text": [
            "Is there a GPU available: \n",
            "True\n",
            "Is the Tensor on GPU #0:  \n",
            "True\n",
            "Device name: /job:localhost/replica:0/task:0/device:GPU:0\n"
          ],
          "name": "stdout"
        }
      ]
    },
    {
      "cell_type": "markdown",
      "metadata": {
        "id": "NBDTXEdCWCCD",
        "colab_type": "text"
      },
      "source": [
        "# Prepare data"
      ]
    },
    {
      "cell_type": "markdown",
      "metadata": {
        "id": "G99aWDiFdGID",
        "colab_type": "text"
      },
      "source": [
        "We uploaded the dataset from to Google drive and then read as datafrme."
      ]
    },
    {
      "cell_type": "markdown",
      "metadata": {
        "id": "4rEuu7mkezTV",
        "colab_type": "text"
      },
      "source": [
        "## Load dataset"
      ]
    },
    {
      "cell_type": "code",
      "metadata": {
        "id": "DmOAoeXxSIJq",
        "colab_type": "code",
        "outputId": "c19a05ef-48cf-4143-a4d3-b2134274d2fe",
        "colab": {
          "base_uri": "https://localhost:8080/",
          "height": 0
        }
      },
      "source": [
        "from google.colab import drive\n",
        "drive.mount('/content/gdrive')"
      ],
      "execution_count": 6,
      "outputs": [
        {
          "output_type": "stream",
          "text": [
            "Drive already mounted at /content/gdrive; to attempt to forcibly remount, call drive.mount(\"/content/gdrive\", force_remount=True).\n"
          ],
          "name": "stdout"
        }
      ]
    },
    {
      "cell_type": "code",
      "metadata": {
        "id": "Mr-3CvUFSMRn",
        "colab_type": "code",
        "colab": {}
      },
      "source": [
        "loc = '/content/gdrive/My Drive/tf2.0/'"
      ],
      "execution_count": 0,
      "outputs": []
    },
    {
      "cell_type": "code",
      "metadata": {
        "id": "xxt4wmEGSOzT",
        "colab_type": "code",
        "outputId": "5d401207-872c-4318-fa1b-b2d4ff247698",
        "colab": {
          "base_uri": "https://localhost:8080/",
          "height": 0
        }
      },
      "source": [
        "import pandas as pd\n",
        "import numpy as np\n",
        "import matplotlib.pyplot as plt\n",
        "import os \n",
        "\n",
        "plt.style.use(\"ggplot\")\n",
        "\n",
        "data = pd.read_csv(os.path.join(loc, \"iob-labeled-sent-final-020519.csv\"))\n",
        "data = data.fillna(method=\"ffill\")\n",
        "data.head(15)"
      ],
      "execution_count": 8,
      "outputs": [
        {
          "output_type": "execute_result",
          "data": {
            "text/html": [
              "<div>\n",
              "<style scoped>\n",
              "    .dataframe tbody tr th:only-of-type {\n",
              "        vertical-align: middle;\n",
              "    }\n",
              "\n",
              "    .dataframe tbody tr th {\n",
              "        vertical-align: top;\n",
              "    }\n",
              "\n",
              "    .dataframe thead th {\n",
              "        text-align: right;\n",
              "    }\n",
              "</style>\n",
              "<table border=\"1\" class=\"dataframe\">\n",
              "  <thead>\n",
              "    <tr style=\"text-align: right;\">\n",
              "      <th></th>\n",
              "      <th>para_index</th>\n",
              "      <th>sent</th>\n",
              "      <th>label</th>\n",
              "      <th>split_tag</th>\n",
              "    </tr>\n",
              "  </thead>\n",
              "  <tbody>\n",
              "    <tr>\n",
              "      <th>0</th>\n",
              "      <td>0</td>\n",
              "      <td>By Jane Austen</td>\n",
              "      <td>O</td>\n",
              "      <td>train</td>\n",
              "    </tr>\n",
              "    <tr>\n",
              "      <th>1</th>\n",
              "      <td>1</td>\n",
              "      <td>Chapter 1</td>\n",
              "      <td>O</td>\n",
              "      <td>train</td>\n",
              "    </tr>\n",
              "    <tr>\n",
              "      <th>2</th>\n",
              "      <td>2</td>\n",
              "      <td>It is a truth universally acknowledged, that a...</td>\n",
              "      <td>O</td>\n",
              "      <td>train</td>\n",
              "    </tr>\n",
              "    <tr>\n",
              "      <th>3</th>\n",
              "      <td>3</td>\n",
              "      <td>However little known the feelings or views of ...</td>\n",
              "      <td>O</td>\n",
              "      <td>train</td>\n",
              "    </tr>\n",
              "    <tr>\n",
              "      <th>4</th>\n",
              "      <td>4</td>\n",
              "      <td>\"My dear Mr Bennet,\"</td>\n",
              "      <td>B-START</td>\n",
              "      <td>train</td>\n",
              "    </tr>\n",
              "    <tr>\n",
              "      <th>5</th>\n",
              "      <td>4</td>\n",
              "      <td>\"have you heard that       Netherfield Park is...</td>\n",
              "      <td>I-START</td>\n",
              "      <td>train</td>\n",
              "    </tr>\n",
              "    <tr>\n",
              "      <th>6</th>\n",
              "      <td>5</td>\n",
              "      <td>Mr Bennet replied that he had not.</td>\n",
              "      <td>O</td>\n",
              "      <td>train</td>\n",
              "    </tr>\n",
              "    <tr>\n",
              "      <th>7</th>\n",
              "      <td>6</td>\n",
              "      <td>\"But it is,\"</td>\n",
              "      <td>B-OTHER</td>\n",
              "      <td>train</td>\n",
              "    </tr>\n",
              "    <tr>\n",
              "      <th>8</th>\n",
              "      <td>6</td>\n",
              "      <td>\"for Mrs Long has just been here, and she told...</td>\n",
              "      <td>I-OTHER</td>\n",
              "      <td>train</td>\n",
              "    </tr>\n",
              "    <tr>\n",
              "      <th>9</th>\n",
              "      <td>7</td>\n",
              "      <td>Mr Bennet made no answer.</td>\n",
              "      <td>O</td>\n",
              "      <td>train</td>\n",
              "    </tr>\n",
              "    <tr>\n",
              "      <th>10</th>\n",
              "      <td>8</td>\n",
              "      <td>\"Do you not want to know who has taken it?\"</td>\n",
              "      <td>B-OTHER</td>\n",
              "      <td>train</td>\n",
              "    </tr>\n",
              "    <tr>\n",
              "      <th>11</th>\n",
              "      <td>8</td>\n",
              "      <td>cried his wife impatiently.</td>\n",
              "      <td>O</td>\n",
              "      <td>train</td>\n",
              "    </tr>\n",
              "    <tr>\n",
              "      <th>12</th>\n",
              "      <td>9</td>\n",
              "      <td>\"You want to tell me, and I have no objection ...</td>\n",
              "      <td>B-OTHER</td>\n",
              "      <td>train</td>\n",
              "    </tr>\n",
              "    <tr>\n",
              "      <th>13</th>\n",
              "      <td>10</td>\n",
              "      <td>This was invitation enough.</td>\n",
              "      <td>O</td>\n",
              "      <td>train</td>\n",
              "    </tr>\n",
              "    <tr>\n",
              "      <th>14</th>\n",
              "      <td>11</td>\n",
              "      <td>\"Why, my dear, you must know, Mrs Long says th...</td>\n",
              "      <td>B-OTHER</td>\n",
              "      <td>train</td>\n",
              "    </tr>\n",
              "  </tbody>\n",
              "</table>\n",
              "</div>"
            ],
            "text/plain": [
              "    para_index                                               sent    label  \\\n",
              "0            0                                     By Jane Austen        O   \n",
              "1            1                                          Chapter 1        O   \n",
              "2            2  It is a truth universally acknowledged, that a...        O   \n",
              "3            3  However little known the feelings or views of ...        O   \n",
              "4            4                               \"My dear Mr Bennet,\"  B-START   \n",
              "5            4  \"have you heard that       Netherfield Park is...  I-START   \n",
              "6            5                 Mr Bennet replied that he had not.        O   \n",
              "7            6                                       \"But it is,\"  B-OTHER   \n",
              "8            6  \"for Mrs Long has just been here, and she told...  I-OTHER   \n",
              "9            7                          Mr Bennet made no answer.        O   \n",
              "10           8        \"Do you not want to know who has taken it?\"  B-OTHER   \n",
              "11           8                        cried his wife impatiently.        O   \n",
              "12           9  \"You want to tell me, and I have no objection ...  B-OTHER   \n",
              "13          10                        This was invitation enough.        O   \n",
              "14          11  \"Why, my dear, you must know, Mrs Long says th...  B-OTHER   \n",
              "\n",
              "   split_tag  \n",
              "0      train  \n",
              "1      train  \n",
              "2      train  \n",
              "3      train  \n",
              "4      train  \n",
              "5      train  \n",
              "6      train  \n",
              "7      train  \n",
              "8      train  \n",
              "9      train  \n",
              "10     train  \n",
              "11     train  \n",
              "12     train  \n",
              "13     train  \n",
              "14     train  "
            ]
          },
          "metadata": {
            "tags": []
          },
          "execution_count": 8
        }
      ]
    },
    {
      "cell_type": "code",
      "metadata": {
        "id": "Ci67EiWrXBQf",
        "colab_type": "code",
        "outputId": "775d4f56-b5d2-49d4-9687-ac00960b4e97",
        "colab": {
          "base_uri": "https://localhost:8080/",
          "height": 0
        }
      },
      "source": [
        "data.shape"
      ],
      "execution_count": 9,
      "outputs": [
        {
          "output_type": "execute_result",
          "data": {
            "text/plain": [
              "(2747, 4)"
            ]
          },
          "metadata": {
            "tags": []
          },
          "execution_count": 9
        }
      ]
    },
    {
      "cell_type": "markdown",
      "metadata": {
        "id": "rYOvGAz7dZbk",
        "colab_type": "text"
      },
      "source": [
        "There are in total 2747 records in the dataset and our goal is to detect the Start of conversation, denoted by B-START and I-START. The approach is NER to find all START records and OTHER records. The dataset is in IOB format,"
      ]
    },
    {
      "cell_type": "code",
      "metadata": {
        "id": "SbAVXLW_vHT1",
        "colab_type": "code",
        "outputId": "fe5409a3-77a3-4522-83a9-dba18826bf61",
        "colab": {
          "base_uri": "https://localhost:8080/",
          "height": 0
        }
      },
      "source": [
        "tags = list(set(data[\"label\"].values))\n",
        "n_tags = len(tags); tags"
      ],
      "execution_count": 10,
      "outputs": [
        {
          "output_type": "execute_result",
          "data": {
            "text/plain": [
              "['I-OTHER', 'B-START', 'B-OTHER', 'O', 'I-START']"
            ]
          },
          "metadata": {
            "tags": []
          },
          "execution_count": 10
        }
      ]
    },
    {
      "cell_type": "markdown",
      "metadata": {
        "id": "WdF6u2XzfRAT",
        "colab_type": "text"
      },
      "source": [
        "## Group paragraphs and pad sentence"
      ]
    },
    {
      "cell_type": "markdown",
      "metadata": {
        "id": "X1kS3BgmeIrd",
        "colab_type": "text"
      },
      "source": [
        "Next, we will group some paragraphs together so that the model can learn more contextual information to detect the start of conversation. In this notebook, we group 4 paragraphs into 1."
      ]
    },
    {
      "cell_type": "code",
      "metadata": {
        "id": "Iz3OMyy_BpbR",
        "colab_type": "code",
        "colab": {}
      },
      "source": [
        "num_para_in_group = 4\n",
        "\n",
        "data['grouped_para_index'] = data['para_index'].apply(lambda x: int(x/num_para_in_group+1))"
      ],
      "execution_count": 0,
      "outputs": []
    },
    {
      "cell_type": "code",
      "metadata": {
        "id": "KkXS8hF8vPze",
        "colab_type": "code",
        "colab": {}
      },
      "source": [
        "class paragraphGetter(object):\n",
        "\n",
        "    def __init__(self, data):\n",
        "        self.n_para = 1\n",
        "        self.data = data\n",
        "        self.empty = False\n",
        "        agg_func = lambda s: [(w, p, t) for w, p, t in zip(s[\"sent\"].values.tolist(),\n",
        "                                                           s[\"split_tag\"].values.tolist(),\n",
        "                                                           s[\"label\"].values.tolist())]\n",
        "        self.grouped = self.data.groupby(\"grouped_para_index\").apply(agg_func)\n",
        "        print(self.grouped)\n",
        "        self.paragraphs = [s for s in self.grouped]\n",
        "    \n",
        "    def get_next(self):\n",
        "        try:\n",
        "            s = self.grouped[\"grouped_paragraph: {}\".format(self.n_para)]\n",
        "            print(s)\n",
        "            self.n_para += 1\n",
        "            return s\n",
        "        except:\n",
        "            return None"
      ],
      "execution_count": 0,
      "outputs": []
    },
    {
      "cell_type": "code",
      "metadata": {
        "id": "gPdTYMlsvmsn",
        "colab_type": "code",
        "outputId": "ea5bd25a-6183-474a-bfe5-346aa42d5c5f",
        "colab": {
          "base_uri": "https://localhost:8080/",
          "height": 1088
        }
      },
      "source": [
        "getter = paragraphGetter(data)"
      ],
      "execution_count": 13,
      "outputs": [
        {
          "output_type": "stream",
          "text": [
            "grouped_para_index\n",
            "1      [(By Jane Austen, train, O), (Chapter 1, train...\n",
            "2      [(\"My dear Mr Bennet,\", train, B-START), (\"hav...\n",
            "3      [(\"Do you not want to know who has taken it?\",...\n",
            "4      [(\"What is his name?\", train, B-OTHER), (\"Bing...\n",
            "5      [(\"How so? How can it affect them?\", train, B-...\n",
            "6      [(\"I see no occasion for that. You and the gir...\n",
            "7      [(\"It is more than I engage for, I assure you....\n",
            "8      [(\"They have none of them much to recommend th...\n",
            "9      [(\"But I hope you will get over it, and live t...\n",
            "10     [(Chapter 2, train, O), (Mr Bennet was among t...\n",
            "11     [(\"But you forget, mamma,\", train, B-OTHER), (...\n",
            "12     [(\"Don't keep coughing so, Kitty, for Heaven's...\n",
            "13     [(\"Aye, so it is,\", train, B-OTHER), (\"and Mrs...\n",
            "14     [(The girls stared at their father. Mrs Bennet...\n",
            "15     [(\"I am sick of Mr Bingley,\", train, B-OTHER),...\n",
            "16     [(\"Now, Kitty, you may cough as much as you ch...\n",
            "17     [(Chapter 3, train, O), (Not all that Mrs Benn...\n",
            "18     [(An invitation to dinner was soon afterwards ...\n",
            "19     [(\"Come, Darcy,\", train, B-START), (\"I must ha...\n",
            "20     [(\"Oh! She is the most beautiful creature I ev...\n",
            "21     [(\"Oh! my dear Mr Bennet,\", train, B-START), (...\n",
            "22     [(\"But I can assure you,\", train, B-OTHER), (\"...\n",
            "23     [(\"He is also handsome,\", train, B-OTHER), (\"w...\n",
            "24     [(\"Oh! you are a great deal too apt, you know,...\n",
            "25     [(Elizabeth listened in silence, but was not c...\n",
            "26     [(The manner in which they spoke of the Meryto...\n",
            "27     [(Lady Lucas was a very good kind of woman, no...\n",
            "28     [(\"Oh! you mean Jane, I suppose, because he da...\n",
            "29     [(\"I beg you would not put it into Lizzy's hea...\n",
            "30     [(\"I do not believe a word of it, my dear. If ...\n",
            "                             ...                        \n",
            "501    [(\"When I wrote that letter,\", train, B-OTHER)...\n",
            "502    [(\"Indeed I had. What will you think of my van...\n",
            "503    [(\"No indeed; I felt nothing but surprise.\", t...\n",
            "504    [(She expressed her gratitude again, but it wa...\n",
            "505    [(\"Not at all. When I went away, I felt that i...\n",
            "506    [(\"Did you speak from your own observation,\", ...\n",
            "507    [(Elizabeth longed to observe that Mr Bingley ...\n",
            "508    [(At night she opened her heart to Jane. Thoug...\n",
            "509    [(\"You know nothing of the matter. That is all...\n",
            "510    [(\"Very, very much. Nothing could give either ...\n",
            "511    [(\"My dearest sister, now be serious. I want t...\n",
            "512    [(Elizabeth told her the motives of her secrec...\n",
            "513    [(\"I advise Mr Darcy, and Lizzy, and Kitty,\", ...\n",
            "514    [(In the evening, soon after Mr Bennet withdre...\n",
            "515    [(\"Have you any other objection,\", train, B-OT...\n",
            "516    [(Elizabeth, still more affected, was earnest ...\n",
            "517    [(He then recollected her embarrassment a few ...\n",
            "518    [(This was enough to prove that her approbatio...\n",
            "519    [(\"I admire all my three sons-in-law highly,\",...\n",
            "520    [(\"My beauty you had early withstood, and as f...\n",
            "521    [(\"Dearest Jane! who could have done less for ...\n",
            "522    [(\"You might have talked to me more when you c...\n",
            "523    [(\"Lady Catherine has been of infinite use, wh...\n",
            "524    [(\"And if I had not a letter to write myself, ...\n",
            "525    [(DEAR SIR,, train, O), (I must trouble you on...\n",
            "526    [(The joy which MissDarcy expressed on receivi...\n",
            "527    [(Happy for all her maternal feelings was the ...\n",
            "528    [(Mary was the only daughter who remained at h...\n",
            "529    [(\"Yours, etc.\", train, B-OTHER), (As it happe...\n",
            "530    [(Pemberley was now Georgiana's home; and the ...\n",
            "Length: 530, dtype: object\n"
          ],
          "name": "stdout"
        }
      ]
    },
    {
      "cell_type": "code",
      "metadata": {
        "id": "8xlMNjhHvqh4",
        "colab_type": "code",
        "colab": {}
      },
      "source": [
        "paragraphs = getter.paragraphs"
      ],
      "execution_count": 0,
      "outputs": []
    },
    {
      "cell_type": "code",
      "metadata": {
        "id": "j5qgJm3ASpSq",
        "colab_type": "code",
        "outputId": "79cd1f7f-c10c-4c8c-9e55-c95c4980b754",
        "colab": {
          "base_uri": "https://localhost:8080/",
          "height": 34
        }
      },
      "source": [
        "len(paragraphs)"
      ],
      "execution_count": 15,
      "outputs": [
        {
          "output_type": "execute_result",
          "data": {
            "text/plain": [
              "530"
            ]
          },
          "metadata": {
            "tags": []
          },
          "execution_count": 15
        }
      ]
    },
    {
      "cell_type": "markdown",
      "metadata": {
        "id": "DpmnGrpjeUF6",
        "colab_type": "text"
      },
      "source": [
        "After grouping, there are 530 data points in the dataset. Each groupped paragraph contains the multiple sentence and tag pairs."
      ]
    },
    {
      "cell_type": "code",
      "metadata": {
        "id": "1bQlkwcDvu-0",
        "colab_type": "code",
        "outputId": "0afbb832-a843-4957-ea5d-2c2f93bcab76",
        "colab": {
          "base_uri": "https://localhost:8080/",
          "height": 54
        }
      },
      "source": [
        "print(paragraphs[0])"
      ],
      "execution_count": 16,
      "outputs": [
        {
          "output_type": "stream",
          "text": [
            "[('By Jane Austen', 'train', 'O'), ('Chapter 1', 'train', 'O'), ('It is a truth universally acknowledged, that a single man in possession of       a good fortune, must be in want of a wife.', 'train', 'O'), ('However little known the feelings or views of such a man may be on his       first entering a neighbourhood, this truth is so well fixed in the minds       of the surrounding families, that he is considered the rightful property       of some one or other of their daughters.', 'train', 'O')]\n"
          ],
          "name": "stdout"
        }
      ]
    },
    {
      "cell_type": "code",
      "metadata": {
        "id": "sb9BzUWnS44s",
        "colab_type": "code",
        "outputId": "c42247d8-beed-4623-bb12-f111f44702f5",
        "colab": {
          "base_uri": "https://localhost:8080/",
          "height": 34
        }
      },
      "source": [
        "maxlen = max([len(s) for s in paragraphs])\n",
        "print('Maximum sequence length:', maxlen)"
      ],
      "execution_count": 17,
      "outputs": [
        {
          "output_type": "stream",
          "text": [
            "Maximum sequence length: 11\n"
          ],
          "name": "stdout"
        }
      ]
    },
    {
      "cell_type": "markdown",
      "metadata": {
        "id": "GbHX-7T-eoDM",
        "colab_type": "text"
      },
      "source": [
        "Maximum sequence length is 11, so we set the max_len to be 11 for padding."
      ]
    },
    {
      "cell_type": "code",
      "metadata": {
        "id": "pKvI3DR5SGCt",
        "colab_type": "code",
        "colab": {}
      },
      "source": [
        "max_len = 11\n",
        "tag2idx = {'B-OTHER': 4, 'B-START': 3, 'I-OTHER': 0, 'I-START': 1, 'O': 2}"
      ],
      "execution_count": 0,
      "outputs": []
    },
    {
      "cell_type": "code",
      "metadata": {
        "id": "ykVbvWorSpab",
        "colab_type": "code",
        "outputId": "5d760599-68e7-46e9-df51-a14f24d0bf81",
        "colab": {
          "base_uri": "https://localhost:8080/",
          "height": 224
        }
      },
      "source": [
        "X_ori = [[w[0] for w in s] for s in paragraphs]\n",
        "\n",
        "X = []\n",
        "for seq in X_ori:\n",
        "    new_seq = []\n",
        "    for i in range(max_len):\n",
        "        try:\n",
        "            new_seq.append(seq[i])\n",
        "        except:\n",
        "            new_seq.append(\"PAD\")\n",
        "    X.append(new_seq)\n",
        "X[0]"
      ],
      "execution_count": 19,
      "outputs": [
        {
          "output_type": "execute_result",
          "data": {
            "text/plain": [
              "['By Jane Austen',\n",
              " 'Chapter 1',\n",
              " 'It is a truth universally acknowledged, that a single man in possession of       a good fortune, must be in want of a wife.',\n",
              " 'However little known the feelings or views of such a man may be on his       first entering a neighbourhood, this truth is so well fixed in the minds       of the surrounding families, that he is considered the rightful property       of some one or other of their daughters.',\n",
              " 'PAD',\n",
              " 'PAD',\n",
              " 'PAD',\n",
              " 'PAD',\n",
              " 'PAD',\n",
              " 'PAD',\n",
              " 'PAD']"
            ]
          },
          "metadata": {
            "tags": []
          },
          "execution_count": 19
        }
      ]
    },
    {
      "cell_type": "code",
      "metadata": {
        "id": "8UEly95goLcr",
        "colab_type": "code",
        "outputId": "bb517f17-6c06-4568-9cd6-2566a24f72b6",
        "colab": {
          "base_uri": "https://localhost:8080/",
          "height": 34
        }
      },
      "source": [
        "print(np.asarray(X).shape)"
      ],
      "execution_count": 20,
      "outputs": [
        {
          "output_type": "stream",
          "text": [
            "(530, 11)\n"
          ],
          "name": "stdout"
        }
      ]
    },
    {
      "cell_type": "markdown",
      "metadata": {
        "id": "Ryw9KO0Ffj0I",
        "colab_type": "text"
      },
      "source": [
        "## Bert sentence embedding"
      ]
    },
    {
      "cell_type": "markdown",
      "metadata": {
        "id": "kXXWiO8ogDcR",
        "colab_type": "text"
      },
      "source": [
        "bert_embedding, an open-source package is used to generate the sentence embedding"
      ]
    },
    {
      "cell_type": "code",
      "metadata": {
        "id": "QeQn5tIHIGw4",
        "colab_type": "code",
        "outputId": "56f594a4-a895-4101-d834-91c560fc85d2",
        "colab": {
          "base_uri": "https://localhost:8080/",
          "height": 224
        }
      },
      "source": [
        "!pip install bert_embedding"
      ],
      "execution_count": 21,
      "outputs": [
        {
          "output_type": "stream",
          "text": [
            "Requirement already satisfied: bert_embedding in /usr/local/lib/python3.6/dist-packages (1.0.1)\n",
            "Requirement already satisfied: numpy==1.14.6 in /usr/local/lib/python3.6/dist-packages (from bert_embedding) (1.14.6)\n",
            "Requirement already satisfied: gluonnlp==0.6.0 in /usr/local/lib/python3.6/dist-packages (from bert_embedding) (0.6.0)\n",
            "Requirement already satisfied: mxnet==1.4.0 in /usr/local/lib/python3.6/dist-packages (from bert_embedding) (1.4.0)\n",
            "Requirement already satisfied: typing==3.6.6 in /usr/local/lib/python3.6/dist-packages (from bert_embedding) (3.6.6)\n",
            "Requirement already satisfied: requests>=2.20.0 in /usr/local/lib/python3.6/dist-packages (from mxnet==1.4.0->bert_embedding) (2.21.0)\n",
            "Requirement already satisfied: graphviz<0.9.0,>=0.8.1 in /usr/local/lib/python3.6/dist-packages (from mxnet==1.4.0->bert_embedding) (0.8.4)\n",
            "Requirement already satisfied: chardet<3.1.0,>=3.0.2 in /usr/local/lib/python3.6/dist-packages (from requests>=2.20.0->mxnet==1.4.0->bert_embedding) (3.0.4)\n",
            "Requirement already satisfied: idna<2.9,>=2.5 in /usr/local/lib/python3.6/dist-packages (from requests>=2.20.0->mxnet==1.4.0->bert_embedding) (2.8)\n",
            "Requirement already satisfied: certifi>=2017.4.17 in /usr/local/lib/python3.6/dist-packages (from requests>=2.20.0->mxnet==1.4.0->bert_embedding) (2019.3.9)\n",
            "Requirement already satisfied: urllib3<1.25,>=1.21.1 in /usr/local/lib/python3.6/dist-packages (from requests>=2.20.0->mxnet==1.4.0->bert_embedding) (1.24.2)\n"
          ],
          "name": "stdout"
        }
      ]
    },
    {
      "cell_type": "markdown",
      "metadata": {
        "id": "tOZiQCM0f0qC",
        "colab_type": "text"
      },
      "source": [
        "The average of all words' embedding in a sentence is used as this sentence's embedding"
      ]
    },
    {
      "cell_type": "code",
      "metadata": {
        "id": "gmjNatsvM_-i",
        "colab_type": "code",
        "colab": {}
      },
      "source": [
        "from bert_embedding import BertEmbedding\n",
        "bert_embedding = BertEmbedding()\n",
        "\n",
        "def bertSentenceEmbedding(x):\n",
        "  embeddings = []\n",
        "  count = 0\n",
        "  for para in x:\n",
        "    para_all_embed = np.asarray(bert_embedding(para))[:,1]\n",
        "  \n",
        "    para_embed = []\n",
        "    for embed in np.asarray(para_all_embed):\n",
        "      count = 0\n",
        "      all_embed = [0]*768\n",
        "      for word_embed in embed:\n",
        "        count += 1\n",
        "        all_embed = all_embed + word_embed\n",
        "      # average of word embedding as sentence embedding\n",
        "      sent_embed = all_embed/count\n",
        "      para_embed.append(sent_embed)\n",
        "      \n",
        "    embeddings.append(para_embed)\n",
        "  return embeddings"
      ],
      "execution_count": 0,
      "outputs": []
    },
    {
      "cell_type": "markdown",
      "metadata": {
        "id": "Bzdvg6algMGJ",
        "colab_type": "text"
      },
      "source": [
        "The embedding generation takes long time, so we generate once and save it for future use."
      ]
    },
    {
      "cell_type": "code",
      "metadata": {
        "id": "ZG3Y8N8GL99y",
        "colab_type": "code",
        "colab": {}
      },
      "source": [
        "X_embed = np.load(os.path.join(loc, \"v3-g4-b4/X_g_embedding_4.npy\"))"
      ],
      "execution_count": 0,
      "outputs": []
    },
    {
      "cell_type": "code",
      "metadata": {
        "id": "HYZZLv54UOmr",
        "colab_type": "code",
        "outputId": "91b6dd5f-d8a9-449c-fe9d-f324dcca95f1",
        "colab": {
          "base_uri": "https://localhost:8080/",
          "height": 34
        }
      },
      "source": [
        "print(np.asarray(X_embed).shape)"
      ],
      "execution_count": 24,
      "outputs": [
        {
          "output_type": "stream",
          "text": [
            "(530, 11, 768)\n"
          ],
          "name": "stdout"
        }
      ]
    },
    {
      "cell_type": "markdown",
      "metadata": {
        "id": "Cj_rVvDUgVgM",
        "colab_type": "text"
      },
      "source": [
        "## Prepare train, test, validation dataset"
      ]
    },
    {
      "cell_type": "code",
      "metadata": {
        "id": "5fKuf-W7SvdI",
        "colab_type": "code",
        "outputId": "b9498093-9177-4312-95e5-27f39c0aa72a",
        "colab": {
          "base_uri": "https://localhost:8080/",
          "height": 34
        }
      },
      "source": [
        "y = [[tag2idx[w[2]] for w in s] for s in paragraphs]\n",
        "\n",
        "y = pad_sequences(maxlen=max_len, sequences=y, padding=\"post\", value=tag2idx[\"O\"])\n",
        "y[0]"
      ],
      "execution_count": 25,
      "outputs": [
        {
          "output_type": "execute_result",
          "data": {
            "text/plain": [
              "array([2, 2, 2, 2, 2, 2, 2, 2, 2, 2, 2], dtype=int32)"
            ]
          },
          "metadata": {
            "tags": []
          },
          "execution_count": 25
        }
      ]
    },
    {
      "cell_type": "code",
      "metadata": {
        "id": "dJEGhf2IIrWe",
        "colab_type": "code",
        "outputId": "b7ae25fc-463f-4d01-b36b-02ecc6beaa25",
        "colab": {
          "base_uri": "https://localhost:8080/",
          "height": 68
        }
      },
      "source": [
        "train_index = set(data[data['split_tag']=='train']['grouped_para_index'].values)\n",
        "valid_index = set(data[data['split_tag']=='validation']['grouped_para_index'].values)\n",
        "test_index = set(data[data['split_tag']=='test']['grouped_para_index'].values)\n",
        "\n",
        "X_tr = [np.asarray(X_embed)[i-1] for i in train_index]\n",
        "X_val = [np.asarray(X_embed)[i-1] for i in valid_index]\n",
        "X_te = [np.asarray(X_embed)[i-1] for i in test_index]\n",
        "\n",
        "y_tr = np.asarray([y[i-1] for i in train_index])\n",
        "y_val = np.asarray([y[i-1] for i in valid_index])\n",
        "y_te = np.asarray([y[i-1] for i in test_index])\n",
        "\n",
        "print(\"no. of paragraphs in training: \", len(X_tr))\n",
        "print(\"no. of paragraphs in validation: \", len(X_val))\n",
        "print(\"no. of paragraphs in testing: \", len(X_te))"
      ],
      "execution_count": 26,
      "outputs": [
        {
          "output_type": "stream",
          "text": [
            "no. of paragraphs in training:  426\n",
            "no. of paragraphs in validation:  52\n",
            "no. of paragraphs in testing:  54\n"
          ],
          "name": "stdout"
        }
      ]
    },
    {
      "cell_type": "code",
      "metadata": {
        "id": "JKyDlsnlOHaz",
        "colab_type": "code",
        "outputId": "99a7a4ee-e8cb-4d81-dcdf-81c1246ed214",
        "colab": {
          "base_uri": "https://localhost:8080/",
          "height": 34
        }
      },
      "source": [
        "batch_size = 4\n",
        "\n",
        "X_tr = X_tr[0:int(np.floor(len(X_tr)/batch_size)*batch_size)]\n",
        "X_val = X_val[0:int(np.floor(len(X_val)/batch_size)*batch_size)]\n",
        "y_tr = y_tr[0:int(np.floor(len(y_tr)/batch_size)*batch_size)]\n",
        "y_val = y_val[0:int(np.floor(len(y_val)/batch_size)*batch_size)]\n",
        "print(\"training input: \", len(X_tr), \"validation input: \", len(X_val))\n",
        "y_tr = y_tr.reshape(y_tr.shape[0], y_tr.shape[1], 1)\n",
        "y_val = y_val.reshape(y_val.shape[0], y_val.shape[1], 1)"
      ],
      "execution_count": 27,
      "outputs": [
        {
          "output_type": "stream",
          "text": [
            "training input:  424 validation input:  52\n"
          ],
          "name": "stdout"
        }
      ]
    },
    {
      "cell_type": "code",
      "metadata": {
        "id": "6PGlb_UzDR--",
        "colab_type": "code",
        "outputId": "69538c2d-6cd6-4b4d-d80f-56107afe7ab3",
        "colab": {
          "base_uri": "https://localhost:8080/",
          "height": 34
        }
      },
      "source": [
        "print(\"training input: \", len(X_tr), \"validation input: \", len(X_val))\n",
        "y_tr = y_tr.reshape(y_tr.shape[0], y_tr.shape[1], 1)\n",
        "y_val = y_val.reshape(y_val.shape[0], y_val.shape[1], 1)"
      ],
      "execution_count": 28,
      "outputs": [
        {
          "output_type": "stream",
          "text": [
            "training input:  424 validation input:  52\n"
          ],
          "name": "stdout"
        }
      ]
    },
    {
      "cell_type": "markdown",
      "metadata": {
        "id": "gAH9miF8V9VX",
        "colab_type": "text"
      },
      "source": [
        "# Build model"
      ]
    },
    {
      "cell_type": "code",
      "metadata": {
        "id": "jzP5yQI-WGL8",
        "colab_type": "code",
        "colab": {}
      },
      "source": [
        "VERSION = 4\n",
        "EPOCHS = 30"
      ],
      "execution_count": 0,
      "outputs": []
    },
    {
      "cell_type": "markdown",
      "metadata": {
        "id": "0T0YGxFVgwce",
        "colab_type": "text"
      },
      "source": [
        "## Setup tensorflow for Colab"
      ]
    },
    {
      "cell_type": "code",
      "metadata": {
        "id": "jVdAZqMPUkyj",
        "colab_type": "code",
        "colab": {}
      },
      "source": [
        "# Clear any logs from previous runs\n",
        "!rm -rf ./logs/ "
      ],
      "execution_count": 0,
      "outputs": []
    },
    {
      "cell_type": "code",
      "metadata": {
        "id": "z_nBWCF5XcEG",
        "colab_type": "code",
        "colab": {
          "base_uri": "https://localhost:8080/",
          "height": 238
        },
        "outputId": "dfd8f872-66f7-4456-c019-37338305ac89"
      },
      "source": [
        "!wget https://bin.equinox.io/c/4VmDzA7iaHb/ngrok-stable-linux-amd64.zip\n",
        "!unzip ngrok-stable-linux-amd64.zip"
      ],
      "execution_count": 31,
      "outputs": [
        {
          "output_type": "stream",
          "text": [
            "--2019-05-06 09:52:03--  https://bin.equinox.io/c/4VmDzA7iaHb/ngrok-stable-linux-amd64.zip\n",
            "Resolving bin.equinox.io (bin.equinox.io)... 52.202.60.111, 52.86.186.182, 52.22.236.254, ...\n",
            "Connecting to bin.equinox.io (bin.equinox.io)|52.202.60.111|:443... connected.\n",
            "HTTP request sent, awaiting response... 200 OK\n",
            "Length: 14991793 (14M) [application/octet-stream]\n",
            "Saving to: ‘ngrok-stable-linux-amd64.zip.1’\n",
            "\n",
            "ngrok-stable-linux- 100%[===================>]  14.30M  8.44MB/s    in 1.7s    \n",
            "\n",
            "2019-05-06 09:52:05 (8.44 MB/s) - ‘ngrok-stable-linux-amd64.zip.1’ saved [14991793/14991793]\n",
            "\n",
            "Archive:  ngrok-stable-linux-amd64.zip\n",
            "replace ngrok? [y]es, [n]o, [A]ll, [N]one, [r]ename: n\n"
          ],
          "name": "stdout"
        }
      ]
    },
    {
      "cell_type": "code",
      "metadata": {
        "id": "C-uXnFdYXjQl",
        "colab_type": "code",
        "colab": {}
      },
      "source": [
        "LOG_DIR = './log'\n",
        "get_ipython().system_raw(\n",
        "    'tensorboard --logdir {} --host 0.0.0.0 --port 6006 &'\n",
        "    .format(LOG_DIR)\n",
        ")"
      ],
      "execution_count": 0,
      "outputs": []
    },
    {
      "cell_type": "code",
      "metadata": {
        "id": "pjd6KjLRXlUZ",
        "colab_type": "code",
        "colab": {}
      },
      "source": [
        "get_ipython().system_raw('./ngrok http 6006 &')"
      ],
      "execution_count": 0,
      "outputs": []
    },
    {
      "cell_type": "code",
      "metadata": {
        "id": "jImhADw6Xq_9",
        "colab_type": "code",
        "colab": {
          "base_uri": "https://localhost:8080/",
          "height": 34
        },
        "outputId": "c51ad427-e1d7-4c53-c1e6-567717e524a6"
      },
      "source": [
        "! curl -s http://localhost:4040/api/tunnels | python3 -c \\\n",
        "    \"import sys, json; print(json.load(sys.stdin)['tunnels'][0]['public_url'])\""
      ],
      "execution_count": 34,
      "outputs": [
        {
          "output_type": "stream",
          "text": [
            "https://21ab9294.ngrok.io\n"
          ],
          "name": "stdout"
        }
      ]
    },
    {
      "cell_type": "markdown",
      "metadata": {
        "id": "Egeb25jmg3sE",
        "colab_type": "text"
      },
      "source": [
        "## Construct model"
      ]
    },
    {
      "cell_type": "code",
      "metadata": {
        "id": "YefoQ1jpWKbz",
        "colab_type": "code",
        "colab": {}
      },
      "source": [
        "es = EarlyStopping(monitor='val_loss', min_delta=0, patience=4)\n",
        "\n",
        "filepath = os.path.join(loc, \"fiction-bert-iob-epochs-{}-b{}-v{}.hdf5\".format(EPOCHS, batch_size, VERSION))\n",
        "checkpoint = ModelCheckpoint(filepath, monitor='val_loss', verbose=1, save_best_only=True, save_weights_only=False,\n",
        "                             mode='auto', period=1)\n",
        "\n",
        "tensorboard_callback = TensorBoard(log_dir='./log')\n",
        "\n",
        "callbacks_list = [es, checkpoint, tensorboard_callback]"
      ],
      "execution_count": 0,
      "outputs": []
    },
    {
      "cell_type": "code",
      "metadata": {
        "id": "G-Of_M1ghaoL",
        "colab_type": "code",
        "outputId": "dbe19f24-c936-44a4-a7b2-36a7141f1f09",
        "colab": {
          "base_uri": "https://localhost:8080/",
          "height": 496
        }
      },
      "source": [
        "def build_model():\n",
        "    input_text = Input(shape=(max_len, 768))\n",
        "    x = Bidirectional(LSTM(units=512, return_sequences=True,\n",
        "                           recurrent_dropout=0.2, dropout=0.2))(input_text)\n",
        "    x_rnn = Bidirectional(LSTM(units=512, return_sequences=True,\n",
        "                               recurrent_dropout=0.2, dropout=0.2))(x)\n",
        "    x = concatenate([x, x_rnn])  # residual connection to the first biLSTMSS\n",
        "    out = TimeDistributed(Dense(n_tags, activation=\"softmax\"))(x)\n",
        "\n",
        "    model = Model(input_text, out)\n",
        "    model.compile(optimizer=\"adam\", loss=\"sparse_categorical_crossentropy\", metrics=['sparse_categorical_accuracy'])\n",
        "    model.summary()\n",
        "\n",
        "    return model\n",
        "  \n",
        "model = build_model()"
      ],
      "execution_count": 36,
      "outputs": [
        {
          "output_type": "stream",
          "text": [
            "WARNING: Logging before flag parsing goes to stderr.\n",
            "W0506 09:53:41.633157 140521892304768 tf_logging.py:161] <tensorflow.python.keras.layers.recurrent.UnifiedLSTM object at 0x7fcd1014b780>: Note that this layer is not optimized for performance. Please use tf.keras.layers.CuDNNLSTM for better performance on GPU.\n",
            "W0506 09:53:41.649385 140521892304768 tf_logging.py:161] <tensorflow.python.keras.layers.recurrent.UnifiedLSTM object at 0x7fcd10152b00>: Note that this layer is not optimized for performance. Please use tf.keras.layers.CuDNNLSTM for better performance on GPU.\n",
            "W0506 09:53:42.099502 140521892304768 deprecation.py:506] From /usr/local/lib/python3.6/dist-packages/tensorflow/python/keras/backend.py:4081: calling dropout (from tensorflow.python.ops.nn_ops) with keep_prob is deprecated and will be removed in a future version.\n",
            "Instructions for updating:\n",
            "Please use `rate` instead of `keep_prob`. Rate should be set to `rate = 1 - keep_prob`.\n",
            "W0506 09:53:42.934957 140521892304768 tf_logging.py:161] <tensorflow.python.keras.layers.recurrent.UnifiedLSTM object at 0x7fccfa0c05c0>: Note that this layer is not optimized for performance. Please use tf.keras.layers.CuDNNLSTM for better performance on GPU.\n",
            "W0506 09:53:42.938093 140521892304768 tf_logging.py:161] <tensorflow.python.keras.layers.recurrent.UnifiedLSTM object at 0x7fccf8f38da0>: Note that this layer is not optimized for performance. Please use tf.keras.layers.CuDNNLSTM for better performance on GPU.\n"
          ],
          "name": "stderr"
        },
        {
          "output_type": "stream",
          "text": [
            "Model: \"model\"\n",
            "__________________________________________________________________________________________________\n",
            "Layer (type)                    Output Shape         Param #     Connected to                     \n",
            "==================================================================================================\n",
            "input_1 (InputLayer)            [(None, 11, 768)]    0                                            \n",
            "__________________________________________________________________________________________________\n",
            "bidirectional (Bidirectional)   (None, 11, 1024)     5246976     input_1[0][0]                    \n",
            "__________________________________________________________________________________________________\n",
            "bidirectional_1 (Bidirectional) (None, 11, 1024)     6295552     bidirectional[0][0]              \n",
            "__________________________________________________________________________________________________\n",
            "concatenate (Concatenate)       (None, 11, 2048)     0           bidirectional[0][0]              \n",
            "                                                                 bidirectional_1[0][0]            \n",
            "__________________________________________________________________________________________________\n",
            "time_distributed (TimeDistribut (None, 11, 5)        10245       concatenate[0][0]                \n",
            "==================================================================================================\n",
            "Total params: 11,552,773\n",
            "Trainable params: 11,552,773\n",
            "Non-trainable params: 0\n",
            "__________________________________________________________________________________________________\n"
          ],
          "name": "stdout"
        }
      ]
    },
    {
      "cell_type": "markdown",
      "metadata": {
        "id": "ktcm8qpdXf01",
        "colab_type": "text"
      },
      "source": [
        "# Fit model"
      ]
    },
    {
      "cell_type": "code",
      "metadata": {
        "id": "VncXdY9UXdgJ",
        "colab_type": "code",
        "outputId": "332d8df3-ace8-4618-8811-969acc4b8432",
        "colab": {
          "base_uri": "https://localhost:8080/",
          "height": 547
        }
      },
      "source": [
        "history = model.fit(np.array(X_tr), y_tr, validation_data=(np.array(X_val), y_val),\n",
        "                    batch_size=batch_size, epochs=EPOCHS, verbose=1, callbacks=callbacks_list)"
      ],
      "execution_count": 37,
      "outputs": [
        {
          "output_type": "stream",
          "text": [
            "Train on 424 samples, validate on 52 samples\n",
            "Epoch 1/30\n",
            "  4/424 [..............................] - ETA: 7:31 - loss: 1.7616 - sparse_categorical_accuracy: 0.1591"
          ],
          "name": "stdout"
        },
        {
          "output_type": "stream",
          "text": [
            "W0506 09:53:57.415178 140521892304768 callbacks.py:236] Method (on_train_batch_end) is slow compared to the batch update (1.045684). Check your callbacks.\n"
          ],
          "name": "stderr"
        },
        {
          "output_type": "stream",
          "text": [
            "420/424 [============================>.] - ETA: 0s - loss: 0.4257 - sparse_categorical_accuracy: 0.8463\n",
            "Epoch 00001: val_loss improved from inf to 0.17142, saving model to /content/gdrive/My Drive/tf2.0/fiction-bert-iob-epochs-30-b4-v4.hdf5\n",
            "424/424 [==============================] - 37s 87ms/sample - loss: 0.4242 - sparse_categorical_accuracy: 0.8465 - val_loss: 0.1714 - val_sparse_categorical_accuracy: 0.9441\n",
            "Epoch 2/30\n",
            "420/424 [============================>.] - ETA: 0s - loss: 0.1766 - sparse_categorical_accuracy: 0.9305\n",
            "Epoch 00002: val_loss improved from 0.17142 to 0.12844, saving model to /content/gdrive/My Drive/tf2.0/fiction-bert-iob-epochs-30-b4-v4.hdf5\n",
            "424/424 [==============================] - 33s 78ms/sample - loss: 0.1759 - sparse_categorical_accuracy: 0.9307 - val_loss: 0.1284 - val_sparse_categorical_accuracy: 0.9580\n",
            "Epoch 3/30\n",
            "420/424 [============================>.] - ETA: 0s - loss: 0.1218 - sparse_categorical_accuracy: 0.9498\n",
            "Epoch 00003: val_loss improved from 0.12844 to 0.11576, saving model to /content/gdrive/My Drive/tf2.0/fiction-bert-iob-epochs-30-b4-v4.hdf5\n",
            "424/424 [==============================] - 31s 73ms/sample - loss: 0.1209 - sparse_categorical_accuracy: 0.9503 - val_loss: 0.1158 - val_sparse_categorical_accuracy: 0.9510\n",
            "Epoch 4/30\n",
            "420/424 [============================>.] - ETA: 0s - loss: 0.1007 - sparse_categorical_accuracy: 0.9617\n",
            "Epoch 00004: val_loss did not improve from 0.11576\n",
            "424/424 [==============================] - 28s 66ms/sample - loss: 0.1011 - sparse_categorical_accuracy: 0.9614 - val_loss: 0.1170 - val_sparse_categorical_accuracy: 0.9510\n",
            "Epoch 5/30\n",
            "420/424 [============================>.] - ETA: 0s - loss: 0.0702 - sparse_categorical_accuracy: 0.9723\n",
            "Epoch 00005: val_loss did not improve from 0.11576\n",
            "424/424 [==============================] - 29s 69ms/sample - loss: 0.0698 - sparse_categorical_accuracy: 0.9723 - val_loss: 0.1436 - val_sparse_categorical_accuracy: 0.9406\n",
            "Epoch 6/30\n",
            "420/424 [============================>.] - ETA: 0s - loss: 0.0466 - sparse_categorical_accuracy: 0.9803\n",
            "Epoch 00006: val_loss did not improve from 0.11576\n",
            "424/424 [==============================] - 27s 64ms/sample - loss: 0.0463 - sparse_categorical_accuracy: 0.9805 - val_loss: 0.1390 - val_sparse_categorical_accuracy: 0.9510\n",
            "Epoch 7/30\n",
            "420/424 [============================>.] - ETA: 0s - loss: 0.0397 - sparse_categorical_accuracy: 0.9840\n",
            "Epoch 00007: val_loss did not improve from 0.11576\n",
            "424/424 [==============================] - 27s 64ms/sample - loss: 0.0394 - sparse_categorical_accuracy: 0.9841 - val_loss: 0.2020 - val_sparse_categorical_accuracy: 0.9371\n"
          ],
          "name": "stdout"
        }
      ]
    },
    {
      "cell_type": "code",
      "metadata": {
        "id": "dDlw84oLX9al",
        "colab_type": "code",
        "colab": {}
      },
      "source": [
        "import time\n",
        "\n",
        "timestr = time.strftime(\"%m%d_%H%M\")\n",
        "model_name = \"fiction_lstm_bert_v4_\" + timestr + \"_epoch\" + str(EPOCHS) + '_b'+str(batch_size) +  '_v' + str(VERSION) + \".h5\"\n",
        "model_name_path = os.path.join(loc, \"v3-g4-b4/\"+model_name)\n",
        "model.save(model_name_path)"
      ],
      "execution_count": 0,
      "outputs": []
    },
    {
      "cell_type": "code",
      "metadata": {
        "id": "v43Me_BuYIiQ",
        "colab_type": "code",
        "outputId": "06fce65f-39f6-4fd8-9acb-aae3fe086f7f",
        "colab": {
          "base_uri": "https://localhost:8080/",
          "height": 486
        }
      },
      "source": [
        "import pandas as pd\n",
        "import matplotlib.pyplot as plt\n",
        "\n",
        "hist = pd.DataFrame(history.history)\n",
        "\n",
        "plt.style.use(\"ggplot\")\n",
        "plt.figure(figsize=(8, 8))\n",
        "plt.plot(hist[\"loss\"])\n",
        "plt.plot(hist[\"val_loss\"])\n",
        "plt.legend()\n",
        "plt.show()"
      ],
      "execution_count": 39,
      "outputs": [
        {
          "output_type": "display_data",
          "data": {
            "image/png": "[encoded data removed]",
            "text/plain": [
              "<Figure size 576x576 with 1 Axes>"
            ]
          },
          "metadata": {
            "tags": []
          }
        }
      ]
    },
    {
      "cell_type": "markdown",
      "metadata": {
        "id": "u51FRdqxYN1R",
        "colab_type": "text"
      },
      "source": [
        "# Model evaluation"
      ]
    },
    {
      "cell_type": "markdown",
      "metadata": {
        "id": "a5EZLs9Sh5_F",
        "colab_type": "text"
      },
      "source": [
        "We will evaluate model performance on validation and testing set."
      ]
    },
    {
      "cell_type": "markdown",
      "metadata": {
        "id": "DE8zjLomh1LB",
        "colab_type": "text"
      },
      "source": [
        "## Class distribution"
      ]
    },
    {
      "cell_type": "code",
      "metadata": {
        "id": "8RMpX_WjYxnn",
        "colab_type": "code",
        "outputId": "143bbb17-6195-4696-e1ad-6a087836bf39",
        "colab": {
          "base_uri": "https://localhost:8080/",
          "height": 102
        }
      },
      "source": [
        "from seqeval.metrics import precision_score, recall_score, f1_score, classification_report\n",
        "\n",
        "category_count = {'B-START':0, 'I-START':0, 'B-OTHER':0, 'I-OTHER':0, 'O':0}\n",
        "total_count = 0\n",
        "\n",
        "for sentence in paragraphs:\n",
        "    for word in sentence:\n",
        "        if word[2] in category_count.keys():\n",
        "            category_count[word[2]] += 1\n",
        "            total_count += 1\n",
        "\n",
        "for category, count in category_count.items():\n",
        "    print(\"{}: {}%\".format(category.replace(\"\\n\", \"\"), round((count / total_count) * 100, 2)))\n"
      ],
      "execution_count": 40,
      "outputs": [
        {
          "output_type": "stream",
          "text": [
            "B-START: 6.81%\n",
            "I-START: 5.9%\n",
            "B-OTHER: 36.8%\n",
            "I-OTHER: 13.83%\n",
            "O: 36.66%\n"
          ],
          "name": "stdout"
        }
      ]
    },
    {
      "cell_type": "markdown",
      "metadata": {
        "id": "sQKpTKyJiZK4",
        "colab_type": "text"
      },
      "source": [
        "Functions for evaluation"
      ]
    },
    {
      "cell_type": "code",
      "metadata": {
        "id": "2GO9sjFeYbq3",
        "colab_type": "code",
        "colab": {}
      },
      "source": [
        "def pred2label(pred):\n",
        "    out = []\n",
        "    for pred_i in pred:\n",
        "        out_i = []\n",
        "        for p in pred_i:\n",
        "            out_i.append(idx2tag[p].replace(\"PAD\", \"O\"))\n",
        "        out.append(out_i)\n",
        "    return out\n",
        "\n",
        "\n",
        "def y2label(y):\n",
        "    out = []\n",
        "    for y_i in y:\n",
        "        out_i = []\n",
        "        for p in y_i:\n",
        "            for p_i in p:\n",
        "                out_i.append(idx2tag[p_i].replace(\"PAD\", \"O\"))\n",
        "        out.append(out_i)\n",
        "    return out"
      ],
      "execution_count": 0,
      "outputs": []
    },
    {
      "cell_type": "code",
      "metadata": {
        "id": "MUsaHWp3YOcL",
        "colab_type": "code",
        "colab": {}
      },
      "source": [
        "def evaluate_performance(X, y):\n",
        "    pred_num = model.predict(np.array(X))\n",
        "    pred = np.argmax(pred_num, axis=-1)\n",
        "    pred_labels = pred2label(pred)\n",
        "    labels = y2label(y)\n",
        "    print(classification_report(labels, pred_labels))\n",
        "    return pred"
      ],
      "execution_count": 0,
      "outputs": []
    },
    {
      "cell_type": "code",
      "metadata": {
        "id": "q_iDisE3qwO3",
        "colab_type": "code",
        "colab": {}
      },
      "source": [
        "idx2tag = {v: k for k, v in tag2idx.items()}"
      ],
      "execution_count": 0,
      "outputs": []
    },
    {
      "cell_type": "code",
      "metadata": {
        "id": "KgP0Z2wFYoU6",
        "colab_type": "code",
        "outputId": "77479ba4-b157-4133-f159-f21a007ca45b",
        "colab": {
          "base_uri": "https://localhost:8080/",
          "height": 153
        }
      },
      "source": [
        "validation_performance = evaluate_performance(X_val, y_val)"
      ],
      "execution_count": 44,
      "outputs": [
        {
          "output_type": "stream",
          "text": [
            "           precision    recall  f1-score   support\n",
            "\n",
            "    OTHER       0.89      0.81      0.84       108\n",
            "    START       0.53      0.56      0.54        18\n",
            "\n",
            "micro avg       0.83      0.77      0.80       126\n",
            "macro avg       0.84      0.77      0.80       126\n",
            "\n"
          ],
          "name": "stdout"
        }
      ]
    },
    {
      "cell_type": "markdown",
      "metadata": {
        "id": "oSFYayPcijqV",
        "colab_type": "text"
      },
      "source": [
        "## Evaluation on test dataset"
      ]
    },
    {
      "cell_type": "markdown",
      "metadata": {
        "id": "OtMfpKS9i1YY",
        "colab_type": "text"
      },
      "source": [
        "### Entity level classification report"
      ]
    },
    {
      "cell_type": "code",
      "metadata": {
        "id": "OFIaNWb7ulFL",
        "colab_type": "code",
        "outputId": "ad2f0429-bdfe-4b69-b3a9-42c0df4289ed",
        "colab": {
          "base_uri": "https://localhost:8080/",
          "height": 34
        }
      },
      "source": [
        "np.array(X_te).shape"
      ],
      "execution_count": 45,
      "outputs": [
        {
          "output_type": "execute_result",
          "data": {
            "text/plain": [
              "(54, 11, 768)"
            ]
          },
          "metadata": {
            "tags": []
          },
          "execution_count": 45
        }
      ]
    },
    {
      "cell_type": "code",
      "metadata": {
        "id": "Z3l9-AOGu2Rk",
        "colab_type": "code",
        "colab": {}
      },
      "source": [
        "y_test = y_te\n",
        "X_test = X_te\n",
        "pred_num = model.predict(np.array(X_test))\n",
        "pred = np.argmax(pred_num, axis=-1)\n",
        "pred_labels = pred2label(pred)\n",
        "y_labels = pred2label(y_test)"
      ],
      "execution_count": 0,
      "outputs": []
    },
    {
      "cell_type": "code",
      "metadata": {
        "id": "HX2T49lHtmCG",
        "colab_type": "code",
        "outputId": "30d006a2-d549-4ae9-cae7-0499b41918ec",
        "colab": {
          "base_uri": "https://localhost:8080/",
          "height": 153
        }
      },
      "source": [
        "print(classification_report(y_labels, pred_labels))"
      ],
      "execution_count": 47,
      "outputs": [
        {
          "output_type": "stream",
          "text": [
            "           precision    recall  f1-score   support\n",
            "\n",
            "    START       0.47      0.65      0.55        26\n",
            "    OTHER       0.86      0.73      0.79       103\n",
            "\n",
            "micro avg       0.75      0.71      0.73       129\n",
            "macro avg       0.78      0.71      0.74       129\n",
            "\n"
          ],
          "name": "stdout"
        }
      ]
    },
    {
      "cell_type": "markdown",
      "metadata": {
        "id": "bSFwG7xzi83-",
        "colab_type": "text"
      },
      "source": [
        "###  Label level classification report"
      ]
    },
    {
      "cell_type": "code",
      "metadata": {
        "id": "7GiZhYxE5gmw",
        "colab_type": "code",
        "colab": {}
      },
      "source": [
        "def plot_confusion_matrix(cm,\n",
        "                          target_names,\n",
        "                          title='Confusion matrix',\n",
        "                          cmap=None,\n",
        "                          normalize=True):\n",
        "    \"\"\"\n",
        "    given a sklearn confusion matrix (cm), make a nice plot\n",
        "\n",
        "    Arguments\n",
        "    ---------\n",
        "    cm:           confusion matrix from sklearn.metrics.confusion_matrix\n",
        "\n",
        "    target_names: given classification classes such as [0, 1, 2]\n",
        "                  the class names, for example: ['high', 'medium', 'low']\n",
        "\n",
        "    title:        the text to display at the top of the matrix\n",
        "\n",
        "    cmap:         the gradient of the values displayed from matplotlib.pyplot.cm\n",
        "                  see http://matplotlib.org/examples/color/colormaps_reference.html\n",
        "                  plt.get_cmap('jet') or plt.cm.Blues\n",
        "\n",
        "    normalize:    If False, plot the raw numbers\n",
        "                  If True, plot the proportions\n",
        "\n",
        "    Usage\n",
        "    -----\n",
        "    plot_confusion_matrix(cm           = cm,                  # confusion matrix created by\n",
        "                                                              # sklearn.metrics.confusion_matrix\n",
        "                          normalize    = True,                # show proportions\n",
        "                          target_names = y_labels_vals,       # list of names of the classes\n",
        "                          title        = best_estimator_name) # title of graph\n",
        "\n",
        "    Citiation\n",
        "    ---------\n",
        "    http://scikit-learn.org/stable/auto_examples/model_selection/plot_confusion_matrix.html\n",
        "\n",
        "    \"\"\"\n",
        "    import matplotlib.pyplot as plt\n",
        "    import numpy as np\n",
        "    import itertools\n",
        "\n",
        "    accuracy = np.trace(cm) / float(np.sum(cm))\n",
        "    misclass = 1 - accuracy\n",
        "\n",
        "    if cmap is None:\n",
        "        cmap = plt.get_cmap('Blues')\n",
        "\n",
        "    plt.figure(figsize=(8, 6))\n",
        "    plt.imshow(cm, interpolation='nearest', cmap=cmap)\n",
        "    plt.title(title)\n",
        "    plt.colorbar()\n",
        "\n",
        "    if target_names is not None:\n",
        "        tick_marks = np.arange(len(target_names))\n",
        "        plt.xticks(tick_marks, target_names, rotation=45)\n",
        "        plt.yticks(tick_marks, target_names)\n",
        "\n",
        "    if normalize:\n",
        "        cm = cm.astype('float') / cm.sum(axis=1)[:, np.newaxis]\n",
        "\n",
        "\n",
        "    thresh = cm.max() / 1.5 if normalize else cm.max() / 2\n",
        "    for i, j in itertools.product(range(cm.shape[0]), range(cm.shape[1])):\n",
        "        if normalize:\n",
        "            plt.text(j, i, \"{:0.4f}\".format(cm[i, j]),\n",
        "                     horizontalalignment=\"center\",\n",
        "                     color=\"white\" if cm[i, j] > thresh else \"black\")\n",
        "        else:\n",
        "            plt.text(j, i, \"{:,}\".format(cm[i, j]),\n",
        "                     horizontalalignment=\"center\",\n",
        "                     color=\"white\" if cm[i, j] > thresh else \"black\")\n",
        "\n",
        "\n",
        "    plt.tight_layout()\n",
        "    plt.ylabel('True label')\n",
        "    plt.xlabel('Predicted label\\naccuracy={:0.4f}; misclass={:0.4f}'.format(accuracy, misclass))\n",
        "    plt.savefig(os.path.join(loc, \"bert_lstm_evaluation_model_v4_eva_test_conf.jpg\"))\n",
        "    plt.show()"
      ],
      "execution_count": 0,
      "outputs": []
    },
    {
      "cell_type": "code",
      "metadata": {
        "id": "Rv0HQCGV6tdF",
        "colab_type": "code",
        "colab": {}
      },
      "source": [
        "label_pred = []\n",
        "idx_pred = []\n",
        "\n",
        "for sentence in pred:\n",
        "    for element in sentence:\n",
        "        idx_pred.append(element)\n",
        "        label_pred.append(idx2tag[element])\n",
        "\n",
        "label_correct = []\n",
        "idx_correct = []\n",
        "for sentence in y_test:\n",
        "    for element in sentence:\n",
        "        idx_correct.append(element)\n",
        "        label_correct.append(idx2tag[element])"
      ],
      "execution_count": 0,
      "outputs": []
    },
    {
      "cell_type": "code",
      "metadata": {
        "id": "jf6t_UmI70x4",
        "colab_type": "code",
        "outputId": "16d1cde2-3768-4086-f6ea-68153c93fd4e",
        "colab": {
          "base_uri": "https://localhost:8080/",
          "height": 34
        }
      },
      "source": [
        "idx2tag"
      ],
      "execution_count": 50,
      "outputs": [
        {
          "output_type": "execute_result",
          "data": {
            "text/plain": [
              "{0: 'I-OTHER', 1: 'I-START', 2: 'O', 3: 'B-START', 4: 'B-OTHER'}"
            ]
          },
          "metadata": {
            "tags": []
          },
          "execution_count": 50
        }
      ]
    },
    {
      "cell_type": "code",
      "metadata": {
        "id": "JXKkt6TD67Vg",
        "colab_type": "code",
        "colab": {}
      },
      "source": [
        "from sklearn.metrics import confusion_matrix\n",
        "cm_with_o = confusion_matrix(label_correct, label_pred)"
      ],
      "execution_count": 0,
      "outputs": []
    },
    {
      "cell_type": "code",
      "metadata": {
        "id": "7_D-a-NO7tPb",
        "colab_type": "code",
        "outputId": "24a68cef-497f-41af-9bb9-029774e8568b",
        "colab": {
          "base_uri": "https://localhost:8080/",
          "height": 71
        }
      },
      "source": [
        "df = pd.DataFrame(cm_with_o)\n",
        "df_wo_o = df.iloc[:-1, :-1]\n",
        "cm = df_wo_o.as_matrix()"
      ],
      "execution_count": 52,
      "outputs": [
        {
          "output_type": "stream",
          "text": [
            "/usr/local/lib/python3.6/dist-packages/ipykernel_launcher.py:3: FutureWarning: Method .as_matrix will be removed in a future version. Use .values instead.\n",
            "  This is separate from the ipykernel package so we can avoid doing imports until\n"
          ],
          "name": "stderr"
        }
      ]
    },
    {
      "cell_type": "code",
      "metadata": {
        "id": "Esd-pzKq7brg",
        "colab_type": "code",
        "colab": {}
      },
      "source": [
        "labels = list(idx2tag.values())\n",
        "labels.remove('O')"
      ],
      "execution_count": 0,
      "outputs": []
    },
    {
      "cell_type": "code",
      "metadata": {
        "id": "M0zqnDI27-u_",
        "colab_type": "code",
        "outputId": "d956078c-8dd6-4512-d508-90301e25f208",
        "colab": {
          "base_uri": "https://localhost:8080/",
          "height": 34
        }
      },
      "source": [
        "labels_sorted = sorted(labels)\n",
        "labels_sorted"
      ],
      "execution_count": 54,
      "outputs": [
        {
          "output_type": "execute_result",
          "data": {
            "text/plain": [
              "['B-OTHER', 'B-START', 'I-OTHER', 'I-START']"
            ]
          },
          "metadata": {
            "tags": []
          },
          "execution_count": 54
        }
      ]
    },
    {
      "cell_type": "code",
      "metadata": {
        "id": "U2xan_ww8A3B",
        "colab_type": "code",
        "outputId": "2ed37cb3-599f-4cdf-fa32-77ea015d3ab5",
        "colab": {
          "base_uri": "https://localhost:8080/",
          "height": 473
        }
      },
      "source": [
        "plot_confusion_matrix(cm           = cm,\n",
        "                      normalize    = False,\n",
        "                      target_names = labels_sorted,\n",
        "                      title        = \"Confusion Matrix\")"
      ],
      "execution_count": 55,
      "outputs": [
        {
          "output_type": "display_data",
          "data": {
            "image/png": "[encoded data removed]",
            "text/plain": [
              "<Figure size 576x432 with 2 Axes>"
            ]
          },
          "metadata": {
            "tags": []
          }
        }
      ]
    },
    {
      "cell_type": "code",
      "metadata": {
        "id": "XmzrPSj9Ty2N",
        "colab_type": "code",
        "colab": {}
      },
      "source": [
        "# Clear any logs from previous runs\n",
        "!rm -rf ./logs/ "
      ],
      "execution_count": 0,
      "outputs": []
    },
    {
      "cell_type": "code",
      "metadata": {
        "id": "dMEHaZra8FRo",
        "colab_type": "code",
        "outputId": "2a4918b8-4bbb-47fa-d2fd-3a54eda62d88",
        "colab": {
          "base_uri": "https://localhost:8080/",
          "height": 204
        }
      },
      "source": [
        "from sklearn.metrics import classification_report as classification_report_all\n",
        "\n",
        "print(classification_report_all(label_correct, label_pred,\n",
        "                                labels=labels_sorted,\n",
        "                                digits=3))"
      ],
      "execution_count": 57,
      "outputs": [
        {
          "output_type": "stream",
          "text": [
            "              precision    recall  f1-score   support\n",
            "\n",
            "     B-OTHER      0.905     0.809     0.854        94\n",
            "     B-START      0.500     0.550     0.524        20\n",
            "     I-OTHER      0.913     0.512     0.656        41\n",
            "     I-START      0.438     0.700     0.538        20\n",
            "\n",
            "   micro avg      0.758     0.697     0.726       175\n",
            "   macro avg      0.689     0.643     0.643       175\n",
            "weighted avg      0.807     0.697     0.734       175\n",
            "\n"
          ],
          "name": "stdout"
        }
      ]
    },
    {
      "cell_type": "markdown",
      "metadata": {
        "id": "eHuRoKmojB-7",
        "colab_type": "text"
      },
      "source": [
        "### Save predicted labels and true labels for test dataset"
      ]
    },
    {
      "cell_type": "code",
      "metadata": {
        "id": "kLThQuTc1o1d",
        "colab_type": "code",
        "colab": {}
      },
      "source": [
        "import pickle\n",
        "import os\n",
        "dirname = os.path.dirname(\"__file__\")\n",
        "path = loc + \"v3-g4-b4/\"\n",
        "\n",
        "def save_as_pickle(myObject, target_filename):\n",
        "    with open(os.path.join(loc, \"{}.pkl\".format(target_filename)), \"wb\") as pickle_out:\n",
        "        pickle.dump(myObject, pickle_out)\n",
        "    print('{} saved!'.format(target_filename))\n",
        "    \n",
        "def load_from_pickle(src_filename):\n",
        "    with open(os.path.join(loc, \"{}.pkl\".format(mylistnsrc_filenameame)), \"rb\") as pickle_out:\n",
        "        mylist = pickle.load(pickle_out)\n",
        "        print('{} loaded!'.format(src_filename))\n",
        "    return mylist"
      ],
      "execution_count": 0,
      "outputs": []
    },
    {
      "cell_type": "code",
      "metadata": {
        "id": "DAXdra5xxXl7",
        "colab_type": "code",
        "outputId": "9359f96c-8b2b-4253-a1e2-405b9b8f4bf1",
        "colab": {
          "base_uri": "https://localhost:8080/",
          "height": 34
        }
      },
      "source": [
        "save_as_pickle(label_pred, 'v4-y-pred')"
      ],
      "execution_count": 59,
      "outputs": [
        {
          "output_type": "stream",
          "text": [
            "v4-y-pred saved!\n"
          ],
          "name": "stdout"
        }
      ]
    },
    {
      "cell_type": "code",
      "metadata": {
        "id": "N7ChEjS5xzxW",
        "colab_type": "code",
        "outputId": "6a1e4ab9-5038-431a-a016-bcade33df609",
        "colab": {
          "base_uri": "https://localhost:8080/",
          "height": 34
        }
      },
      "source": [
        "save_as_pickle(label_correct, 'y-true')"
      ],
      "execution_count": 60,
      "outputs": [
        {
          "output_type": "stream",
          "text": [
            "y-true saved!\n"
          ],
          "name": "stdout"
        }
      ]
    },
    {
      "cell_type": "code",
      "metadata": {
        "id": "O9B1V55YcN1w",
        "colab_type": "code",
        "colab": {}
      },
      "source": [
        ""
      ],
      "execution_count": 0,
      "outputs": []
    }
  ]
}