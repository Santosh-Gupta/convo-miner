{
  "nbformat": 4,
  "nbformat_minor": 0,
  "metadata": {
    "colab": {
      "name": "fiction_bert_lstm_train_v2.ipynb",
      "version": "0.3.2",
      "provenance": [],
      "collapsed_sections": []
    },
    "kernelspec": {
      "name": "python3",
      "display_name": "Python 3"
    },
    "accelerator": "GPU"
  },
  "cells": [
    {
      "cell_type": "code",
      "metadata": {
        "id": "5U7JyFviUogi",
        "colab_type": "code",
        "outputId": "81e06968-c23f-4e29-8e0c-815fc67b108a",
        "colab": {
          "base_uri": "https://localhost:8080/",
          "height": 921
        }
      },
      "source": [
        "!pip install git+https://github.com/keras-team/keras.git -U\n",
        "!pip install seqeval\n",
        "!pip install tensorflow-gpu==2.0.0-alpha0\n",
        "!pip install tensorflow-hub"
      ],
      "execution_count": 2,
      "outputs": [
        {
          "output_type": "stream",
          "text": [
            "Collecting git+https://github.com/keras-team/keras.git\n",
            "  Cloning https://github.com/keras-team/keras.git to /tmp/pip-req-build-k_mvq738\n",
            "  Running command git clone -q https://github.com/keras-team/keras.git /tmp/pip-req-build-k_mvq738\n",
            "Requirement already satisfied, skipping upgrade: numpy>=1.9.1 in /usr/local/lib/python3.6/dist-packages (from Keras==2.2.4) (1.14.6)\n",
            "Requirement already satisfied, skipping upgrade: scipy>=0.14 in /usr/local/lib/python3.6/dist-packages (from Keras==2.2.4) (1.2.1)\n",
            "Requirement already satisfied, skipping upgrade: six>=1.9.0 in /usr/local/lib/python3.6/dist-packages (from Keras==2.2.4) (1.12.0)\n",
            "Requirement already satisfied, skipping upgrade: pyyaml in /usr/local/lib/python3.6/dist-packages (from Keras==2.2.4) (3.13)\n",
            "Requirement already satisfied, skipping upgrade: h5py in /usr/local/lib/python3.6/dist-packages (from Keras==2.2.4) (2.8.0)\n",
            "Requirement already satisfied, skipping upgrade: keras_applications>=1.0.6 in /usr/local/lib/python3.6/dist-packages (from Keras==2.2.4) (1.0.7)\n",
            "Requirement already satisfied, skipping upgrade: keras_preprocessing>=1.0.5 in /usr/local/lib/python3.6/dist-packages (from Keras==2.2.4) (1.0.9)\n",
            "Building wheels for collected packages: Keras\n",
            "  Building wheel for Keras (setup.py) ... \u001b[?25l\u001b[?25hdone\n",
            "  Stored in directory: /tmp/pip-ephem-wheel-cache-txji8t2z/wheels/da/a4/7e/6b7bd9af18cc2e23b8dd5ed6de07a7e13bd80a17214eb88932\n",
            "Successfully built Keras\n",
            "Installing collected packages: Keras\n",
            "  Found existing installation: Keras 2.2.4\n",
            "    Uninstalling Keras-2.2.4:\n",
            "      Successfully uninstalled Keras-2.2.4\n",
            "Successfully installed Keras-2.2.4\n",
            "Requirement already satisfied: seqeval in /usr/local/lib/python3.6/dist-packages (0.0.10)\n",
            "Requirement already satisfied: Keras>=2.2.4 in /usr/local/lib/python3.6/dist-packages (from seqeval) (2.2.4)\n",
            "Requirement already satisfied: numpy>=1.14.0 in /usr/local/lib/python3.6/dist-packages (from seqeval) (1.14.6)\n",
            "Requirement already satisfied: keras-preprocessing>=1.0.5 in /usr/local/lib/python3.6/dist-packages (from Keras>=2.2.4->seqeval) (1.0.9)\n",
            "Requirement already satisfied: pyyaml in /usr/local/lib/python3.6/dist-packages (from Keras>=2.2.4->seqeval) (3.13)\n",
            "Requirement already satisfied: scipy>=0.14 in /usr/local/lib/python3.6/dist-packages (from Keras>=2.2.4->seqeval) (1.2.1)\n",
            "Requirement already satisfied: keras-applications>=1.0.6 in /usr/local/lib/python3.6/dist-packages (from Keras>=2.2.4->seqeval) (1.0.7)\n",
            "Requirement already satisfied: h5py in /usr/local/lib/python3.6/dist-packages (from Keras>=2.2.4->seqeval) (2.8.0)\n",
            "Requirement already satisfied: six>=1.9.0 in /usr/local/lib/python3.6/dist-packages (from Keras>=2.2.4->seqeval) (1.12.0)\n",
            "Requirement already satisfied: tensorflow-gpu==2.0.0-alpha0 in /usr/local/lib/python3.6/dist-packages (2.0.0a0)\n",
            "Requirement already satisfied: gast>=0.2.0 in /usr/local/lib/python3.6/dist-packages (from tensorflow-gpu==2.0.0-alpha0) (0.2.2)\n",
            "Requirement already satisfied: protobuf>=3.6.1 in /usr/local/lib/python3.6/dist-packages (from tensorflow-gpu==2.0.0-alpha0) (3.7.1)\n",
            "Requirement already satisfied: astor>=0.6.0 in /usr/local/lib/python3.6/dist-packages (from tensorflow-gpu==2.0.0-alpha0) (0.7.1)\n",
            "Requirement already satisfied: keras-preprocessing>=1.0.5 in /usr/local/lib/python3.6/dist-packages (from tensorflow-gpu==2.0.0-alpha0) (1.0.9)\n",
            "Requirement already satisfied: termcolor>=1.1.0 in /usr/local/lib/python3.6/dist-packages (from tensorflow-gpu==2.0.0-alpha0) (1.1.0)\n",
            "Requirement already satisfied: tf-estimator-nightly<1.14.0.dev2019030116,>=1.14.0.dev2019030115 in /usr/local/lib/python3.6/dist-packages (from tensorflow-gpu==2.0.0-alpha0) (1.14.0.dev2019030115)\n",
            "Requirement already satisfied: tb-nightly<1.14.0a20190302,>=1.14.0a20190301 in /usr/local/lib/python3.6/dist-packages (from tensorflow-gpu==2.0.0-alpha0) (1.14.0a20190301)\n",
            "Requirement already satisfied: wheel>=0.26 in /usr/local/lib/python3.6/dist-packages (from tensorflow-gpu==2.0.0-alpha0) (0.33.1)\n",
            "Requirement already satisfied: keras-applications>=1.0.6 in /usr/local/lib/python3.6/dist-packages (from tensorflow-gpu==2.0.0-alpha0) (1.0.7)\n",
            "Requirement already satisfied: numpy<2.0,>=1.14.5 in /usr/local/lib/python3.6/dist-packages (from tensorflow-gpu==2.0.0-alpha0) (1.14.6)\n",
            "Requirement already satisfied: six>=1.10.0 in /usr/local/lib/python3.6/dist-packages (from tensorflow-gpu==2.0.0-alpha0) (1.12.0)\n",
            "Requirement already satisfied: grpcio>=1.8.6 in /usr/local/lib/python3.6/dist-packages (from tensorflow-gpu==2.0.0-alpha0) (1.15.0)\n",
            "Requirement already satisfied: google-pasta>=0.1.2 in /usr/local/lib/python3.6/dist-packages (from tensorflow-gpu==2.0.0-alpha0) (0.1.5)\n",
            "Requirement already satisfied: absl-py>=0.7.0 in /usr/local/lib/python3.6/dist-packages (from tensorflow-gpu==2.0.0-alpha0) (0.7.1)\n",
            "Requirement already satisfied: setuptools in /usr/local/lib/python3.6/dist-packages (from protobuf>=3.6.1->tensorflow-gpu==2.0.0-alpha0) (41.0.1)\n",
            "Requirement already satisfied: werkzeug>=0.11.15 in /usr/local/lib/python3.6/dist-packages (from tb-nightly<1.14.0a20190302,>=1.14.0a20190301->tensorflow-gpu==2.0.0-alpha0) (0.15.2)\n",
            "Requirement already satisfied: markdown>=2.6.8 in /usr/local/lib/python3.6/dist-packages (from tb-nightly<1.14.0a20190302,>=1.14.0a20190301->tensorflow-gpu==2.0.0-alpha0) (3.1)\n",
            "Requirement already satisfied: h5py in /usr/local/lib/python3.6/dist-packages (from keras-applications>=1.0.6->tensorflow-gpu==2.0.0-alpha0) (2.8.0)\n",
            "Requirement already satisfied: tensorflow-hub in /usr/local/lib/python3.6/dist-packages (0.4.0)\n",
            "Requirement already satisfied: protobuf>=3.4.0 in /usr/local/lib/python3.6/dist-packages (from tensorflow-hub) (3.7.1)\n",
            "Requirement already satisfied: numpy>=1.12.0 in /usr/local/lib/python3.6/dist-packages (from tensorflow-hub) (1.14.6)\n",
            "Requirement already satisfied: six>=1.10.0 in /usr/local/lib/python3.6/dist-packages (from tensorflow-hub) (1.12.0)\n",
            "Requirement already satisfied: setuptools in /usr/local/lib/python3.6/dist-packages (from protobuf>=3.4.0->tensorflow-hub) (41.0.1)\n"
          ],
          "name": "stdout"
        }
      ]
    },
    {
      "cell_type": "code",
      "metadata": {
        "id": "Qo01eQRXR9Y9",
        "colab_type": "code",
        "colab": {}
      },
      "source": [
        "import numpy as np\n",
        "import tensorflow as tf\n",
        "import tensorflow_hub as hub\n",
        "from tensorflow.keras.models import Model\n",
        "from tensorflow.keras import Input\n",
        "from tensorflow.keras.preprocessing.sequence import pad_sequences\n",
        "from tensorflow.keras.utils import to_categorical\n",
        "from tensorflow.keras.layers import TimeDistributed, Dense, Embedding, Input, Dropout, LSTM, Bidirectional, Lambda\n",
        "from tensorflow.keras.layers import concatenate\n",
        "# from sklearn.metrics import recall_score, precision_score\n",
        "from seqeval.metrics import classification_report as classification_report_entity\n",
        "from seqeval.metrics import precision_score, recall_score, f1_score\n",
        "from tensorflow.keras.callbacks import ModelCheckpoint, EarlyStopping"
      ],
      "execution_count": 0,
      "outputs": []
    },
    {
      "cell_type": "code",
      "metadata": {
        "id": "RuoZ_0azl8EG",
        "colab_type": "code",
        "outputId": "fe829ee8-66ca-40bb-ee89-24e57a5c8fa3",
        "colab": {
          "base_uri": "https://localhost:8080/",
          "height": 34
        }
      },
      "source": [
        "print(tf.__version__)"
      ],
      "execution_count": 4,
      "outputs": [
        {
          "output_type": "stream",
          "text": [
            "2.0.0-alpha0\n"
          ],
          "name": "stdout"
        }
      ]
    },
    {
      "cell_type": "code",
      "metadata": {
        "id": "P5ZpNhy0onok",
        "colab_type": "code",
        "outputId": "d21c89e7-bce9-4d52-a12d-231cf35ada2d",
        "colab": {
          "base_uri": "https://localhost:8080/",
          "height": 34
        }
      },
      "source": [
        "print(tf.keras.__version__)"
      ],
      "execution_count": 5,
      "outputs": [
        {
          "output_type": "stream",
          "text": [
            "2.2.4-tf\n"
          ],
          "name": "stdout"
        }
      ]
    },
    {
      "cell_type": "code",
      "metadata": {
        "id": "Te1A3i0bmBiE",
        "colab_type": "code",
        "outputId": "7a2c2c49-b0a8-4203-9d27-f069a56106c4",
        "colab": {
          "base_uri": "https://localhost:8080/",
          "height": 102
        }
      },
      "source": [
        "x = tf.random.uniform([3, 3])\n",
        "\n",
        "print(\"Is there a GPU available: \"),\n",
        "print(tf.test.is_gpu_available())\n",
        "\n",
        "print(\"Is the Tensor on GPU #0:  \"),\n",
        "print(x.device.endswith('GPU:0'))\n",
        "\n",
        "print(\"Device name: {}\".format((x.device)))"
      ],
      "execution_count": 6,
      "outputs": [
        {
          "output_type": "stream",
          "text": [
            "Is there a GPU available: \n",
            "True\n",
            "Is the Tensor on GPU #0:  \n",
            "True\n",
            "Device name: /job:localhost/replica:0/task:0/device:GPU:0\n"
          ],
          "name": "stdout"
        }
      ]
    },
    {
      "cell_type": "markdown",
      "metadata": {
        "id": "NBDTXEdCWCCD",
        "colab_type": "text"
      },
      "source": [
        "# Prepare data"
      ]
    },
    {
      "cell_type": "code",
      "metadata": {
        "id": "qSYgdCeVSEdW",
        "colab_type": "code",
        "colab": {}
      },
      "source": [
        "# def read_file(filename):\n",
        "#     \"\"\"\n",
        "#     read file\n",
        "#     return format :\n",
        "#     [ ['EU', 'B-ORG'], ['rejects', 'O'], ['German', 'B-MISC'], ['call', 'O'], ['to', 'O'], ['boycott', 'O'], ['British', 'B-MISC'], ['lamb', 'O'], ['.', 'O'] ]\n",
        "#     \"\"\"\n",
        "\n",
        "#     f = open(filename, encoding=\"utf8\")\n",
        "#     sentences = []\n",
        "#     sentence = []\n",
        "#     for line in f:\n",
        "#         if len(line) == 0 or line.startswith('-DOCSTART') or line[0] == \"\\n\":\n",
        "#             if len(sentence) > 0:\n",
        "#                 sentences.append(sentence)\n",
        "#                 sentence = []\n",
        "#             continue\n",
        "#         splits = line.split(' ')\n",
        "#         label = splits[-1].replace(\"\\n\", \"\")\n",
        "#         sentence.append([splits[0], label])\n",
        "\n",
        "#     if len(sentence) > 0:\n",
        "#         sentences.append(sentence)\n",
        "#     return sentences"
      ],
      "execution_count": 0,
      "outputs": []
    },
    {
      "cell_type": "code",
      "metadata": {
        "id": "DmOAoeXxSIJq",
        "colab_type": "code",
        "outputId": "6f9f7b41-0e27-4d1d-eeac-e2299feacc87",
        "colab": {
          "base_uri": "https://localhost:8080/",
          "height": 34
        }
      },
      "source": [
        "from google.colab import drive\n",
        "drive.mount('/content/gdrive')"
      ],
      "execution_count": 8,
      "outputs": [
        {
          "output_type": "stream",
          "text": [
            "Drive already mounted at /content/gdrive; to attempt to forcibly remount, call drive.mount(\"/content/gdrive\", force_remount=True).\n"
          ],
          "name": "stdout"
        }
      ]
    },
    {
      "cell_type": "code",
      "metadata": {
        "id": "Mr-3CvUFSMRn",
        "colab_type": "code",
        "colab": {}
      },
      "source": [
        "loc = '/content/gdrive/My Drive/tf2.0'"
      ],
      "execution_count": 0,
      "outputs": []
    },
    {
      "cell_type": "code",
      "metadata": {
        "id": "xxt4wmEGSOzT",
        "colab_type": "code",
        "outputId": "7aeaa363-5f6e-44a0-edcd-9e0b2cafb810",
        "colab": {
          "base_uri": "https://localhost:8080/",
          "height": 514
        }
      },
      "source": [
        "import pandas as pd\n",
        "import numpy as np\n",
        "import matplotlib.pyplot as plt\n",
        "import os \n",
        "\n",
        "plt.style.use(\"ggplot\")\n",
        "\n",
        "data = pd.read_csv(os.path.join(loc, \"iob-labeled-sent-final-020519.csv\"))\n",
        "data = data.fillna(method=\"ffill\")\n",
        "data.head(15)"
      ],
      "execution_count": 10,
      "outputs": [
        {
          "output_type": "execute_result",
          "data": {
            "text/html": [
              "<div>\n",
              "<style scoped>\n",
              "    .dataframe tbody tr th:only-of-type {\n",
              "        vertical-align: middle;\n",
              "    }\n",
              "\n",
              "    .dataframe tbody tr th {\n",
              "        vertical-align: top;\n",
              "    }\n",
              "\n",
              "    .dataframe thead th {\n",
              "        text-align: right;\n",
              "    }\n",
              "</style>\n",
              "<table border=\"1\" class=\"dataframe\">\n",
              "  <thead>\n",
              "    <tr style=\"text-align: right;\">\n",
              "      <th></th>\n",
              "      <th>Unnamed: 0</th>\n",
              "      <th>para_index</th>\n",
              "      <th>sent</th>\n",
              "      <th>label</th>\n",
              "      <th>split_tag</th>\n",
              "    </tr>\n",
              "  </thead>\n",
              "  <tbody>\n",
              "    <tr>\n",
              "      <th>0</th>\n",
              "      <td>0</td>\n",
              "      <td>0</td>\n",
              "      <td>By Jane Austen</td>\n",
              "      <td>O</td>\n",
              "      <td>train</td>\n",
              "    </tr>\n",
              "    <tr>\n",
              "      <th>1</th>\n",
              "      <td>1</td>\n",
              "      <td>1</td>\n",
              "      <td>Chapter 1</td>\n",
              "      <td>O</td>\n",
              "      <td>train</td>\n",
              "    </tr>\n",
              "    <tr>\n",
              "      <th>2</th>\n",
              "      <td>2</td>\n",
              "      <td>2</td>\n",
              "      <td>It is a truth universally acknowledged, that a...</td>\n",
              "      <td>O</td>\n",
              "      <td>train</td>\n",
              "    </tr>\n",
              "    <tr>\n",
              "      <th>3</th>\n",
              "      <td>3</td>\n",
              "      <td>3</td>\n",
              "      <td>However little known the feelings or views of ...</td>\n",
              "      <td>O</td>\n",
              "      <td>train</td>\n",
              "    </tr>\n",
              "    <tr>\n",
              "      <th>4</th>\n",
              "      <td>4</td>\n",
              "      <td>4</td>\n",
              "      <td>\"My dear Mr Bennet,\"</td>\n",
              "      <td>B-START</td>\n",
              "      <td>train</td>\n",
              "    </tr>\n",
              "    <tr>\n",
              "      <th>5</th>\n",
              "      <td>5</td>\n",
              "      <td>4</td>\n",
              "      <td>\"have you heard that       Netherfield Park is...</td>\n",
              "      <td>I-START</td>\n",
              "      <td>train</td>\n",
              "    </tr>\n",
              "    <tr>\n",
              "      <th>6</th>\n",
              "      <td>6</td>\n",
              "      <td>5</td>\n",
              "      <td>Mr Bennet replied that he had not.</td>\n",
              "      <td>O</td>\n",
              "      <td>train</td>\n",
              "    </tr>\n",
              "    <tr>\n",
              "      <th>7</th>\n",
              "      <td>7</td>\n",
              "      <td>6</td>\n",
              "      <td>\"But it is,\"</td>\n",
              "      <td>B-OTHER</td>\n",
              "      <td>train</td>\n",
              "    </tr>\n",
              "    <tr>\n",
              "      <th>8</th>\n",
              "      <td>8</td>\n",
              "      <td>6</td>\n",
              "      <td>\"for Mrs Long has just been here, and she told...</td>\n",
              "      <td>I-OTHER</td>\n",
              "      <td>train</td>\n",
              "    </tr>\n",
              "    <tr>\n",
              "      <th>9</th>\n",
              "      <td>9</td>\n",
              "      <td>7</td>\n",
              "      <td>Mr Bennet made no answer.</td>\n",
              "      <td>O</td>\n",
              "      <td>train</td>\n",
              "    </tr>\n",
              "    <tr>\n",
              "      <th>10</th>\n",
              "      <td>10</td>\n",
              "      <td>8</td>\n",
              "      <td>\"Do you not want to know who has taken it?\"</td>\n",
              "      <td>B-OTHER</td>\n",
              "      <td>train</td>\n",
              "    </tr>\n",
              "    <tr>\n",
              "      <th>11</th>\n",
              "      <td>11</td>\n",
              "      <td>8</td>\n",
              "      <td>cried his wife impatiently.</td>\n",
              "      <td>O</td>\n",
              "      <td>train</td>\n",
              "    </tr>\n",
              "    <tr>\n",
              "      <th>12</th>\n",
              "      <td>12</td>\n",
              "      <td>9</td>\n",
              "      <td>\"You want to tell me, and I have no objection ...</td>\n",
              "      <td>B-OTHER</td>\n",
              "      <td>train</td>\n",
              "    </tr>\n",
              "    <tr>\n",
              "      <th>13</th>\n",
              "      <td>13</td>\n",
              "      <td>10</td>\n",
              "      <td>This was invitation enough.</td>\n",
              "      <td>O</td>\n",
              "      <td>train</td>\n",
              "    </tr>\n",
              "    <tr>\n",
              "      <th>14</th>\n",
              "      <td>14</td>\n",
              "      <td>11</td>\n",
              "      <td>\"Why, my dear, you must know, Mrs Long says th...</td>\n",
              "      <td>B-OTHER</td>\n",
              "      <td>train</td>\n",
              "    </tr>\n",
              "  </tbody>\n",
              "</table>\n",
              "</div>"
            ],
            "text/plain": [
              "    Unnamed: 0  para_index                                               sent  \\\n",
              "0            0           0                                     By Jane Austen   \n",
              "1            1           1                                          Chapter 1   \n",
              "2            2           2  It is a truth universally acknowledged, that a...   \n",
              "3            3           3  However little known the feelings or views of ...   \n",
              "4            4           4                               \"My dear Mr Bennet,\"   \n",
              "5            5           4  \"have you heard that       Netherfield Park is...   \n",
              "6            6           5                 Mr Bennet replied that he had not.   \n",
              "7            7           6                                       \"But it is,\"   \n",
              "8            8           6  \"for Mrs Long has just been here, and she told...   \n",
              "9            9           7                          Mr Bennet made no answer.   \n",
              "10          10           8        \"Do you not want to know who has taken it?\"   \n",
              "11          11           8                        cried his wife impatiently.   \n",
              "12          12           9  \"You want to tell me, and I have no objection ...   \n",
              "13          13          10                        This was invitation enough.   \n",
              "14          14          11  \"Why, my dear, you must know, Mrs Long says th...   \n",
              "\n",
              "      label split_tag  \n",
              "0         O     train  \n",
              "1         O     train  \n",
              "2         O     train  \n",
              "3         O     train  \n",
              "4   B-START     train  \n",
              "5   I-START     train  \n",
              "6         O     train  \n",
              "7   B-OTHER     train  \n",
              "8   I-OTHER     train  \n",
              "9         O     train  \n",
              "10  B-OTHER     train  \n",
              "11        O     train  \n",
              "12  B-OTHER     train  \n",
              "13        O     train  \n",
              "14  B-OTHER     train  "
            ]
          },
          "metadata": {
            "tags": []
          },
          "execution_count": 10
        }
      ]
    },
    {
      "cell_type": "code",
      "metadata": {
        "id": "Ci67EiWrXBQf",
        "colab_type": "code",
        "outputId": "b07b19e8-ec02-40be-d2dc-b9253dad1a8c",
        "colab": {
          "base_uri": "https://localhost:8080/",
          "height": 34
        }
      },
      "source": [
        "data.shape"
      ],
      "execution_count": 11,
      "outputs": [
        {
          "output_type": "execute_result",
          "data": {
            "text/plain": [
              "(2747, 5)"
            ]
          },
          "metadata": {
            "tags": []
          },
          "execution_count": 11
        }
      ]
    },
    {
      "cell_type": "code",
      "metadata": {
        "id": "SbAVXLW_vHT1",
        "colab_type": "code",
        "outputId": "972b97c2-a047-4d4b-df83-d7084abaaba1",
        "colab": {
          "base_uri": "https://localhost:8080/",
          "height": 34
        }
      },
      "source": [
        "tags = list(set(data[\"label\"].values))\n",
        "n_tags = len(tags); tags"
      ],
      "execution_count": 12,
      "outputs": [
        {
          "output_type": "execute_result",
          "data": {
            "text/plain": [
              "['I-OTHER', 'B-START', 'I-START', 'B-OTHER', 'O']"
            ]
          },
          "metadata": {
            "tags": []
          },
          "execution_count": 12
        }
      ]
    },
    {
      "cell_type": "code",
      "metadata": {
        "id": "UT5253ifBkeI",
        "colab_type": "code",
        "colab": {
          "base_uri": "https://localhost:8080/",
          "height": 204
        },
        "outputId": "12825bb0-1110-4c56-c854-dfc88936b89f"
      },
      "source": [
        "data.head()"
      ],
      "execution_count": 13,
      "outputs": [
        {
          "output_type": "execute_result",
          "data": {
            "text/html": [
              "<div>\n",
              "<style scoped>\n",
              "    .dataframe tbody tr th:only-of-type {\n",
              "        vertical-align: middle;\n",
              "    }\n",
              "\n",
              "    .dataframe tbody tr th {\n",
              "        vertical-align: top;\n",
              "    }\n",
              "\n",
              "    .dataframe thead th {\n",
              "        text-align: right;\n",
              "    }\n",
              "</style>\n",
              "<table border=\"1\" class=\"dataframe\">\n",
              "  <thead>\n",
              "    <tr style=\"text-align: right;\">\n",
              "      <th></th>\n",
              "      <th>Unnamed: 0</th>\n",
              "      <th>para_index</th>\n",
              "      <th>sent</th>\n",
              "      <th>label</th>\n",
              "      <th>split_tag</th>\n",
              "    </tr>\n",
              "  </thead>\n",
              "  <tbody>\n",
              "    <tr>\n",
              "      <th>0</th>\n",
              "      <td>0</td>\n",
              "      <td>0</td>\n",
              "      <td>By Jane Austen</td>\n",
              "      <td>O</td>\n",
              "      <td>train</td>\n",
              "    </tr>\n",
              "    <tr>\n",
              "      <th>1</th>\n",
              "      <td>1</td>\n",
              "      <td>1</td>\n",
              "      <td>Chapter 1</td>\n",
              "      <td>O</td>\n",
              "      <td>train</td>\n",
              "    </tr>\n",
              "    <tr>\n",
              "      <th>2</th>\n",
              "      <td>2</td>\n",
              "      <td>2</td>\n",
              "      <td>It is a truth universally acknowledged, that a...</td>\n",
              "      <td>O</td>\n",
              "      <td>train</td>\n",
              "    </tr>\n",
              "    <tr>\n",
              "      <th>3</th>\n",
              "      <td>3</td>\n",
              "      <td>3</td>\n",
              "      <td>However little known the feelings or views of ...</td>\n",
              "      <td>O</td>\n",
              "      <td>train</td>\n",
              "    </tr>\n",
              "    <tr>\n",
              "      <th>4</th>\n",
              "      <td>4</td>\n",
              "      <td>4</td>\n",
              "      <td>\"My dear Mr Bennet,\"</td>\n",
              "      <td>B-START</td>\n",
              "      <td>train</td>\n",
              "    </tr>\n",
              "  </tbody>\n",
              "</table>\n",
              "</div>"
            ],
            "text/plain": [
              "   Unnamed: 0  para_index                                               sent  \\\n",
              "0           0           0                                     By Jane Austen   \n",
              "1           1           1                                          Chapter 1   \n",
              "2           2           2  It is a truth universally acknowledged, that a...   \n",
              "3           3           3  However little known the feelings or views of ...   \n",
              "4           4           4                               \"My dear Mr Bennet,\"   \n",
              "\n",
              "     label split_tag  \n",
              "0        O     train  \n",
              "1        O     train  \n",
              "2        O     train  \n",
              "3        O     train  \n",
              "4  B-START     train  "
            ]
          },
          "metadata": {
            "tags": []
          },
          "execution_count": 13
        }
      ]
    },
    {
      "cell_type": "code",
      "metadata": {
        "id": "Iz3OMyy_BpbR",
        "colab_type": "code",
        "colab": {}
      },
      "source": [
        "num_para_in_group = 3\n",
        "\n",
        "data['grouped_para_index'] = data['para_index'].apply(lambda x: int(x/num_para_in_group+1))"
      ],
      "execution_count": 0,
      "outputs": []
    },
    {
      "cell_type": "code",
      "metadata": {
        "id": "KkXS8hF8vPze",
        "colab_type": "code",
        "colab": {}
      },
      "source": [
        "# class paragraphGetter(object):\n",
        "    \n",
        "#     def __init__(self, data):\n",
        "#         self.n_para = 1\n",
        "#         self.data = data\n",
        "#         self.empty = False\n",
        "#         agg_func = lambda s: [(w, p, t) for w, p, t in zip(s[\"sent\"].values.tolist(),\n",
        "#                                                            s[\"split_tag\"].values.tolist(),\n",
        "#                                                            s[\"label\"].values.tolist())]\n",
        "#         self.grouped = self.data.groupby(\"para_index\").apply(agg_func)\n",
        "#         print(self.grouped)\n",
        "#         self.paragraphs = [s for s in self.grouped]\n",
        "    \n",
        "#     def get_next(self):\n",
        "#         try:\n",
        "#             s = self.grouped[\"paragraph: {}\".format(self.n_para)]\n",
        "#             print(s)\n",
        "#             self.n_para += 1\n",
        "#             return s\n",
        "#         except:\n",
        "#             return None\n",
        "\n",
        "class paragraphGetter(object):\n",
        "    \n",
        "    def __init__(self, data):\n",
        "        self.n_para = 1\n",
        "        self.data = data\n",
        "        self.empty = False\n",
        "        agg_func = lambda s: [(w, p, t) for w, p, t in zip(s[\"sent\"].values.tolist(),\n",
        "                                                           s[\"split_tag\"].values.tolist(),\n",
        "                                                           s[\"label\"].values.tolist())]\n",
        "        self.grouped = self.data.groupby(\"grouped_para_index\").apply(agg_func)\n",
        "        print(self.grouped)\n",
        "        self.paragraphs = [s for s in self.grouped]\n",
        "    \n",
        "    def get_next(self):\n",
        "        try:\n",
        "            s = self.grouped[\"grouped_paragraph: {}\".format(self.n_para)]\n",
        "            print(s)\n",
        "            self.n_para += 1\n",
        "            return s\n",
        "        except:\n",
        "            return None"
      ],
      "execution_count": 0,
      "outputs": []
    },
    {
      "cell_type": "code",
      "metadata": {
        "id": "gPdTYMlsvmsn",
        "colab_type": "code",
        "outputId": "0f3df174-af09-403d-e6ec-b91fe2b04f12",
        "colab": {
          "base_uri": "https://localhost:8080/",
          "height": 1088
        }
      },
      "source": [
        "getter = paragraphGetter(data)"
      ],
      "execution_count": 16,
      "outputs": [
        {
          "output_type": "stream",
          "text": [
            "grouped_para_index\n",
            "1      [(By Jane Austen, train, O), (Chapter 1, train...\n",
            "2      [(However little known the feelings or views o...\n",
            "3      [(\"But it is,\", train, B-OTHER), (\"for Mrs Lon...\n",
            "4      [(\"You want to tell me, and I have no objectio...\n",
            "5      [(\"What is his name?\", train, B-OTHER), (\"Bing...\n",
            "6      [(\"Oh! Single, my dear, to be sure! A single m...\n",
            "7      [(\"Is that his design in settling here?\", trai...\n",
            "8      [(\"My dear, you flatter me. I certainly have h...\n",
            "9      [(\"It is more than I engage for, I assure you....\n",
            "10     [(\"I desire you will do no such thing. Lizzy i...\n",
            "11     [(\"You mistake me, my dear. I have a high resp...\n",
            "12     [(\"It will be no use to us, if twenty such sho...\n",
            "13     [(Chapter 2, train, O), (Mr Bennet was among t...\n",
            "14     [(\"We are not in a way to know what Mr Bingley...\n",
            "15     [(\"No more have I,\", train, B-OTHER), (\"and I ...\n",
            "16     [(\"Kitty has no discretion in her coughs,\", tr...\n",
            "17     [(\"Aye, so it is,\", train, B-OTHER), (\"and Mrs...\n",
            "18     [(\"I honour your circumsection. A fortnight's ...\n",
            "19     [(Mary wished to say something sensible, but k...\n",
            "20     [(\"I am sorry to hear that; but why did not yo...\n",
            "21     [(\"Now, Kitty, you may cough as much as you ch...\n",
            "22     [(The rest of the evening was spent in conject...\n",
            "23     [(\"If I can but see one of my daughters happil...\n",
            "24     [(Mr Bingley was good-looking and gentlemanlik...\n",
            "25     [(\"Come, Darcy,\", train, B-START), (\"I must ha...\n",
            "26     [(\"You are dancing with the only handsome girl...\n",
            "27     [(Mr Bingley followed his advice. Mr Darcy wal...\n",
            "28     [(\"If he had had any compassion for me,\", trai...\n",
            "29     [(\"But I can assure you,\", train, B-OTHER), (\"...\n",
            "30     [(\"He is just what a young man ought to be,\", ...\n",
            "                             ...                        \n",
            "678    [(Jane looked at her doubtingly. , train, O), ...\n",
            "679    [(\"Good Heaven! can it be really so! Yet now I...\n",
            "680    [(\"Oh, yes! You will only think I feel more th...\n",
            "681    [(\"My dearest sister, now be serious. I want t...\n",
            "682    [(\"Now I am quite happy,\", train, B-START), (\"...\n",
            "683    [(Elizabeth could hardly help laughing at so c...\n",
            "684    [(\"It may do very well for the others,\", train...\n",
            "685    [(In the evening, soon after Mr Bennet withdre...\n",
            "686    [(\"Or, in other words, you are determined to h...\n",
            "687    [(\"I do, I do like him,\", train, B-OTHER), (\"I...\n",
            "688    [(\"Well, my dear,\", train, B-OTHER), (\"I have ...\n",
            "689    [(He then recollected her embarrassment a few ...\n",
            "690    [(\"Good gracious! Lord bless me! only think! d...\n",
            "691    [(This was a sad omen of what her mother's beh...\n",
            "692    [(Chapter 60, train, O), (Elizabeth's spirits ...\n",
            "693    [(\"My beauty you had early withstood, and as f...\n",
            "694    [(\"Was there no good in your affectionate beha...\n",
            "695    [(\"But I was embarrassed.\", train, B-OTHER), (...\n",
            "696    [(\"A man who had felt less, might.\", train, B-...\n",
            "697    [(\"Lady Catherine has been of infinite use, wh...\n",
            "698    [(\"I am more likely to want more time than cou...\n",
            "699    [(\"I would have thanked you before, my dear au...\n",
            "700    [(I must trouble you once more for congratulat...\n",
            "701    [(The joy which MissDarcy expressed on receivi...\n",
            "702    [(Chapter 61, train, O), (Happy for all her ma...\n",
            "703    [(Mr Bingley and Jane remained at Netherfield ...\n",
            "704    [(As for Wickham and Lydia, their characters s...\n",
            "705    [(\"Yours, etc.\", train, B-OTHER), (As it happe...\n",
            "706    [(MissBingley was very deeply mortified by Dar...\n",
            "707    [(With the Gardiners, they were always on the ...\n",
            "Length: 707, dtype: object\n"
          ],
          "name": "stdout"
        }
      ]
    },
    {
      "cell_type": "code",
      "metadata": {
        "id": "8xlMNjhHvqh4",
        "colab_type": "code",
        "colab": {}
      },
      "source": [
        "paragraphs = getter.paragraphs"
      ],
      "execution_count": 0,
      "outputs": []
    },
    {
      "cell_type": "code",
      "metadata": {
        "id": "j5qgJm3ASpSq",
        "colab_type": "code",
        "outputId": "3b3f82c5-53a1-4c99-bf4f-6b6ea25258ef",
        "colab": {
          "base_uri": "https://localhost:8080/",
          "height": 34
        }
      },
      "source": [
        "len(paragraphs)"
      ],
      "execution_count": 18,
      "outputs": [
        {
          "output_type": "execute_result",
          "data": {
            "text/plain": [
              "707"
            ]
          },
          "metadata": {
            "tags": []
          },
          "execution_count": 18
        }
      ]
    },
    {
      "cell_type": "code",
      "metadata": {
        "id": "1bQlkwcDvu-0",
        "colab_type": "code",
        "outputId": "5d6d84b5-a684-48a2-bbd3-d431c6667761",
        "colab": {
          "base_uri": "https://localhost:8080/",
          "height": 54
        }
      },
      "source": [
        "print(paragraphs[0])"
      ],
      "execution_count": 19,
      "outputs": [
        {
          "output_type": "stream",
          "text": [
            "[('By Jane Austen', 'train', 'O'), ('Chapter 1', 'train', 'O'), ('It is a truth universally acknowledged, that a single man in possession of       a good fortune, must be in want of a wife.', 'train', 'O')]\n"
          ],
          "name": "stdout"
        }
      ]
    },
    {
      "cell_type": "code",
      "metadata": {
        "id": "sb9BzUWnS44s",
        "colab_type": "code",
        "outputId": "0cb167c1-8a8e-408f-a53d-a58e635f35b0",
        "colab": {
          "base_uri": "https://localhost:8080/",
          "height": 34
        }
      },
      "source": [
        "maxlen = max([len(s) for s in paragraphs])\n",
        "print ('Maximum sequence length:', maxlen)"
      ],
      "execution_count": 20,
      "outputs": [
        {
          "output_type": "stream",
          "text": [
            "Maximum sequence length: 8\n"
          ],
          "name": "stdout"
        }
      ]
    },
    {
      "cell_type": "code",
      "metadata": {
        "id": "pKvI3DR5SGCt",
        "colab_type": "code",
        "colab": {}
      },
      "source": [
        "max_len = 8\n",
        "batch_size = 16\n",
        "EPOCHS = 30\n",
        "tag2idx = {t: i for i, t in enumerate(tags)}"
      ],
      "execution_count": 0,
      "outputs": []
    },
    {
      "cell_type": "code",
      "metadata": {
        "id": "ykVbvWorSpab",
        "colab_type": "code",
        "outputId": "d396152e-a4cf-4784-eb79-9a3b20ed049c",
        "colab": {
          "base_uri": "https://localhost:8080/",
          "height": 153
        }
      },
      "source": [
        "X_ori = [[w[0] for w in s] for s in paragraphs]\n",
        "\n",
        "X = []\n",
        "for seq in X_ori:\n",
        "    new_seq = []\n",
        "    for i in range(max_len):\n",
        "        try:\n",
        "            new_seq.append(seq[i])\n",
        "        except:\n",
        "            new_seq.append(\"PAD\")\n",
        "    X.append(new_seq)\n",
        "X[0]"
      ],
      "execution_count": 22,
      "outputs": [
        {
          "output_type": "execute_result",
          "data": {
            "text/plain": [
              "['By Jane Austen',\n",
              " 'Chapter 1',\n",
              " 'It is a truth universally acknowledged, that a single man in possession of       a good fortune, must be in want of a wife.',\n",
              " 'PAD',\n",
              " 'PAD',\n",
              " 'PAD',\n",
              " 'PAD',\n",
              " 'PAD']"
            ]
          },
          "metadata": {
            "tags": []
          },
          "execution_count": 22
        }
      ]
    },
    {
      "cell_type": "code",
      "metadata": {
        "id": "vM65-Vi0TDWm",
        "colab_type": "code",
        "outputId": "48619c26-8937-4f91-e1c2-fc7ca4362514",
        "colab": {
          "base_uri": "https://localhost:8080/",
          "height": 34
        }
      },
      "source": [
        "len(X)"
      ],
      "execution_count": 23,
      "outputs": [
        {
          "output_type": "execute_result",
          "data": {
            "text/plain": [
              "707"
            ]
          },
          "metadata": {
            "tags": []
          },
          "execution_count": 23
        }
      ]
    },
    {
      "cell_type": "code",
      "metadata": {
        "id": "QeQn5tIHIGw4",
        "colab_type": "code",
        "outputId": "bb1e418c-bde5-4b8d-9987-b86ab4290279",
        "colab": {
          "base_uri": "https://localhost:8080/",
          "height": 224
        }
      },
      "source": [
        "!pip install bert_embedding"
      ],
      "execution_count": 24,
      "outputs": [
        {
          "output_type": "stream",
          "text": [
            "Requirement already satisfied: bert_embedding in /usr/local/lib/python3.6/dist-packages (1.0.1)\n",
            "Requirement already satisfied: mxnet==1.4.0 in /usr/local/lib/python3.6/dist-packages (from bert_embedding) (1.4.0)\n",
            "Requirement already satisfied: gluonnlp==0.6.0 in /usr/local/lib/python3.6/dist-packages (from bert_embedding) (0.6.0)\n",
            "Requirement already satisfied: numpy==1.14.6 in /usr/local/lib/python3.6/dist-packages (from bert_embedding) (1.14.6)\n",
            "Requirement already satisfied: typing==3.6.6 in /usr/local/lib/python3.6/dist-packages (from bert_embedding) (3.6.6)\n",
            "Requirement already satisfied: graphviz<0.9.0,>=0.8.1 in /usr/local/lib/python3.6/dist-packages (from mxnet==1.4.0->bert_embedding) (0.8.4)\n",
            "Requirement already satisfied: requests>=2.20.0 in /usr/local/lib/python3.6/dist-packages (from mxnet==1.4.0->bert_embedding) (2.21.0)\n",
            "Requirement already satisfied: certifi>=2017.4.17 in /usr/local/lib/python3.6/dist-packages (from requests>=2.20.0->mxnet==1.4.0->bert_embedding) (2019.3.9)\n",
            "Requirement already satisfied: chardet<3.1.0,>=3.0.2 in /usr/local/lib/python3.6/dist-packages (from requests>=2.20.0->mxnet==1.4.0->bert_embedding) (3.0.4)\n",
            "Requirement already satisfied: urllib3<1.25,>=1.21.1 in /usr/local/lib/python3.6/dist-packages (from requests>=2.20.0->mxnet==1.4.0->bert_embedding) (1.24.2)\n",
            "Requirement already satisfied: idna<2.9,>=2.5 in /usr/local/lib/python3.6/dist-packages (from requests>=2.20.0->mxnet==1.4.0->bert_embedding) (2.8)\n"
          ],
          "name": "stdout"
        }
      ]
    },
    {
      "cell_type": "code",
      "metadata": {
        "id": "PUknjJOF6LOM",
        "colab_type": "code",
        "colab": {}
      },
      "source": [
        "from bert_embedding import BertEmbedding\n",
        "bert_embedding = BertEmbedding()\n"
      ],
      "execution_count": 0,
      "outputs": []
    },
    {
      "cell_type": "code",
      "metadata": {
        "id": "_rL6dnO0gvVm",
        "colab_type": "code",
        "colab": {}
      },
      "source": [
        "# def bertSentenceEmbeddingLayer(para):\n",
        "#   return np.asarray(bert_embedding(para))[:,1]"
      ],
      "execution_count": 0,
      "outputs": []
    },
    {
      "cell_type": "code",
      "metadata": {
        "id": "gmjNatsvM_-i",
        "colab_type": "code",
        "outputId": "d85ff3dd-5d36-4b1e-a041-f114fca78e7a",
        "colab": {
          "base_uri": "https://localhost:8080/",
          "height": 34
        }
      },
      "source": [
        "def bertSentenceEmbedding(x):\n",
        "  embeddings = []\n",
        "  count = 0\n",
        "  for para in x:\n",
        "#     count = 0\n",
        "#     print(para)\n",
        "    para_all_embed = np.asarray(bert_embedding(para))[:,1]\n",
        "  \n",
        "    para_embed = []\n",
        "    for embed in np.asarray(para_all_embed):\n",
        "      count = 0\n",
        "      all_embed = [0]*768\n",
        "      for word_embed in embed:\n",
        "        count += 1\n",
        "        all_embed = all_embed + word_embed\n",
        "#       print(count)\n",
        "      sent_embed = all_embed/count\n",
        "      para_embed.append(sent_embed)\n",
        "      \n",
        "    embeddings.append(para_embed)\n",
        "#     print(np.asarray(bert_embedding(para)))\n",
        "  return embeddings\n",
        "\n",
        "xxx = [['hi hello world joyce','hi joyce'],['hi hello joyce','joyce']]\n",
        "\n",
        "res = bertSentenceEmbedding(xxx)\n",
        "print(np.asarray(res).shape)\n",
        "# print(res[0])"
      ],
      "execution_count": 41,
      "outputs": [
        {
          "output_type": "stream",
          "text": [
            "(2, 2, 768)\n"
          ],
          "name": "stdout"
        }
      ]
    },
    {
      "cell_type": "code",
      "metadata": {
        "id": "dc4FjE5e3w8b",
        "colab_type": "code",
        "colab": {}
      },
      "source": [
        "X_embed = bertSentenceEmbedding(X)\n",
        "np.save(os.path.join(loc, \"X_g_embedding.npy\"), X_embed)"
      ],
      "execution_count": 0,
      "outputs": []
    },
    {
      "cell_type": "code",
      "metadata": {
        "id": "ZG3Y8N8GL99y",
        "colab_type": "code",
        "colab": {}
      },
      "source": [
        "X_embed = np.load(os.path.join(loc, \"X_g_embedding.npy\"))"
      ],
      "execution_count": 0,
      "outputs": []
    },
    {
      "cell_type": "code",
      "metadata": {
        "id": "HYZZLv54UOmr",
        "colab_type": "code",
        "colab": {
          "base_uri": "https://localhost:8080/",
          "height": 34
        },
        "outputId": "667ad1e9-4c4c-47e0-ed78-b926179fef5c"
      },
      "source": [
        "print(np.asarray(X_embed).shape)"
      ],
      "execution_count": 30,
      "outputs": [
        {
          "output_type": "stream",
          "text": [
            "(707, 8, 768)\n"
          ],
          "name": "stdout"
        }
      ]
    },
    {
      "cell_type": "code",
      "metadata": {
        "id": "mQDfDJuvMUSK",
        "colab_type": "code",
        "colab": {
          "base_uri": "https://localhost:8080/",
          "height": 238
        },
        "outputId": "fe185d56-75bd-4cf2-bdde-8a78313fc7ed"
      },
      "source": [
        "np.asarray(X_embed)[706]"
      ],
      "execution_count": 33,
      "outputs": [
        {
          "output_type": "execute_result",
          "data": {
            "text/plain": [
              "array([[-0.30362565,  0.19630766,  0.16389419, ..., -0.49293816,\n",
              "         0.39149393, -0.06356197],\n",
              "       [-0.36263752, -0.42318255,  0.41502503, ...,  0.25443158,\n",
              "         0.20314312,  0.43733329],\n",
              "       [-0.36263752, -0.42318255,  0.41502503, ...,  0.25443158,\n",
              "         0.20314312,  0.43733329],\n",
              "       ...,\n",
              "       [-0.36263752, -0.42318255,  0.41502503, ...,  0.25443158,\n",
              "         0.20314312,  0.43733329],\n",
              "       [-0.36263752, -0.42318255,  0.41502503, ...,  0.25443158,\n",
              "         0.20314312,  0.43733329],\n",
              "       [-0.36263752, -0.42318255,  0.41502503, ...,  0.25443158,\n",
              "         0.20314312,  0.43733329]])"
            ]
          },
          "metadata": {
            "tags": []
          },
          "execution_count": 33
        }
      ]
    },
    {
      "cell_type": "code",
      "metadata": {
        "id": "vU2v2OypMUUt",
        "colab_type": "code",
        "colab": {}
      },
      "source": [
        ""
      ],
      "execution_count": 0,
      "outputs": []
    },
    {
      "cell_type": "code",
      "metadata": {
        "id": "2bwVfvDUoKKU",
        "colab_type": "code",
        "outputId": "89e662d0-c22b-4a04-d393-d3da0ab6135e",
        "colab": {
          "base_uri": "https://localhost:8080/",
          "height": 34
        }
      },
      "source": [
        "tag2idx"
      ],
      "execution_count": 34,
      "outputs": [
        {
          "output_type": "execute_result",
          "data": {
            "text/plain": [
              "{'B-OTHER': 3, 'B-START': 1, 'I-OTHER': 0, 'I-START': 2, 'O': 4}"
            ]
          },
          "metadata": {
            "tags": []
          },
          "execution_count": 34
        }
      ]
    },
    {
      "cell_type": "code",
      "metadata": {
        "id": "wc1viV7mkMiU",
        "colab_type": "code",
        "colab": {}
      },
      "source": [
        "np.save(os.path.join(loc, \"tag2idx.npy\"), tag2idx)"
      ],
      "execution_count": 0,
      "outputs": []
    },
    {
      "cell_type": "code",
      "metadata": {
        "id": "J_NIbOsU3daq",
        "colab_type": "code",
        "outputId": "e14ed0a6-036f-4e15-b2fd-ca0abf00d076",
        "colab": {
          "base_uri": "https://localhost:8080/",
          "height": 34
        }
      },
      "source": [
        "print(np.asarray(X_embed).shape)"
      ],
      "execution_count": 67,
      "outputs": [
        {
          "output_type": "stream",
          "text": [
            "(707, 8, 768)\n"
          ],
          "name": "stdout"
        }
      ]
    },
    {
      "cell_type": "code",
      "metadata": {
        "id": "VP0uvhVG2c4R",
        "colab_type": "code",
        "colab": {}
      },
      "source": [
        "# def bertSentenceEmbedding(x):\n",
        "#   embeddings = []\n",
        "#   count = 0\n",
        "#   for para in x:\n",
        "# #     count = 0\n",
        "# #     print(para)\n",
        "#     para_all_embed = np.asarray(bert_embedding(para))[:,1]\n",
        "#     for embed in np.asarray(para_all_embed):\n",
        "#       count = 0\n",
        "#       all_embed = [0]*768\n",
        "#       for word_embed in embed:\n",
        "#         count += 1\n",
        "#         all_embed = all_embed + word_embed\n",
        "#       print(count)\n",
        "#       sent_embed = all_embed/count\n",
        "#       para_embed.append(sent_embed)\n",
        "#     embeddings.append(para_embed)\n",
        "# #     print(np.asarray(bert_embedding(para)))\n",
        "#   return embeddings\n",
        "\n",
        "# xxx = [['hi hello world shutao','hi shutao'],['hi hello shutao','shutao'] ]\n",
        "\n",
        "# res = bertSentenceEmbedding(xxx)\n",
        "# print(np.asarray(res).shape)\n",
        "# print(res[0])"
      ],
      "execution_count": 0,
      "outputs": []
    },
    {
      "cell_type": "code",
      "metadata": {
        "id": "fkITn1OUXdR0",
        "colab_type": "code",
        "colab": {}
      },
      "source": [
        "# para1 = ['This was invitation enough.', 'PAD', 'PAD', 'PAD', 'PAD', 'PAD', 'PAD', 'PAD', 'PAD', 'PAD', 'PAD', 'PAD', 'PAD', 'PAD', 'PAD', 'PAD', 'PAD', 'PAD', 'PAD', 'PAD']\n",
        "# para2 = ['Mr Bennet replied that he had not.', 'PAD', 'PAD', 'PAD', 'PAD', 'PAD', 'PAD', 'PAD', 'PAD', 'PAD', 'PAD', 'PAD', 'PAD', 'PAD', 'PAD', 'PAD', 'PAD', 'PAD', 'PAD', 'PAD']\n",
        "# para3 = ['\"My dear Mr Bennet,\"', '\"have you heard that       Netherfield Park is let at last?\"', 'PAD', 'PAD', 'PAD', 'PAD', 'PAD', 'PAD', 'PAD', 'PAD', 'PAD', 'PAD', 'PAD', 'PAD', 'PAD', 'PAD', 'PAD', 'PAD', 'PAD', 'PAD']\n",
        "# np.shape(np.asarray(bert_embedding(para3)))"
      ],
      "execution_count": 0,
      "outputs": []
    },
    {
      "cell_type": "code",
      "metadata": {
        "id": "o7nbc2RlN7cd",
        "colab_type": "code",
        "colab": {}
      },
      "source": [
        "# np.shape(bertSentenceEmbedding(X1))\n",
        "# # array([[list([array([...]),array([..])]),list([array([..]),  array([..]),array([..])]), list([array([...]),array([..])])]])\n",
        "\n",
        "# #2,3,2,2\n",
        "# # array([[list([array([...]),array([..])]),list([array([..]),  array([..]),array([..])]), list([array([...]),array([..])]), list([array([..]), array([..])])"
      ],
      "execution_count": 0,
      "outputs": []
    },
    {
      "cell_type": "code",
      "metadata": {
        "id": "5fKuf-W7SvdI",
        "colab_type": "code",
        "outputId": "e8cc5052-39f4-49a1-cf17-693d725729b9",
        "colab": {
          "base_uri": "https://localhost:8080/",
          "height": 34
        }
      },
      "source": [
        "y = [[tag2idx[w[2]] for w in s] for s in paragraphs]\n",
        "\n",
        "y = pad_sequences(maxlen=max_len, sequences=y, padding=\"post\", value=tag2idx[\"O\"])\n",
        "y[0]"
      ],
      "execution_count": 42,
      "outputs": [
        {
          "output_type": "execute_result",
          "data": {
            "text/plain": [
              "array([4, 4, 4, 4, 4, 4, 4, 4], dtype=int32)"
            ]
          },
          "metadata": {
            "tags": []
          },
          "execution_count": 42
        }
      ]
    },
    {
      "cell_type": "code",
      "metadata": {
        "id": "dJEGhf2IIrWe",
        "colab_type": "code",
        "colab": {}
      },
      "source": [
        "train_index = set(data[data['split_tag']=='train']['grouped_para_index'].values)\n",
        "valid_index = set(data[data['split_tag']=='validation']['grouped_para_index'].values)\n",
        "test_index = set(data[data['split_tag']=='test']['grouped_para_index'].values)"
      ],
      "execution_count": 0,
      "outputs": []
    },
    {
      "cell_type": "code",
      "metadata": {
        "id": "teXdOCFCICCB",
        "colab_type": "code",
        "colab": {
          "base_uri": "https://localhost:8080/",
          "height": 34
        },
        "outputId": "78c26b3e-fe12-4e97-ed2b-a23e25c6b6a7"
      },
      "source": [
        "len(X_embed)"
      ],
      "execution_count": 70,
      "outputs": [
        {
          "output_type": "execute_result",
          "data": {
            "text/plain": [
              "707"
            ]
          },
          "metadata": {
            "tags": []
          },
          "execution_count": 70
        }
      ]
    },
    {
      "cell_type": "code",
      "metadata": {
        "id": "npsazpH_NtW5",
        "colab_type": "code",
        "colab": {
          "base_uri": "https://localhost:8080/",
          "height": 34
        },
        "outputId": "b18dd8cf-9f82-4565-dc42-73bf9331f00c"
      },
      "source": [
        "len(y)"
      ],
      "execution_count": 56,
      "outputs": [
        {
          "output_type": "execute_result",
          "data": {
            "text/plain": [
              "707"
            ]
          },
          "metadata": {
            "tags": []
          },
          "execution_count": 56
        }
      ]
    },
    {
      "cell_type": "code",
      "metadata": {
        "id": "xMTwpAqbKVWT",
        "colab_type": "code",
        "colab": {}
      },
      "source": [
        "X_tr = [np.asarray(X_embed)[i-1] for i in train_index]\n",
        "X_val = [np.asarray(X_embed)[i-1] for i in valid_index]\n",
        "X_te = [np.asarray(X_embed)[i-1] for i in test_index]\n",
        "\n",
        "y_tr = np.asarray([y[i-1] for i in train_index])\n",
        "y_val = np.asarray([y[i-1] for i in valid_index])\n",
        "y_te = np.asarray([y[i-1] for i in test_index])"
      ],
      "execution_count": 0,
      "outputs": []
    },
    {
      "cell_type": "code",
      "metadata": {
        "id": "tszqXhIsNOWG",
        "colab_type": "code",
        "colab": {
          "base_uri": "https://localhost:8080/",
          "height": 34
        },
        "outputId": "ce5906f2-005a-4be4-eb45-b90230f37577"
      },
      "source": [
        "len(X_tr)"
      ],
      "execution_count": 69,
      "outputs": [
        {
          "output_type": "execute_result",
          "data": {
            "text/plain": [
              "568"
            ]
          },
          "metadata": {
            "tags": []
          },
          "execution_count": 69
        }
      ]
    },
    {
      "cell_type": "code",
      "metadata": {
        "id": "e7NNCNLsKpJc",
        "colab_type": "code",
        "colab": {
          "base_uri": "https://localhost:8080/",
          "height": 34
        },
        "outputId": "ae9fbb8b-60cd-4ad0-aeb1-66a26f85a607"
      },
      "source": [
        "len(X_val)"
      ],
      "execution_count": 70,
      "outputs": [
        {
          "output_type": "execute_result",
          "data": {
            "text/plain": [
              "69"
            ]
          },
          "metadata": {
            "tags": []
          },
          "execution_count": 70
        }
      ]
    },
    {
      "cell_type": "code",
      "metadata": {
        "id": "eB2f9gg9NjKA",
        "colab_type": "code",
        "colab": {
          "base_uri": "https://localhost:8080/",
          "height": 34
        },
        "outputId": "ee115bba-b6ef-4d75-9a2f-fbb94a8957b3"
      },
      "source": [
        "len(X_te)"
      ],
      "execution_count": 71,
      "outputs": [
        {
          "output_type": "execute_result",
          "data": {
            "text/plain": [
              "72"
            ]
          },
          "metadata": {
            "tags": []
          },
          "execution_count": 71
        }
      ]
    },
    {
      "cell_type": "code",
      "metadata": {
        "id": "JKyDlsnlOHaz",
        "colab_type": "code",
        "colab": {
          "base_uri": "https://localhost:8080/",
          "height": 34
        },
        "outputId": "da94fbde-f31a-43d8-8490-3b659b6dc05a"
      },
      "source": [
        "from sklearn.model_selection import train_test_split\n",
        "\n",
        "batch_size = 4\n",
        "\n",
        "X_tr = X_tr[0:int(np.floor(len(X_tr)/batch_size)*batch_size)]\n",
        "X_val = X_val[0:int(np.floor(len(X_val)/batch_size)*batch_size)]\n",
        "y_tr = y_tr[0:int(np.floor(len(y_tr)/batch_size)*batch_size)]\n",
        "y_val = y_val[0:int(np.floor(len(y_val)/batch_size)*batch_size)]\n",
        "print(\"training sentences: \", len(X_tr), \"validation sentences: \", len(X_val))\n",
        "y_tr = y_tr.reshape(y_tr.shape[0], y_tr.shape[1], 1)\n",
        "y_val = y_val.reshape(y_val.shape[0], y_val.shape[1], 1)"
      ],
      "execution_count": 72,
      "outputs": [
        {
          "output_type": "stream",
          "text": [
            "training sentences:  568 validation sentences:  68\n"
          ],
          "name": "stdout"
        }
      ]
    },
    {
      "cell_type": "code",
      "metadata": {
        "id": "Nz5it-vPUKCd",
        "colab_type": "code",
        "outputId": "5d513366-60a7-436f-b6db-afccd7091826",
        "colab": {
          "base_uri": "https://localhost:8080/",
          "height": 34
        }
      },
      "source": [
        "# from sklearn.model_selection import train_test_split\n",
        "\n",
        "# batch_size = 4\n",
        "\n",
        "# X_tra, X_te, y_tra, y_te = train_test_split(np.asarray(X_embed), y, test_size=0.2, random_state=2019)\n",
        "\n",
        "# X_tr, X_val, y_tr, y_val = train_test_split(X_tra, y_tra, test_size=0.1, random_state=2019)\n",
        "# X_tr = X_tr[0:int(np.floor(len(X_tr)/batch_size)*batch_size)]\n",
        "# X_val = X_val[0:int(np.floor(len(X_val)/batch_size)*batch_size)]\n",
        "# y_tr = y_tr[0:int(np.floor(len(y_tr)/batch_size)*batch_size)]\n",
        "# y_val = y_val[0:int(np.floor(len(y_val)/batch_size)*batch_size)]\n",
        "# print(\"training sentences: \", len(X_tr), \"validation sentences: \", len(X_val))\n",
        "# y_tr = y_tr.reshape(y_tr.shape[0], y_tr.shape[1], 1)\n",
        "# y_val = y_val.reshape(y_val.shape[0], y_val.shape[1], 1)"
      ],
      "execution_count": 59,
      "outputs": [
        {
          "output_type": "stream",
          "text": [
            "training sentences:  508 validation sentences:  56\n"
          ],
          "name": "stdout"
        }
      ]
    },
    {
      "cell_type": "code",
      "metadata": {
        "id": "f4QCcU6cO3ge",
        "colab_type": "code",
        "colab": {
          "base_uri": "https://localhost:8080/",
          "height": 238
        },
        "outputId": "eb62acc8-d7be-48c9-b8c2-14a79c502cb1"
      },
      "source": [
        "X_tr[0]"
      ],
      "execution_count": 73,
      "outputs": [
        {
          "output_type": "execute_result",
          "data": {
            "text/plain": [
              "array([[ 0.2912969 , -0.17903131,  0.10967472, ..., -0.19182503,\n",
              "        -0.43881714,  0.23725479],\n",
              "       [-0.15908244,  0.64495318,  0.22298899, ...,  0.17840026,\n",
              "         0.12493649, -0.22940525],\n",
              "       [-0.08114404,  0.23531241,  0.00488994, ..., -0.25501167,\n",
              "         0.01424145,  0.12990276],\n",
              "       ...,\n",
              "       [-0.36263752, -0.42318255,  0.41502503, ...,  0.25443158,\n",
              "         0.20314312,  0.43733329],\n",
              "       [-0.36263752, -0.42318255,  0.41502503, ...,  0.25443158,\n",
              "         0.20314312,  0.43733329],\n",
              "       [-0.36263752, -0.42318255,  0.41502503, ...,  0.25443158,\n",
              "         0.20314312,  0.43733329]])"
            ]
          },
          "metadata": {
            "tags": []
          },
          "execution_count": 73
        }
      ]
    },
    {
      "cell_type": "code",
      "metadata": {
        "id": "w1DAbC6XvoNw",
        "colab_type": "code",
        "outputId": "0efefed1-22ec-470c-eead-55ef1a248005",
        "colab": {
          "base_uri": "https://localhost:8080/",
          "height": 238
        }
      },
      "source": [
        "# X_tr[0]"
      ],
      "execution_count": 0,
      "outputs": [
        {
          "output_type": "execute_result",
          "data": {
            "text/plain": [
              "array([[-0.13239855,  0.08427638,  0.21695995, ...,  0.0679633 ,\n",
              "         0.14400986, -0.01412165],\n",
              "       [-0.36263752, -0.42318255,  0.41502503, ...,  0.25443158,\n",
              "         0.20314312,  0.43733329],\n",
              "       [-0.36263752, -0.42318255,  0.41502503, ...,  0.25443158,\n",
              "         0.20314312,  0.43733329],\n",
              "       ...,\n",
              "       [-0.36263752, -0.42318255,  0.41502503, ...,  0.25443158,\n",
              "         0.20314312,  0.43733329],\n",
              "       [-0.36263752, -0.42318255,  0.41502503, ...,  0.25443158,\n",
              "         0.20314312,  0.43733329],\n",
              "       [-0.36263752, -0.42318255,  0.41502503, ...,  0.25443158,\n",
              "         0.20314312,  0.43733329]])"
            ]
          },
          "metadata": {
            "tags": []
          },
          "execution_count": 27
        }
      ]
    },
    {
      "cell_type": "markdown",
      "metadata": {
        "id": "gAH9miF8V9VX",
        "colab_type": "text"
      },
      "source": [
        "# Build model"
      ]
    },
    {
      "cell_type": "code",
      "metadata": {
        "id": "jzP5yQI-WGL8",
        "colab_type": "code",
        "colab": {}
      },
      "source": [
        "# from tensorflow.keras.layers import concatenate\n",
        "# # Function to build model\n",
        "# def build_model():\n",
        "#     input_text = Input(shape=(max_len,), dtype=\"string\")\n",
        "#     embedding = Lambda(bertSentenceEmbeddingLayer, output_shape=(None, 1024))(input_text)\n",
        "# #     embedding = Embedding(2747, 500, input_length=max_len)(input_text)\n",
        "#     x = Bidirectional(LSTM(units=512, return_sequences=True,\n",
        "#                            recurrent_dropout=0.2, dropout=0.2))(input_text)\n",
        "#     x_rnn = Bidirectional(LSTM(units=512, return_sequences=True,\n",
        "#                                recurrent_dropout=0.2, dropout=0.2))(x)\n",
        "#     x = concatenate([x, x_rnn])  # residual connection to the first biLSTMSS\n",
        "#     out = TimeDistributed(Dense(n_tags, activation=\"softmax\"))(x)\n",
        "\n",
        "#     model = Model(input_text, out)\n",
        "#     model.compile(optimizer=\"adam\", loss=\"sparse_categorical_crossentropy\")\n",
        "#     model.summary()\n",
        "\n",
        "#     return model"
      ],
      "execution_count": 0,
      "outputs": []
    },
    {
      "cell_type": "code",
      "metadata": {
        "id": "YefoQ1jpWKbz",
        "colab_type": "code",
        "colab": {}
      },
      "source": [
        "es = EarlyStopping(monitor='val_loss', min_delta=0, patience=4)\n",
        "\n",
        "filepath = os.path.join(loc, \"fiction-elmo-iob-epoch-{epoch:02d}.hdf5\")\n",
        "# checkpoint = ModelCheckpoint(filepath, monitor='val_loss', verbose=1, save_best_only=False)\n",
        "checkpoint = ModelCheckpoint(filepath, monitor='val_loss', verbose=1, save_best_only=True, save_weights_only=False,\n",
        "                             mode='auto', period=1)\n",
        "callbacks_list = [es, checkpoint]"
      ],
      "execution_count": 0,
      "outputs": []
    },
    {
      "cell_type": "code",
      "metadata": {
        "id": "G-Of_M1ghaoL",
        "colab_type": "code",
        "outputId": "29c865fa-07e1-4acb-ad1b-70e1c3d0ca99",
        "colab": {
          "base_uri": "https://localhost:8080/",
          "height": 496
        }
      },
      "source": [
        "from tensorflow.keras.layers import concatenate\n",
        "# Function to build model\n",
        "def build_model():\n",
        "    input_text = Input(shape=(max_len,768))\n",
        "#     embedding = Lambda(bertSentencembedding, output_shape=(None, 1024))(input_text)\n",
        "#     embedding = Embedding(2747, 500, input_length=max_len)(input_text)\n",
        "    x = Bidirectional(LSTM(units=512, return_sequences=True,\n",
        "                           recurrent_dropout=0.2, dropout=0.2))(input_text)\n",
        "    x_rnn = Bidirectional(LSTM(units=512, return_sequences=True,\n",
        "                               recurrent_dropout=0.2, dropout=0.2))(x)\n",
        "    x = concatenate([x, x_rnn])  # residual connection to the first biLSTMSS\n",
        "    out = TimeDistributed(Dense(n_tags, activation=\"softmax\"))(x)\n",
        "\n",
        "    model = Model(input_text, out)\n",
        "    model.compile(optimizer=\"adam\", loss=\"sparse_categorical_crossentropy\", metrics=['accuracy'])\n",
        "    model.summary()\n",
        "\n",
        "    return model\n",
        "  \n",
        "model = build_model()"
      ],
      "execution_count": 75,
      "outputs": [
        {
          "output_type": "stream",
          "text": [
            "WARNING: Logging before flag parsing goes to stderr.\n",
            "W0505 04:23:56.274562 140697709717376 tf_logging.py:161] <tensorflow.python.keras.layers.recurrent.UnifiedLSTM object at 0x7ff60069fe10>: Note that this layer is not optimized for performance. Please use tf.keras.layers.CuDNNLSTM for better performance on GPU.\n",
            "W0505 04:23:56.286113 140697709717376 tf_logging.py:161] <tensorflow.python.keras.layers.recurrent.UnifiedLSTM object at 0x7ff600692f60>: Note that this layer is not optimized for performance. Please use tf.keras.layers.CuDNNLSTM for better performance on GPU.\n",
            "W0505 04:23:56.781225 140697709717376 deprecation.py:506] From /usr/local/lib/python3.6/dist-packages/tensorflow/python/keras/backend.py:4081: calling dropout (from tensorflow.python.ops.nn_ops) with keep_prob is deprecated and will be removed in a future version.\n",
            "Instructions for updating:\n",
            "Please use `rate` instead of `keep_prob`. Rate should be set to `rate = 1 - keep_prob`.\n",
            "W0505 04:23:57.508788 140697709717376 tf_logging.py:161] <tensorflow.python.keras.layers.recurrent.UnifiedLSTM object at 0x7ff600687898>: Note that this layer is not optimized for performance. Please use tf.keras.layers.CuDNNLSTM for better performance on GPU.\n",
            "W0505 04:23:57.512240 140697709717376 tf_logging.py:161] <tensorflow.python.keras.layers.recurrent.UnifiedLSTM object at 0x7ff5e6851400>: Note that this layer is not optimized for performance. Please use tf.keras.layers.CuDNNLSTM for better performance on GPU.\n"
          ],
          "name": "stderr"
        },
        {
          "output_type": "stream",
          "text": [
            "Model: \"model\"\n",
            "__________________________________________________________________________________________________\n",
            "Layer (type)                    Output Shape         Param #     Connected to                     \n",
            "==================================================================================================\n",
            "input_1 (InputLayer)            [(None, 8, 768)]     0                                            \n",
            "__________________________________________________________________________________________________\n",
            "bidirectional (Bidirectional)   (None, 8, 1024)      5246976     input_1[0][0]                    \n",
            "__________________________________________________________________________________________________\n",
            "bidirectional_1 (Bidirectional) (None, 8, 1024)      6295552     bidirectional[0][0]              \n",
            "__________________________________________________________________________________________________\n",
            "concatenate (Concatenate)       (None, 8, 2048)      0           bidirectional[0][0]              \n",
            "                                                                 bidirectional_1[0][0]            \n",
            "__________________________________________________________________________________________________\n",
            "time_distributed (TimeDistribut (None, 8, 5)         10245       concatenate[0][0]                \n",
            "==================================================================================================\n",
            "Total params: 11,552,773\n",
            "Trainable params: 11,552,773\n",
            "Non-trainable params: 0\n",
            "__________________________________________________________________________________________________\n"
          ],
          "name": "stdout"
        }
      ]
    },
    {
      "cell_type": "code",
      "metadata": {
        "id": "yMeKLi9aFH84",
        "colab_type": "code",
        "colab": {}
      },
      "source": [
        "# from tensorflow.keras.models import Sequential\n",
        "# model = Sequential()\n",
        "\n",
        "# model.add(LSTM(512, input_shape=(None,20)))\n",
        "# model.add(Dense(n_tags, activation='softmax'))\n",
        "# model.compile(loss='sparse_categorical_crossentropy', optimizer='adam', metrics=['accuracy'])\n",
        "# print(model.summary())\n"
      ],
      "execution_count": 0,
      "outputs": []
    },
    {
      "cell_type": "markdown",
      "metadata": {
        "id": "ktcm8qpdXf01",
        "colab_type": "text"
      },
      "source": [
        "# Fit model"
      ]
    },
    {
      "cell_type": "code",
      "metadata": {
        "id": "VncXdY9UXdgJ",
        "colab_type": "code",
        "outputId": "92a0b791-9f96-4e7d-c3ef-dab058845254",
        "colab": {
          "base_uri": "https://localhost:8080/",
          "height": 578
        }
      },
      "source": [
        "history = model.fit(np.array(X_tr), y_tr, validation_data=(np.array(X_val), y_val),\n",
        "                    batch_size=batch_size, epochs=EPOCHS, verbose=1, callbacks=callbacks_list)"
      ],
      "execution_count": 76,
      "outputs": [
        {
          "output_type": "stream",
          "text": [
            "Train on 568 samples, validate on 68 samples\n",
            "Epoch 1/30\n",
            "564/568 [============================>.] - ETA: 0s - loss: 0.3492 - accuracy: 0.8734\n",
            "Epoch 00001: val_loss improved from inf to 0.14374, saving model to /content/gdrive/My Drive/tf2.0/fiction-elmo-iob-epoch-01.hdf5\n",
            "568/568 [==============================] - 29s 52ms/sample - loss: 0.3470 - accuracy: 0.8743 - val_loss: 0.1437 - val_accuracy: 0.9504\n",
            "Epoch 2/30\n",
            "564/568 [============================>.] - ETA: 0s - loss: 0.1539 - accuracy: 0.9439\n",
            "Epoch 00002: val_loss improved from 0.14374 to 0.11590, saving model to /content/gdrive/My Drive/tf2.0/fiction-elmo-iob-epoch-02.hdf5\n",
            "568/568 [==============================] - 25s 43ms/sample - loss: 0.1535 - accuracy: 0.9441 - val_loss: 0.1159 - val_accuracy: 0.9522\n",
            "Epoch 3/30\n",
            "564/568 [============================>.] - ETA: 0s - loss: 0.1050 - accuracy: 0.9572\n",
            "Epoch 00003: val_loss improved from 0.11590 to 0.11392, saving model to /content/gdrive/My Drive/tf2.0/fiction-elmo-iob-epoch-03.hdf5\n",
            "568/568 [==============================] - 26s 46ms/sample - loss: 0.1043 - accuracy: 0.9575 - val_loss: 0.1139 - val_accuracy: 0.9614\n",
            "Epoch 4/30\n",
            "564/568 [============================>.] - ETA: 0s - loss: 0.0908 - accuracy: 0.9656\n",
            "Epoch 00004: val_loss improved from 0.11392 to 0.09216, saving model to /content/gdrive/My Drive/tf2.0/fiction-elmo-iob-epoch-04.hdf5\n",
            "568/568 [==============================] - 24s 42ms/sample - loss: 0.0912 - accuracy: 0.9654 - val_loss: 0.0922 - val_accuracy: 0.9596\n",
            "Epoch 5/30\n",
            "564/568 [============================>.] - ETA: 0s - loss: 0.0616 - accuracy: 0.9770\n",
            "Epoch 00005: val_loss did not improve from 0.09216\n",
            "568/568 [==============================] - 23s 41ms/sample - loss: 0.0617 - accuracy: 0.9767 - val_loss: 0.0934 - val_accuracy: 0.9614\n",
            "Epoch 6/30\n",
            "564/568 [============================>.] - ETA: 0s - loss: 0.0487 - accuracy: 0.9820\n",
            "Epoch 00006: val_loss did not improve from 0.09216\n",
            "568/568 [==============================] - 24s 43ms/sample - loss: 0.0487 - accuracy: 0.9822 - val_loss: 0.1032 - val_accuracy: 0.9596\n",
            "Epoch 7/30\n",
            "564/568 [============================>.] - ETA: 0s - loss: 0.0288 - accuracy: 0.9883\n",
            "Epoch 00007: val_loss did not improve from 0.09216\n",
            "568/568 [==============================] - 23s 40ms/sample - loss: 0.0286 - accuracy: 0.9883 - val_loss: 0.1356 - val_accuracy: 0.9540\n",
            "Epoch 8/30\n",
            "564/568 [============================>.] - ETA: 0s - loss: 0.0174 - accuracy: 0.9949\n",
            "Epoch 00008: val_loss did not improve from 0.09216\n",
            "568/568 [==============================] - 23s 40ms/sample - loss: 0.0174 - accuracy: 0.9949 - val_loss: 0.1212 - val_accuracy: 0.9596\n"
          ],
          "name": "stdout"
        }
      ]
    },
    {
      "cell_type": "code",
      "metadata": {
        "id": "ko4ucUmkHwTH",
        "colab_type": "code",
        "colab": {}
      },
      "source": [
        "# print(np.shape(X_tr))\n",
        "\n",
        "# print(len(X_tr))\n",
        "# print(len(X_tr[0]))\n",
        "# print(type(X_tr))\n",
        "\n",
        "# print(len(X_tr[0][0]))\n",
        "# print(len(X_tr[1][0]))\n",
        "# print(len(X_tr[2][0]))\n",
        "# print(len(X_tr[3][0]))\n",
        "# print(len(X_tr[0][0][0]))\n",
        "# print(len(X_tr[1][0][0]))\n",
        "# print(len(X_tr[3][0][0]))\n",
        "\n",
        "# print(np.shape(np.asarray(X_tr)))\n",
        "# # print(X_tr[0][0])\n"
      ],
      "execution_count": 0,
      "outputs": []
    },
    {
      "cell_type": "code",
      "metadata": {
        "id": "hi180-saXmJx",
        "colab_type": "code",
        "outputId": "047b8ec4-927c-4849-cea4-5a182bdeff7e",
        "colab": {
          "base_uri": "https://localhost:8080/",
          "height": 51
        }
      },
      "source": [
        "from keras.utils import plot_model\n",
        "\n",
        "# plot_model(model, to_file='model_lstm_elmo.png')\n",
        "print(\"Model built. Saved model.png\")"
      ],
      "execution_count": 77,
      "outputs": [
        {
          "output_type": "stream",
          "text": [
            "Model built. Saved model.png\n"
          ],
          "name": "stdout"
        },
        {
          "output_type": "stream",
          "text": [
            "Using TensorFlow backend.\n"
          ],
          "name": "stderr"
        }
      ]
    },
    {
      "cell_type": "code",
      "metadata": {
        "id": "vfxM_7hOXqQ9",
        "colab_type": "code",
        "colab": {}
      },
      "source": [
        "import time\n",
        "\n",
        "timestr = time.strftime(\"%m%d_%H%M\")"
      ],
      "execution_count": 0,
      "outputs": []
    },
    {
      "cell_type": "code",
      "metadata": {
        "id": "so74zfXLXuDm",
        "colab_type": "code",
        "colab": {}
      },
      "source": [
        "# np.save(os.path.join(loc, \"idx2label_\" + timestr + \"-\" + str(EPOCHS) + \".npy\"), idx2label)\n",
        "# np.save(os.path.join(loc, \"word2idx_\" + timestr + \"_\" + str(EPOCHS) + \".npy\"), word2idx)"
      ],
      "execution_count": 0,
      "outputs": []
    },
    {
      "cell_type": "code",
      "metadata": {
        "id": "dDlw84oLX9al",
        "colab_type": "code",
        "colab": {}
      },
      "source": [
        "model_name = \"fiction_lstm_elmo_v2_\" + timestr + \"_epoch\" + str(EPOCHS)\n",
        "model_name_path = os.path.join(loc, model_name + \".h5\")\n",
        "model.save(model_name_path)"
      ],
      "execution_count": 0,
      "outputs": []
    },
    {
      "cell_type": "code",
      "metadata": {
        "id": "v43Me_BuYIiQ",
        "colab_type": "code",
        "outputId": "b3ea4076-7d20-412c-8a97-022f472e24b5",
        "colab": {
          "base_uri": "https://localhost:8080/",
          "height": 486
        }
      },
      "source": [
        "import pandas as pd\n",
        "import matplotlib.pyplot as plt\n",
        "\n",
        "hist = pd.DataFrame(history.history)\n",
        "\n",
        "plt.style.use(\"ggplot\")\n",
        "plt.figure(figsize=(8, 8))\n",
        "plt.plot(hist[\"loss\"])\n",
        "plt.plot(hist[\"val_loss\"])\n",
        "plt.legend()\n",
        "plt.show()"
      ],
      "execution_count": 81,
      "outputs": [
        {
          "output_type": "display_data",
          "data": {
            "image/png": "[encoded data removed]",
            "text/plain": [
              "<Figure size 576x576 with 1 Axes>"
            ]
          },
          "metadata": {
            "tags": []
          }
        }
      ]
    },
    {
      "cell_type": "markdown",
      "metadata": {
        "id": "u51FRdqxYN1R",
        "colab_type": "text"
      },
      "source": [
        "# Model evaluation"
      ]
    },
    {
      "cell_type": "code",
      "metadata": {
        "id": "8RMpX_WjYxnn",
        "colab_type": "code",
        "outputId": "ace76ca8-01db-43ea-f51c-403a1838c640",
        "colab": {
          "base_uri": "https://localhost:8080/",
          "height": 102
        }
      },
      "source": [
        "from seqeval.metrics import precision_score, recall_score, f1_score, classification_report\n",
        "\n",
        "category_count = {'B-START':0, 'I-START':0, 'B-OTHER':0, 'I-OTHER':0, 'O':0}\n",
        "total_count = 0\n",
        "\n",
        "for sentence in paragraphs:\n",
        "    for word in sentence:\n",
        "        if word[2] in category_count.keys():\n",
        "            category_count[word[2]] += 1\n",
        "            total_count += 1\n",
        "\n",
        "for category, count in category_count.items():\n",
        "    print(\"{}: {}%\".format(category.replace(\"\\n\", \"\"), round((count / total_count) * 100, 2)))\n"
      ],
      "execution_count": 82,
      "outputs": [
        {
          "output_type": "stream",
          "text": [
            "B-START: 6.81%\n",
            "I-START: 5.9%\n",
            "B-OTHER: 36.8%\n",
            "I-OTHER: 13.83%\n",
            "O: 36.66%\n"
          ],
          "name": "stdout"
        }
      ]
    },
    {
      "cell_type": "code",
      "metadata": {
        "id": "2GO9sjFeYbq3",
        "colab_type": "code",
        "colab": {}
      },
      "source": [
        "def pred2label(pred):\n",
        "    out = []\n",
        "    for pred_i in pred:\n",
        "        out_i = []\n",
        "        for p in pred_i:\n",
        "            #             print(p)\n",
        "            out_i.append(idx2tag[p].replace(\"PAD\", \"O\"))\n",
        "        #           print(out_i)\n",
        "        out.append(out_i)\n",
        "    return out\n",
        "\n",
        "\n",
        "def y2label(y):\n",
        "    out = []\n",
        "    for y_i in y:\n",
        "        out_i = []\n",
        "        for p in y_i:\n",
        "            for p_i in p:\n",
        "                out_i.append(idx2tag[p_i].replace(\"PAD\", \"O\"))\n",
        "        out.append(out_i)\n",
        "    return out"
      ],
      "execution_count": 0,
      "outputs": []
    },
    {
      "cell_type": "code",
      "metadata": {
        "id": "MUsaHWp3YOcL",
        "colab_type": "code",
        "colab": {}
      },
      "source": [
        "def evaluate_performance(X, y):\n",
        "    pred_num = model.predict(np.array(X))\n",
        "    pred = np.argmax(pred_num, axis=-1)\n",
        "    pred_labels = pred2label(pred)\n",
        "    labels = y2label(y)\n",
        "    print(classification_report(labels, pred_labels))\n",
        "    return pred"
      ],
      "execution_count": 0,
      "outputs": []
    },
    {
      "cell_type": "code",
      "metadata": {
        "id": "ktkhFJyy5L2A",
        "colab_type": "code",
        "colab": {}
      },
      "source": [
        "def evaluate_performance_v2(X, y):\n",
        "    pred_num = model.predict(np.array(X[0:int(np.floor(len(X)/batch_size)*batch_size)]))\n",
        "    pred = np.argmax(pred_num, axis=-1)\n",
        "    pred_labels = pred2label(pred)\n",
        "    y_num = y[0:int(np.floor(len(X)/batch_size)*batch_size)]\n",
        "    y_labels = pred2label(y_num)\n",
        "    print(classification_report(y_labels, pred_labels))\n",
        "    return pred"
      ],
      "execution_count": 0,
      "outputs": []
    },
    {
      "cell_type": "code",
      "metadata": {
        "id": "q_iDisE3qwO3",
        "colab_type": "code",
        "colab": {}
      },
      "source": [
        "idx2tag = {v: k for k, v in tag2idx.items()}"
      ],
      "execution_count": 0,
      "outputs": []
    },
    {
      "cell_type": "code",
      "metadata": {
        "id": "KgP0Z2wFYoU6",
        "colab_type": "code",
        "outputId": "fdf8b4e7-b079-465b-d998-25f42df447be",
        "colab": {
          "base_uri": "https://localhost:8080/",
          "height": 1309
        }
      },
      "source": [
        "print(evaluate_performance(X_val, y_val))"
      ],
      "execution_count": 87,
      "outputs": [
        {
          "output_type": "stream",
          "text": [
            "           precision    recall  f1-score   support\n",
            "\n",
            "    OTHER       0.90      0.93      0.91       107\n",
            "    START       0.56      0.59      0.57        17\n",
            "\n",
            "micro avg       0.85      0.88      0.87       124\n",
            "macro avg       0.85      0.88      0.87       124\n",
            "\n",
            "[[4 1 4 4 4 4 4 4]\n",
            " [4 4 4 4 4 4 4 4]\n",
            " [4 4 4 4 4 4 4 4]\n",
            " [1 0 3 3 4 4 4 4]\n",
            " [3 3 3 4 4 4 4 4]\n",
            " [3 3 3 4 4 4 4 4]\n",
            " [3 0 3 3 4 4 4 4]\n",
            " [3 4 1 2 4 4 4 4]\n",
            " [4 1 2 4 4 4 4 4]\n",
            " [4 4 4 4 4 4 4 4]\n",
            " [4 4 1 4 4 4 4 4]\n",
            " [3 0 3 4 4 4 4 4]\n",
            " [4 1 4 4 4 4 4 4]\n",
            " [3 0 3 0 3 4 4 4]\n",
            " [3 3 0 4 4 4 4 4]\n",
            " [4 4 4 4 4 4 4 4]\n",
            " [3 0 3 0 4 4 4 4]\n",
            " [4 3 4 4 4 4 4 4]\n",
            " [4 4 4 4 4 4 4 4]\n",
            " [4 4 4 4 4 4 4 4]\n",
            " [4 4 1 2 4 4 4 4]\n",
            " [3 3 3 4 4 4 4 4]\n",
            " [3 3 3 4 4 4 4 4]\n",
            " [3 3 3 4 4 4 4 4]\n",
            " [3 3 3 4 4 4 4 4]\n",
            " [4 3 3 4 4 4 4 4]\n",
            " [3 3 3 4 4 4 4 4]\n",
            " [3 3 0 3 0 4 4 4]\n",
            " [4 1 3 4 4 4 4 4]\n",
            " [4 4 4 4 4 4 4 4]\n",
            " [4 4 4 4 4 4 4 4]\n",
            " [4 4 4 4 4 4 4 4]\n",
            " [4 1 4 4 4 4 4 4]\n",
            " [4 1 4 4 4 4 4 4]\n",
            " [4 4 4 4 4 4 4 4]\n",
            " [4 1 3 4 4 4 4 4]\n",
            " [3 4 1 0 4 4 4 4]\n",
            " [3 0 3 4 4 4 4 4]\n",
            " [4 1 3 0 4 4 4 4]\n",
            " [4 0 3 4 3 0 4 4]\n",
            " [3 3 3 4 4 4 4 4]\n",
            " [3 0 3 0 3 0 4 4]\n",
            " [3 0 3 0 4 0 4 4]\n",
            " [4 3 4 4 4 4 4 4]\n",
            " [4 4 4 4 4 4 4 4]\n",
            " [4 4 1 4 4 4 4 4]\n",
            " [3 4 3 4 4 4 4 4]\n",
            " [3 3 3 0 4 4 4 4]\n",
            " [4 4 2 3 4 4 4 4]\n",
            " [3 3 3 4 4 4 4 4]\n",
            " [3 3 3 0 4 4 4 4]\n",
            " [3 4 3 4 4 4 4 4]\n",
            " [4 0 4 3 4 4 4 4]\n",
            " [4 1 2 4 4 4 4 4]\n",
            " [4 4 4 4 4 4 4 4]\n",
            " [4 4 4 4 4 4 4 4]\n",
            " [3 3 0 3 4 4 4 4]\n",
            " [4 3 4 0 4 4 4 4]\n",
            " [3 3 0 3 4 4 4 4]\n",
            " [3 3 3 4 4 4 4 4]\n",
            " [1 2 0 4 1 4 4 4]\n",
            " [3 0 3 4 4 4 4 4]\n",
            " [3 3 3 0 4 4 4 4]\n",
            " [3 3 3 4 4 4 4 4]\n",
            " [3 3 3 4 4 4 4 4]\n",
            " [3 3 3 0 4 4 4 4]\n",
            " [4 3 0 3 4 4 4 4]\n",
            " [3 3 3 0 4 4 4 4]]\n"
          ],
          "name": "stdout"
        }
      ]
    },
    {
      "cell_type": "code",
      "metadata": {
        "id": "5zAQyBWGYpgX",
        "colab_type": "code",
        "colab": {}
      },
      "source": [
        "y_test = y_te[0:int(np.floor(len(X_te)/batch_size)*batch_size)]\n",
        "X_test = X_te[0:int(np.floor(len(X_te)/batch_size)*batch_size)]\n",
        "# test_pred = evaluate_performance_v2(X_te, y_te)\n",
        "pred_num = model.predict(np.array(X_test))\n",
        "pred = np.argmax(pred_num, axis=-1)\n",
        "pred_labels = pred2label(pred)\n",
        "y_labels = pred2label(y_test)"
      ],
      "execution_count": 0,
      "outputs": []
    },
    {
      "cell_type": "code",
      "metadata": {
        "id": "HX2T49lHtmCG",
        "colab_type": "code",
        "outputId": "43b7c74a-1ba2-4608-edb4-04d5260b7177",
        "colab": {
          "base_uri": "https://localhost:8080/",
          "height": 153
        }
      },
      "source": [
        "print(classification_report(y_labels, pred_labels))"
      ],
      "execution_count": 89,
      "outputs": [
        {
          "output_type": "stream",
          "text": [
            "           precision    recall  f1-score   support\n",
            "\n",
            "    OTHER       0.86      0.83      0.85       103\n",
            "    START       0.53      0.62      0.57        26\n",
            "\n",
            "micro avg       0.78      0.79      0.79       129\n",
            "macro avg       0.79      0.79      0.79       129\n",
            "\n"
          ],
          "name": "stdout"
        }
      ]
    },
    {
      "cell_type": "code",
      "metadata": {
        "id": "7GiZhYxE5gmw",
        "colab_type": "code",
        "colab": {}
      },
      "source": [
        "def plot_confusion_matrix(cm,\n",
        "                          target_names,\n",
        "                          title='Confusion matrix',\n",
        "                          cmap=None,\n",
        "                          normalize=True):\n",
        "    \"\"\"\n",
        "    given a sklearn confusion matrix (cm), make a nice plot\n",
        "\n",
        "    Arguments\n",
        "    ---------\n",
        "    cm:           confusion matrix from sklearn.metrics.confusion_matrix\n",
        "\n",
        "    target_names: given classification classes such as [0, 1, 2]\n",
        "                  the class names, for example: ['high', 'medium', 'low']\n",
        "\n",
        "    title:        the text to display at the top of the matrix\n",
        "\n",
        "    cmap:         the gradient of the values displayed from matplotlib.pyplot.cm\n",
        "                  see http://matplotlib.org/examples/color/colormaps_reference.html\n",
        "                  plt.get_cmap('jet') or plt.cm.Blues\n",
        "\n",
        "    normalize:    If False, plot the raw numbers\n",
        "                  If True, plot the proportions\n",
        "\n",
        "    Usage\n",
        "    -----\n",
        "    plot_confusion_matrix(cm           = cm,                  # confusion matrix created by\n",
        "                                                              # sklearn.metrics.confusion_matrix\n",
        "                          normalize    = True,                # show proportions\n",
        "                          target_names = y_labels_vals,       # list of names of the classes\n",
        "                          title        = best_estimator_name) # title of graph\n",
        "\n",
        "    Citiation\n",
        "    ---------\n",
        "    http://scikit-learn.org/stable/auto_examples/model_selection/plot_confusion_matrix.html\n",
        "\n",
        "    \"\"\"\n",
        "    import matplotlib.pyplot as plt\n",
        "    import numpy as np\n",
        "    import itertools\n",
        "\n",
        "    accuracy = np.trace(cm) / float(np.sum(cm))\n",
        "    misclass = 1 - accuracy\n",
        "\n",
        "    if cmap is None:\n",
        "        cmap = plt.get_cmap('Blues')\n",
        "\n",
        "    plt.figure(figsize=(8, 6))\n",
        "    plt.imshow(cm, interpolation='nearest', cmap=cmap)\n",
        "    plt.title(title)\n",
        "    plt.colorbar()\n",
        "\n",
        "    if target_names is not None:\n",
        "        tick_marks = np.arange(len(target_names))\n",
        "        plt.xticks(tick_marks, target_names, rotation=45)\n",
        "        plt.yticks(tick_marks, target_names)\n",
        "\n",
        "    if normalize:\n",
        "        cm = cm.astype('float') / cm.sum(axis=1)[:, np.newaxis]\n",
        "\n",
        "\n",
        "    thresh = cm.max() / 1.5 if normalize else cm.max() / 2\n",
        "    for i, j in itertools.product(range(cm.shape[0]), range(cm.shape[1])):\n",
        "        if normalize:\n",
        "            plt.text(j, i, \"{:0.4f}\".format(cm[i, j]),\n",
        "                     horizontalalignment=\"center\",\n",
        "                     color=\"white\" if cm[i, j] > thresh else \"black\")\n",
        "        else:\n",
        "            plt.text(j, i, \"{:,}\".format(cm[i, j]),\n",
        "                     horizontalalignment=\"center\",\n",
        "                     color=\"white\" if cm[i, j] > thresh else \"black\")\n",
        "\n",
        "\n",
        "    plt.tight_layout()\n",
        "    plt.ylabel('True label')\n",
        "    plt.xlabel('Predicted label\\naccuracy={:0.4f}; misclass={:0.4f}'.format(accuracy, misclass))\n",
        "    plt.savefig(os.path.join(loc, \"elmo_lstm_evaluation_model_v5_eva_test_conf.jpg\"))\n",
        "    plt.show()"
      ],
      "execution_count": 0,
      "outputs": []
    },
    {
      "cell_type": "code",
      "metadata": {
        "id": "Rv0HQCGV6tdF",
        "colab_type": "code",
        "colab": {}
      },
      "source": [
        "# y_test = y_te[0:int(np.floor(len(X_te)/batch_size)*batch_size)]\n",
        "# X_test = X_te[0:int(np.floor(len(X_te)/batch_size)*batch_size)]\n",
        "# test_pred = evaluate_performance(X_test, y_test)\n",
        "label_pred = []\n",
        "idx_pred = []\n",
        "\n",
        "for sentence in pred:\n",
        "    for element in sentence:\n",
        "        idx_pred.append(element)\n",
        "        label_pred.append(idx2tag[element])\n",
        "\n",
        "label_correct = []\n",
        "idx_correct = []\n",
        "for sentence in y_test:\n",
        "    for element in sentence:\n",
        "        idx_correct.append(element)\n",
        "        label_correct.append(idx2tag[element])"
      ],
      "execution_count": 0,
      "outputs": []
    },
    {
      "cell_type": "code",
      "metadata": {
        "id": "jf6t_UmI70x4",
        "colab_type": "code",
        "outputId": "38397dca-3cb4-4ea1-e701-d08583d402bf",
        "colab": {
          "base_uri": "https://localhost:8080/",
          "height": 34
        }
      },
      "source": [
        "idx2tag"
      ],
      "execution_count": 92,
      "outputs": [
        {
          "output_type": "execute_result",
          "data": {
            "text/plain": [
              "{0: 'I-OTHER', 1: 'B-START', 2: 'I-START', 3: 'B-OTHER', 4: 'O'}"
            ]
          },
          "metadata": {
            "tags": []
          },
          "execution_count": 92
        }
      ]
    },
    {
      "cell_type": "code",
      "metadata": {
        "id": "JXKkt6TD67Vg",
        "colab_type": "code",
        "colab": {}
      },
      "source": [
        "from sklearn.metrics import confusion_matrix\n",
        "cm_with_o = confusion_matrix(label_correct, label_pred)"
      ],
      "execution_count": 0,
      "outputs": []
    },
    {
      "cell_type": "code",
      "metadata": {
        "id": "7_D-a-NO7tPb",
        "colab_type": "code",
        "outputId": "8acded42-3ec8-45d5-cf62-6514c0853629",
        "colab": {
          "base_uri": "https://localhost:8080/",
          "height": 71
        }
      },
      "source": [
        "import pandas as pd\n",
        "df = pd.DataFrame(cm_with_o)\n",
        "df_wo_o = df.iloc[:-1, :-1]\n",
        "cm = df_wo_o.as_matrix()"
      ],
      "execution_count": 94,
      "outputs": [
        {
          "output_type": "stream",
          "text": [
            "/usr/local/lib/python3.6/dist-packages/ipykernel_launcher.py:4: FutureWarning: Method .as_matrix will be removed in a future version. Use .values instead.\n",
            "  after removing the cwd from sys.path.\n"
          ],
          "name": "stderr"
        }
      ]
    },
    {
      "cell_type": "code",
      "metadata": {
        "id": "Esd-pzKq7brg",
        "colab_type": "code",
        "outputId": "14b9ec91-dd58-4544-88ae-2334fd57e9a2",
        "colab": {
          "base_uri": "https://localhost:8080/",
          "height": 34
        }
      },
      "source": [
        "labels = list(idx2tag.values())\n",
        "labels.remove('O')\n",
        "labels"
      ],
      "execution_count": 95,
      "outputs": [
        {
          "output_type": "execute_result",
          "data": {
            "text/plain": [
              "['I-OTHER', 'B-START', 'I-START', 'B-OTHER']"
            ]
          },
          "metadata": {
            "tags": []
          },
          "execution_count": 95
        }
      ]
    },
    {
      "cell_type": "code",
      "metadata": {
        "id": "M0zqnDI27-u_",
        "colab_type": "code",
        "outputId": "360cb999-161f-4ae8-ceba-00aee20bf28c",
        "colab": {
          "base_uri": "https://localhost:8080/",
          "height": 34
        }
      },
      "source": [
        "labels_sorted = sorted(labels)\n",
        "labels_sorted"
      ],
      "execution_count": 96,
      "outputs": [
        {
          "output_type": "execute_result",
          "data": {
            "text/plain": [
              "['B-OTHER', 'B-START', 'I-OTHER', 'I-START']"
            ]
          },
          "metadata": {
            "tags": []
          },
          "execution_count": 96
        }
      ]
    },
    {
      "cell_type": "code",
      "metadata": {
        "id": "U2xan_ww8A3B",
        "colab_type": "code",
        "outputId": "b34ac69a-92be-41eb-ae5d-f7d2d5982697",
        "colab": {
          "base_uri": "https://localhost:8080/",
          "height": 473
        }
      },
      "source": [
        "plot_confusion_matrix(cm           = cm,\n",
        "                      normalize    = False,\n",
        "                      target_names = labels_sorted,\n",
        "                      title        = \"Confusion Matrix\")"
      ],
      "execution_count": 97,
      "outputs": [
        {
          "output_type": "display_data",
          "data": {
            "image/png": "[encoded data removed]",
            "text/plain": [
              "<Figure size 576x432 with 2 Axes>"
            ]
          },
          "metadata": {
            "tags": []
          }
        }
      ]
    },
    {
      "cell_type": "code",
      "metadata": {
        "id": "dMEHaZra8FRo",
        "colab_type": "code",
        "outputId": "d1f06a86-2356-4322-da67-48dfaf577820",
        "colab": {
          "base_uri": "https://localhost:8080/",
          "height": 204
        }
      },
      "source": [
        "from sklearn.metrics import classification_report as classification_report_all\n",
        "\n",
        "print(classification_report_all(label_correct, label_pred,\n",
        "                                labels=labels_sorted,\n",
        "                                digits=3))"
      ],
      "execution_count": 98,
      "outputs": [
        {
          "output_type": "stream",
          "text": [
            "              precision    recall  f1-score   support\n",
            "\n",
            "     B-OTHER      0.902     0.883     0.892        94\n",
            "     B-START      0.478     0.550     0.512        20\n",
            "     I-OTHER      0.824     0.683     0.747        41\n",
            "     I-START      0.542     0.650     0.591        20\n",
            "\n",
            "   micro avg      0.780     0.771     0.776       175\n",
            "   macro avg      0.686     0.691     0.685       175\n",
            "weighted avg      0.794     0.771     0.780       175\n",
            "\n"
          ],
          "name": "stdout"
        }
      ]
    },
    {
      "cell_type": "code",
      "metadata": {
        "id": "kLThQuTc1o1d",
        "colab_type": "code",
        "colab": {}
      },
      "source": [
        ""
      ],
      "execution_count": 0,
      "outputs": []
    }
  ]
}