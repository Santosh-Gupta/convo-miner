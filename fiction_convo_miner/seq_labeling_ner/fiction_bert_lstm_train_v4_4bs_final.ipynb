{
  "nbformat": 4,
  "nbformat_minor": 0,
  "metadata": {
    "colab": {
      "name": "fiction_bert_lstm_train_v4_4bs_final.ipynb",
      "version": "0.3.2",
      "provenance": [],
      "collapsed_sections": [],
      "toc_visible": true
    },
    "kernelspec": {
      "name": "python3",
      "display_name": "Python 3"
    },
    "accelerator": "GPU"
  },
  "cells": [
    {
      "cell_type": "markdown",
      "metadata": {
        "id": "F3wCjuKBcsgQ",
        "colab_type": "text"
      },
      "source": [
        "This notebook is to train a Named Entity Recognition (NER) model to detect the start of a conversation running on Google Colab."
      ]
    },
    {
      "cell_type": "markdown",
      "metadata": {
        "id": "yB9tznosPUlH",
        "colab_type": "text"
      },
      "source": [
        "# Load Packages"
      ]
    },
    {
      "cell_type": "code",
      "metadata": {
        "id": "5U7JyFviUogi",
        "colab_type": "code",
        "colab": {}
      },
      "source": [
        "!pip install git+https://github.com/keras-team/keras.git -U\n",
        "!pip install seqeval\n",
        "!pip install tensorflow-gpu==2.0.0-alpha0\n",
        "!pip install tensorflow-hub"
      ],
      "execution_count": 0,
      "outputs": []
    },
    {
      "cell_type": "code",
      "metadata": {
        "id": "Qo01eQRXR9Y9",
        "colab_type": "code",
        "colab": {}
      },
      "source": [
        "import numpy as np\n",
        "import tensorflow as tf\n",
        "import tensorflow_hub as hub\n",
        "from tensorflow.keras.models import Model\n",
        "from tensorflow.keras import Input\n",
        "from tensorflow.keras.preprocessing.sequence import pad_sequences\n",
        "from tensorflow.keras.utils import to_categorical\n",
        "from tensorflow.keras.layers import TimeDistributed, Dense, Embedding, Input, Dropout, LSTM, Bidirectional, Lambda\n",
        "from tensorflow.keras.layers import concatenate\n",
        "from seqeval.metrics import classification_report as classification_report_entity\n",
        "from seqeval.metrics import precision_score, recall_score, f1_score\n",
        "from tensorflow.keras.callbacks import ModelCheckpoint, EarlyStopping, TensorBoard"
      ],
      "execution_count": 0,
      "outputs": []
    },
    {
      "cell_type": "markdown",
      "metadata": {
        "id": "BKWBO46LfGwL",
        "colab_type": "text"
      },
      "source": [
        "## Make sure tensorflow 2.0 is installed"
      ]
    },
    {
      "cell_type": "code",
      "metadata": {
        "id": "9-QvMjA9TwBX",
        "colab_type": "code",
        "outputId": "717dbe4a-12a3-41cb-d1df-6aa7a53db6ce",
        "colab": {
          "base_uri": "https://localhost:8080/",
          "height": 34
        }
      },
      "source": [
        "from __future__ import absolute_import\n",
        "from __future__ import division\n",
        "from __future__ import print_function\n",
        "\n",
        "from datetime import datetime\n",
        "from packaging import version\n",
        "\n",
        "print(\"TensorFlow version: \", tf.__version__)\n",
        "assert version.parse(tf.__version__).release[0] >= 2, \\\n",
        "    \"This notebook requires TensorFlow 2.0 or above.\""
      ],
      "execution_count": 69,
      "outputs": [
        {
          "output_type": "stream",
          "text": [
            "TensorFlow version:  2.0.0-alpha0\n"
          ],
          "name": "stdout"
        }
      ]
    },
    {
      "cell_type": "markdown",
      "metadata": {
        "id": "AAmAq2TyckLs",
        "colab_type": "text"
      },
      "source": [
        "## Check available GPU"
      ]
    },
    {
      "cell_type": "code",
      "metadata": {
        "id": "Te1A3i0bmBiE",
        "colab_type": "code",
        "outputId": "1bed496c-3ee7-4da8-c7d1-aab9c734f077",
        "colab": {
          "base_uri": "https://localhost:8080/",
          "height": 102
        }
      },
      "source": [
        "x = tf.random.uniform([3, 3])\n",
        "\n",
        "print(\"Is there a GPU available: \"),\n",
        "print(tf.test.is_gpu_available())\n",
        "\n",
        "print(\"Is the Tensor on GPU #0:  \"),\n",
        "print(x.device.endswith('GPU:0'))\n",
        "\n",
        "print(\"Device name: {}\".format((x.device)))"
      ],
      "execution_count": 4,
      "outputs": [
        {
          "output_type": "stream",
          "text": [
            "Is there a GPU available: \n",
            "True\n",
            "Is the Tensor on GPU #0:  \n",
            "True\n",
            "Device name: /job:localhost/replica:0/task:0/device:GPU:0\n"
          ],
          "name": "stdout"
        }
      ]
    },
    {
      "cell_type": "markdown",
      "metadata": {
        "id": "NBDTXEdCWCCD",
        "colab_type": "text"
      },
      "source": [
        "# Prepare data"
      ]
    },
    {
      "cell_type": "markdown",
      "metadata": {
        "id": "G99aWDiFdGID",
        "colab_type": "text"
      },
      "source": [
        "Fetch the dataset from Google drive and read as dataframe."
      ]
    },
    {
      "cell_type": "markdown",
      "metadata": {
        "id": "4rEuu7mkezTV",
        "colab_type": "text"
      },
      "source": [
        "## Load dataset"
      ]
    },
    {
      "cell_type": "code",
      "metadata": {
        "id": "DmOAoeXxSIJq",
        "colab_type": "code",
        "outputId": "4adf6756-9bed-4a32-9fb2-4f61cf3c0a48",
        "colab": {
          "base_uri": "https://localhost:8080/",
          "height": 34
        }
      },
      "source": [
        "from google.colab import drive\n",
        "drive.mount('/content/gdrive')"
      ],
      "execution_count": 5,
      "outputs": [
        {
          "output_type": "stream",
          "text": [
            "Drive already mounted at /content/gdrive; to attempt to forcibly remount, call drive.mount(\"/content/gdrive\", force_remount=True).\n"
          ],
          "name": "stdout"
        }
      ]
    },
    {
      "cell_type": "code",
      "metadata": {
        "id": "Mr-3CvUFSMRn",
        "colab_type": "code",
        "colab": {}
      },
      "source": [
        "loc = '/content/gdrive/My Drive/tf2.0/'"
      ],
      "execution_count": 0,
      "outputs": []
    },
    {
      "cell_type": "code",
      "metadata": {
        "id": "xxt4wmEGSOzT",
        "colab_type": "code",
        "outputId": "fa36e57a-d9b7-41a9-c469-1671cfb1ac72",
        "colab": {
          "base_uri": "https://localhost:8080/",
          "height": 514
        }
      },
      "source": [
        "import pandas as pd\n",
        "import numpy as np\n",
        "import matplotlib.pyplot as plt\n",
        "import os \n",
        "\n",
        "plt.style.use(\"ggplot\")\n",
        "\n",
        "data = pd.read_csv(os.path.join(loc, \"iob-labeled-sent-final-060519-v2.csv\"))\n",
        "data = data.fillna(method=\"ffill\")\n",
        "data.head(15)"
      ],
      "execution_count": 8,
      "outputs": [
        {
          "output_type": "execute_result",
          "data": {
            "text/html": [
              "<div>\n",
              "<style scoped>\n",
              "    .dataframe tbody tr th:only-of-type {\n",
              "        vertical-align: middle;\n",
              "    }\n",
              "\n",
              "    .dataframe tbody tr th {\n",
              "        vertical-align: top;\n",
              "    }\n",
              "\n",
              "    .dataframe thead th {\n",
              "        text-align: right;\n",
              "    }\n",
              "</style>\n",
              "<table border=\"1\" class=\"dataframe\">\n",
              "  <thead>\n",
              "    <tr style=\"text-align: right;\">\n",
              "      <th></th>\n",
              "      <th>Unnamed: 0</th>\n",
              "      <th>old_para_index</th>\n",
              "      <th>para_index</th>\n",
              "      <th>sent</th>\n",
              "      <th>label</th>\n",
              "      <th>split_tag</th>\n",
              "    </tr>\n",
              "  </thead>\n",
              "  <tbody>\n",
              "    <tr>\n",
              "      <th>0</th>\n",
              "      <td>0</td>\n",
              "      <td>0</td>\n",
              "      <td>0</td>\n",
              "      <td>By Jane Austen</td>\n",
              "      <td>O</td>\n",
              "      <td>train</td>\n",
              "    </tr>\n",
              "    <tr>\n",
              "      <th>1</th>\n",
              "      <td>1</td>\n",
              "      <td>63</td>\n",
              "      <td>1</td>\n",
              "      <td>Chapter 1</td>\n",
              "      <td>O</td>\n",
              "      <td>train</td>\n",
              "    </tr>\n",
              "    <tr>\n",
              "      <th>2</th>\n",
              "      <td>2</td>\n",
              "      <td>64</td>\n",
              "      <td>2</td>\n",
              "      <td>It is a truth universally acknowledged, that a...</td>\n",
              "      <td>O</td>\n",
              "      <td>train</td>\n",
              "    </tr>\n",
              "    <tr>\n",
              "      <th>3</th>\n",
              "      <td>3</td>\n",
              "      <td>65</td>\n",
              "      <td>3</td>\n",
              "      <td>However little known the feelings or views of ...</td>\n",
              "      <td>O</td>\n",
              "      <td>train</td>\n",
              "    </tr>\n",
              "    <tr>\n",
              "      <th>4</th>\n",
              "      <td>4</td>\n",
              "      <td>66</td>\n",
              "      <td>4</td>\n",
              "      <td>\"My dear Mr Bennet,\"</td>\n",
              "      <td>B-START</td>\n",
              "      <td>train</td>\n",
              "    </tr>\n",
              "    <tr>\n",
              "      <th>5</th>\n",
              "      <td>5</td>\n",
              "      <td>66</td>\n",
              "      <td>4</td>\n",
              "      <td>\"have you heard that       Netherfield Park is...</td>\n",
              "      <td>I-START</td>\n",
              "      <td>train</td>\n",
              "    </tr>\n",
              "    <tr>\n",
              "      <th>6</th>\n",
              "      <td>6</td>\n",
              "      <td>67</td>\n",
              "      <td>5</td>\n",
              "      <td>Mr Bennet replied that he had not.</td>\n",
              "      <td>O</td>\n",
              "      <td>train</td>\n",
              "    </tr>\n",
              "    <tr>\n",
              "      <th>7</th>\n",
              "      <td>7</td>\n",
              "      <td>68</td>\n",
              "      <td>6</td>\n",
              "      <td>\"But it is,\"</td>\n",
              "      <td>B-OTHER</td>\n",
              "      <td>train</td>\n",
              "    </tr>\n",
              "    <tr>\n",
              "      <th>8</th>\n",
              "      <td>8</td>\n",
              "      <td>68</td>\n",
              "      <td>6</td>\n",
              "      <td>\"for Mrs Long has just been here, and she told...</td>\n",
              "      <td>I-OTHER</td>\n",
              "      <td>train</td>\n",
              "    </tr>\n",
              "    <tr>\n",
              "      <th>9</th>\n",
              "      <td>9</td>\n",
              "      <td>69</td>\n",
              "      <td>7</td>\n",
              "      <td>Mr Bennet made no answer.</td>\n",
              "      <td>O</td>\n",
              "      <td>train</td>\n",
              "    </tr>\n",
              "    <tr>\n",
              "      <th>10</th>\n",
              "      <td>10</td>\n",
              "      <td>70</td>\n",
              "      <td>8</td>\n",
              "      <td>\"Do you not want to know who has taken it?\"</td>\n",
              "      <td>B-OTHER</td>\n",
              "      <td>train</td>\n",
              "    </tr>\n",
              "    <tr>\n",
              "      <th>11</th>\n",
              "      <td>11</td>\n",
              "      <td>70</td>\n",
              "      <td>8</td>\n",
              "      <td>cried his wife impatiently.</td>\n",
              "      <td>O</td>\n",
              "      <td>train</td>\n",
              "    </tr>\n",
              "    <tr>\n",
              "      <th>12</th>\n",
              "      <td>12</td>\n",
              "      <td>71</td>\n",
              "      <td>9</td>\n",
              "      <td>\"You want to tell me, and I have no objection ...</td>\n",
              "      <td>B-OTHER</td>\n",
              "      <td>train</td>\n",
              "    </tr>\n",
              "    <tr>\n",
              "      <th>13</th>\n",
              "      <td>13</td>\n",
              "      <td>72</td>\n",
              "      <td>10</td>\n",
              "      <td>This was invitation enough.</td>\n",
              "      <td>O</td>\n",
              "      <td>train</td>\n",
              "    </tr>\n",
              "    <tr>\n",
              "      <th>14</th>\n",
              "      <td>14</td>\n",
              "      <td>73</td>\n",
              "      <td>11</td>\n",
              "      <td>\"Why, my dear, you must know, Mrs Long says th...</td>\n",
              "      <td>B-OTHER</td>\n",
              "      <td>train</td>\n",
              "    </tr>\n",
              "  </tbody>\n",
              "</table>\n",
              "</div>"
            ],
            "text/plain": [
              "    Unnamed: 0  old_para_index  para_index  \\\n",
              "0            0               0           0   \n",
              "1            1              63           1   \n",
              "2            2              64           2   \n",
              "3            3              65           3   \n",
              "4            4              66           4   \n",
              "5            5              66           4   \n",
              "6            6              67           5   \n",
              "7            7              68           6   \n",
              "8            8              68           6   \n",
              "9            9              69           7   \n",
              "10          10              70           8   \n",
              "11          11              70           8   \n",
              "12          12              71           9   \n",
              "13          13              72          10   \n",
              "14          14              73          11   \n",
              "\n",
              "                                                 sent    label split_tag  \n",
              "0                                      By Jane Austen        O     train  \n",
              "1                                           Chapter 1        O     train  \n",
              "2   It is a truth universally acknowledged, that a...        O     train  \n",
              "3   However little known the feelings or views of ...        O     train  \n",
              "4                                \"My dear Mr Bennet,\"  B-START     train  \n",
              "5   \"have you heard that       Netherfield Park is...  I-START     train  \n",
              "6                  Mr Bennet replied that he had not.        O     train  \n",
              "7                                        \"But it is,\"  B-OTHER     train  \n",
              "8   \"for Mrs Long has just been here, and she told...  I-OTHER     train  \n",
              "9                           Mr Bennet made no answer.        O     train  \n",
              "10        \"Do you not want to know who has taken it?\"  B-OTHER     train  \n",
              "11                        cried his wife impatiently.        O     train  \n",
              "12  \"You want to tell me, and I have no objection ...  B-OTHER     train  \n",
              "13                        This was invitation enough.        O     train  \n",
              "14  \"Why, my dear, you must know, Mrs Long says th...  B-OTHER     train  "
            ]
          },
          "metadata": {
            "tags": []
          },
          "execution_count": 8
        }
      ]
    },
    {
      "cell_type": "code",
      "metadata": {
        "id": "Ci67EiWrXBQf",
        "colab_type": "code",
        "outputId": "1972f828-16c6-4297-c7a0-40db6aae36e9",
        "colab": {
          "base_uri": "https://localhost:8080/",
          "height": 34
        }
      },
      "source": [
        "data.shape"
      ],
      "execution_count": 9,
      "outputs": [
        {
          "output_type": "execute_result",
          "data": {
            "text/plain": [
              "(2747, 6)"
            ]
          },
          "metadata": {
            "tags": []
          },
          "execution_count": 9
        }
      ]
    },
    {
      "cell_type": "markdown",
      "metadata": {
        "id": "rYOvGAz7dZbk",
        "colab_type": "text"
      },
      "source": [
        "There are in total 2747 records in the dataset and our goal is to detect the Start of conversation, denoted by B-START and I-START. The approach is NER to find all START records and OTHER records with the dataset in IOB format."
      ]
    },
    {
      "cell_type": "code",
      "metadata": {
        "id": "SbAVXLW_vHT1",
        "colab_type": "code",
        "outputId": "107cbcd2-a0fd-4785-d6aa-61d0eedd413f",
        "colab": {
          "base_uri": "https://localhost:8080/",
          "height": 34
        }
      },
      "source": [
        "tags = list(set(data[\"label\"].values))\n",
        "n_tags = len(tags); tags"
      ],
      "execution_count": 10,
      "outputs": [
        {
          "output_type": "execute_result",
          "data": {
            "text/plain": [
              "['I-START', 'B-OTHER', 'O', 'I-OTHER', 'B-START']"
            ]
          },
          "metadata": {
            "tags": []
          },
          "execution_count": 10
        }
      ]
    },
    {
      "cell_type": "markdown",
      "metadata": {
        "id": "WdF6u2XzfRAT",
        "colab_type": "text"
      },
      "source": [
        "## Group paragraphs and pad sentence"
      ]
    },
    {
      "cell_type": "markdown",
      "metadata": {
        "id": "X1kS3BgmeIrd",
        "colab_type": "text"
      },
      "source": [
        "Next, we will group some paragraphs together so that the model can learn more contextual information to detect the start of conversation. In this notebook, we group 4 paragraphs into 1."
      ]
    },
    {
      "cell_type": "code",
      "metadata": {
        "id": "Iz3OMyy_BpbR",
        "colab_type": "code",
        "colab": {}
      },
      "source": [
        "num_para_in_group = 4\n",
        "\n",
        "data['grouped_para_index'] = data['para_index'].apply(lambda x: int(x/num_para_in_group+1))"
      ],
      "execution_count": 0,
      "outputs": []
    },
    {
      "cell_type": "code",
      "metadata": {
        "id": "XHPHRG6g6OCY",
        "colab_type": "code",
        "colab": {}
      },
      "source": [
        "# data['group_label'] = data['label'].apply(lambda x: x.split('-')[-1])"
      ],
      "execution_count": 0,
      "outputs": []
    },
    {
      "cell_type": "code",
      "metadata": {
        "id": "8FfXUPMDCHZY",
        "colab_type": "code",
        "colab": {
          "base_uri": "https://localhost:8080/",
          "height": 68
        },
        "outputId": "cbbc956f-434d-43f8-ccef-132502b3b6e5"
      },
      "source": [
        "data.columns"
      ],
      "execution_count": 13,
      "outputs": [
        {
          "output_type": "execute_result",
          "data": {
            "text/plain": [
              "Index(['Unnamed: 0', 'old_para_index', 'para_index', 'sent', 'label',\n",
              "       'split_tag', 'grouped_para_index'],\n",
              "      dtype='object')"
            ]
          },
          "metadata": {
            "tags": []
          },
          "execution_count": 13
        }
      ]
    },
    {
      "cell_type": "code",
      "metadata": {
        "id": "6E7yR3YF80mU",
        "colab_type": "code",
        "colab": {}
      },
      "source": [
        "for index, row in data.iterrows():\n",
        "    if row['label'] == 'I-OTHER':\n",
        "        if data.iloc[index-1, 4] != 'B-OTHER':\n",
        "            print(index)\n",
        "            print(data.iloc[index-1, 4])\n",
        "            row['para_index_2'] = data.iloc[index-1, 0]\n"
      ],
      "execution_count": 0,
      "outputs": []
    },
    {
      "cell_type": "code",
      "metadata": {
        "id": "KkXS8hF8vPze",
        "colab_type": "code",
        "colab": {}
      },
      "source": [
        "class paragraphGetter(object):\n",
        "\n",
        "    def __init__(self, data):\n",
        "        self.n_para = 1\n",
        "        self.data = data\n",
        "        self.empty = False\n",
        "        agg_func = lambda s: [(w, p, t) for w, p, t in zip(s[\"sent\"].values.tolist(),\n",
        "                                                           s[\"split_tag\"].values.tolist(),\n",
        "                                                           s[\"label\"].values.tolist())]\n",
        "        self.grouped = self.data.groupby(\"grouped_para_index\").apply(agg_func)\n",
        "        print(self.grouped)\n",
        "        self.paragraphs = [s for s in self.grouped]\n",
        "    \n",
        "    def get_next(self):\n",
        "        try:\n",
        "            s = self.grouped[\"grouped_paragraph: {}\".format(self.n_para)]\n",
        "            print(s)\n",
        "            self.n_para += 1\n",
        "            return s\n",
        "        except:\n",
        "            return None"
      ],
      "execution_count": 0,
      "outputs": []
    },
    {
      "cell_type": "code",
      "metadata": {
        "id": "gPdTYMlsvmsn",
        "colab_type": "code",
        "colab": {}
      },
      "source": [
        "getter = paragraphGetter(data)"
      ],
      "execution_count": 0,
      "outputs": []
    },
    {
      "cell_type": "code",
      "metadata": {
        "id": "8xlMNjhHvqh4",
        "colab_type": "code",
        "colab": {}
      },
      "source": [
        "paragraphs = getter.paragraphs"
      ],
      "execution_count": 0,
      "outputs": []
    },
    {
      "cell_type": "code",
      "metadata": {
        "id": "j5qgJm3ASpSq",
        "colab_type": "code",
        "outputId": "80fd7697-8f1d-46ff-8dc1-b83845931b5d",
        "colab": {
          "base_uri": "https://localhost:8080/",
          "height": 34
        }
      },
      "source": [
        "len(paragraphs)"
      ],
      "execution_count": 22,
      "outputs": [
        {
          "output_type": "execute_result",
          "data": {
            "text/plain": [
              "530"
            ]
          },
          "metadata": {
            "tags": []
          },
          "execution_count": 22
        }
      ]
    },
    {
      "cell_type": "markdown",
      "metadata": {
        "id": "DpmnGrpjeUF6",
        "colab_type": "text"
      },
      "source": [
        "After grouping, there are 530 data points in the dataset. Each groupped paragraph contains the multiple sentence and tag pairs."
      ]
    },
    {
      "cell_type": "code",
      "metadata": {
        "id": "1bQlkwcDvu-0",
        "colab_type": "code",
        "outputId": "fae27197-4972-4cf6-8ce2-8ccfe47b3035",
        "colab": {
          "base_uri": "https://localhost:8080/",
          "height": 54
        }
      },
      "source": [
        "print(paragraphs[0])"
      ],
      "execution_count": 23,
      "outputs": [
        {
          "output_type": "stream",
          "text": [
            "[('By Jane Austen', 'train', 'O'), ('Chapter 1', 'train', 'O'), ('It is a truth universally acknowledged, that a single man in possession of       a good fortune, must be in want of a wife.', 'train', 'O'), ('However little known the feelings or views of such a man may be on his       first entering a neighbourhood, this truth is so well fixed in the minds       of the surrounding families, that he is considered the rightful property       of some one or other of their daughters.', 'train', 'O')]\n"
          ],
          "name": "stdout"
        }
      ]
    },
    {
      "cell_type": "code",
      "metadata": {
        "id": "sb9BzUWnS44s",
        "colab_type": "code",
        "outputId": "b25ad1eb-846c-4731-e8da-c7aef5058bb3",
        "colab": {
          "base_uri": "https://localhost:8080/",
          "height": 34
        }
      },
      "source": [
        "maxlen = max([len(s) for s in paragraphs])\n",
        "print('Maximum sequence length:', maxlen)"
      ],
      "execution_count": 24,
      "outputs": [
        {
          "output_type": "stream",
          "text": [
            "Maximum sequence length: 11\n"
          ],
          "name": "stdout"
        }
      ]
    },
    {
      "cell_type": "markdown",
      "metadata": {
        "id": "GbHX-7T-eoDM",
        "colab_type": "text"
      },
      "source": [
        "Maximum sequence length is 11, so we set the max_len to be 11 for padding."
      ]
    },
    {
      "cell_type": "code",
      "metadata": {
        "id": "pKvI3DR5SGCt",
        "colab_type": "code",
        "colab": {}
      },
      "source": [
        "max_len = 11\n",
        "tag2idx = {'B-OTHER': 4, 'B-START': 3, 'I-OTHER': 0, 'I-START': 1, 'O': 2}"
      ],
      "execution_count": 0,
      "outputs": []
    },
    {
      "cell_type": "code",
      "metadata": {
        "id": "ykVbvWorSpab",
        "colab_type": "code",
        "outputId": "178abdcd-4b2b-4a7e-8305-08b0d1c7b864",
        "colab": {
          "base_uri": "https://localhost:8080/",
          "height": 224
        }
      },
      "source": [
        "X_ori = [[w[0] for w in s] for s in paragraphs]\n",
        "\n",
        "X = []\n",
        "for seq in X_ori:\n",
        "    new_seq = []\n",
        "    for i in range(max_len):\n",
        "        try:\n",
        "            new_seq.append(seq[i])\n",
        "        except:\n",
        "            new_seq.append(\"PAD\")\n",
        "    X.append(new_seq)\n",
        "X[0]"
      ],
      "execution_count": 26,
      "outputs": [
        {
          "output_type": "execute_result",
          "data": {
            "text/plain": [
              "['By Jane Austen',\n",
              " 'Chapter 1',\n",
              " 'It is a truth universally acknowledged, that a single man in possession of       a good fortune, must be in want of a wife.',\n",
              " 'However little known the feelings or views of such a man may be on his       first entering a neighbourhood, this truth is so well fixed in the minds       of the surrounding families, that he is considered the rightful property       of some one or other of their daughters.',\n",
              " 'PAD',\n",
              " 'PAD',\n",
              " 'PAD',\n",
              " 'PAD',\n",
              " 'PAD',\n",
              " 'PAD',\n",
              " 'PAD']"
            ]
          },
          "metadata": {
            "tags": []
          },
          "execution_count": 26
        }
      ]
    },
    {
      "cell_type": "code",
      "metadata": {
        "id": "8UEly95goLcr",
        "colab_type": "code",
        "outputId": "7cf71f79-f119-4506-e615-83f0e5a46bb5",
        "colab": {
          "base_uri": "https://localhost:8080/",
          "height": 34
        }
      },
      "source": [
        "print(np.asarray(X).shape)"
      ],
      "execution_count": 27,
      "outputs": [
        {
          "output_type": "stream",
          "text": [
            "(530, 11)\n"
          ],
          "name": "stdout"
        }
      ]
    },
    {
      "cell_type": "markdown",
      "metadata": {
        "id": "Ryw9KO0Ffj0I",
        "colab_type": "text"
      },
      "source": [
        "## Bert sentence embedding"
      ]
    },
    {
      "cell_type": "markdown",
      "metadata": {
        "id": "kXXWiO8ogDcR",
        "colab_type": "text"
      },
      "source": [
        "bert_embedding, an open-source package is used to generate the sentence embedding"
      ]
    },
    {
      "cell_type": "code",
      "metadata": {
        "id": "QeQn5tIHIGw4",
        "colab_type": "code",
        "colab": {}
      },
      "source": [
        "!pip install bert_embedding"
      ],
      "execution_count": 0,
      "outputs": []
    },
    {
      "cell_type": "markdown",
      "metadata": {
        "id": "tOZiQCM0f0qC",
        "colab_type": "text"
      },
      "source": [
        "The average of all words' embedding in a sentence is used as this sentence's embedding"
      ]
    },
    {
      "cell_type": "code",
      "metadata": {
        "id": "gmjNatsvM_-i",
        "colab_type": "code",
        "colab": {}
      },
      "source": [
        "from bert_embedding import BertEmbedding\n",
        "bert_embedding = BertEmbedding()\n",
        "\n",
        "def bertSentenceEmbedding(x):\n",
        "  embeddings = []\n",
        "  count = 0\n",
        "  for para in x:\n",
        "    para_all_embed = np.asarray(bert_embedding(para))[:,1]\n",
        "  \n",
        "    para_embed = []\n",
        "    for embed in np.asarray(para_all_embed):\n",
        "      count = 0\n",
        "      all_embed = [0]*768\n",
        "      for word_embed in embed:\n",
        "        count += 1\n",
        "        all_embed = all_embed + word_embed\n",
        "      # average of word embedding as sentence embedding\n",
        "      sent_embed = all_embed/count\n",
        "      para_embed.append(sent_embed)\n",
        "      \n",
        "    embeddings.append(para_embed)\n",
        "  return embeddings"
      ],
      "execution_count": 0,
      "outputs": []
    },
    {
      "cell_type": "markdown",
      "metadata": {
        "id": "Bzdvg6algMGJ",
        "colab_type": "text"
      },
      "source": [
        "The embedding generation takes long time, so we generate once and save it for future use."
      ]
    },
    {
      "cell_type": "code",
      "metadata": {
        "id": "ZG3Y8N8GL99y",
        "colab_type": "code",
        "colab": {}
      },
      "source": [
        "X_embed = np.load(os.path.join(loc, \"v3-g4-b4/X_g_embedding_4.npy\"))"
      ],
      "execution_count": 0,
      "outputs": []
    },
    {
      "cell_type": "code",
      "metadata": {
        "id": "HYZZLv54UOmr",
        "colab_type": "code",
        "outputId": "eb76945f-b471-43cb-f624-9258d63cfc4c",
        "colab": {
          "base_uri": "https://localhost:8080/",
          "height": 34
        }
      },
      "source": [
        "print(np.asarray(X_embed).shape)"
      ],
      "execution_count": 31,
      "outputs": [
        {
          "output_type": "stream",
          "text": [
            "(530, 11, 768)\n"
          ],
          "name": "stdout"
        }
      ]
    },
    {
      "cell_type": "markdown",
      "metadata": {
        "id": "Cj_rVvDUgVgM",
        "colab_type": "text"
      },
      "source": [
        "## Prepare train, test, validation dataset"
      ]
    },
    {
      "cell_type": "code",
      "metadata": {
        "id": "5fKuf-W7SvdI",
        "colab_type": "code",
        "outputId": "67152352-af41-4a15-f7b4-0efb65f959df",
        "colab": {
          "base_uri": "https://localhost:8080/",
          "height": 34
        }
      },
      "source": [
        "y = [[tag2idx[w[2]] for w in s] for s in paragraphs]\n",
        "\n",
        "y = pad_sequences(maxlen=max_len, sequences=y, padding=\"post\", value=tag2idx[\"O\"])\n",
        "y[0]"
      ],
      "execution_count": 32,
      "outputs": [
        {
          "output_type": "execute_result",
          "data": {
            "text/plain": [
              "array([2, 2, 2, 2, 2, 2, 2, 2, 2, 2, 2], dtype=int32)"
            ]
          },
          "metadata": {
            "tags": []
          },
          "execution_count": 32
        }
      ]
    },
    {
      "cell_type": "code",
      "metadata": {
        "id": "dJEGhf2IIrWe",
        "colab_type": "code",
        "outputId": "891f8a01-5818-4370-fc64-ea01cf3292e4",
        "colab": {
          "base_uri": "https://localhost:8080/",
          "height": 68
        }
      },
      "source": [
        "train_index = set(data[data['split_tag']=='train']['grouped_para_index'].values)\n",
        "valid_index = set(data[data['split_tag']=='validation']['grouped_para_index'].values)\n",
        "test_index = set(data[data['split_tag']=='test']['grouped_para_index'].values)\n",
        "\n",
        "X_tr = [np.asarray(X_embed)[i-1] for i in train_index]\n",
        "X_val = [np.asarray(X_embed)[i-1] for i in valid_index]\n",
        "X_te = [np.asarray(X_embed)[i-1] for i in test_index]\n",
        "\n",
        "y_tr = np.asarray([y[i-1] for i in train_index])\n",
        "y_val = np.asarray([y[i-1] for i in valid_index])\n",
        "y_te = np.asarray([y[i-1] for i in test_index])\n",
        "\n",
        "print(\"no. of paragraphs in training: \", len(X_tr))\n",
        "print(\"no. of paragraphs in validation: \", len(X_val))\n",
        "print(\"no. of paragraphs in testing: \", len(X_te))"
      ],
      "execution_count": 33,
      "outputs": [
        {
          "output_type": "stream",
          "text": [
            "no. of paragraphs in training:  426\n",
            "no. of paragraphs in validation:  52\n",
            "no. of paragraphs in testing:  54\n"
          ],
          "name": "stdout"
        }
      ]
    },
    {
      "cell_type": "code",
      "metadata": {
        "id": "JKyDlsnlOHaz",
        "colab_type": "code",
        "outputId": "24d20b9a-1617-4bbe-897c-4b1fb6db4ea7",
        "colab": {
          "base_uri": "https://localhost:8080/",
          "height": 34
        }
      },
      "source": [
        "batch_size = 4\n",
        "\n",
        "X_tr = X_tr[0:int(np.floor(len(X_tr)/batch_size)*batch_size)]\n",
        "X_val = X_val[0:int(np.floor(len(X_val)/batch_size)*batch_size)]\n",
        "y_tr = y_tr[0:int(np.floor(len(y_tr)/batch_size)*batch_size)]\n",
        "y_val = y_val[0:int(np.floor(len(y_val)/batch_size)*batch_size)]\n",
        "print(\"training input: \", len(X_tr), \"validation input: \", len(X_val))\n",
        "y_tr = y_tr.reshape(y_tr.shape[0], y_tr.shape[1], 1)\n",
        "y_val = y_val.reshape(y_val.shape[0], y_val.shape[1], 1)"
      ],
      "execution_count": 34,
      "outputs": [
        {
          "output_type": "stream",
          "text": [
            "training input:  424 validation input:  52\n"
          ],
          "name": "stdout"
        }
      ]
    },
    {
      "cell_type": "code",
      "metadata": {
        "id": "6PGlb_UzDR--",
        "colab_type": "code",
        "outputId": "ca511eea-aa04-4d1f-d5d7-297579306218",
        "colab": {
          "base_uri": "https://localhost:8080/",
          "height": 34
        }
      },
      "source": [
        "print(\"training input: \", len(X_tr), \"validation input: \", len(X_val))\n",
        "y_tr = y_tr.reshape(y_tr.shape[0], y_tr.shape[1], 1)\n",
        "y_val = y_val.reshape(y_val.shape[0], y_val.shape[1], 1)"
      ],
      "execution_count": 35,
      "outputs": [
        {
          "output_type": "stream",
          "text": [
            "training input:  424 validation input:  52\n"
          ],
          "name": "stdout"
        }
      ]
    },
    {
      "cell_type": "markdown",
      "metadata": {
        "id": "gAH9miF8V9VX",
        "colab_type": "text"
      },
      "source": [
        "# Build model"
      ]
    },
    {
      "cell_type": "code",
      "metadata": {
        "id": "jzP5yQI-WGL8",
        "colab_type": "code",
        "colab": {}
      },
      "source": [
        "VERSION = 4\n",
        "EPOCHS = 30"
      ],
      "execution_count": 0,
      "outputs": []
    },
    {
      "cell_type": "markdown",
      "metadata": {
        "id": "0T0YGxFVgwce",
        "colab_type": "text"
      },
      "source": [
        "## Setup TensorBoard for Colab"
      ]
    },
    {
      "cell_type": "code",
      "metadata": {
        "id": "jVdAZqMPUkyj",
        "colab_type": "code",
        "colab": {}
      },
      "source": [
        "# Clear any logs from previous runs\n",
        "!rm -rf ./logs/ "
      ],
      "execution_count": 0,
      "outputs": []
    },
    {
      "cell_type": "code",
      "metadata": {
        "id": "z_nBWCF5XcEG",
        "colab_type": "code",
        "colab": {}
      },
      "source": [
        "!wget https://bin.equinox.io/c/4VmDzA7iaHb/ngrok-stable-linux-amd64.zip\n",
        "!unzip ngrok-stable-linux-amd64.zip"
      ],
      "execution_count": 0,
      "outputs": []
    },
    {
      "cell_type": "code",
      "metadata": {
        "id": "C-uXnFdYXjQl",
        "colab_type": "code",
        "colab": {}
      },
      "source": [
        "LOG_DIR = './log'\n",
        "get_ipython().system_raw(\n",
        "    'tensorboard --logdir {} --host 0.0.0.0 --port 6006 &'\n",
        "    .format(LOG_DIR)\n",
        ")"
      ],
      "execution_count": 0,
      "outputs": []
    },
    {
      "cell_type": "code",
      "metadata": {
        "id": "pjd6KjLRXlUZ",
        "colab_type": "code",
        "colab": {}
      },
      "source": [
        "get_ipython().system_raw('./ngrok http 6006 &')"
      ],
      "execution_count": 0,
      "outputs": []
    },
    {
      "cell_type": "code",
      "metadata": {
        "id": "jImhADw6Xq_9",
        "colab_type": "code",
        "colab": {
          "base_uri": "https://localhost:8080/",
          "height": 34
        },
        "outputId": "a0f6114e-fa6d-47b5-b1b0-d331e634f8b3"
      },
      "source": [
        "! curl -s http://localhost:4040/api/tunnels | python3 -c \\\n",
        "    \"import sys, json; print(json.load(sys.stdin)['tunnels'][0]['public_url'])\""
      ],
      "execution_count": 41,
      "outputs": [
        {
          "output_type": "stream",
          "text": [
            "https://21ab9294.ngrok.io\n"
          ],
          "name": "stdout"
        }
      ]
    },
    {
      "cell_type": "markdown",
      "metadata": {
        "id": "Egeb25jmg3sE",
        "colab_type": "text"
      },
      "source": [
        "## Construct model"
      ]
    },
    {
      "cell_type": "code",
      "metadata": {
        "id": "YefoQ1jpWKbz",
        "colab_type": "code",
        "colab": {}
      },
      "source": [
        "es = EarlyStopping(monitor='val_loss', min_delta=0, patience=4)\n",
        "model_loc = loc + \"v3-g4-b4/\"\n",
        "\n",
        "filepath = os.path.join(loc, \"new_fiction-bert-iob-epochs-{}-b{}-v{}.hdf5\".format(EPOCHS, batch_size, VERSION))\n",
        "checkpoint = ModelCheckpoint(filepath, monitor='val_loss', verbose=1, save_best_only=True, save_weights_only=False,\n",
        "                             mode='auto', period=1)\n",
        "\n",
        "tensorboard_callback = TensorBoard(log_dir='./log')\n",
        "\n",
        "callbacks_list = [es, checkpoint, tensorboard_callback]"
      ],
      "execution_count": 0,
      "outputs": []
    },
    {
      "cell_type": "code",
      "metadata": {
        "id": "G-Of_M1ghaoL",
        "colab_type": "code",
        "outputId": "4e4531d7-cf36-4b4f-c7bc-ea8da960c682",
        "colab": {
          "base_uri": "https://localhost:8080/",
          "height": 496
        }
      },
      "source": [
        "def build_model():\n",
        "    input_text = Input(shape=(max_len, 768))\n",
        "    x = Bidirectional(LSTM(units=512, return_sequences=True,\n",
        "                           recurrent_dropout=0.2, dropout=0.2))(input_text)\n",
        "    x_rnn = Bidirectional(LSTM(units=512, return_sequences=True,\n",
        "                               recurrent_dropout=0.2, dropout=0.2))(x)\n",
        "    x = concatenate([x, x_rnn])  # residual connection to the first biLSTMSS\n",
        "    out = TimeDistributed(Dense(n_tags, activation=\"softmax\"))(x)\n",
        "\n",
        "    model = Model(input_text, out)\n",
        "    model.compile(optimizer=\"adam\", loss=\"sparse_categorical_crossentropy\", metrics=['sparse_categorical_accuracy'])\n",
        "    model.summary()\n",
        "\n",
        "    return model\n",
        "  \n",
        "model = build_model()"
      ],
      "execution_count": 44,
      "outputs": [
        {
          "output_type": "stream",
          "text": [
            "WARNING: Logging before flag parsing goes to stderr.\n",
            "W0506 12:58:50.545105 140302138619776 tf_logging.py:161] <tensorflow.python.keras.layers.recurrent.UnifiedLSTM object at 0x7f99e6115e10>: Note that this layer is not optimized for performance. Please use tf.keras.layers.CuDNNLSTM for better performance on GPU.\n",
            "W0506 12:58:50.554162 140302138619776 tf_logging.py:161] <tensorflow.python.keras.layers.recurrent.UnifiedLSTM object at 0x7f99e60f1a58>: Note that this layer is not optimized for performance. Please use tf.keras.layers.CuDNNLSTM for better performance on GPU.\n",
            "W0506 12:58:50.909147 140302138619776 deprecation.py:506] From /usr/local/lib/python3.6/dist-packages/tensorflow/python/keras/backend.py:4081: calling dropout (from tensorflow.python.ops.nn_ops) with keep_prob is deprecated and will be removed in a future version.\n",
            "Instructions for updating:\n",
            "Please use `rate` instead of `keep_prob`. Rate should be set to `rate = 1 - keep_prob`.\n",
            "W0506 12:58:51.750241 140302138619776 tf_logging.py:161] <tensorflow.python.keras.layers.recurrent.UnifiedLSTM object at 0x7f99e40be160>: Note that this layer is not optimized for performance. Please use tf.keras.layers.CuDNNLSTM for better performance on GPU.\n",
            "W0506 12:58:51.753196 140302138619776 tf_logging.py:161] <tensorflow.python.keras.layers.recurrent.UnifiedLSTM object at 0x7f99ce6e0908>: Note that this layer is not optimized for performance. Please use tf.keras.layers.CuDNNLSTM for better performance on GPU.\n"
          ],
          "name": "stderr"
        },
        {
          "output_type": "stream",
          "text": [
            "Model: \"model\"\n",
            "__________________________________________________________________________________________________\n",
            "Layer (type)                    Output Shape         Param #     Connected to                     \n",
            "==================================================================================================\n",
            "input_1 (InputLayer)            [(None, 11, 768)]    0                                            \n",
            "__________________________________________________________________________________________________\n",
            "bidirectional (Bidirectional)   (None, 11, 1024)     5246976     input_1[0][0]                    \n",
            "__________________________________________________________________________________________________\n",
            "bidirectional_1 (Bidirectional) (None, 11, 1024)     6295552     bidirectional[0][0]              \n",
            "__________________________________________________________________________________________________\n",
            "concatenate (Concatenate)       (None, 11, 2048)     0           bidirectional[0][0]              \n",
            "                                                                 bidirectional_1[0][0]            \n",
            "__________________________________________________________________________________________________\n",
            "time_distributed (TimeDistribut (None, 11, 5)        10245       concatenate[0][0]                \n",
            "==================================================================================================\n",
            "Total params: 11,552,773\n",
            "Trainable params: 11,552,773\n",
            "Non-trainable params: 0\n",
            "__________________________________________________________________________________________________\n"
          ],
          "name": "stdout"
        }
      ]
    },
    {
      "cell_type": "markdown",
      "metadata": {
        "id": "ktcm8qpdXf01",
        "colab_type": "text"
      },
      "source": [
        "# Fit model"
      ]
    },
    {
      "cell_type": "markdown",
      "metadata": {
        "id": "PnWggfip0pEh",
        "colab_type": "text"
      },
      "source": [
        "## Model fitting"
      ]
    },
    {
      "cell_type": "code",
      "metadata": {
        "id": "VncXdY9UXdgJ",
        "colab_type": "code",
        "outputId": "30f2ee64-4d1c-41cf-c260-bb97a4668f3c",
        "colab": {
          "base_uri": "https://localhost:8080/",
          "height": 683
        }
      },
      "source": [
        "history = model.fit(np.array(X_tr), y_tr, validation_data=(np.array(X_val), y_val),\n",
        "                    batch_size=batch_size, epochs=EPOCHS, verbose=1, callbacks=callbacks_list)"
      ],
      "execution_count": 45,
      "outputs": [
        {
          "output_type": "stream",
          "text": [
            "Train on 424 samples, validate on 52 samples\n",
            "Epoch 1/30\n",
            "  4/424 [..............................] - ETA: 7:15 - loss: 1.6673 - sparse_categorical_accuracy: 0.0227"
          ],
          "name": "stdout"
        },
        {
          "output_type": "stream",
          "text": [
            "W0506 12:59:06.735549 140302138619776 callbacks.py:236] Method (on_train_batch_end) is slow compared to the batch update (1.021728). Check your callbacks.\n"
          ],
          "name": "stderr"
        },
        {
          "output_type": "stream",
          "text": [
            "420/424 [============================>.] - ETA: 0s - loss: 0.3669 - sparse_categorical_accuracy: 0.8652\n",
            "Epoch 00001: val_loss improved from inf to 0.14319, saving model to /content/gdrive/My Drive/tf2.0/new_fiction-bert-iob-epochs-30-b4-v4.hdf5\n",
            "424/424 [==============================] - 35s 84ms/sample - loss: 0.3661 - sparse_categorical_accuracy: 0.8656 - val_loss: 0.1432 - val_sparse_categorical_accuracy: 0.9371\n",
            "Epoch 2/30\n",
            "420/424 [============================>.] - ETA: 0s - loss: 0.1344 - sparse_categorical_accuracy: 0.9465\n",
            "Epoch 00002: val_loss improved from 0.14319 to 0.12333, saving model to /content/gdrive/My Drive/tf2.0/new_fiction-bert-iob-epochs-30-b4-v4.hdf5\n",
            "424/424 [==============================] - 32s 75ms/sample - loss: 0.1344 - sparse_categorical_accuracy: 0.9464 - val_loss: 0.1233 - val_sparse_categorical_accuracy: 0.9493\n",
            "Epoch 3/30\n",
            "420/424 [============================>.] - ETA: 0s - loss: 0.0881 - sparse_categorical_accuracy: 0.9662\n",
            "Epoch 00003: val_loss improved from 0.12333 to 0.10623, saving model to /content/gdrive/My Drive/tf2.0/new_fiction-bert-iob-epochs-30-b4-v4.hdf5\n",
            "424/424 [==============================] - 31s 72ms/sample - loss: 0.0881 - sparse_categorical_accuracy: 0.9663 - val_loss: 0.1062 - val_sparse_categorical_accuracy: 0.9563\n",
            "Epoch 4/30\n",
            "420/424 [============================>.] - ETA: 0s - loss: 0.0766 - sparse_categorical_accuracy: 0.9684\n",
            "Epoch 00004: val_loss did not improve from 0.10623\n",
            "424/424 [==============================] - 28s 66ms/sample - loss: 0.0761 - sparse_categorical_accuracy: 0.9687 - val_loss: 0.1240 - val_sparse_categorical_accuracy: 0.9528\n",
            "Epoch 5/30\n",
            "420/424 [============================>.] - ETA: 0s - loss: 0.0583 - sparse_categorical_accuracy: 0.9779\n",
            "Epoch 00005: val_loss improved from 0.10623 to 0.09805, saving model to /content/gdrive/My Drive/tf2.0/new_fiction-bert-iob-epochs-30-b4-v4.hdf5\n",
            "424/424 [==============================] - 31s 74ms/sample - loss: 0.0586 - sparse_categorical_accuracy: 0.9777 - val_loss: 0.0981 - val_sparse_categorical_accuracy: 0.9598\n",
            "Epoch 6/30\n",
            "420/424 [============================>.] - ETA: 0s - loss: 0.0402 - sparse_categorical_accuracy: 0.9846\n",
            "Epoch 00006: val_loss did not improve from 0.09805\n",
            "424/424 [==============================] - 28s 65ms/sample - loss: 0.0399 - sparse_categorical_accuracy: 0.9848 - val_loss: 0.1199 - val_sparse_categorical_accuracy: 0.9545\n",
            "Epoch 7/30\n",
            "420/424 [============================>.] - ETA: 0s - loss: 0.0278 - sparse_categorical_accuracy: 0.9900\n",
            "Epoch 00007: val_loss did not improve from 0.09805\n",
            "424/424 [==============================] - 28s 67ms/sample - loss: 0.0277 - sparse_categorical_accuracy: 0.9901 - val_loss: 0.1144 - val_sparse_categorical_accuracy: 0.9598\n",
            "Epoch 8/30\n",
            "420/424 [============================>.] - ETA: 0s - loss: 0.0207 - sparse_categorical_accuracy: 0.9929\n",
            "Epoch 00008: val_loss did not improve from 0.09805\n",
            "424/424 [==============================] - 28s 65ms/sample - loss: 0.0205 - sparse_categorical_accuracy: 0.9929 - val_loss: 0.1777 - val_sparse_categorical_accuracy: 0.9580\n",
            "Epoch 9/30\n",
            "420/424 [============================>.] - ETA: 0s - loss: 0.0206 - sparse_categorical_accuracy: 0.9935\n",
            "Epoch 00009: val_loss did not improve from 0.09805\n",
            "424/424 [==============================] - 27s 64ms/sample - loss: 0.0206 - sparse_categorical_accuracy: 0.9936 - val_loss: 0.1167 - val_sparse_categorical_accuracy: 0.9650\n"
          ],
          "name": "stdout"
        }
      ]
    },
    {
      "cell_type": "code",
      "metadata": {
        "id": "dDlw84oLX9al",
        "colab_type": "code",
        "colab": {}
      },
      "source": [
        "import time\n",
        "\n",
        "timestr = time.strftime(\"%m%d_%H%M\")\n",
        "model_name = \"new_fiction_lstm_bert_v4_\" + timestr + \"_epoch\" + str(EPOCHS) + '_b'+str(batch_size) +  '_v' + str(VERSION) + \".h5\"\n",
        "model_name_path = os.path.join(loc, \"v3-g4-b4/\" + model_name)\n",
        "model.save(model_name_path)"
      ],
      "execution_count": 0,
      "outputs": []
    },
    {
      "cell_type": "markdown",
      "metadata": {
        "id": "k0HtHMBo0sWw",
        "colab_type": "text"
      },
      "source": [
        "## Plot loss curves"
      ]
    },
    {
      "cell_type": "code",
      "metadata": {
        "id": "v43Me_BuYIiQ",
        "colab_type": "code",
        "outputId": "6932ef08-52f4-43c3-ae42-029c81da6d69",
        "colab": {
          "base_uri": "https://localhost:8080/",
          "height": 486
        }
      },
      "source": [
        "import pandas as pd\n",
        "import matplotlib.pyplot as plt\n",
        "\n",
        "hist = pd.DataFrame(history.history)\n",
        "\n",
        "plt.style.use(\"ggplot\")\n",
        "plt.figure(figsize=(8, 8))\n",
        "plt.plot(hist[\"loss\"])\n",
        "plt.plot(hist[\"val_loss\"])\n",
        "plt.legend()\n",
        "plt.show()"
      ],
      "execution_count": 48,
      "outputs": [
        {
          "output_type": "display_data",
          "data": {
            "image/png": "[encoded data removed]",
            "text/plain": [
              "<Figure size 576x576 with 1 Axes>"
            ]
          },
          "metadata": {
            "tags": []
          }
        }
      ]
    },
    {
      "cell_type": "markdown",
      "metadata": {
        "id": "u51FRdqxYN1R",
        "colab_type": "text"
      },
      "source": [
        "# Model evaluation"
      ]
    },
    {
      "cell_type": "markdown",
      "metadata": {
        "id": "a5EZLs9Sh5_F",
        "colab_type": "text"
      },
      "source": [
        "We will evaluate model performance on validation and testing set."
      ]
    },
    {
      "cell_type": "markdown",
      "metadata": {
        "id": "DE8zjLomh1LB",
        "colab_type": "text"
      },
      "source": [
        "## Label distribution"
      ]
    },
    {
      "cell_type": "code",
      "metadata": {
        "id": "8RMpX_WjYxnn",
        "colab_type": "code",
        "outputId": "07ca0d53-4673-4052-fa0d-06786053664b",
        "colab": {
          "base_uri": "https://localhost:8080/",
          "height": 102
        }
      },
      "source": [
        "from seqeval.metrics import precision_score, recall_score, f1_score, classification_report\n",
        "\n",
        "category_count = {'B-START':0, 'I-START':0, 'B-OTHER':0, 'I-OTHER':0, 'O':0}\n",
        "total_count = 0\n",
        "\n",
        "for sentence in paragraphs:\n",
        "    for word in sentence:\n",
        "        if word[2] in category_count.keys():\n",
        "            category_count[word[2]] += 1\n",
        "            total_count += 1\n",
        "\n",
        "for category, count in category_count.items():\n",
        "    print(\"{}: {}%\".format(category.replace(\"\\n\", \"\"), round((count / total_count) * 100, 2)))\n"
      ],
      "execution_count": 49,
      "outputs": [
        {
          "output_type": "stream",
          "text": [
            "B-START: 8.34%\n",
            "I-START: 4.37%\n",
            "B-OTHER: 39.06%\n",
            "I-OTHER: 11.58%\n",
            "O: 36.66%\n"
          ],
          "name": "stdout"
        }
      ]
    },
    {
      "cell_type": "markdown",
      "metadata": {
        "id": "sQKpTKyJiZK4",
        "colab_type": "text"
      },
      "source": [
        "Define functions for evaluation"
      ]
    },
    {
      "cell_type": "code",
      "metadata": {
        "id": "2GO9sjFeYbq3",
        "colab_type": "code",
        "colab": {}
      },
      "source": [
        "def pred2label(pred):\n",
        "    out = []\n",
        "    for pred_i in pred:\n",
        "        out_i = []\n",
        "        for p in pred_i:\n",
        "            out_i.append(idx2tag[p].replace(\"PAD\", \"O\"))\n",
        "        out.append(out_i)\n",
        "    return out\n",
        "\n",
        "\n",
        "def y2label(y):\n",
        "    out = []\n",
        "    for y_i in y:\n",
        "        out_i = []\n",
        "        for p in y_i:\n",
        "            for p_i in p:\n",
        "                out_i.append(idx2tag[p_i].replace(\"PAD\", \"O\"))\n",
        "        out.append(out_i)\n",
        "    return out"
      ],
      "execution_count": 0,
      "outputs": []
    },
    {
      "cell_type": "code",
      "metadata": {
        "id": "MUsaHWp3YOcL",
        "colab_type": "code",
        "colab": {}
      },
      "source": [
        "def evaluate_performance(X, y):\n",
        "    pred_num = model.predict(np.array(X))\n",
        "    pred = np.argmax(pred_num, axis=-1)\n",
        "    pred_labels = pred2label(pred)\n",
        "    labels = y2label(y)\n",
        "    print(classification_report(labels, pred_labels))\n",
        "    return pred"
      ],
      "execution_count": 0,
      "outputs": []
    },
    {
      "cell_type": "code",
      "metadata": {
        "id": "q_iDisE3qwO3",
        "colab_type": "code",
        "colab": {}
      },
      "source": [
        "idx2tag = {v: k for k, v in tag2idx.items()}"
      ],
      "execution_count": 0,
      "outputs": []
    },
    {
      "cell_type": "markdown",
      "metadata": {
        "id": "OPgreo_x0NRl",
        "colab_type": "text"
      },
      "source": [
        "Print classification report for validation set using seqeval package."
      ]
    },
    {
      "cell_type": "code",
      "metadata": {
        "id": "KgP0Z2wFYoU6",
        "colab_type": "code",
        "outputId": "2490c245-665a-4fe8-c13d-fbc51442dda7",
        "colab": {
          "base_uri": "https://localhost:8080/",
          "height": 153
        }
      },
      "source": [
        "validation_performance = evaluate_performance(X_val, y_val)"
      ],
      "execution_count": 53,
      "outputs": [
        {
          "output_type": "stream",
          "text": [
            "           precision    recall  f1-score   support\n",
            "\n",
            "    OTHER       0.90      0.94      0.92       109\n",
            "    START       0.56      0.50      0.53        18\n",
            "\n",
            "micro avg       0.86      0.87      0.87       127\n",
            "macro avg       0.85      0.87      0.86       127\n",
            "\n"
          ],
          "name": "stdout"
        }
      ]
    },
    {
      "cell_type": "markdown",
      "metadata": {
        "id": "oSFYayPcijqV",
        "colab_type": "text"
      },
      "source": [
        "## Evaluation on test dataset"
      ]
    },
    {
      "cell_type": "markdown",
      "metadata": {
        "id": "OtMfpKS9i1YY",
        "colab_type": "text"
      },
      "source": [
        "### Entity level classification report"
      ]
    },
    {
      "cell_type": "code",
      "metadata": {
        "id": "OFIaNWb7ulFL",
        "colab_type": "code",
        "outputId": "5e3fc771-6056-4d3c-dbb8-73c7deec7492",
        "colab": {
          "base_uri": "https://localhost:8080/",
          "height": 34
        }
      },
      "source": [
        "np.array(X_te).shape"
      ],
      "execution_count": 54,
      "outputs": [
        {
          "output_type": "execute_result",
          "data": {
            "text/plain": [
              "(54, 11, 768)"
            ]
          },
          "metadata": {
            "tags": []
          },
          "execution_count": 54
        }
      ]
    },
    {
      "cell_type": "code",
      "metadata": {
        "id": "Z3l9-AOGu2Rk",
        "colab_type": "code",
        "colab": {}
      },
      "source": [
        "y_test = y_te\n",
        "X_test = X_te\n",
        "pred_num = model.predict(np.array(X_test))\n",
        "pred = np.argmax(pred_num, axis=-1)\n",
        "pred_labels = pred2label(pred)\n",
        "y_labels = pred2label(y_test)"
      ],
      "execution_count": 0,
      "outputs": []
    },
    {
      "cell_type": "code",
      "metadata": {
        "id": "HX2T49lHtmCG",
        "colab_type": "code",
        "outputId": "34ff4dff-fbd1-48af-fc60-6d2760734696",
        "colab": {
          "base_uri": "https://localhost:8080/",
          "height": 153
        }
      },
      "source": [
        "print(classification_report(y_labels, pred_labels))"
      ],
      "execution_count": 56,
      "outputs": [
        {
          "output_type": "stream",
          "text": [
            "           precision    recall  f1-score   support\n",
            "\n",
            "    START       0.59      0.70      0.64        27\n",
            "    OTHER       0.87      0.83      0.85       104\n",
            "\n",
            "micro avg       0.80      0.80      0.80       131\n",
            "macro avg       0.81      0.80      0.81       131\n",
            "\n"
          ],
          "name": "stdout"
        }
      ]
    },
    {
      "cell_type": "markdown",
      "metadata": {
        "id": "bSFwG7xzi83-",
        "colab_type": "text"
      },
      "source": [
        "###  Label level classification report"
      ]
    },
    {
      "cell_type": "code",
      "metadata": {
        "id": "7GiZhYxE5gmw",
        "colab_type": "code",
        "colab": {}
      },
      "source": [
        "def plot_confusion_matrix(cm,\n",
        "                          target_names,\n",
        "                          title='Confusion matrix',\n",
        "                          cmap=None,\n",
        "                          normalize=True):\n",
        "    \"\"\"\n",
        "    given a sklearn confusion matrix (cm), make a nice plot\n",
        "\n",
        "    Arguments\n",
        "    ---------\n",
        "    cm:           confusion matrix from sklearn.metrics.confusion_matrix\n",
        "\n",
        "    target_names: given classification classes such as [0, 1, 2]\n",
        "                  the class names, for example: ['high', 'medium', 'low']\n",
        "\n",
        "    title:        the text to display at the top of the matrix\n",
        "\n",
        "    cmap:         the gradient of the values displayed from matplotlib.pyplot.cm\n",
        "                  see http://matplotlib.org/examples/color/colormaps_reference.html\n",
        "                  plt.get_cmap('jet') or plt.cm.Blues\n",
        "\n",
        "    normalize:    If False, plot the raw numbers\n",
        "                  If True, plot the proportions\n",
        "\n",
        "    Usage\n",
        "    -----\n",
        "    plot_confusion_matrix(cm           = cm,                  # confusion matrix created by\n",
        "                                                              # sklearn.metrics.confusion_matrix\n",
        "                          normalize    = True,                # show proportions\n",
        "                          target_names = y_labels_vals,       # list of names of the classes\n",
        "                          title        = best_estimator_name) # title of graph\n",
        "\n",
        "    Citiation\n",
        "    ---------\n",
        "    http://scikit-learn.org/stable/auto_examples/model_selection/plot_confusion_matrix.html\n",
        "\n",
        "    \"\"\"\n",
        "    import matplotlib.pyplot as plt\n",
        "    import numpy as np\n",
        "    import itertools\n",
        "\n",
        "    accuracy = np.trace(cm) / float(np.sum(cm))\n",
        "    misclass = 1 - accuracy\n",
        "\n",
        "    if cmap is None:\n",
        "        cmap = plt.get_cmap('Blues')\n",
        "\n",
        "    plt.figure(figsize=(8, 6))\n",
        "    plt.imshow(cm, interpolation='nearest', cmap=cmap)\n",
        "    plt.title(title)\n",
        "    plt.colorbar()\n",
        "\n",
        "    if target_names is not None:\n",
        "        tick_marks = np.arange(len(target_names))\n",
        "        plt.xticks(tick_marks, target_names, rotation=45)\n",
        "        plt.yticks(tick_marks, target_names)\n",
        "\n",
        "    if normalize:\n",
        "        cm = cm.astype('float') / cm.sum(axis=1)[:, np.newaxis]\n",
        "\n",
        "\n",
        "    thresh = cm.max() / 1.5 if normalize else cm.max() / 2\n",
        "    for i, j in itertools.product(range(cm.shape[0]), range(cm.shape[1])):\n",
        "        if normalize:\n",
        "            plt.text(j, i, \"{:0.4f}\".format(cm[i, j]),\n",
        "                     horizontalalignment=\"center\",\n",
        "                     color=\"white\" if cm[i, j] > thresh else \"black\")\n",
        "        else:\n",
        "            plt.text(j, i, \"{:,}\".format(cm[i, j]),\n",
        "                     horizontalalignment=\"center\",\n",
        "                     color=\"white\" if cm[i, j] > thresh else \"black\")\n",
        "\n",
        "\n",
        "    plt.tight_layout()\n",
        "    plt.ylabel('True label')\n",
        "    plt.xlabel('Predicted label\\naccuracy={:0.4f}; misclass={:0.4f}'.format(accuracy, misclass))\n",
        "    plt.savefig(os.path.join(loc, \"bert_lstm_evaluation_model_v4_eva_test_conf.jpg\"))\n",
        "    plt.show()"
      ],
      "execution_count": 0,
      "outputs": []
    },
    {
      "cell_type": "code",
      "metadata": {
        "id": "Rv0HQCGV6tdF",
        "colab_type": "code",
        "colab": {}
      },
      "source": [
        "label_pred = []\n",
        "idx_pred = []\n",
        "\n",
        "for sentence in pred:\n",
        "    for element in sentence:\n",
        "        idx_pred.append(element)\n",
        "        label_pred.append(idx2tag[element])\n",
        "\n",
        "label_correct = []\n",
        "idx_correct = []\n",
        "for sentence in y_test:\n",
        "    for element in sentence:\n",
        "        idx_correct.append(element)\n",
        "        label_correct.append(idx2tag[element])"
      ],
      "execution_count": 0,
      "outputs": []
    },
    {
      "cell_type": "code",
      "metadata": {
        "id": "jf6t_UmI70x4",
        "colab_type": "code",
        "outputId": "331bcb21-d5a1-4075-b98a-5ff5ba8768a3",
        "colab": {
          "base_uri": "https://localhost:8080/",
          "height": 34
        }
      },
      "source": [
        "idx2tag"
      ],
      "execution_count": 59,
      "outputs": [
        {
          "output_type": "execute_result",
          "data": {
            "text/plain": [
              "{0: 'I-OTHER', 1: 'I-START', 2: 'O', 3: 'B-START', 4: 'B-OTHER'}"
            ]
          },
          "metadata": {
            "tags": []
          },
          "execution_count": 59
        }
      ]
    },
    {
      "cell_type": "code",
      "metadata": {
        "id": "JXKkt6TD67Vg",
        "colab_type": "code",
        "colab": {}
      },
      "source": [
        "from sklearn.metrics import confusion_matrix\n",
        "cm_with_o = confusion_matrix(label_correct, label_pred)"
      ],
      "execution_count": 0,
      "outputs": []
    },
    {
      "cell_type": "code",
      "metadata": {
        "id": "7_D-a-NO7tPb",
        "colab_type": "code",
        "outputId": "724653ba-8e88-4151-ae20-6ecb2a9fb3f6",
        "colab": {
          "base_uri": "https://localhost:8080/",
          "height": 71
        }
      },
      "source": [
        "df = pd.DataFrame(cm_with_o)\n",
        "df_wo_o = df.iloc[:-1, :-1]\n",
        "cm = df_wo_o.as_matrix()"
      ],
      "execution_count": 61,
      "outputs": [
        {
          "output_type": "stream",
          "text": [
            "/usr/local/lib/python3.6/dist-packages/ipykernel_launcher.py:3: FutureWarning: Method .as_matrix will be removed in a future version. Use .values instead.\n",
            "  This is separate from the ipykernel package so we can avoid doing imports until\n"
          ],
          "name": "stderr"
        }
      ]
    },
    {
      "cell_type": "code",
      "metadata": {
        "id": "Esd-pzKq7brg",
        "colab_type": "code",
        "colab": {}
      },
      "source": [
        "labels = list(idx2tag.values())\n",
        "labels.remove('O')"
      ],
      "execution_count": 0,
      "outputs": []
    },
    {
      "cell_type": "code",
      "metadata": {
        "id": "M0zqnDI27-u_",
        "colab_type": "code",
        "outputId": "ed300932-4408-49ec-ad5f-336bcad13c21",
        "colab": {
          "base_uri": "https://localhost:8080/",
          "height": 34
        }
      },
      "source": [
        "labels_sorted = sorted(labels)\n",
        "labels_sorted"
      ],
      "execution_count": 63,
      "outputs": [
        {
          "output_type": "execute_result",
          "data": {
            "text/plain": [
              "['B-OTHER', 'B-START', 'I-OTHER', 'I-START']"
            ]
          },
          "metadata": {
            "tags": []
          },
          "execution_count": 63
        }
      ]
    },
    {
      "cell_type": "code",
      "metadata": {
        "id": "U2xan_ww8A3B",
        "colab_type": "code",
        "outputId": "790b223d-2192-4691-cb3e-e0906369a502",
        "colab": {
          "base_uri": "https://localhost:8080/",
          "height": 473
        }
      },
      "source": [
        "plot_confusion_matrix(cm           = cm,\n",
        "                      normalize    = False,\n",
        "                      target_names = labels_sorted,\n",
        "                      title        = \"Confusion Matrix\")"
      ],
      "execution_count": 64,
      "outputs": [
        {
          "output_type": "display_data",
          "data": {
            "image/png": "[encoded data removed]",
            "text/plain": [
              "<Figure size 576x432 with 2 Axes>"
            ]
          },
          "metadata": {
            "tags": []
          }
        }
      ]
    },
    {
      "cell_type": "code",
      "metadata": {
        "id": "XmzrPSj9Ty2N",
        "colab_type": "code",
        "colab": {}
      },
      "source": [
        "# Clear any logs from previous runs\n",
        "!rm -rf ./logs/ "
      ],
      "execution_count": 0,
      "outputs": []
    },
    {
      "cell_type": "code",
      "metadata": {
        "id": "dMEHaZra8FRo",
        "colab_type": "code",
        "outputId": "eb5863ed-077f-4da7-b4ac-f4d028bec7b8",
        "colab": {
          "base_uri": "https://localhost:8080/",
          "height": 204
        }
      },
      "source": [
        "from sklearn.metrics import classification_report as classification_report_all\n",
        "\n",
        "print(classification_report_all(label_correct, label_pred,\n",
        "                                labels=labels_sorted,\n",
        "                                digits=3))"
      ],
      "execution_count": 66,
      "outputs": [
        {
          "output_type": "stream",
          "text": [
            "              precision    recall  f1-score   support\n",
            "\n",
            "     B-OTHER      0.909     0.865     0.887       104\n",
            "     B-START      0.613     0.704     0.655        27\n",
            "     I-OTHER      0.885     0.742     0.807        31\n",
            "     I-START      0.647     0.846     0.733        13\n",
            "\n",
            "   micro avg      0.827     0.817     0.822       175\n",
            "   macro avg      0.763     0.789     0.771       175\n",
            "weighted avg      0.840     0.817     0.825       175\n",
            "\n"
          ],
          "name": "stdout"
        }
      ]
    },
    {
      "cell_type": "code",
      "metadata": {
        "id": "4W92ORmwWptg",
        "colab_type": "code",
        "colab": {
          "base_uri": "https://localhost:8080/",
          "height": 34
        },
        "outputId": "3b3dc2c0-9aa9-4041-e6e2-063b0e16ca8c"
      },
      "source": [
        "from tensorflow.keras.utils import plot_model\n",
        "\n",
        "plot_model(model, to_file='/content/gdrive/My Drive/tf2.0/fiction_bert_lstm_model.png')\n",
        "print(\"Model built. Saved model.png\")"
      ],
      "execution_count": 67,
      "outputs": [
        {
          "output_type": "stream",
          "text": [
            "Model built. Saved model.png\n"
          ],
          "name": "stdout"
        }
      ]
    },
    {
      "cell_type": "code",
      "metadata": {
        "id": "mDNp1y1oWsuP",
        "colab_type": "code",
        "colab": {
          "base_uri": "https://localhost:8080/",
          "height": 119
        },
        "outputId": "625e96be-d9d2-4491-edac-590994cfdd4a"
      },
      "source": [
        "import pkg_resources\n",
        "import types\n",
        "def get_imports():\n",
        "    for name, val in globals().items():\n",
        "        if isinstance(val, types.ModuleType):\n",
        "            # Split ensures you get root package, \n",
        "            # not just imported function\n",
        "            name = val.__name__.split(\".\")[0]\n",
        "\n",
        "        elif isinstance(val, type):\n",
        "            name = val.__module__.split(\".\")[0]\n",
        "\n",
        "        # Some packages are weird and have different\n",
        "        # imported names vs. system/pip names. Unfortunately,\n",
        "        # there is no systematic way to get pip names from\n",
        "        # a package's imported name. You'll have to had\n",
        "        # exceptions to this list manually!\n",
        "        poorly_named_packages = {\n",
        "            \"PIL\": \"Pillow\",\n",
        "            \"sklearn\": \"scikit-learn\"\n",
        "        }\n",
        "        if name in poorly_named_packages.keys():\n",
        "            name = poorly_named_packages[name]\n",
        "\n",
        "        yield name\n",
        "imports = list(set(get_imports()))\n",
        "\n",
        "# The only way I found to get the version of the root package\n",
        "# from only the name of the package is to cross-check the names \n",
        "# of installed packages vs. imported packages\n",
        "requirements = []\n",
        "for m in pkg_resources.working_set:\n",
        "    if m.project_name in imports and m.project_name!=\"pip\":\n",
        "        requirements.append((m.project_name, m.version))\n",
        "\n",
        "for r in requirements:\n",
        "    print(\"{}=={}\".format(*r))"
      ],
      "execution_count": 68,
      "outputs": [
        {
          "output_type": "stream",
          "text": [
            "tensorflow==1.13.1\n",
            "pandas==0.24.2\n",
            "packaging==19.0\n",
            "numpy==1.14.6\n",
            "matplotlib==3.0.3\n",
            "google==2.0.2\n"
          ],
          "name": "stdout"
        }
      ]
    },
    {
      "cell_type": "code",
      "metadata": {
        "id": "MQxMAOJjgbmw",
        "colab_type": "code",
        "colab": {}
      },
      "source": [
        ""
      ],
      "execution_count": 0,
      "outputs": []
    }
  ]
}