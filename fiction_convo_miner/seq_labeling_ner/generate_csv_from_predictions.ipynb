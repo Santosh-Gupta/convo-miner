{
 "cells": [
  {
   "cell_type": "markdown",
   "metadata": {
    "colab_type": "text",
    "id": "IMMyFjCiPr9v"
   },
   "source": [
    "# Load packages"
   ]
  },
  {
   "cell_type": "code",
   "execution_count": 8,
   "metadata": {
    "ExecuteTime": {
     "end_time": "2019-05-06T13:07:37.546552Z",
     "start_time": "2019-05-06T13:07:37.543722Z"
    },
    "colab": {
     "base_uri": "https://localhost:8080/",
     "height": 921
    },
    "colab_type": "code",
    "executionInfo": {
     "elapsed": 24271,
     "status": "ok",
     "timestamp": 1556988220991,
     "user": {
      "displayName": "joyce jin",
      "photoUrl": "",
      "userId": "09214001231175697700"
     },
     "user_tz": -480
    },
    "id": "u_6S15HxuqCD",
    "outputId": "aab3388f-846e-4600-e9f7-f78ce7555d49"
   },
   "outputs": [],
   "source": [
    "# !pip install git+https://github.com/keras-team/keras.git -U\n",
    "# !pip install seqeval\n",
    "# !pip install tensorflow-gpu==2.0.0-alpha0\n",
    "# !pip install tensorflow-hub"
   ]
  },
  {
   "cell_type": "markdown",
   "metadata": {},
   "source": [
    "# Script"
   ]
  },
  {
   "cell_type": "code",
   "execution_count": 9,
   "metadata": {
    "ExecuteTime": {
     "end_time": "2019-05-06T13:07:38.737712Z",
     "start_time": "2019-05-06T13:07:38.732688Z"
    },
    "colab": {},
    "colab_type": "code",
    "id": "1bzjRTlwu0zO"
   },
   "outputs": [],
   "source": [
    "import numpy as np\n",
    "import pandas as pd\n",
    "import tensorflow as tf\n",
    "import tensorflow_hub as hub\n",
    "from tensorflow.keras.models import Model\n",
    "from tensorflow.keras import Input\n",
    "from tensorflow.keras.preprocessing.sequence import pad_sequences\n",
    "from tensorflow.keras.utils import to_categorical\n",
    "from tensorflow.keras.layers import TimeDistributed, Dense, Embedding, Input, Dropout, LSTM, Bidirectional, Lambda\n",
    "from tensorflow.keras.layers import concatenate\n",
    "# from sklearn.metrics import recall_score, precision_score\n",
    "from seqeval.metrics import classification_report as classification_report_entity\n",
    "from seqeval.metrics import precision_score, recall_score, f1_score\n",
    "from tensorflow.keras.callbacks import ModelCheckpoint, EarlyStopping"
   ]
  },
  {
   "cell_type": "code",
   "execution_count": 10,
   "metadata": {
    "ExecuteTime": {
     "end_time": "2019-05-06T13:07:39.702365Z",
     "start_time": "2019-05-06T13:07:39.680090Z"
    }
   },
   "outputs": [
    {
     "data": {
      "text/plain": [
       "train         2214\n",
       "test           281\n",
       "validation     252\n",
       "Name: split_tag, dtype: int64"
      ]
     },
     "execution_count": 10,
     "metadata": {},
     "output_type": "execute_result"
    }
   ],
   "source": [
    "data = pd.read_csv(\"../../data/labeled/iob-labeled-sent-final-060519-v2.csv\")\n",
    "data['split_tag'].value_counts()"
   ]
  },
  {
   "cell_type": "code",
   "execution_count": 11,
   "metadata": {
    "ExecuteTime": {
     "end_time": "2019-05-06T13:07:39.982648Z",
     "start_time": "2019-05-06T13:07:39.971785Z"
    }
   },
   "outputs": [
    {
     "data": {
      "text/html": [
       "<div>\n",
       "<style scoped>\n",
       "    .dataframe tbody tr th:only-of-type {\n",
       "        vertical-align: middle;\n",
       "    }\n",
       "\n",
       "    .dataframe tbody tr th {\n",
       "        vertical-align: top;\n",
       "    }\n",
       "\n",
       "    .dataframe thead th {\n",
       "        text-align: right;\n",
       "    }\n",
       "</style>\n",
       "<table border=\"1\" class=\"dataframe\">\n",
       "  <thead>\n",
       "    <tr style=\"text-align: right;\">\n",
       "      <th></th>\n",
       "      <th>Unnamed: 0</th>\n",
       "      <th>old_para_index</th>\n",
       "      <th>para_index</th>\n",
       "      <th>sent</th>\n",
       "      <th>label</th>\n",
       "      <th>split_tag</th>\n",
       "    </tr>\n",
       "  </thead>\n",
       "  <tbody>\n",
       "    <tr>\n",
       "      <th>70</th>\n",
       "      <td>70</td>\n",
       "      <td>118</td>\n",
       "      <td>56</td>\n",
       "      <td>\"I am sick of Mr Bingley,\"</td>\n",
       "      <td>B-OTHER</td>\n",
       "      <td>train</td>\n",
       "    </tr>\n",
       "    <tr>\n",
       "      <th>71</th>\n",
       "      <td>71</td>\n",
       "      <td>118</td>\n",
       "      <td>56</td>\n",
       "      <td>cried his wife.</td>\n",
       "      <td>O</td>\n",
       "      <td>train</td>\n",
       "    </tr>\n",
       "    <tr>\n",
       "      <th>72</th>\n",
       "      <td>72</td>\n",
       "      <td>119</td>\n",
       "      <td>57</td>\n",
       "      <td>\"I am sorry to hear that; but why did not you ...</td>\n",
       "      <td>B-OTHER</td>\n",
       "      <td>train</td>\n",
       "    </tr>\n",
       "    <tr>\n",
       "      <th>73</th>\n",
       "      <td>73</td>\n",
       "      <td>120</td>\n",
       "      <td>58</td>\n",
       "      <td>The astonishment of the ladies was just what h...</td>\n",
       "      <td>O</td>\n",
       "      <td>train</td>\n",
       "    </tr>\n",
       "    <tr>\n",
       "      <th>74</th>\n",
       "      <td>74</td>\n",
       "      <td>121</td>\n",
       "      <td>59</td>\n",
       "      <td>\"How good it was in you, my dear Mr Bennet! Bu...</td>\n",
       "      <td>B-START</td>\n",
       "      <td>train</td>\n",
       "    </tr>\n",
       "    <tr>\n",
       "      <th>75</th>\n",
       "      <td>75</td>\n",
       "      <td>122</td>\n",
       "      <td>60</td>\n",
       "      <td>\"Now, Kitty, you may cough as much as you choo...</td>\n",
       "      <td>B-OTHER</td>\n",
       "      <td>train</td>\n",
       "    </tr>\n",
       "    <tr>\n",
       "      <th>76</th>\n",
       "      <td>76</td>\n",
       "      <td>122</td>\n",
       "      <td>60</td>\n",
       "      <td>said Mr Bennet; and,       as he spoke, he le...</td>\n",
       "      <td>O</td>\n",
       "      <td>train</td>\n",
       "    </tr>\n",
       "    <tr>\n",
       "      <th>77</th>\n",
       "      <td>77</td>\n",
       "      <td>123</td>\n",
       "      <td>61</td>\n",
       "      <td>\"What an excellent father you have, girls!\"</td>\n",
       "      <td>B-START</td>\n",
       "      <td>train</td>\n",
       "    </tr>\n",
       "    <tr>\n",
       "      <th>78</th>\n",
       "      <td>78</td>\n",
       "      <td>123</td>\n",
       "      <td>61</td>\n",
       "      <td>\"I do not know how you will ever make him amen...</td>\n",
       "      <td>I-START</td>\n",
       "      <td>train</td>\n",
       "    </tr>\n",
       "    <tr>\n",
       "      <th>79</th>\n",
       "      <td>79</td>\n",
       "      <td>124</td>\n",
       "      <td>62</td>\n",
       "      <td>\"Oh!\"</td>\n",
       "      <td>B-OTHER</td>\n",
       "      <td>train</td>\n",
       "    </tr>\n",
       "    <tr>\n",
       "      <th>80</th>\n",
       "      <td>80</td>\n",
       "      <td>124</td>\n",
       "      <td>62</td>\n",
       "      <td>\"I am not afraid; for though I am the       yo...</td>\n",
       "      <td>I-OTHER</td>\n",
       "      <td>train</td>\n",
       "    </tr>\n",
       "  </tbody>\n",
       "</table>\n",
       "</div>"
      ],
      "text/plain": [
       "    Unnamed: 0  old_para_index  para_index  \\\n",
       "70          70             118          56   \n",
       "71          71             118          56   \n",
       "72          72             119          57   \n",
       "73          73             120          58   \n",
       "74          74             121          59   \n",
       "75          75             122          60   \n",
       "76          76             122          60   \n",
       "77          77             123          61   \n",
       "78          78             123          61   \n",
       "79          79             124          62   \n",
       "80          80             124          62   \n",
       "\n",
       "                                                 sent    label split_tag  \n",
       "70                         \"I am sick of Mr Bingley,\"  B-OTHER     train  \n",
       "71                                    cried his wife.        O     train  \n",
       "72  \"I am sorry to hear that; but why did not you ...  B-OTHER     train  \n",
       "73  The astonishment of the ladies was just what h...        O     train  \n",
       "74  \"How good it was in you, my dear Mr Bennet! Bu...  B-START     train  \n",
       "75  \"Now, Kitty, you may cough as much as you choo...  B-OTHER     train  \n",
       "76   said Mr Bennet; and,       as he spoke, he le...        O     train  \n",
       "77        \"What an excellent father you have, girls!\"  B-START     train  \n",
       "78  \"I do not know how you will ever make him amen...  I-START     train  \n",
       "79                                              \"Oh!\"  B-OTHER     train  \n",
       "80  \"I am not afraid; for though I am the       yo...  I-OTHER     train  "
      ]
     },
     "execution_count": 11,
     "metadata": {},
     "output_type": "execute_result"
    }
   ],
   "source": [
    "data.loc[70:80]"
   ]
  },
  {
   "cell_type": "code",
   "execution_count": 12,
   "metadata": {
    "ExecuteTime": {
     "end_time": "2019-05-06T13:07:41.220964Z",
     "start_time": "2019-05-06T13:07:41.210842Z"
    }
   },
   "outputs": [],
   "source": [
    "class paragraphGetter(object):\n",
    "    \n",
    "    def __init__(self, data):\n",
    "        self.n_para = 1\n",
    "        self.data = data\n",
    "        self.empty = False\n",
    "        agg_func = lambda s: [w for w in s[\"sent\"].values.tolist()]\n",
    "        self.grouped = self.data.groupby(\"grouped_para_index\").apply(agg_func)\n",
    "        self.paragraphs = [s for s in self.grouped]\n",
    "    \n",
    "    def get_next(self):\n",
    "        try:\n",
    "            s = self.grouped[\"grouped_paragraph: {}\".format(self.n_para)]\n",
    "            print(s)\n",
    "            self.n_para += 1\n",
    "            return s\n",
    "        except:\n",
    "            return None\n",
    "        \n",
    "        \n",
    "def pred2label(pred):\n",
    "    out = []\n",
    "    for pred_i in pred:\n",
    "        out_i = []\n",
    "        for p in pred_i:\n",
    "#             print(p)\n",
    "            out_i.append(idx2label[p].replace(\"PAD\", \"O\"))\n",
    "#           print(out_i)\n",
    "        out.append(out_i)\n",
    "    return out\n",
    "\n",
    "def bertSentenceEmbedding(x):\n",
    "    embeddings = []\n",
    "    count = 0\n",
    "    for para in x:\n",
    "#     count = 0\n",
    "#     print(para)\n",
    "        para_all_embed = np.asarray(bert_embedding(para))[:,1]\n",
    "\n",
    "        para_embed = []\n",
    "        for embed in np.asarray(para_all_embed):\n",
    "            count = 0\n",
    "            all_embed = [0]*768\n",
    "            for word_embed in embed:\n",
    "                count += 1\n",
    "                all_embed = all_embed + word_embed\n",
    "                #       print(count)\n",
    "            sent_embed = all_embed/count\n",
    "            para_embed.append(sent_embed)\n",
    "\n",
    "        embeddings.append(para_embed)\n",
    "    #     print(np.asarray(bert_embedding(para)))\n",
    "    return embeddings"
   ]
  },
  {
   "cell_type": "code",
   "execution_count": 13,
   "metadata": {
    "ExecuteTime": {
     "end_time": "2019-05-06T13:07:52.726917Z",
     "start_time": "2019-05-06T13:07:45.572857Z"
    }
   },
   "outputs": [],
   "source": [
    "from tensorflow.keras.models import load_model\n",
    "import os\n",
    "\n",
    "loc = '../models/'\n",
    "model_name = \"new_fiction_lstm_bert_v4_0506_1303_epoch30_b4_v4.h5\"\n",
    "model_load = load_model(os.path.join(loc, model_name))"
   ]
  },
  {
   "cell_type": "code",
   "execution_count": 14,
   "metadata": {
    "ExecuteTime": {
     "end_time": "2019-05-06T13:08:56.915956Z",
     "start_time": "2019-05-06T13:08:10.576268Z"
    }
   },
   "outputs": [
    {
     "name": "stdout",
     "output_type": "stream",
     "text": [
      "54\n"
     ]
    }
   ],
   "source": [
    "data = pd.read_csv(\"../../data/labeled/iob-labeled-sent-final-060519-v2.csv\")\n",
    "data = data.fillna(method=\"ffill\")\n",
    "\n",
    "max_len = 11\n",
    "num_para_in_group = 4\n",
    "data = data[data['split_tag']=='test']\n",
    "data['grouped_para_index'] = data['para_index'].apply(lambda x: int(x/num_para_in_group+1))\n",
    "\n",
    "getter = paragraphGetter(data)\n",
    "paragraphs = getter.paragraphs\n",
    "print(len(paragraphs))\n",
    "\n",
    "label2idx = {'B-OTHER': 4, 'B-START': 3, 'I-OTHER': 0, 'I-START': 1, 'O': 2}\n",
    "idx2label = {v: k for k, v in label2idx.items()}\n",
    "n_labels = len(idx2label)\n",
    "X_embed = np.load(\"../embeddings/X_g_embedding_4.npy\")\n",
    "\n",
    "\n",
    "from bert_embedding import BertEmbedding\n",
    "bert_embedding = BertEmbedding()\n",
    "X_te = np.asarray(X_embed)\n",
    "\n",
    "# test_sentence = [['hi hello world joyce','hi joyce']]\n",
    "X=[]\n",
    "for seq in paragraphs:\n",
    "    new_seq = []\n",
    "    for i in range(max_len):\n",
    "        try:\n",
    "            new_seq.append(seq[i])\n",
    "        except:\n",
    "            new_seq.append(\"PAD\")\n",
    "    X.append(new_seq)\n",
    "\n",
    "\n",
    "res = bertSentenceEmbedding(X)\n",
    "\n",
    "pred_num = model_load.predict(np.asarray(res))\n",
    "pred = np.argmax(pred_num, axis=-1)\n",
    "pred_labels = pred2label(pred)\n",
    "\n",
    "somelist= []\n",
    "for i, pred in enumerate(pred_labels):\n",
    "#     print(list(zip(paragraphs[i], pred_labels[i])))\n",
    "    somelist.append(list(zip(paragraphs[i], pred_labels[i])))\n",
    "\n",
    "res2 = np.asarray(somelist)  \n",
    "\n",
    "single_para_list = []\n",
    "for i in res2:\n",
    "    for para in i:\n",
    "        single_para_list.append(para)\n",
    "        \n",
    "df_results = pd.DataFrame()\n",
    "df_results['para'] = [x[0] for x in single_para_list]\n",
    "df_results['pred_label'] = [x[1] for x in single_para_list]"
   ]
  },
  {
   "cell_type": "code",
   "execution_count": 15,
   "metadata": {
    "ExecuteTime": {
     "end_time": "2019-05-06T13:09:01.495969Z",
     "start_time": "2019-05-06T13:09:01.491252Z"
    }
   },
   "outputs": [
    {
     "data": {
      "text/plain": [
       "(281, 2)"
      ]
     },
     "execution_count": 15,
     "metadata": {},
     "output_type": "execute_result"
    }
   ],
   "source": [
    "df_results.shape"
   ]
  },
  {
   "cell_type": "code",
   "execution_count": 16,
   "metadata": {
    "ExecuteTime": {
     "end_time": "2019-05-06T13:09:02.531988Z",
     "start_time": "2019-05-06T13:09:02.523636Z"
    }
   },
   "outputs": [
    {
     "data": {
      "text/html": [
       "<div>\n",
       "<style scoped>\n",
       "    .dataframe tbody tr th:only-of-type {\n",
       "        vertical-align: middle;\n",
       "    }\n",
       "\n",
       "    .dataframe tbody tr th {\n",
       "        vertical-align: top;\n",
       "    }\n",
       "\n",
       "    .dataframe thead th {\n",
       "        text-align: right;\n",
       "    }\n",
       "</style>\n",
       "<table border=\"1\" class=\"dataframe\">\n",
       "  <thead>\n",
       "    <tr style=\"text-align: right;\">\n",
       "      <th></th>\n",
       "      <th>para</th>\n",
       "      <th>pred_label</th>\n",
       "    </tr>\n",
       "  </thead>\n",
       "  <tbody>\n",
       "    <tr>\n",
       "      <th>0</th>\n",
       "      <td>Chapter 19</td>\n",
       "      <td>O</td>\n",
       "    </tr>\n",
       "    <tr>\n",
       "      <th>1</th>\n",
       "      <td>The next day opened a new scene at Longbourn. ...</td>\n",
       "      <td>O</td>\n",
       "    </tr>\n",
       "    <tr>\n",
       "      <th>2</th>\n",
       "      <td>\"May I hope, madam, for your interest with you...</td>\n",
       "      <td>B-START</td>\n",
       "    </tr>\n",
       "    <tr>\n",
       "      <th>3</th>\n",
       "      <td>Before Elizabeth had time for anything but a b...</td>\n",
       "      <td>O</td>\n",
       "    </tr>\n",
       "    <tr>\n",
       "      <th>4</th>\n",
       "      <td>\"Oh dear!—yes—certainly. I am sure       Lizzy...</td>\n",
       "      <td>B-OTHER</td>\n",
       "    </tr>\n",
       "  </tbody>\n",
       "</table>\n",
       "</div>"
      ],
      "text/plain": [
       "                                                para pred_label\n",
       "0                                         Chapter 19          O\n",
       "1  The next day opened a new scene at Longbourn. ...          O\n",
       "2  \"May I hope, madam, for your interest with you...    B-START\n",
       "3  Before Elizabeth had time for anything but a b...          O\n",
       "4  \"Oh dear!—yes—certainly. I am sure       Lizzy...    B-OTHER"
      ]
     },
     "execution_count": 16,
     "metadata": {},
     "output_type": "execute_result"
    }
   ],
   "source": [
    "df_results.head()"
   ]
  },
  {
   "cell_type": "code",
   "execution_count": 23,
   "metadata": {
    "ExecuteTime": {
     "end_time": "2019-05-06T13:22:14.264537Z",
     "start_time": "2019-05-06T13:22:14.261328Z"
    }
   },
   "outputs": [],
   "source": [
    "df_results['para_index'] = data['old_para_index'].values"
   ]
  },
  {
   "cell_type": "code",
   "execution_count": 25,
   "metadata": {
    "ExecuteTime": {
     "end_time": "2019-05-06T13:22:19.291713Z",
     "start_time": "2019-05-06T13:22:19.283746Z"
    }
   },
   "outputs": [],
   "source": [
    "df_results.to_csv('../../data/predicted/seq_label_ner-v4-pred.csv')"
   ]
  },
  {
   "cell_type": "code",
   "execution_count": 20,
   "metadata": {
    "ExecuteTime": {
     "end_time": "2019-05-06T13:21:47.045821Z",
     "start_time": "2019-05-06T13:21:47.041506Z"
    }
   },
   "outputs": [
    {
     "data": {
      "text/plain": [
       "(281, 7)"
      ]
     },
     "execution_count": 20,
     "metadata": {},
     "output_type": "execute_result"
    }
   ],
   "source": [
    "data.shape"
   ]
  },
  {
   "cell_type": "code",
   "execution_count": null,
   "metadata": {},
   "outputs": [],
   "source": []
  }
 ],
 "metadata": {
  "accelerator": "GPU",
  "colab": {
   "collapsed_sections": [],
   "name": "fiction_elmo_lstm_prediction_model_v1.ipynb",
   "provenance": [
    {
     "file_id": "1vhRDlHRUTTBrkfiPTxJsYCg51J65jvaL",
     "timestamp": 1556089441217
    },
    {
     "file_id": "1uoi815KtRj3juMwmpiQ2utn112A-m2oK",
     "timestamp": 1555052050123
    },
    {
     "file_id": "1P3Q43sufqY9PzUke4qx5D41qVlv1rti2",
     "timestamp": 1555051523235
    },
    {
     "file_id": "16_OdE3hL22rHpJ3unLvX3G19e_9LmhZ-",
     "timestamp": 1554435560097
    },
    {
     "file_id": "1FHTktEVzOcX0iywINSfHsZy8DTfvsZ3g",
     "timestamp": 1554089271028
    }
   ],
   "version": "0.3.2"
  },
  "kernelspec": {
   "display_name": "Python 3",
   "language": "python",
   "name": "python3"
  },
  "language_info": {
   "codemirror_mode": {
    "name": "ipython",
    "version": 3
   },
   "file_extension": ".py",
   "mimetype": "text/x-python",
   "name": "python",
   "nbconvert_exporter": "python",
   "pygments_lexer": "ipython3",
   "version": "3.7.1"
  },
  "toc": {
   "base_numbering": 1,
   "nav_menu": {},
   "number_sections": true,
   "sideBar": true,
   "skip_h1_title": false,
   "title_cell": "Table of Contents",
   "title_sidebar": "Contents",
   "toc_cell": false,
   "toc_position": {},
   "toc_section_display": true,
   "toc_window_display": false
  }
 },
 "nbformat": 4,
 "nbformat_minor": 1
}
